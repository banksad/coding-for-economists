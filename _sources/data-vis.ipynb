{
 "cells": [
  {
   "cell_type": "markdown",
   "metadata": {},
   "source": [
    "# Data Visualisation\n"
   ]
  },
  {
   "cell_type": "markdown",
   "metadata": {},
   "source": [
    "## Introduction\n",
    "\n",
    "Here you'll see how to make charts to present data in an engaging and informative way.\n",
    "\n",
    "There are a plethora of options (and packages) for data visualisation using code. First, though a note about the different *philosophies* of data visualisation. There are broadly two categories of approach to using code to create data visualisations: *imperative*, where you build what you want, and *declarative*, where you say what you want. Choosing which to use involves a trade-off: imperative libraries offer you flexibility but at the cost of some verbosity; declarative libraries offer you a quick way to plot your data, but only if it's in the right format to begin with, and customisation may be more difficult.\n",
    "\n",
    "In the rest of this chapter, we'll take a look at making visualisations with several of these libraries. But first, let's introduce them.\n",
    "\n",
    "The most important and widely used data visualisation library in Python is [**matplotlib**](https://matplotlib.org/). It was used to make the first image of a black hole {cite}`bhpaper` and to image the first empirical evidence of gravitational waves {cite}`gwpaper`. **matplotlib** is an imperative visualisation library: you specify each part of what you want individually to build up an entire picture. It's perhaps the easiest to learn and the most difficult to master. As well as making plots, it can also be used to make diagrams and animations.\n",
    "\n",
    "[**seaborn**](https://seaborn.pydata.org/index.html) is a popular declarative library that builds on **maplotlib** and works especially well with data that are in a *tidy* format (one row per observation, one column per variable).\n",
    "\n",
    "[**plotnine**](https://plotnine.readthedocs.io/en/latest/) is another declarative plotting library but, rather than having lots of different functions (eg 'boxplot', 'violinplot', 'scatterplot') as **seaborn** does, it adopts a *grammar of graphics* approach. What this means is that *all* visualisations begin with the same command, `ggplot`, and are combinations of layers that address different aspects of a plot, for example points or lines, scale, labels, and so on. It's a bit difficult to grasp this idea in the abstract, but we'll see a concrete example soon enough.\n",
    "\n",
    "[**altair**](https://altair-viz.github.io/) is yet another declarative plotting library for Python! It's most suited to interactive graphics on the web, and produces really beautiful charts. Under the hood, it calls a javascript library named **Vega-Lite** that's the sort of thing newspaper data visualisation units might use to make their infographics.\n",
    "\n",
    "**pandas** also has built-in plotting functions that you will have seen in the data analysis part of this book. They are of the form `df.plot.*` where `*` could be, for example, `scatter`. These are convenience functions for making a quick plot of your data and they actually use **matplotlib**.\n",
    "\n",
    "## Getting started\n",
    "\n",
    "We're going to start by learning a little bit more about each plot by seeing the same example--a scatterplot--in each of them. \n",
    "\n",
    "### Matplotlib\n",
    "\n",
    "Each of these libraries has their own default theme for how it shows plots. Personally, I'm not much of a fan of the **matplotlib** default so the first thing I do is to change it to something more aesthetically pleasing and that uses the kind of fonts you'll see in a paper compiled with latex."
   ]
  },
  {
   "cell_type": "code",
   "execution_count": null,
   "metadata": {},
   "outputs": [],
   "source": [
    "import numpy as np\n",
    "import pandas as pd\n",
    "import matplotlib.pyplot as plt\n",
    "\n",
    "# Set seed for reproducibility\n",
    "np.random.seed(10)\n",
    "# Set max rows displayed for readability\n",
    "pd.set_option('display.max_rows', 6)\n",
    "# Plot settings\n",
    "plot_style = {'xtick.labelsize': 20,\n",
    "              'ytick.labelsize': 20,\n",
    "              'font.size': 22,\n",
    "              'figure.autolayout': True,\n",
    "              'figure.figsize': (10, 5.5),\n",
    "              'axes.titlesize': 22,\n",
    "              'axes.labelsize': 20,\n",
    "              'lines.linewidth': 4,\n",
    "              'lines.markersize': 6,\n",
    "              'legend.fontsize': 16,\n",
    "              'mathtext.fontset': 'stix',\n",
    "              'font.family': 'STIXGeneral',\n",
    "              'legend.frameon': False}\n",
    "plt.style.use(plot_style)"
   ]
  },
  {
   "source": [
    "You'll see we imported `matplotlib.pyplot as plt` above; this is the main part of **matplotlib** that we'll use in practice.\n",
    "\n",
    "There are actually two ways to use **matplotlib**: the 'pyplot API' and the 'object-oriented API'. The pyplot API (application programming interface) gives an experience that's much closer to Matlab and can be useful to make a quick chart. It's very simple to use, for example:"
   ],
   "cell_type": "markdown",
   "metadata": {}
  },
  {
   "cell_type": "code",
   "execution_count": null,
   "metadata": {},
   "outputs": [],
   "source": [
    "plt.plot([1, 2, 3, 4], [1, 4, 9, 16])"
   ]
  },
  {
   "source": [
    "```{admonition} Tip\n",
    ":class: tip\n",
    "**Matplotlib** returns an object when used, eg `[<matplotlib.lines.Line2D...` above. To suppress this, end the command with a semi-colon, `;`.\n",
    "```\n",
    "\n",
    "However, the pyplot API is generally less-flexible and less-useful than the object-oriented API, and for the rest of this chapter we'll be using the object-oriented API.\n",
    "\n",
    "The object-oriented API is most often used by creating two objects: the figure and the axes. You should think of the figure object, `fig`, as the canvas on which you will put any number of charts. Each ax (short of 'axis') object is one chart within a figure. Of course, most of the time you're likely only to have one axis per figure, but in the cases when you don't it's a really useful setup. The plotting of elements such as lines, points, bars, and so, are controlled by the `ax` objects while the overall settings are controlled by `fig`.\n",
    "\n",
    "Let's see an example of a line chart using this object-oriented approach."
   ],
   "cell_type": "markdown",
   "metadata": {}
  },
  {
   "cell_type": "code",
   "execution_count": null,
   "metadata": {},
   "outputs": [],
   "source": [
    "fig, ax = plt.subplots()  # Create a figure containing a single axes.\n",
    "ax.scatter([1, 2, 3, 4, 5, 6], [1, 4, 2, 3, 1, 7], s=150, c='b');  # Plot some data on the axes."
   ]
  },
  {
   "source": [],
   "cell_type": "markdown",
   "metadata": {}
  },
  {
   "source": [
    "In the above example, we used `ax.scatter` to get a scatter plot, `s=150` to set the area of the points, and `c='b'` to set the color. Many of these features will accept an array instead of a single value and will map them into the plot in the way you'd expect, for instance:"
   ],
   "cell_type": "markdown",
   "metadata": {}
  },
  {
   "cell_type": "code",
   "execution_count": null,
   "metadata": {},
   "outputs": [],
   "source": [
    "fig, ax = plt.subplots()\n",
    "ax.scatter([1, 2, 3, 4, 5, 6], [1, 4, 2, 3, 1, 7],\n",
    "           s=np.linspace(300, 2000, 6),\n",
    "           c=['b', 'r', 'g', 'k', 'cyan', 'yellow'],\n",
    "           edgecolors='k',\n",
    "           alpha=0.5);"
   ]
  },
  {
   "source": [
    "Here we asked for a different colour for each point, an area that's increasing linearly, partly transparent points (default is `alpha=1`, which is a solid colour), and a black edge colour.\n",
    "\n",
    "You can probably begin to see how everything is going to be customisable. We've only seen aspects of the plot that are customisable through the `scatter` keyword so far though; let's now see an example that's a bit more real (and useful!) in which we'll want to add labels, a title, and more. We'll use the Midwest demographics dataset."
   ],
   "cell_type": "markdown",
   "metadata": {}
  },
  {
   "cell_type": "code",
   "execution_count": null,
   "metadata": {},
   "outputs": [],
   "source": [
    "df = (pd.read_csv('https://vincentarelbundock.github.io/Rdatasets/csv/ggplot2/midwest.csv', index_col='PID')\n",
    "      .drop('Unnamed: 0', axis=1))\n",
    "df.head()"
   ]
  },
  {
   "cell_type": "code",
   "execution_count": null,
   "metadata": {},
   "outputs": [],
   "source": [
    "fig, ax = plt.subplots()\n",
    "ax.scatter(df['area'], df['poptotal'], edgecolors='k', alpha=0.6)\n",
    "ax.set_xlim(0, 0.1)\n",
    "ax.set_ylim(0, 1e6)\n",
    "ax.set_xlabel('Area')\n",
    "ax.set_ylabel('Population')\n",
    "ax.set_title('Area vs. Population', loc='right');"
   ]
  },
  {
   "source": [
    "Perhaps you can see from this already that **matplotlib** offers a ton of customisation features *and* that it can be quite verbose.\n",
    "\n",
    "Let's see another couple of customisations that are really useful: formatting axes. On the y-axis, we'll get rid of the awkward computer science notation for one million (1e6) and, on the x-axis, we'll add a percentage suffix on the numbers plus some minor tick marks."
   ],
   "cell_type": "markdown",
   "metadata": {}
  },
  {
   "cell_type": "code",
   "execution_count": null,
   "metadata": {},
   "outputs": [],
   "source": [
    "from matplotlib.ticker import AutoMinorLocator\n",
    "\n",
    "fig, ax = plt.subplots()\n",
    "ax.scatter(df['area'], df['poptotal'], edgecolors='k', alpha=0.6)\n",
    "ax.set_xlim(0, 0.1)\n",
    "ax.set_ylim(0, 1e6)\n",
    "ax.set_xlabel('Area')\n",
    "ax.set_ylabel('Population')\n",
    "ax.set_title('Area vs. Population', loc='right')\n",
    "ax.xaxis.set_minor_locator(AutoMinorLocator(4))\n",
    "ax.xaxis.set_major_formatter('{x:.2f}%')\n",
    "ax.ticklabel_format(style='sci', scilimits=(-2, 2), axis='y', useMathText=True);"
   ]
  },
  {
   "source": [
    "The `AutoMinorLocator(4)` inserts 4 minor tick marks between each major tick mark. The major formatter is `'{x:.2f}%'`, which says print 2 decimal places followed by a % sign. Finally, the `ax.ticklabel_format` option changes the computer science notation to use latex to print a prettier form of the one million signifier.\n",
    "\n",
    "Rather than go through all of the many, many options for customisation, the figure below gives an overview of the options:\n",
    "\n",
    "![Anatomy of a matplotlib figure](https://matplotlib.org/_images/anatomy.png)\n",
    "\n",
    "While **matplotlib** is super-customisable, sometimes achieving what you want directly can be a bit verbose. Let's say we want to now differentiate these points with colour according to which state they belong to and add a legend that says which states have which colour. The easiest way to do this is by creating a for loop."
   ],
   "cell_type": "markdown",
   "metadata": {}
  },
  {
   "cell_type": "code",
   "execution_count": null,
   "metadata": {},
   "outputs": [],
   "source": [
    "colours = plt.get_cmap('Dark2')(np.linspace(0, 1, len(df['state'].unique())))\n",
    "\n",
    "fig, ax = plt.subplots()\n",
    "for i, state in enumerate(df['state'].unique()):\n",
    "    xf = df.loc[df['state'] == state]\n",
    "    ax.scatter(xf['area'], xf['poptotal'], color=colours[i], label=state, s=100, edgecolor='k', alpha=0.8)\n",
    "ax.set_xlim(0, 0.1)\n",
    "ax.set_ylim(0, 1e6)\n",
    "ax.set_xlabel('Area')\n",
    "ax.set_ylabel('Population')\n",
    "ax.set_title('Area vs. Population', loc='center')\n",
    "ax.xaxis.set_minor_locator(AutoMinorLocator(4))\n",
    "ax.xaxis.set_major_formatter('{x:.2f}%')\n",
    "ax.ticklabel_format(style='sci', scilimits=(-2, 2), axis='y', useMathText=True)\n",
    "ax.legend(title='State');"
   ]
  },
  {
   "source": [
    "Okay, so we managed to get what we wanted. We used a colormap to get 5 qualitatively different colours; there are also sequential colormaps for continuous (as opposed to discrete) variables. You can find out more about the colormaps available in base matplotlib [here](https://matplotlib.org/3.1.0/tutorials/colors/colormaps.html). We also subsetted the dataframe and looped over it by state. Matplotlib doesn't always work so well with tidy data. As you saw in this example, we had to loop over the different states. Some of its defaults are a little more friendly when using data that is unstacked, eg with one state per column.\n",
    "\n",
    "However, this was quite verbose; when we come to **seaborn**, we'll see a much easier way of doing this. \n",
    "\n",
    "For now, let's see a couple of other plot types that are useful, beginning with contour plots:"
   ],
   "cell_type": "markdown",
   "metadata": {}
  },
  {
   "cell_type": "code",
   "execution_count": null,
   "metadata": {},
   "outputs": [],
   "source": [
    "def f(x, y):\n",
    "    return np.sin(x) ** 10 + np.cos(10 + y * x) * np.cos(x)\n",
    "\n",
    "x = np.linspace(0, 5, 100)\n",
    "y = np.linspace(0, 5, 100)\n",
    "\n",
    "X, Y = np.meshgrid(x, y)\n",
    "Z = f(X, Y)\n",
    "\n",
    "fig, ax = plt.subplots()\n",
    "cf = ax.contourf(X, Y, Z, cmap='plasma')\n",
    "ax.set_title(r'$f(x,y) = \\sin^{10}(x) + \\cos(x)\\cos\\left(10 + y\\cdot x\\right)$')\n",
    "cbar = fig.colorbar(cf)"
   ]
  },
  {
   "source": [
    "This demonstrates creating a heatmap (or contour plot) with a colour bar legend and a title that's rendered with latex. The heatmap uses a perceptually uniform distribution that makes equal changes look equal; **matplotlib** has a few of these. If you need more colours, check out the packages [**colorcet**](https://colorcet.holoviz.org/) and [**palettable**](https://jiffyclub.github.io/palettable/)."
   ],
   "cell_type": "markdown",
   "metadata": {}
  },
  {
   "source": [
    "You can do some really quite amazing things using **matplotlib**'s build what you want philosophy. For instance, you can [build a timeline](https://matplotlib.org/3.1.1/gallery/lines_bars_and_markers/timeline.html#sphx-glr-gallery-lines-bars-and-markers-timeline-py), make [charts with polar axes](https://matplotlib.org/3.1.1/gallery/pie_and_polar_charts/polar_bar.html#sphx-glr-gallery-pie-and-polar-charts-polar-bar-py), and create [XKCD style plots](https://matplotlib.org/3.1.1/gallery/showcase/xkcd.html#sphx-glr-gallery-showcase-xkcd-py).\n",
    "\n",
    "One basic bit of functionality that you might need is to put more than one type of information on a single plot. Using the object-oriented API, this is as simple as calling another method on an `ax` that you've already created. In the example below, we'll call `ax.hist` followed by `ax.plot` to get a the theoretical curve for a normal distribution (aka Gaussian) overlaid on a kernel density estimate based on many draws from the relevant distribution using `numpy`."
   ],
   "cell_type": "markdown",
   "metadata": {}
  },
  {
   "cell_type": "code",
   "execution_count": null,
   "metadata": {},
   "outputs": [],
   "source": [
    "rand_draws = np.random.randn(5000)\n",
    "grid_x = np.linspace(-5, 5, 1000)\n",
    "\n",
    "fig, ax = plt.subplots()\n",
    "ax.hist(rand_draws, bins=50, density=True)\n",
    "ax.plot(grid_x, 1 / np.sqrt(2*np.pi) * np.exp(-(grid_x**2)/2), linewidth=4);"
   ]
  },
  {
   "source": [
    "Another important class of plots that we should look at are line charts, especially time series. Let's grab the real GDP time series for the UK and US and look at the year-on-year quarterly growth rates (the first few entries will be `NaN` because we switched to growth space)."
   ],
   "cell_type": "markdown",
   "metadata": {}
  },
  {
   "cell_type": "code",
   "execution_count": null,
   "metadata": {},
   "outputs": [],
   "source": [
    "import pandas_datareader.data as web\n",
    "\n",
    "ts_start_date = pd.to_datetime('1999-01-01')\n",
    "\n",
    "df = pd.concat([web.DataReader('ticker=RGDP' + x, 'econdb', start=ts_start_date) for x in ['US', 'UK']], axis=1)\n",
    "df.columns = ['US', 'UK']\n",
    "df.index.name = 'Date'\n",
    "df = 100*df.pct_change(4)\n",
    "df.head()"
   ]
  },
  {
   "source": [
    "Okay, now the quick way to plot this would be to simply call `df.plot()`. That works fine and doesn't look too bad: it recognises that it's dealing with a datetime and plots sensible tick labels on the x-axis, and it produces a legend for each of the two time series. But let's say we want to make that plot quickly *and* do some fine-tuning with **matplotlib**: how can we? The answer is to create a `fig` and an `ax` and then to ask our dataframe to use the `ax` we already created to plot the data. We can then carry on using the `ax` object in any way we like."
   ],
   "cell_type": "markdown",
   "metadata": {}
  },
  {
   "cell_type": "code",
   "execution_count": null,
   "metadata": {},
   "outputs": [],
   "source": [
    "fig, ax = plt.subplots()\n",
    "df.plot(ax=ax)\n",
    "ax.set_title('Real GDP growth, %', loc='right')\n",
    "ax.yaxis.tick_right(); # Put tick marks and tick labels on right-hand side"
   ]
  },
  {
   "source": [
    "We could also have created this chart by looping through the different countries just as we looped through the difference states in the previous example.\n",
    "\n",
    "Let's also see what happens when we use different limits:"
   ],
   "cell_type": "markdown",
   "metadata": {}
  },
  {
   "cell_type": "code",
   "execution_count": null,
   "metadata": {},
   "outputs": [],
   "source": [
    "fig, ax = plt.subplots()\n",
    "df.plot(ax=ax)\n",
    "ax.set_title('Real GDP growth, %', loc='right')\n",
    "ax.yaxis.tick_right() # Put tick marks and tick labels on right-hand side\n",
    "ax.set_xlim(pd.to_datetime('2018-01-01'), pd.to_datetime('2021-01-01'));"
   ]
  },
  {
   "source": [
    "As you can see, the plot dynamically responded to the shorter time period by putting more details in, here of quarters. You can specify exactly what you want with the tick label formatters that cater to datetimes, but the defaults are pretty well-behaved.\n",
    "\n",
    "Sometimes, you want to show different lines in different panels (or facets, as they are also known). You can do that with **matplotlib** too, though once again it's a build-your-own affair.\n",
    "\n",
    "Let's put these two time series in their own facets to see how it works."
   ],
   "cell_type": "markdown",
   "metadata": {}
  },
  {
   "cell_type": "code",
   "execution_count": null,
   "metadata": {},
   "outputs": [],
   "source": [
    "fig, axes = plt.subplots(1, 2)\n",
    "for i, ax in enumerate(axes):\n",
    "    ax.plot(df.index, df.iloc[:, i])\n",
    "    ax.set_title(df.columns[i], loc='left')\n",
    "    ax.yaxis.tick_right()\n",
    "    ax.set_ylim(df.min().min(), df.max().max())\n",
    "fig.suptitle('Real GDP growth, %', y=0.93);"
   ]
  },
  {
   "source": [
    "Quite a few things are happening here. The first is that we asked for more rows and columns from matplotlib using `plt.subplots(nrows, ncolumns)` and instead of returning a single `ax` it returned a list of axes (here of length 2). We then iterated over those axes using enumerate, which gives an integer `i` and an `ax` from the list, and plotted a column on each axis by subsetting the dataframe one column at a time using `df.iloc[:, i]`. Remember that the first position in `iloc` is for the index values (ie the rows), while the second is for the columns. Again, this was quite a lot of code to get a relatively simple chart done! And that's exactly why we're now going to take a look at the declarative library **seaborn** that wraps **matplotlib**."
   ],
   "cell_type": "markdown",
   "metadata": {}
  },
  {
   "source": [
    "### Seaborn\n",
    "\n",
    "**seaborn** provides a high-level interface for quickly drawing standard charts. It is based on **matplotlib*, which is great because it means you can always tinker if you need to. And it plays very nicely with **pandas** dataframes too, so it can easily fit into your workflow.\n",
    "\n",
    "Let's see the chart we were just trying to make but rendered in **seaborn**. The first difference is that **seaborn** expects *tidy data*, a concept from the Data part of this book. So first we must transform our data into tidy format.\n",
    "\n"
   ],
   "cell_type": "markdown",
   "metadata": {}
  },
  {
   "cell_type": "code",
   "execution_count": null,
   "metadata": {},
   "outputs": [],
   "source": [
    "tidy_df = df.stack().reset_index()\n",
    "tidy_df.columns = ['Date', 'Country', 'Real GDP growth, %']\n",
    "tidy_df.head()"
   ]
  },
  {
   "source": [
    "Okay now let's use seaborn to do the plotting. As with **matplotlib**, the way to get different charts in **seaborn** is a matter of knowing the API names. Here, we'll use `relplot`, which is for facets."
   ],
   "cell_type": "markdown",
   "metadata": {}
  },
  {
   "cell_type": "code",
   "execution_count": null,
   "metadata": {},
   "outputs": [],
   "source": [
    "import seaborn as sns\n",
    "\n",
    "sns.relplot(\n",
    "    data=tidy_df,\n",
    "    x=\"Date\", y=\"Real GDP growth, %\",\n",
    "    hue=\"Country\", col=\"Country\",\n",
    "    kind=\"line\", legend=False,\n",
    ");"
   ]
  },
  {
   "source": [
    "In this cae, we got a very similar plot with less effort--and what we do is more generalisable too. As long as we have data in a tidy format, we can specify the columns to seaborn and let it put them in different facets. And facets aren't the only difference it can provide either: you can specify the hue such that it depends on another categorical variable (rather than, as in this case, changing with each facet). Here's an example changing the hue to reflect an extra type of information, region:\n"
   ],
   "cell_type": "markdown",
   "metadata": {}
  },
  {
   "cell_type": "code",
   "execution_count": null,
   "metadata": {},
   "outputs": [],
   "source": [
    "# Download RGDP for Canada and France:\n",
    "extra_df = pd.concat([web.DataReader('ticker=RGDP' + x, 'econdb', start=ts_start_date) for x in ['CA', 'FR']], axis=1)\n",
    "extra_df.columns = ['CA', 'FR']\n",
    "extra_df.index.name = 'Date'\n",
    "extra_df = (100*extra_df.pct_change(4)).stack().reset_index()\n",
    "extra_df.columns = ['Date', 'Country', 'Real GDP growth, %']\n",
    "# Add the new data to the tidy dataframe\n",
    "tidy_df = pd.concat([tidy_df, extra_df], axis=0)\n",
    "continent_dict = {'CA': 'North America', 'US': 'North America',\n",
    "                  'UK': 'Europe', 'FR': 'Europe'}\n",
    "tidy_df['Region'] = tidy_df['Country'].map(continent_dict)\n",
    "tidy_df.sample(6)"
   ]
  },
  {
   "cell_type": "code",
   "execution_count": null,
   "metadata": {},
   "outputs": [],
   "source": [
    "sns.relplot(\n",
    "    data=tidy_df,\n",
    "    x=\"Date\", y=\"Real GDP growth, %\",\n",
    "    hue=\"Region\", col=\"Country\", col_wrap=2,\n",
    "    kind=\"line\", legend=False,\n",
    ");"
   ]
  },
  {
   "source": [
    "As you can see, we now have two colours: one for each region.\n",
    "\n",
    "Let's see some of the other useful shortcuts that **seaborn** provides over the top of **matplotlib**. First, correlation heatmaps:\n"
   ],
   "cell_type": "markdown",
   "metadata": {}
  },
  {
   "cell_type": "code",
   "execution_count": null,
   "metadata": {},
   "outputs": [],
   "source": [
    "# Generate data and create corr mat\n",
    "d = pd.DataFrame(data=np.random.normal(size=(100, 6)),\n",
    "                 columns=['A', 'B', 'C', 'D', 'E', 'F'])\n",
    "corr = d.corr()\n",
    "\n",
    "# Generate a mask to cover the upper triangle\n",
    "mask = np.triu(np.ones_like(corr, dtype=bool))\n",
    "\n",
    "# Draw heatmap\n",
    "sns.heatmap(corr, mask=mask, cmap='magma', vmin=-.4, vmax=.4, center=0,\n",
    "            square=True, linewidths=.5, cbar_kws={\"shrink\": .5});"
   ]
  },
  {
   "source": [
    "**seaborn** also offers convenience functions for (continuous) heatmaps, kernel density estimates, and marginal plots:\n"
   ],
   "cell_type": "markdown",
   "metadata": {}
  },
  {
   "cell_type": "code",
   "execution_count": null,
   "metadata": {},
   "outputs": [],
   "source": [
    "df = sns.load_dataset('penguins')\n",
    "\n",
    "g = sns.JointGrid(data=df, x=\"body_mass_g\", y=\"bill_depth_mm\", space=0)\n",
    "g.plot_joint(sns.kdeplot,\n",
    "             fill=True, clip=((2200, 6800), (10, 25)),\n",
    "             thresh=0, levels=100, cmap=\"inferno\")\n",
    "g.plot_marginals(sns.histplot, color=\"#03051A\", alpha=1, bins=25);"
   ]
  },
  {
   "source": [
    "And plotting simple linear models according to a category:"
   ],
   "cell_type": "markdown",
   "metadata": {}
  },
  {
   "cell_type": "code",
   "execution_count": null,
   "metadata": {},
   "outputs": [],
   "source": [
    "g = sns.lmplot(\n",
    "    data=df,\n",
    "    x=\"bill_length_mm\", y=\"bill_depth_mm\", hue=\"species\",\n",
    "    legend=False, line_kws={'lw': 1.}, height=5, aspect=1.75\n",
    ")\n",
    "plt.legend(loc='lower left', frameon=True);"
   ]
  },
  {
   "source": [
    "And, finally, violin plots:"
   ],
   "cell_type": "markdown",
   "metadata": {}
  },
  {
   "cell_type": "code",
   "execution_count": null,
   "metadata": {},
   "outputs": [],
   "source": [
    "tips = sns.load_dataset(\"tips\")\n",
    "sns.violinplot(data=tips, x=\"day\", y=\"total_bill\", hue=\"smoker\",\n",
    "               split=True, inner=\"quart\", linewidth=1);"
   ]
  },
  {
   "cell_type": "code",
   "execution_count": null,
   "metadata": {},
   "outputs": [],
   "source": []
  }
 ],
 "metadata": {
  "celltoolbar": "Tags",
  "kernelspec": {
   "display_name": "codeforecon",
   "language": "python",
   "name": "codeforecon"
  },
  "language_info": {
   "codemirror_mode": {
    "name": "ipython",
    "version": 3
   },
   "file_extension": ".py",
   "mimetype": "text/x-python",
   "name": "python",
   "nbconvert_exporter": "python",
   "pygments_lexer": "ipython3",
   "version": "3.8.6-final"
  },
  "widgets": {
   "application/vnd.jupyter.widget-state+json": {
    "state": {},
    "version_major": 2,
    "version_minor": 0
   }
  }
 },
 "nbformat": 4,
 "nbformat_minor": 4
}
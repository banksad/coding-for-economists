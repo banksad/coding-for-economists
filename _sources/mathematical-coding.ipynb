{
 "cells": [
  {
   "cell_type": "markdown",
   "id": "genuine-express",
   "metadata": {},
   "source": [
    "# Intro to Mathematics with Code"
   ]
  },
  {
   "cell_type": "code",
   "execution_count": 1,
   "id": "defined-patrol",
   "metadata": {
    "tags": [
     "remove-cell"
    ]
   },
   "outputs": [],
   "source": [
    "import numpy as np\n",
    "import pandas as pd\n",
    "import matplotlib.pyplot as plt\n",
    "\n",
    "# Set seed for reproducibility\n",
    "np.random.seed(10)\n",
    "# Set max rows displayed for readability\n",
    "pd.set_option('display.max_rows', 6)\n",
    "# Plot settings\n",
    "plot_style = {'xtick.labelsize': 20,\n",
    "                  'ytick.labelsize': 20,\n",
    "                  'font.size': 22,\n",
    "                  'figure.autolayout': True,\n",
    "                  'figure.figsize': (10, 5.5),\n",
    "                  'axes.titlesize': 22,\n",
    "                  'axes.labelsize': 20,\n",
    "                  'lines.linewidth': 4,\n",
    "                  'lines.markersize': 6,\n",
    "                  'legend.fontsize': 16,\n",
    "                  'mathtext.fontset': 'stix',\n",
    "                  'font.family': 'STIXGeneral',\n",
    "                  'legend.frameon': False}\n",
    "plt.style.use(plot_style)"
   ]
  },
  {
   "cell_type": "markdown",
   "id": "settled-woman",
   "metadata": {},
   "source": [
    "In this chapter, you'll learn about doing mathematics with code, including solving equations both in the abstract and numerically.\n",
    "\n",
    "This chapter uses the **numpy**, **scipy**, and **sympy** packages. If you're running this code, you may need to install these packages using, for example, `pip install packagename` on your computer's command line. (If you're not sure what a command line or terminal is, take a quick look at the basics of coding chapter.)\n",
    "\n",
    "## Symbolic mathematics"
   ]
  },
  {
   "cell_type": "code",
   "execution_count": 2,
   "id": "dominican-mediterranean",
   "metadata": {
    "tags": [
     "remove-cell"
    ]
   },
   "outputs": [
    {
     "data": {
      "text/plain": [
       "5.656854249492381"
      ]
     },
     "metadata": {
      "scrapbook": {
       "mime_prefix": "",
       "name": "sqrt"
      }
     },
     "output_type": "display_data"
    },
    {
     "data": {
      "text/latex": [
       "$\\displaystyle 2 \\sqrt{2}$"
      ],
      "text/plain": [
       "2*sqrt(2)"
      ]
     },
     "metadata": {
      "scrapbook": {
       "mime_prefix": "",
       "name": "symsqrt"
      }
     },
     "output_type": "display_data"
    }
   ],
   "source": [
    "from myst_nb import glue\n",
    "import sympy\n",
    "a = 8\n",
    "glue('sqrt', 2*np.sqrt(a))\n",
    "glue('symsqrt', sympy.sqrt(a))"
   ]
  },
  {
   "cell_type": "markdown",
   "id": "accompanied-relation",
   "metadata": {},
   "source": [
    "When using computers to do mathematics, we're most often performing numerical computations such as $\\sqrt{8} = ${glue:}`sqrt`. Although we have the answer, it's only useful for the one special case. Symbolic mathematics allows us to use coding to solve equations in the general case, which can often be more illuminating. As an example, if we evaluate this in symbolic mathematics we get $\\sqrt{8} = ${glue:}`symsqrt`.\n",
    "\n",
    "The Python package for symbolic mathemtics is [**sympy**](https://www.sympy.org/en/index.html), which provides some features of a computer algebra system.\n",
    "\n",
    "To define *symbolic* variables, we use sympy's symbols function. For ease, we'll import the entire sympy library into the namespace by using `from sympy import *`."
   ]
  },
  {
   "cell_type": "code",
   "execution_count": 3,
   "id": "editorial-scale",
   "metadata": {},
   "outputs": [],
   "source": [
    "from sympy import *\n",
    "x, t, α, β = symbols(r'x t \\alpha \\beta')"
   ]
  },
  {
   "cell_type": "markdown",
   "id": "needed-progressive",
   "metadata": {},
   "source": [
    "```{note}\n",
    "The leading 'r' in some strings tells Python to treat the string literally so that backslashes are not treated as instructions--otherwise, combinations like `\\n` would begin a newline.\n",
    "```\n",
    "\n",
    "Having created these symbolic variables, we can refer to and see them just like normal variables--though they're not very interesting *because* they are just symbols (for now):"
   ]
  },
  {
   "cell_type": "code",
   "execution_count": 4,
   "id": "another-catch",
   "metadata": {},
   "outputs": [
    {
     "data": {
      "text/latex": [
       "$\\displaystyle \\alpha$"
      ],
      "text/plain": [
       "\\alpha"
      ]
     },
     "execution_count": 4,
     "metadata": {},
     "output_type": "execute_result"
    }
   ],
   "source": [
    "α"
   ]
  },
  {
   "cell_type": "markdown",
   "id": "silver-metadata",
   "metadata": {},
   "source": [
    "Things get much more interesting when we start to do maths on them. Let's see some integration, for example, say we want to evaluate"
   ]
  },
  {
   "cell_type": "code",
   "execution_count": 5,
   "id": "suited-diploma",
   "metadata": {},
   "outputs": [
    {
     "data": {
      "text/latex": [
       "$\\displaystyle \\int \\log{\\left(x \\right)}\\, dx$"
      ],
      "text/plain": [
       "Integral(log(x), x)"
      ]
     },
     "execution_count": 5,
     "metadata": {},
     "output_type": "execute_result"
    }
   ],
   "source": [
    "Integral(log(x), x)"
   ]
  },
  {
   "cell_type": "markdown",
   "id": "quality-antique",
   "metadata": {},
   "source": [
    "(note that the symbols are printed as latex equations) we simply call"
   ]
  },
  {
   "cell_type": "code",
   "execution_count": 6,
   "id": "center-finder",
   "metadata": {},
   "outputs": [
    {
     "data": {
      "text/latex": [
       "$\\displaystyle x \\log{\\left(x \\right)} - x$"
      ],
      "text/plain": [
       "x*log(x) - x"
      ]
     },
     "execution_count": 6,
     "metadata": {},
     "output_type": "execute_result"
    }
   ],
   "source": [
    "integrate(log(x), x)"
   ]
  },
  {
   "cell_type": "markdown",
   "id": "infinite-future",
   "metadata": {},
   "source": [
    "We can differentiate too:"
   ]
  },
  {
   "cell_type": "code",
   "execution_count": 7,
   "id": "burning-electron",
   "metadata": {},
   "outputs": [
    {
     "data": {
      "text/latex": [
       "$\\displaystyle e^{x} \\sin{\\left(x \\right)} + e^{x} \\cos{\\left(x \\right)}$"
      ],
      "text/plain": [
       "exp(x)*sin(x) + exp(x)*cos(x)"
      ]
     },
     "execution_count": 7,
     "metadata": {},
     "output_type": "execute_result"
    }
   ],
   "source": [
    "diff(sin(x)*exp(x), x)"
   ]
  },
  {
   "cell_type": "markdown",
   "id": "champion-ideal",
   "metadata": {},
   "source": [
    "and even take limits!"
   ]
  },
  {
   "cell_type": "code",
   "execution_count": 8,
   "id": "opposed-lightweight",
   "metadata": {},
   "outputs": [
    {
     "data": {
      "text/latex": [
       "$\\displaystyle 1$"
      ],
      "text/plain": [
       "1"
      ]
     },
     "execution_count": 8,
     "metadata": {},
     "output_type": "execute_result"
    }
   ],
   "source": [
    "limit(sin(x)/x, x, 0)"
   ]
  },
  {
   "cell_type": "markdown",
   "id": "convinced-stability",
   "metadata": {},
   "source": [
    "It is also possible to solve equations using **sympy**. The solve function tries to find the roots of $f(x)$ and has syntax `solve(f(x)=0, x)`. Here's an example:"
   ]
  },
  {
   "cell_type": "code",
   "execution_count": 9,
   "id": "closed-needle",
   "metadata": {},
   "outputs": [
    {
     "data": {
      "text/plain": [
       "[2/5]"
      ]
     },
     "execution_count": 9,
     "metadata": {},
     "output_type": "execute_result"
    }
   ],
   "source": [
    "solve(x*5 - 2, x)"
   ]
  },
  {
   "cell_type": "markdown",
   "id": "described-sleep",
   "metadata": {},
   "source": [
    "There are also solvers for differential equations (`dsolve`), continued fractions, simplifications, and more.\n",
    "\n",
    "Another really important thing to know about symbolic mathematics is that you can 'cash in' at any time by substituting in an actual value. For example,"
   ]
  },
  {
   "cell_type": "code",
   "execution_count": 10,
   "id": "innocent-triumph",
   "metadata": {},
   "outputs": [
    {
     "data": {
      "text/latex": [
       "$\\displaystyle -1.0$"
      ],
      "text/plain": [
       "-1.00000000000000"
      ]
     },
     "execution_count": 10,
     "metadata": {},
     "output_type": "execute_result"
    }
   ],
   "source": [
    "expr = 1 - 2*sin(x)**2\n",
    "expr.subs(x, np.pi/2)"
   ]
  },
  {
   "cell_type": "markdown",
   "id": "frank-natural",
   "metadata": {},
   "source": [
    "But you don't have to substitute in a real value; you can just as well substitute in a different symbolic variable:"
   ]
  },
  {
   "cell_type": "code",
   "execution_count": 11,
   "id": "indoor-problem",
   "metadata": {},
   "outputs": [
    {
     "data": {
      "text/latex": [
       "$\\displaystyle \\cos{\\left(t \\right)}$"
      ],
      "text/plain": [
       "cos(t)"
      ]
     },
     "execution_count": 11,
     "metadata": {},
     "output_type": "execute_result"
    }
   ],
   "source": [
    "expr = 1 - 2*sin(x)**2\n",
    "simplify(expr.subs(x, t/2))"
   ]
  },
  {
   "cell_type": "markdown",
   "id": "young-wheat",
   "metadata": {},
   "source": [
    "I snuck in a simplify here too!\n",
    "\n",
    "### Symbolic mathematics for economics\n",
    "\n",
    "The library does a lot, so let's focus on a few features that are likely to be useful for economics in particular.\n",
    "\n",
    "#### Series expansion\n",
    "\n",
    "The first is performing **Taylor series expansions**. These come up all the time in macroeconomic modelling, where models are frequently log-linearised. Let's see an example of a couple of expansions together:"
   ]
  },
  {
   "cell_type": "code",
   "execution_count": 12,
   "id": "reduced-amsterdam",
   "metadata": {},
   "outputs": [
    {
     "data": {
      "text/latex": [
       "$\\displaystyle \\log{\\left(\\alpha \\right)} - \\frac{\\alpha^{2}}{6} + O\\left(\\alpha^{4}\\right)$"
      ],
      "text/plain": [
       "log(\\alpha) - \\alpha**2/6 + O(\\alpha**4)"
      ]
     },
     "execution_count": 12,
     "metadata": {},
     "output_type": "execute_result"
    }
   ],
   "source": [
    "expr = log(sin(α))\n",
    "\n",
    "expr.series(α, 0, 4)"
   ]
  },
  {
   "cell_type": "markdown",
   "id": "guilty-literature",
   "metadata": {},
   "source": [
    "This is a 3rd order expansion around $\\alpha=0$.\n",
    "\n",
    "#### Symbolic linear algebra\n",
    "\n",
    "The support for **matrices** can also come in handy for economic applications. Here's a matrix,"
   ]
  },
  {
   "cell_type": "code",
   "execution_count": 13,
   "id": "ordered-catalog",
   "metadata": {},
   "outputs": [
    {
     "data": {
      "text/latex": [
       "$\\displaystyle \\left[\\begin{matrix}1 & 0 & x\\\\\\alpha & - t & 3\\\\4 & \\beta & 2\\end{matrix}\\right]$"
      ],
      "text/plain": [
       "Matrix([\n",
       "[     1,     0, x],\n",
       "[\\alpha,    -t, 3],\n",
       "[     4, \\beta, 2]])"
      ]
     },
     "execution_count": 13,
     "metadata": {},
     "output_type": "execute_result"
    }
   ],
   "source": [
    "M = Matrix([[1, 0, x], [α, -t, 3], [4, β, 2]])\n",
    "M"
   ]
  },
  {
   "cell_type": "markdown",
   "id": "graduate-meditation",
   "metadata": {},
   "source": [
    "and its determinant:"
   ]
  },
  {
   "cell_type": "code",
   "execution_count": 14,
   "id": "smart-roman",
   "metadata": {},
   "outputs": [
    {
     "data": {
      "text/latex": [
       "$\\displaystyle \\alpha \\beta x - 3 \\beta + 4 t x - 2 t$"
      ],
      "text/plain": [
       "\\alpha*\\beta*x - 3*\\beta + 4*t*x - 2*t"
      ]
     },
     "execution_count": 14,
     "metadata": {},
     "output_type": "execute_result"
    }
   ],
   "source": [
    "M.det()"
   ]
  },
  {
   "cell_type": "markdown",
   "id": "important-zambia",
   "metadata": {},
   "source": [
    "I can hardly go to a talk in economics that involves matrices that doesn't see those matrices get diagonalised: there's a function for that too."
   ]
  },
  {
   "cell_type": "code",
   "execution_count": 15,
   "id": "taken-novelty",
   "metadata": {},
   "outputs": [
    {
     "data": {
      "text/latex": [
       "$\\displaystyle \\left[\\begin{matrix}1 & 0\\\\0 & - t\\end{matrix}\\right]$"
      ],
      "text/plain": [
       "Matrix([\n",
       "[1,  0],\n",
       "[0, -t]])"
      ]
     },
     "execution_count": 15,
     "metadata": {},
     "output_type": "execute_result"
    }
   ],
   "source": [
    "P, D = Matrix([[1, 0], [α, -t]]).diagonalize()\n",
    "D"
   ]
  },
  {
   "cell_type": "markdown",
   "id": "humanitarian-metadata",
   "metadata": {},
   "source": [
    "#### Lagrangians\n",
    "\n",
    "Function optimisation using Lagrangians is about as prevalent in economics as any bit of maths: let's see how it's done symbolically.\n",
    "\n",
    "We're going to find the minimum over x, y of the function $f(x,y)$, subject to $g(x,y)=0$, where $f(x,y) = 4xy - 2x^2 + y^2$ and $g(x,y) = 3x+y-5$.\n",
    "\n",
    "First we need to specify the problem, and the Lagrangian for it, in code"
   ]
  },
  {
   "cell_type": "code",
   "execution_count": 16,
   "id": "academic-attendance",
   "metadata": {},
   "outputs": [
    {
     "data": {
      "text/latex": [
       "$\\displaystyle - \\lambda \\left(3 x + y - 5\\right) - 2 x^{2} + 4 x y + y^{2}$"
      ],
      "text/plain": [
       "-\\lambda*(3*x + y - 5) - 2*x**2 + 4*x*y + y**2"
      ]
     },
     "execution_count": 16,
     "metadata": {},
     "output_type": "execute_result"
    }
   ],
   "source": [
    "x, y, λ = symbols(r'x y \\lambda', real=True)\n",
    "f = 4*x*y - 2*x**2 + y**2\n",
    "g = 3*x+y-5\n",
    "\n",
    "ℒ = f - λ*g\n",
    "ℒ"
   ]
  },
  {
   "cell_type": "markdown",
   "id": "academic-upgrade",
   "metadata": {},
   "source": [
    "The Karush-Kuhn-Tucker (KKT) conditions tell us whether any solutions we find will be optimal. Simply, the constaint is that a solution vector is a saddle point of the Lagrangian, $\\nabla \\mathcal{L} = 0$. Let's solve this."
   ]
  },
  {
   "cell_type": "code",
   "execution_count": 17,
   "id": "light-buffer",
   "metadata": {},
   "outputs": [],
   "source": [
    "gradL = [diff(ℒ, c) for c in [x, y]]\n",
    "KKT_eqns = gradL + [g]"
   ]
  },
  {
   "cell_type": "code",
   "execution_count": 18,
   "id": "dramatic-canada",
   "metadata": {
    "tags": [
     "remove-cell"
    ]
   },
   "outputs": [
    {
     "data": {
      "text/latex": [
       "$\\displaystyle - 3 \\lambda - 4 x + 4 y$"
      ],
      "text/plain": [
       "-3*\\lambda - 4*x + 4*y"
      ]
     },
     "metadata": {
      "scrapbook": {
       "mime_prefix": "",
       "name": "kkt_0"
      }
     },
     "output_type": "display_data"
    },
    {
     "data": {
      "text/latex": [
       "$\\displaystyle - \\lambda + 4 x + 2 y$"
      ],
      "text/plain": [
       "-\\lambda + 4*x + 2*y"
      ]
     },
     "metadata": {
      "scrapbook": {
       "mime_prefix": "",
       "name": "kkt_1"
      }
     },
     "output_type": "display_data"
    },
    {
     "data": {
      "text/latex": [
       "$\\displaystyle 3 x + y - 5$"
      ],
      "text/plain": [
       "3*x + y - 5"
      ]
     },
     "metadata": {
      "scrapbook": {
       "mime_prefix": "",
       "name": "kkt_2"
      }
     },
     "output_type": "display_data"
    }
   ],
   "source": [
    "KKT_eqns = gradL + [g]\n",
    "glue('kkt_0', KKT_eqns[0])\n",
    "glue('kkt_1', KKT_eqns[1])\n",
    "glue('kkt_2', KKT_eqns[2])"
   ]
  },
  {
   "cell_type": "markdown",
   "id": "dirty-correspondence",
   "metadata": {},
   "source": [
    "This gives 3 equations from the KKT conditions:  {glue:}`kkt_0`,   {glue:}`kkt_1`, and  {glue:}`kkt_2`. (The symbolic manipulation is now over: we solved for the conditions in terms of algebra--now we're looking for real values.) Now we look for the values of $x, y$ that minimise $f$ given that $g=0$ by solving these equations over $x$, $y$, and $\\lambda$."
   ]
  },
  {
   "cell_type": "code",
   "execution_count": 19,
   "id": "furnished-disclosure",
   "metadata": {},
   "outputs": [
    {
     "data": {
      "text/plain": [
       "[{x: -1, y: 8, \\lambda: 12}]"
      ]
     },
     "execution_count": 19,
     "metadata": {},
     "output_type": "execute_result"
    }
   ],
   "source": [
    "stationary_pts = solve(KKT_eqns, [x, y, λ], dict=True)\n",
    "stationary_pts"
   ]
  },
  {
   "cell_type": "markdown",
   "id": "varying-prisoner",
   "metadata": {},
   "source": [
    "Now, we can substitute these in to find the (first--and in this case only) point that minimises our function:"
   ]
  },
  {
   "cell_type": "code",
   "execution_count": 20,
   "id": "clinical-potter",
   "metadata": {},
   "outputs": [
    {
     "data": {
      "text/plain": [
       "(-1, 8, 30)"
      ]
     },
     "execution_count": 20,
     "metadata": {},
     "output_type": "execute_result"
    }
   ],
   "source": [
    "stationary_pts[0][x], stationary_pts[0][y], f.subs(stationary_pts[0])"
   ]
  },
  {
   "cell_type": "markdown",
   "id": "binding-monster",
   "metadata": {},
   "source": [
    "#### Exporting to latex\n",
    "\n",
    "To turn any equation, for example `diff(sin(x)*exp(x), x)`, into latex and export it to a file that can be included in a paper, use\n",
    "\n",
    "```python\n",
    "eqn_to_export = latex(diff(sin(x)*exp(x), x), mode='equation')\n",
    "open('latex_equation.tex', 'w').write(eqn_to_export)\n",
    "```\n",
    "\n",
    "which creates a file called 'latex_equation.tex' that has a single line in it: '\\begin{equation}\\int \\log{\\left(x \\right)}\\, dx\\end{equation}'. There are a range of options for exporting to latex, `mode='equation*'` produces an unnumbered equation, 'inline' produces an inline equation, and so on. To include these in your latex paper, use '\\input{latex_equation.tex}'.\n",
    "\n",
    "### Why coding symbolic mathematics is useful\n",
    "\n",
    "1. Accuracy--using a computer to solve the equations means you're less likely to make a mistake. At the very least, it's a useful check on your by-hand working.\n",
    "\n",
    "2. Consistency--by making your code export the equations you're solving to your write-up, you can ensure that the equations are consistent across both *and* you only have to type them once.\n",
    "\n",
    "## Numerical Mathematics\n",
    "\n",
    "For much of the time, you'll be dealing with numbers rather than symbols. The workhorses of numerical mathematics are the two packages **numpy** and **scipy**. Both have excellent documentation, where you can find out more. In this section, we'll look at how to use them in some standard mathematical operations that arise in economics.\n",
    "\n",
    "The most basic object is an array, which can be defined as follows:"
   ]
  },
  {
   "cell_type": "code",
   "execution_count": 21,
   "id": "cooked-workplace",
   "metadata": {},
   "outputs": [
    {
     "data": {
      "text/plain": [
       "array([0, 1, 2, 3])"
      ]
     },
     "execution_count": 21,
     "metadata": {},
     "output_type": "execute_result"
    }
   ],
   "source": [
    "import numpy as np\n",
    "a = np.array([0, 1, 2, 3], dtype='int64')\n",
    "a"
   ]
  },
  {
   "cell_type": "markdown",
   "id": "bridal-pregnancy",
   "metadata": {},
   "source": [
    "Arrays are very memory efficient and fast objects that you should use in preference to lists for any heavy duty numerical operation.\n",
    "\n",
    "To demonstrate this, let's do a time race between lists and arrays for squaring all elements of an array:\n",
    "\n",
    "Lists:"
   ]
  },
  {
   "cell_type": "code",
   "execution_count": 22,
   "id": "appropriate-mandate",
   "metadata": {},
   "outputs": [
    {
     "name": "stdout",
     "output_type": "stream",
     "text": [
      "213 µs ± 737 ns per loop (mean ± std. dev. of 7 runs, 1000 loops each)\n"
     ]
    }
   ],
   "source": [
    "a_list = range(1000)\n",
    "%timeit [i**2 for i in a_list]"
   ]
  },
  {
   "cell_type": "markdown",
   "id": "choice-postcard",
   "metadata": {},
   "source": [
    "Arrays:"
   ]
  },
  {
   "cell_type": "code",
   "execution_count": 23,
   "id": "educated-extent",
   "metadata": {},
   "outputs": [
    {
     "name": "stdout",
     "output_type": "stream",
     "text": [
      "808 ns ± 3.54 ns per loop (mean ± std. dev. of 7 runs, 1000000 loops each)\n"
     ]
    }
   ],
   "source": [
    "a = np.arange(1000)\n",
    "%timeit a**2"
   ]
  },
  {
   "cell_type": "markdown",
   "id": "incomplete-failing",
   "metadata": {},
   "source": [
    "Using arrays was *two orders of magnitude** faster! Okay, so we should use arrays for numerical works. How do we make them? You can specify an array explicitly as we did above to create a vector. This manual approach works for other dimensions too:"
   ]
  },
  {
   "cell_type": "code",
   "execution_count": 24,
   "id": "nearby-replication",
   "metadata": {},
   "outputs": [
    {
     "data": {
      "text/plain": [
       "array([[0, 1, 2],\n",
       "       [3, 4, 5],\n",
       "       [6, 7, 8]])"
      ]
     },
     "execution_count": 24,
     "metadata": {},
     "output_type": "execute_result"
    }
   ],
   "source": [
    "mat = np.array([[0, 1, 2], [3, 4, 5], [6, 7, 8]])\n",
    "mat"
   ]
  },
  {
   "cell_type": "markdown",
   "id": "fuzzy-anchor",
   "metadata": {},
   "source": [
    "To find out about matrix properties, we use `.shape`"
   ]
  },
  {
   "cell_type": "code",
   "execution_count": 25,
   "id": "moved-procurement",
   "metadata": {},
   "outputs": [
    {
     "data": {
      "text/plain": [
       "(3, 3)"
      ]
     },
     "execution_count": 25,
     "metadata": {},
     "output_type": "execute_result"
    }
   ],
   "source": [
    "mat.shape"
   ]
  },
  {
   "cell_type": "markdown",
   "id": "governing-nerve",
   "metadata": {},
   "source": [
    "We already saw how `np.arange(start, stop, step)` produces a vector; `np.linspace(start, stop, number)` produces a vector of length `number` by equally dividing the space between `start` and `stop`.\n",
    "\n",
    "Three really useful arrays are `np.ones(shape)`, for example,"
   ]
  },
  {
   "cell_type": "code",
   "execution_count": 26,
   "id": "requested-funds",
   "metadata": {},
   "outputs": [
    {
     "data": {
      "text/plain": [
       "array([[1., 1., 1.],\n",
       "       [1., 1., 1.],\n",
       "       [1., 1., 1.]])"
      ]
     },
     "execution_count": 26,
     "metadata": {},
     "output_type": "execute_result"
    }
   ],
   "source": [
    "np.ones((3, 3))"
   ]
  },
  {
   "cell_type": "markdown",
   "id": "molecular-replication",
   "metadata": {},
   "source": [
    "`np.diag` for diagnoal arrays,"
   ]
  },
  {
   "cell_type": "code",
   "execution_count": 27,
   "id": "boring-henry",
   "metadata": {},
   "outputs": [
    {
     "data": {
      "text/plain": [
       "array([[1, 0, 0, 0],\n",
       "       [0, 2, 0, 0],\n",
       "       [0, 0, 3, 0],\n",
       "       [0, 0, 0, 4]])"
      ]
     },
     "execution_count": 27,
     "metadata": {},
     "output_type": "execute_result"
    }
   ],
   "source": [
    "np.diag(np.array([1, 2, 3, 4]))"
   ]
  },
  {
   "cell_type": "markdown",
   "id": "parental-redhead",
   "metadata": {},
   "source": [
    "and `np.zeros` for empty arrays:"
   ]
  },
  {
   "cell_type": "code",
   "execution_count": 28,
   "id": "sweet-journal",
   "metadata": {},
   "outputs": [
    {
     "data": {
      "text/plain": [
       "array([[0., 0.],\n",
       "       [0., 0.]])"
      ]
     },
     "execution_count": 28,
     "metadata": {},
     "output_type": "execute_result"
    }
   ],
   "source": [
    "np.zeros((2, 2))"
   ]
  },
  {
   "cell_type": "markdown",
   "id": "planned-drunk",
   "metadata": {},
   "source": [
    "Random numbers are supplied by `np.random.rand()` for a uniform distribution in [0, 1], and `np.random.randn()` for numbers drawn from a standard normal distribution.\n",
    "\n",
    "You can, of course, specify a function to create an array:"
   ]
  },
  {
   "cell_type": "code",
   "execution_count": 29,
   "id": "alive-berry",
   "metadata": {},
   "outputs": [
    {
     "data": {
      "text/plain": [
       "array([[ 0.,  1.,  4.,  9., 16.],\n",
       "       [ 1.,  2.,  5., 10., 17.],\n",
       "       [ 4.,  5.,  8., 13., 20.],\n",
       "       [ 9., 10., 13., 18., 25.]])"
      ]
     },
     "execution_count": 29,
     "metadata": {},
     "output_type": "execute_result"
    }
   ],
   "source": [
    "c = np.fromfunction(lambda i, j: i**2+j**2, (4, 5))\n",
    "c"
   ]
  },
  {
   "cell_type": "markdown",
   "id": "alleged-subject",
   "metadata": {},
   "source": [
    "To access values in an array, you can use all of the by-position slicing methods that you've seen already in data analysis and with lists. The figure gives an example of some common slicing operations:\n",
    "\n",
    "![Examples of array slices](https://scipy-lectures.org/_images/numpy_indexing.png)\n",
    "\n",
    "Arrays can also be sliced and diced based on boolean indexing, just like a dataframe.\n",
    "\n",
    "For example, using the array defined above, we can create a boolean array of true and false values from a condition such as `c > 6` and use that to only access some elements of an array (it doesn't have to be the same array, though it usually is):"
   ]
  },
  {
   "cell_type": "code",
   "execution_count": 30,
   "id": "designed-karen",
   "metadata": {},
   "outputs": [
    {
     "data": {
      "text/plain": [
       "array([ 9., 16., 10., 17.,  8., 13., 20.,  9., 10., 13., 18., 25.])"
      ]
     },
     "execution_count": 30,
     "metadata": {},
     "output_type": "execute_result"
    }
   ],
   "source": [
    "c[c > 6]"
   ]
  },
  {
   "cell_type": "markdown",
   "id": "conservative-gardening",
   "metadata": {},
   "source": [
    "As with dataframes, arrays can be combined. The main command to remember is `np.concatenate`, which has an `axis` keyword option."
   ]
  },
  {
   "cell_type": "code",
   "execution_count": 31,
   "id": "medium-issue",
   "metadata": {},
   "outputs": [
    {
     "data": {
      "text/plain": [
       "array([[1., 0., 0.],\n",
       "       [0., 1., 0.],\n",
       "       [0., 0., 1.],\n",
       "       [1., 0., 0.],\n",
       "       [0., 1., 0.],\n",
       "       [0., 0., 1.]])"
      ]
     },
     "execution_count": 31,
     "metadata": {},
     "output_type": "execute_result"
    }
   ],
   "source": [
    "x = np.eye(3)\n",
    "np.concatenate([x, x], axis=0)"
   ]
  },
  {
   "cell_type": "markdown",
   "id": "brown-validity",
   "metadata": {},
   "source": [
    "Splitting is performed with `np.split(array, splits, axis=)`, for example"
   ]
  },
  {
   "cell_type": "code",
   "execution_count": 32,
   "id": "square-pavilion",
   "metadata": {},
   "outputs": [
    {
     "data": {
      "text/plain": [
       "[array([[1., 0., 0.],\n",
       "        [0., 1., 0.],\n",
       "        [0., 0., 1.]]),\n",
       " array([], shape=(0, 3), dtype=float64)]"
      ]
     },
     "execution_count": 32,
     "metadata": {},
     "output_type": "execute_result"
    }
   ],
   "source": [
    "np.split(x, [3], axis=0)"
   ]
  },
  {
   "cell_type": "markdown",
   "id": "powered-river",
   "metadata": {},
   "source": [
    "Aggregation operations are very similar to those found in dataframes: `x.sum(i)` to sum across the $i$th dimension of the array; similarly for standard deviation, and so on.\n",
    "\n",
    "As with dataframes, you can (and often should) specify the datatype of an array when you create it by passing a `dtype=` keyword, eg `c = np.array([1, 2, 3], dtype=float)`. To find out the data type of an array that already exists, use `c.dtype`.\n",
    "\n",
    "Finally, numpy does a lot of smart broadcasting of arrays. Broadcasting is what means that summing two arrays gives you a third array that has elements that are each the sum of the relevant elements in the two original arrays. Put another way, it's what causes `x + y = z` (for arrays x and y with the same shape) to result in an array z for which $z_{ij} = x_{ij} + y_{ij}$.\n",
    "\n",
    "Summing two arrays of the same shape is a pretty obvious example, but it also applies to cases that are *not* completely matched. For example, multiplication by a scalar is broadcast across all elements of an array:"
   ]
  },
  {
   "cell_type": "code",
   "execution_count": 33,
   "id": "bound-tiffany",
   "metadata": {},
   "outputs": [
    {
     "data": {
      "text/plain": [
       "array([[3., 3., 3.],\n",
       "       [3., 3., 3.],\n",
       "       [3., 3., 3.]])"
      ]
     },
     "execution_count": 33,
     "metadata": {},
     "output_type": "execute_result"
    }
   ],
   "source": [
    "x = np.ones(shape=(3, 3))\n",
    "x*3"
   ]
  },
  {
   "cell_type": "markdown",
   "id": "threatened-screen",
   "metadata": {},
   "source": [
    "Similarly, numpy functions are broadcast across elements of an array:"
   ]
  },
  {
   "cell_type": "code",
   "execution_count": 34,
   "id": "informative-employment",
   "metadata": {},
   "outputs": [
    {
     "data": {
      "text/plain": [
       "array([[2.71828183, 2.71828183, 2.71828183],\n",
       "       [2.71828183, 2.71828183, 2.71828183],\n",
       "       [2.71828183, 2.71828183, 2.71828183]])"
      ]
     },
     "execution_count": 34,
     "metadata": {},
     "output_type": "execute_result"
    }
   ],
   "source": [
    "np.exp(x)"
   ]
  },
  {
   "cell_type": "markdown",
   "id": "planned-crest",
   "metadata": {},
   "source": [
    "### Numeric linear algebra\n",
    "\n",
    "The transpose of an array `x` is given by `x.T`.\n",
    "\n",
    "Matrix multiplation is performed using the `@` operator. Here we perform $ M_{il} = \\sum_{k} x_{ik} * (x^T)_{kl}$, where $x^T$ is the transpose of $x$."
   ]
  },
  {
   "cell_type": "code",
   "execution_count": 35,
   "id": "indonesian-holmes",
   "metadata": {},
   "outputs": [
    {
     "data": {
      "text/plain": [
       "array([[3., 3., 3.],\n",
       "       [3., 3., 3.],\n",
       "       [3., 3., 3.]])"
      ]
     },
     "execution_count": 35,
     "metadata": {},
     "output_type": "execute_result"
    }
   ],
   "source": [
    "x @ x.T"
   ]
  },
  {
   "cell_type": "markdown",
   "id": "neither-empire",
   "metadata": {},
   "source": [
    "To multiply two arrays element wise, ie to do $ M_{ij} = x_{ij} y_{ij}$, it's the usual multiplication operator `*`.\n",
    "\n",
    "Inverting matrices:"
   ]
  },
  {
   "cell_type": "code",
   "execution_count": 36,
   "id": "directed-psychiatry",
   "metadata": {},
   "outputs": [
    {
     "data": {
      "text/plain": [
       "array([[1., 0., 0.],\n",
       "       [0., 1., 0.],\n",
       "       [0., 0., 1.]])"
      ]
     },
     "execution_count": 36,
     "metadata": {},
     "output_type": "execute_result"
    }
   ],
   "source": [
    "a = np.random.randint(9, size=(3, 3), dtype='int')\n",
    "b = a @ np.linalg.inv(a)\n",
    "b"
   ]
  },
  {
   "cell_type": "markdown",
   "id": "sustained-popularity",
   "metadata": {},
   "source": [
    "Computing the trace:"
   ]
  },
  {
   "cell_type": "code",
   "execution_count": 37,
   "id": "broadband-military",
   "metadata": {},
   "outputs": [
    {
     "data": {
      "text/plain": [
       "3.0"
      ]
     },
     "execution_count": 37,
     "metadata": {},
     "output_type": "execute_result"
    }
   ],
   "source": [
    "b.trace()"
   ]
  },
  {
   "cell_type": "markdown",
   "id": "danish-rocket",
   "metadata": {},
   "source": [
    "Determinant:"
   ]
  },
  {
   "cell_type": "code",
   "execution_count": 38,
   "id": "parallel-shelter",
   "metadata": {},
   "outputs": [
    {
     "data": {
      "text/plain": [
       "-231.99999999999977"
      ]
     },
     "execution_count": 38,
     "metadata": {},
     "output_type": "execute_result"
    }
   ],
   "source": [
    "np.linalg.det(a)"
   ]
  },
  {
   "cell_type": "markdown",
   "id": "forced-sugar",
   "metadata": {},
   "source": [
    "Computing a Cholesky decomposition, i.e. finding lower triangular matrix $C$ such that $C C' = \\Sigma$ for $\\Sigma$ a 2-dimensional positive definite matrix."
   ]
  },
  {
   "cell_type": "code",
   "execution_count": 39,
   "id": "political-horse",
   "metadata": {},
   "outputs": [
    {
     "data": {
      "text/plain": [
       "array([[0., 0.],\n",
       "       [0., 0.]])"
      ]
     },
     "execution_count": 39,
     "metadata": {},
     "output_type": "execute_result"
    }
   ],
   "source": [
    "Σ = np.array([[4, 1], [1, 3]])\n",
    "c = np.linalg.cholesky(Σ)\n",
    "\n",
    "c @ c.T - Σ"
   ]
  },
  {
   "cell_type": "markdown",
   "id": "practical-washington",
   "metadata": {},
   "source": [
    "#### Solving systems of linear equations\n",
    "\n",
    "Say we have a system of equations, $4x + 3y + 2z = 25$,\n",
    "$-2x + 2y + 3z = -10$, and $3x -5y + 2z = -4$. We can solve these three equations for the three unknowns, x, y, and z, using the `solve` method. First, remember that this equation can be written in matrix form as\n",
    "\n",
    "$$\n",
    "M\\cdot \\vec{x} = \\vec{c}\n",
    "$$\n",
    "\n",
    "We can solve this by multiplying by the matrix inverse of $M$:\n",
    "\n",
    "$$\n",
    "M^{-1} M \\cdot \\vec{x} = I \\cdot \\vec{x} = M^{-1} \\cdot \\vec{c}\n",
    "$$\n",
    "\n",
    "which could be called by running `x = la.inv(M).dot(c)`. There's a convenience function in **numpy** called solve that does the same thing: here it finds the real values of the vector $\\vec{x}$."
   ]
  },
  {
   "cell_type": "code",
   "execution_count": 40,
   "id": "white-trouble",
   "metadata": {},
   "outputs": [
    {
     "data": {
      "text/plain": [
       "array([ 5.,  3., -2.])"
      ]
     },
     "execution_count": 40,
     "metadata": {},
     "output_type": "execute_result"
    }
   ],
   "source": [
    "M = np.array([[4, 3, 2], [-2, 2, 3], [3, -5, 2]])\n",
    "c = np.array([25, -10, -4])\n",
    "np.linalg.solve(M, c)"
   ]
  },
  {
   "cell_type": "markdown",
   "id": "advance-bolivia",
   "metadata": {},
   "source": [
    "Finally, eigenvalues and eigenvectors can be found from:"
   ]
  },
  {
   "cell_type": "code",
   "execution_count": 41,
   "id": "arctic-stream",
   "metadata": {},
   "outputs": [
    {
     "data": {
      "text/plain": [
       "array([5.65662617+0.j        , 1.17168692+4.51348646j,\n",
       "       1.17168692-4.51348646j])"
      ]
     },
     "execution_count": 41,
     "metadata": {},
     "output_type": "execute_result"
    }
   ],
   "source": [
    "import scipy.linalg as la\n",
    "eigvals, eigvecs = la.eig(M)\n",
    "eigvals"
   ]
  },
  {
   "cell_type": "markdown",
   "id": "second-hearing",
   "metadata": {},
   "source": [
    "### Interpolation\n",
    "\n",
    "This section draws on the **scipy** documentation. There are built-in **pandas** methods for interpolation in dataframes, but **scipy** also has a range of functions for this including for univariate data `interp1d`, multidimensional interpolation on a grid `interpn`, `griddata` for unstructured data. Let's see a simple example with interpolation between a regular grid of integers."
   ]
  },
  {
   "cell_type": "code",
   "execution_count": 42,
   "id": "liable-south",
   "metadata": {},
   "outputs": [
    {
     "data": {
      "image/png": "[encoded data removed]",
      "text/plain": [
       "<Figure size 720x396 with 1 Axes>"
      ]
     },
     "metadata": {
      "filenames": {
       "image/png": "/Users/aet/Documents/git_projects/coding-for-economists/_build/jupyter_execute/mathematical-coding_82_0.png"
      },
      "needs_background": "light"
     },
     "output_type": "display_data"
    }
   ],
   "source": [
    "import matplotlib.pyplot as plt\n",
    "from scipy import interpolate\n",
    "x = np.arange(0, 10)\n",
    "y = np.exp(-x/3.0)\n",
    "f = interpolate.interp1d(x, y, kind='cubic')\n",
    "# Create a finer grid to interpolation function f\n",
    "xnew = np.arange(0, 9, 0.1)\n",
    "ynew = f(xnew)\n",
    "plt.plot(x, y, 'o', xnew, ynew, '-')\n",
    "plt.show()"
   ]
  },
  {
   "cell_type": "markdown",
   "id": "romance-breakdown",
   "metadata": {},
   "source": [
    "What about unstructured data? Let's create a Cobb-Douglas function on a detailed grid but then only retain a random set of the established points."
   ]
  },
  {
   "cell_type": "code",
   "execution_count": 43,
   "id": "indoor-insider",
   "metadata": {},
   "outputs": [
    {
     "data": {
      "image/png": "[encoded data removed]",
      "text/plain": [
       "<Figure size 720x396 with 2 Axes>"
      ]
     },
     "metadata": {
      "filenames": {
       "image/png": "/Users/aet/Documents/git_projects/coding-for-economists/_build/jupyter_execute/mathematical-coding_84_0.png"
      },
      "needs_background": "light"
     },
     "output_type": "display_data"
    }
   ],
   "source": [
    "from scipy.interpolate import griddata\n",
    "\n",
    "def cobb_doug(x, y):\n",
    "    alpha = 0.8\n",
    "    return x**(alpha)*y**(alpha-1)\n",
    "\n",
    "\n",
    "# Take some random points of the Cobb-Douglas function\n",
    "points = np.random.rand(1000, 2)\n",
    "values = cobb_doug(points[:,0], points[:,1])\n",
    "\n",
    "# Create a grid\n",
    "grid_x, grid_y = np.mgrid[0.01:1:200j, 0.01:1:200j]\n",
    "\n",
    "# Interpolate the points we have onto the grid\n",
    "interp_data = griddata(points, values, (grid_x, grid_y), method='cubic')\n",
    "\n",
    "# Plot results\n",
    "fig, axes = plt.subplots(1, 2)\n",
    "# Plot function & scatter of random points\n",
    "axes[0].imshow(cobb_doug(grid_x, grid_y).T,\n",
    "               extent=(0, 1, 0, 1),\n",
    "               origin='lower', cmap='plasma_r',\n",
    "               vmin=0, vmax=1)\n",
    "axes[0].plot(points[:, 0], points[:, 1], 'r.', ms=1.2)\n",
    "axes[0].set_title('Original + points')\n",
    "# Interpolation of random points\n",
    "axes[1].imshow(interp_data.T, extent=(0, 1, 0, 1),\n",
    "               origin='lower', cmap='plasma_r',\n",
    "               vmin=0, vmax=1)\n",
    "axes[1].set_title('Cubic interpolation');"
   ]
  },
  {
   "cell_type": "markdown",
   "id": "interested-straight",
   "metadata": {},
   "source": [
    "### Optimisation\n",
    "\n",
    "**scipy** has functions for minimising scalar functions, minimising multivariate functions with complex surfaces, and root-finding. Let's see an example of finding the minimum of a scalar function."
   ]
  },
  {
   "cell_type": "code",
   "execution_count": 44,
   "id": "working-efficiency",
   "metadata": {},
   "outputs": [
    {
     "data": {
      "text/plain": [
       "      fun: -9.145823375615207\n",
       " hess_inv: array([[0.08589248]])\n",
       "      jac: array([-1.1920929e-06])\n",
       "  message: 'Optimization terminated successfully.'\n",
       "     nfev: 12\n",
       "      nit: 5\n",
       "     njev: 6\n",
       "   status: 0\n",
       "  success: True\n",
       "        x: array([-1.30644012])"
      ]
     },
     "execution_count": 44,
     "metadata": {},
     "output_type": "execute_result"
    }
   ],
   "source": [
    "from scipy import optimize\n",
    "\n",
    "def f(x):\n",
    "    return x**2 + 10*np.sin(x) - 1.2\n",
    "\n",
    "\n",
    "result = optimize.minimize(f, x0=0)\n",
    "result"
   ]
  },
  {
   "cell_type": "markdown",
   "id": "quality-sentence",
   "metadata": {},
   "source": [
    "The result of the optimisation is in the 'x' attribute of `result`. Let's see this:"
   ]
  },
  {
   "cell_type": "code",
   "execution_count": 45,
   "id": "opened-attribute",
   "metadata": {},
   "outputs": [
    {
     "data": {
      "image/png": "[encoded data removed]",
      "text/plain": [
       "<Figure size 720x396 with 1 Axes>"
      ]
     },
     "metadata": {
      "filenames": {
       "image/png": "/Users/aet/Documents/git_projects/coding-for-economists/_build/jupyter_execute/mathematical-coding_88_0.png"
      },
      "needs_background": "light"
     },
     "output_type": "display_data"
    }
   ],
   "source": [
    "x = np.arange(-10, 10, 0.1)\n",
    "fig, ax = plt.subplots()\n",
    "ax.plot(x, f(x))\n",
    "ax.scatter(result.x, f(result.x), s=150, color='k')\n",
    "ax.set_xlabel('x')\n",
    "ax.set_ylabel('f(x)', rotation=90)\n",
    "plt.show()"
   ]
  },
  {
   "cell_type": "markdown",
   "id": "rubber-craft",
   "metadata": {},
   "source": [
    "In higher dimensions, the minimisation works in much the same way, with the same function `optimize.minimize`. There are a LOT of minimisation options that you can pass to the `method=` keyword; the default is intelligently chosen from BFGS, L-BFGS-B, or SLSQP, depending upon whether you supply constraints or bounds.\n",
    "\n",
    "Root finding, aka solving equations of the form $f(x)=0$, is also catered for by **scipy**, through `optimize.root`. It works in much the same way as `optimizer.minimize`.\n",
    "\n",
    "In both of these cases, be warned that multiple roots and multiple minima can be hard to detect, and you may need to carefully specify the bounds or the starting positions in order to find the root you're looking for. Also, both of these methods can accept the Jacobian of the function you're working with as an argument, which is likely to improve performance with some solvers.\n",
    "\n",
    "### Numerical Integration\n",
    "\n",
    "**scipy** provides routines to numerically evaluate integrals in `scipy.integrate`, which you can find the documentation for [here](https://docs.scipy.org/doc/scipy/reference/integrate.html). Let's see an example using the 'vanilla' integration method, `quad`, to solve a known function between given (numerical) limits:\n",
    "\n",
    "$$\n",
    "\\displaystyle\\int_0^{\\pi} \\sin(x) d x\n",
    "$$"
   ]
  },
  {
   "cell_type": "code",
   "execution_count": 46,
   "id": "excited-worry",
   "metadata": {},
   "outputs": [
    {
     "data": {
      "text/plain": [
       "2.0"
      ]
     },
     "execution_count": 46,
     "metadata": {},
     "output_type": "execute_result"
    }
   ],
   "source": [
    "from scipy.integrate import quad\n",
    "res, err = quad(np.sin, 0, np.pi)\n",
    "res"
   ]
  },
  {
   "cell_type": "markdown",
   "id": "raising-clear",
   "metadata": {},
   "source": [
    "What if we just have data samples? In that case, there are several routines that perform purely numerical integration:"
   ]
  },
  {
   "cell_type": "code",
   "execution_count": 47,
   "id": "marked-westminster",
   "metadata": {},
   "outputs": [
    {
     "data": {
      "text/plain": [
       "0.0"
      ]
     },
     "execution_count": 47,
     "metadata": {},
     "output_type": "execute_result"
    }
   ],
   "source": [
    "from scipy.integrate import simps\n",
    "x = np.arange(0, 10)\n",
    "f_of_x = np.arange(0, 10)\n",
    "\n",
    "simps(f_of_x, x) - 9**2/2"
   ]
  },
  {
   "cell_type": "markdown",
   "id": "bound-beads",
   "metadata": {},
   "source": [
    "Even with just 10 evenly spaced points, the composite Simpson’s rule integration given by `simps` is able to accurately find the answer as $\\left( x^2/2\\right) |_{0}^{9}$.\n",
    "\n",
    "## Advanced: Composable Function Transformations\n",
    "\n",
    "In recent years, there have been great developments in the ability of Python to easily carry out numerical 'composable function transformations'. What this means is that, if you can dream up an arbitrary numerical operations -- including differentiation, linear algebrea, and optimisation -- you can write code that will execute it quickly and automatically on CPUs, GPUs, or TPUs as you like.\n",
    "\n",
    "Here we'll look at one library that does this, **jax**, developed by Google {cite}`jax2018github`. It can automatically differentiate native Python and **numpy** functions, including when they are in loops, branches, or subject to recursion, and it can take derivatives of derivatives of derivatives. It supports reverse-mode differentiation (a.k.a. backpropagation) via grad as well as forward-mode differentiation, and the two can be composed arbitrarily to any order.\n",
    "\n",
    "To do these at speed, it uses just-in-time compilation. If you don't know what that is, don't worry: the details aren't important. It's just a way of getting close to C++ or Fortran speeds while still being able to write code in *much* more user friendly Python!\n",
    "\n",
    "### Auto-differentiation\n",
    "\n",
    "Let's see an example of auto-differentiation an arbitrary function. We'll write the definition of $\\tanh(x)$ as a function and evaluate it. Because we already imported a (symbolic) `tanh` function from Sympy above, we'll call the function below `tanh_num`."
   ]
  },
  {
   "cell_type": "code",
   "execution_count": 48,
   "id": "electoral-standing",
   "metadata": {},
   "outputs": [
    {
     "name": "stderr",
     "output_type": "stream",
     "text": [
      "WARNING:absl:No GPU/TPU found, falling back to CPU. (Set TF_CPP_MIN_LOG_LEVEL=0 and rerun for more info.)\n"
     ]
    },
    {
     "data": {
      "text/plain": [
       "DeviceArray(0.4199743, dtype=float32)"
      ]
     },
     "execution_count": 48,
     "metadata": {},
     "output_type": "execute_result"
    }
   ],
   "source": [
    "from jax import grad\n",
    "import jax.numpy as jnp\n",
    "\n",
    "def tanh_num(θ):  # Define a function\n",
    "  y = jnp.exp(-2.0 * θ)\n",
    "  return (1.0 - y) / (1.0 + y)\n",
    "\n",
    "grad_tanh = grad(tanh_num)  # Obtain its gradient function\n",
    "grad_tanh(1.0)   # Evaluate it at x = 1.0"
   ]
  },
  {
   "cell_type": "markdown",
   "id": "quality-departure",
   "metadata": {},
   "source": [
    "You can differentiate to any order using grad:"
   ]
  },
  {
   "cell_type": "code",
   "execution_count": 49,
   "id": "raised-ontario",
   "metadata": {},
   "outputs": [
    {
     "data": {
      "text/plain": [
       "DeviceArray(0.6216266, dtype=float32)"
      ]
     },
     "execution_count": 49,
     "metadata": {},
     "output_type": "execute_result"
    }
   ],
   "source": [
    "grad(grad(grad(tanh_num)))(1.0)"
   ]
  },
  {
   "cell_type": "markdown",
   "id": "frank-given",
   "metadata": {},
   "source": [
    "Let's check this using symbolic mathematics:"
   ]
  },
  {
   "cell_type": "code",
   "execution_count": 50,
   "id": "metropolitan-austin",
   "metadata": {},
   "outputs": [
    {
     "data": {
      "text/latex": [
       "$\\displaystyle \\left(1 - \\tanh^{2}{\\left(\\theta \\right)}\\right) \\left(2 \\tanh^{2}{\\left(\\theta \\right)} - 2\\right) + 2 \\left(2 - 2 \\tanh^{2}{\\left(\\theta \\right)}\\right) \\tanh^{2}{\\left(\\theta \\right)}$"
      ],
      "text/plain": [
       "(1 - tanh(\\theta)**2)*(2*tanh(\\theta)**2 - 2) + 2*(2 - 2*tanh(\\theta)**2)*tanh(\\theta)**2"
      ]
     },
     "execution_count": 50,
     "metadata": {},
     "output_type": "execute_result"
    }
   ],
   "source": [
    "θ = Symbol(r'\\theta')\n",
    "triple_deriv = diff(diff(diff(tanh(θ), θ)))\n",
    "triple_deriv"
   ]
  },
  {
   "cell_type": "code",
   "execution_count": 51,
   "id": "least-reasoning",
   "metadata": {
    "tags": [
     "remove-cell"
    ]
   },
   "outputs": [
    {
     "data": {
      "text/plain": [
       "'0.622'"
      ]
     },
     "metadata": {
      "scrapbook": {
       "mime_prefix": "",
       "name": "symp_est"
      }
     },
     "output_type": "display_data"
    }
   ],
   "source": [
    "symp_est = triple_deriv.subs(θ, 1.)\n",
    "glue('symp_est', f'{symp_est:.3f}')"
   ]
  },
  {
   "cell_type": "markdown",
   "id": "located-ethics",
   "metadata": {},
   "source": [
    "If we evaluate this at $\\theta=1$, we get {glue:}`symp_est`. This was a simple example that had a (relatively) simple mathematical expression. But imagine if we had lots of branches (eg if, else statements), and/or a really complicated function: **jax**'s grad would still work. It's designed for really complex derivatives of the kind encountered in machine learning.\n",
    "\n",
    "### Just-in-time compilation\n",
    "\n",
    "The other nice feature of **jax** is the ability to do just-in-time (JIT) compilation. Because they do not compile their code into machine-code before running, high-level languages like Python and R are not as fast as the same code written in C++ or Fortran (the benefit is that it takes you less time to write the code in the first place). Much of the time, there are pre-composed functions that call C++ under the hood to do these things--but only for those operations that people have already taken the time to code up in a lower level language. JIT compilation offers a compromise: you can code more or less as you like in the high-level language but it will be compiled just-in-time to give you a speed-up!\n",
    "\n",
    "**jax** is certainly not the only Python package that does this, and if you're not doing anything like differentiating or propagating, **numba** is a more mature alternative. But here we'll see the time difference for JIT compilation on an otherwise slow operation: element wise multiplication and addition."
   ]
  },
  {
   "cell_type": "code",
   "execution_count": 52,
   "id": "outside-johnston",
   "metadata": {},
   "outputs": [],
   "source": [
    "from jax import jit\n",
    "\n",
    "def slow_f(x):\n",
    "  \"\"\"Slow, element-wise function\"\"\"\n",
    "  return x * x + x * 2.0\n",
    "\n",
    "x = jnp.ones((5000, 5000))\n",
    "fast_f = jit(slow_f)"
   ]
  },
  {
   "cell_type": "markdown",
   "id": "comic-fishing",
   "metadata": {},
   "source": [
    "Now let's see how fast the 'slow' version goes:"
   ]
  },
  {
   "cell_type": "code",
   "execution_count": 53,
   "id": "mighty-midwest",
   "metadata": {},
   "outputs": [
    {
     "name": "stdout",
     "output_type": "stream",
     "text": [
      "143 ms ± 53.3 ms per loop (mean ± std. dev. of 3 runs, 15 loops each)\n"
     ]
    }
   ],
   "source": [
    "%timeit -n15 -r3 slow_f(x)"
   ]
  },
  {
   "cell_type": "markdown",
   "id": "light-consequence",
   "metadata": {},
   "source": [
    "what about with the JIT compilation?"
   ]
  },
  {
   "cell_type": "code",
   "execution_count": 54,
   "id": "occupational-studio",
   "metadata": {},
   "outputs": [
    {
     "name": "stdout",
     "output_type": "stream",
     "text": [
      "24.8 ms ± 975 µs per loop (mean ± std. dev. of 3 runs, 15 loops each)\n"
     ]
    }
   ],
   "source": [
    "%timeit -n15 -r3 fast_f(x)"
   ]
  },
  {
   "cell_type": "markdown",
   "id": "perfect-palestine",
   "metadata": {},
   "source": [
    "This short introduction has barely scratched the surface of **jax** and what you can do with it. For more, see the [official documentation](https://jax.readthedocs.io/en/latest/).\n",
    "\n",
    "## Set theory\n",
    "\n",
    "Set theory is a surprisingly useful tool in research (and invaluable in spatial analysis). Here are some really useful bits of set theory inspired by examples in {cite}`sheppard2012introduction`.\n",
    "\n",
    "Sets are first class citizens in Python in the same way that lists are. We can define and view a set like this:"
   ]
  },
  {
   "cell_type": "code",
   "execution_count": 55,
   "id": "average-australian",
   "metadata": {},
   "outputs": [
    {
     "data": {
      "text/plain": [
       "{'Ada Lovelace', 'Adam Smith', 'Charles Babbage', 'Sadie Alexander'}"
      ]
     },
     "execution_count": 55,
     "metadata": {},
     "output_type": "execute_result"
    }
   ],
   "source": [
    "x = set(['Ada Lovelace', 'Sadie Alexander',\n",
    "         'Charles Babbage', 'Ada Lovelace',\n",
    "         'Adam Smith', 'Sadie Alexander'])\n",
    "x"
   ]
  },
  {
   "cell_type": "markdown",
   "id": "acquired-blowing",
   "metadata": {},
   "source": [
    "Notice that a couple of entries appeared twice in the list but only once in the set: that's because a set contains only unique elements. Let's define a second set in order to demonstrate some of the operations we can perform on sets."
   ]
  },
  {
   "cell_type": "code",
   "execution_count": 56,
   "id": "outer-square",
   "metadata": {},
   "outputs": [
    {
     "data": {
      "text/plain": [
       "{'Ada Lovelace',\n",
       " 'Adam Smith',\n",
       " 'Grace Hopper',\n",
       " 'Janet Yellen',\n",
       " 'Jean Bartik',\n",
       " 'Joan Robinson'}"
      ]
     },
     "execution_count": 56,
     "metadata": {},
     "output_type": "execute_result"
    }
   ],
   "source": [
    "y = set(['Grace Hopper', 'Jean Bartik',\n",
    "         'Janet Yellen', 'Joan Robinson',\n",
    "         'Adam Smith', 'Ada Lovelace'])\n",
    "y"
   ]
  },
  {
   "cell_type": "code",
   "execution_count": 57,
   "id": "partial-vault",
   "metadata": {
    "tags": [
     "remove-cell"
    ]
   },
   "outputs": [
    {
     "data": {
      "text/plain": [
       "{'Ada Lovelace', 'Adam Smith'}"
      ]
     },
     "metadata": {
      "scrapbook": {
       "mime_prefix": "",
       "name": "inters"
      }
     },
     "output_type": "display_data"
    },
    {
     "data": {
      "text/plain": [
       "{'Charles Babbage', 'Sadie Alexander'}"
      ]
     },
     "metadata": {
      "scrapbook": {
       "mime_prefix": "",
       "name": "differ"
      }
     },
     "output_type": "display_data"
    },
    {
     "data": {
      "text/plain": [
       "{'Ada Lovelace',\n",
       " 'Adam Smith',\n",
       " 'Charles Babbage',\n",
       " 'Grace Hopper',\n",
       " 'Janet Yellen',\n",
       " 'Jean Bartik',\n",
       " 'Joan Robinson',\n",
       " 'Sadie Alexander'}"
      ]
     },
     "metadata": {
      "scrapbook": {
       "mime_prefix": "",
       "name": "union"
      }
     },
     "output_type": "display_data"
    }
   ],
   "source": [
    "from myst_nb import glue\n",
    "inters = x.intersection(y)\n",
    "differ = x.difference(y)\n",
    "union = x.union(y)\n",
    "glue(\"inters\", inters)\n",
    "glue(\"differ\", differ)\n",
    "glue(\"union\", union)"
   ]
  },
  {
   "cell_type": "markdown",
   "id": "fluid-publication",
   "metadata": {},
   "source": [
    "Now we have two sets we can look at to demonstrate some of the basic functions you can call on the set object type. `x.intersection(y)` gives, in this example, {glue:}`inters`, `x.difference(y)` gives {glue:}`differ`, and `x.union(y)` gives {glue:}`union`.\n",
    "\n",
    "**numpy** also has functions that use set theory. `np.unique` returns only the unique entries of an input array or list:"
   ]
  },
  {
   "cell_type": "code",
   "execution_count": 58,
   "id": "right-sapphire",
   "metadata": {},
   "outputs": [
    {
     "data": {
      "text/plain": [
       "array(['27', '45', 'Alexander', 'Hopper', 'Lovelace'], dtype='<U9')"
      ]
     },
     "execution_count": 58,
     "metadata": {},
     "output_type": "execute_result"
    }
   ],
   "source": [
    "np.unique(['Lovelace', 'Hopper', 'Alexander', 'Hopper', 45, 27, 45])"
   ]
  },
  {
   "cell_type": "markdown",
   "id": "female-feature",
   "metadata": {},
   "source": [
    "We can also ask which of a second set is a repeat of a first:"
   ]
  },
  {
   "cell_type": "code",
   "execution_count": 59,
   "id": "proved-aggregate",
   "metadata": {},
   "outputs": [
    {
     "data": {
      "text/plain": [
       "array([False, False, False, False, False,  True,  True,  True,  True,\n",
       "        True])"
      ]
     },
     "execution_count": 59,
     "metadata": {},
     "output_type": "execute_result"
    }
   ],
   "source": [
    "x = np.arange(10)\n",
    "y = np.arange(5, 10)\n",
    "np.in1d(x, y)"
   ]
  },
  {
   "cell_type": "markdown",
   "id": "local-telling",
   "metadata": {},
   "source": [
    "And we have the numpy equivalents of intersection, `np.intersect1d(x, y)`, difference, `np.setdiff1d(x, y)`, and union, `np.union1d(x, y)`. Additionally, there is the exclusive-or (that I like to call 'xor'). This effectively returns the two arrays with their union removed:"
   ]
  },
  {
   "cell_type": "code",
   "execution_count": 60,
   "id": "unnecessary-bundle",
   "metadata": {},
   "outputs": [
    {
     "data": {
      "text/plain": [
       "array([1, 4, 5, 7])"
      ]
     },
     "execution_count": 60,
     "metadata": {},
     "output_type": "execute_result"
    }
   ],
   "source": [
    "a = np.array([1, 2, 3, 2, 4])\n",
    "b = np.array([2, 3, 5, 7, 5])\n",
    "np.setxor1d(a,b)"
   ]
  },
  {
   "cell_type": "markdown",
   "id": "hollywood-initial",
   "metadata": {},
   "source": [
    "## Review\n",
    "\n",
    "In this chapter, you should have:\n",
    "\n",
    "- [x] seen how to use symbolic algebra with code, including Lagrangrians and linear algebra;\n",
    "- [x] seen how to code numerical mathematics, including linear algebra and optimisation; and\n",
    "- [x] found out about using set theory via the `set` object type and set-oriented functions."
   ]
  }
 ],
 "metadata": {
  "jupytext": {
   "cell_metadata_filter": "-all",
   "formats": "md:myst",
   "text_representation": {
    "extension": ".md",
    "format_name": "myst",
    "format_version": "0.8",
    "jupytext_version": "1.5.0"
   }
  },
  "kernelspec": {
   "display_name": "Python 3.8.6 64-bit ('codeforecon': conda)",
   "language": "python",
   "name": "codeforecon"
  },
  "language_info": {
   "codemirror_mode": {
    "name": "ipython",
    "version": 3
   },
   "file_extension": ".py",
   "mimetype": "text/x-python",
   "name": "python",
   "nbconvert_exporter": "python",
   "pygments_lexer": "ipython3",
   "version": "3.8.6"
  },
  "source_map": [
   14,
   18,
   44,
   52,
   60,
   68,
   71,
   79,
   81,
   85,
   87,
   91,
   93,
   97,
   99,
   103,
   105,
   109,
   111,
   117,
   120,
   124,
   127,
   139,
   143,
   151,
   154,
   158,
   160,
   164,
   167,
   177,
   184,
   188,
   193,
   200,
   204,
   207,
   211,
   213,
   238,
   242,
   250,
   253,
   257,
   260,
   264,
   267,
   271,
   273,
   279,
   281,
   285,
   287,
   291,
   293,
   299,
   302,
   312,
   314,
   318,
   321,
   325,
   327,
   337,
   340,
   344,
   346,
   354,
   356,
   362,
   366,
   370,
   372,
   376,
   378,
   382,
   387,
   406,
   410,
   414,
   418,
   424,
   435,
   439,
   471,
   477,
   486,
   490,
   498,
   514,
   518,
   522,
   528,
   544,
   554,
   558,
   560,
   564,
   570,
   575,
   585,
   594,
   598,
   600,
   604,
   606,
   616,
   621,
   625,
   632,
   641,
   647,
   649,
   653,
   657,
   661,
   665
  ]
 },
 "nbformat": 4,
 "nbformat_minor": 5
}
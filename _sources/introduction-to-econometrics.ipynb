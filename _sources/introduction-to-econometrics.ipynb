{
 "cells": [
  {
   "cell_type": "markdown",
   "metadata": {},
   "source": [
    "# Intro to Econometrics with Code"
   ]
  },
  {
   "cell_type": "code",
   "execution_count": 1,
   "metadata": {
    "tags": [
     "remove-cell"
    ]
   },
   "outputs": [],
   "source": [
    "import numpy as np\n",
    "import pandas as pd\n",
    "import matplotlib.pyplot as plt\n",
    "\n",
    "# Set seed for reproducibility\n",
    "np.random.seed(10)\n",
    "# Set max rows displayed for readability\n",
    "pd.set_option('display.max_rows', 6)\n",
    "# Plot settings\n",
    "plot_style = {'xtick.labelsize': 20,\n",
    "                  'ytick.labelsize': 20,\n",
    "                  'font.size': 22,\n",
    "                  'figure.autolayout': True,\n",
    "                  'figure.figsize': (10, 5.5),\n",
    "                  'axes.titlesize': 22,\n",
    "                  'axes.labelsize': 20,\n",
    "                  'lines.linewidth': 4,\n",
    "                  'lines.markersize': 6,\n",
    "                  'legend.fontsize': 16,\n",
    "                  'mathtext.fontset': 'stix',\n",
    "                  'font.family': 'STIXGeneral',\n",
    "                  'legend.frameon': False}\n",
    "plt.style.use(plot_style)"
   ]
  },
  {
   "cell_type": "markdown",
   "metadata": {},
   "source": [
    "In this chapter, you'll learn about doing econometrics with code. It assumes some familiarity withe the basics of regression and jumps straight into what you need to know to run regressions.\n",
    "\n",
    "This chapter uses the **statsmodels** package, along with some others that we've already seen. If you're running this code, you may need to install these packages using, for example, `pip install packagename` on your computer's command line. (If you're not sure what a command line or terminal is, take a quick look at the basics of coding chapter.)\n",
    "\n",
    "## Basics\n",
    "\n",
    "There are usually two ways to run regressions in code: specifying a formula in text eg `reg('y ~ x', data=df)`, or specifying columns of a dataframe eg `reg(df['y'], df['x'])`. To add to the confusion, the conventions in economics and in machine learning are the opposite way around in terms of which comes first, the dependent (endogenous) variable or the independent (exogenous) variable. In machine learning, the basic regression might look more like `reg.fit(X, y)` where `X` is a matrix (usually a **numpy** array) and `y` is a vector (ditto). I state these things now to avoid confusion in a later chapter on machine learning! For much of this chapter, we'll assume that you're using a **pandas** dataframe rather than **numpy** arrays because that's a typical econometrics workflow.\n",
    "\n",
    "Let's start with the absolute basic statistics then: how do we find the mean, standard deviation, covariance matrix, and so on?\n",
    "\n",
    "`````{tabbed} Matplotlib\n",
    "\n",
    "````{panels}\n",
    "\n",
    "```{code-block} python\n",
    "df.mean()\n",
    "```\n",
    "---\n",
    "figure\n",
    "\n",
    "````\n",
    "\n",
    "`````\n",
    "\n",
    "````{tabbed} seaborn\n",
    "\n",
    "```{code-block} python\n",
    "df.mean()\n",
    "```\n",
    "some text\n",
    "````\n",
    "\n",
    "````{tabbed} plotnine\n",
    "\n",
    "```{panels}\n",
    "\n",
    "Content of the left panel.\n",
    "---\n",
    "right panel\n",
    "\n",
    "```\n",
    "\n",
    "````\n",
    "\n",
    "## Statistics, Probability Density, and Randomness\n",
    "\n",
    "SEE https://pingouin-stats.org/\n",
    "\n",
    "In this section, we'll do a lightning tour of the statistics functions you'll need to do econometrics with code. Most of the basics statistics and probability distribution functions you'll need are provided by the [**scipy**](https://docs.scipy.org/doc/scipy/reference/stats.html) library. For random numbers, we'll rely on [**numpy**](https://numpy.org/doc/stable/reference/random/index.html).\n",
    "\n",
    "If you haven't already used it, you may need to install these packages using `conda install packagename` or `pip install packagename` on the command line. However, both of these packages are *dependencies* for many, many other packages--so you might find you already have them installed (use `conda list` on the command line to check).\n",
    "\n",
    "As a reminder, there are two kinds of probability distributions: continuous (that take real-numbered values) and discrete (that can only take a set number of values).\n",
    "\n",
    "Let's begin with the most simple discrete distribution, a die (it's the singular of dice, okay?). To simulate a die we just need to pick a number from a list of the integers 1 to 6:"
   ]
  },
  {
   "cell_type": "code",
   "execution_count": 2,
   "metadata": {},
   "outputs": [
    {
     "data": {
      "text/plain": [
       "2"
      ]
     },
     "execution_count": 2,
     "metadata": {},
     "output_type": "execute_result"
    }
   ],
   "source": [
    "np.random.choice(np.arange(1,7))"
   ]
  },
  {
   "cell_type": "markdown",
   "metadata": {},
   "source": [
    "```{note}\n",
    "Remember that `arange` gives a list of integers of the form `np.arange(start, stop)` inclusive of `start` but exclusive of `stop`.\n",
    "```\n",
    "\n",
    "Note that we implicitly assume that each of these discrete values has the same probability. That's true if it's a fair die. Now imagine the die is loaded such that the 6 comes up more often than you'd expect if it was fair; we can simulate this too:"
   ]
  },
  {
   "cell_type": "code",
   "execution_count": 3,
   "metadata": {},
   "outputs": [
    {
     "data": {
      "text/plain": [
       "3"
      ]
     },
     "execution_count": 3,
     "metadata": {},
     "output_type": "execute_result"
    }
   ],
   "source": [
    "probabilities = [1/7, 1/7, 1/7, 1/7, 1/7, 2/7]\n",
    "np.random.choice(np.arange(1,7), p=probabilities)"
   ]
  },
  {
   "cell_type": "markdown",
   "metadata": {},
   "source": [
    "Of course, we can't see this effect too well one roll at a time. So let's do 1000 rolls of each die and see if we can spot the difference in the number of times each value comes up. Essentially what we're going to do is take the counts of each outcome and divide by the total number of rolls to get an estimate of the probability, i.e. $p_i = \\frac{\\text{count}_i}{\\text{total}}$ for each possible outcome $i \\in (1, 6)$."
   ]
  },
  {
   "cell_type": "code",
   "execution_count": 4,
   "metadata": {},
   "outputs": [
    {
     "data": {
      "image/png": "[encoded data removed]",
      "text/plain": [
       "<Figure size 720x396 with 1 Axes>"
      ]
     },
     "metadata": {
      "filenames": {
       "image/png": "/Users/aet/Documents/git_projects/coding-for-economists/_build/jupyter_execute/introduction-to-econometrics_7_0.png"
      },
      "needs_background": "light"
     },
     "output_type": "display_data"
    }
   ],
   "source": [
    "import matplotlib.pyplot as plt\n",
    "\n",
    "throws = 1000\n",
    "die_vals = np.arange(1, 7)\n",
    "fair_throws = np.random.choice(die_vals, size=throws)\n",
    "load_throws = np.random.choice(die_vals, size=throws, p=probabilities)\n",
    "\n",
    "_, counts_fair = np.unique(fair_throws, return_counts=True)\n",
    "_, counts_load = np.unique(load_throws, return_counts=True)\n",
    "\n",
    "\n",
    "fig, ax = plt.subplots()\n",
    "ax.scatter(die_vals,\n",
    "           counts_fair/throws,\n",
    "           color='b')\n",
    "ax.scatter(die_vals,\n",
    "           counts_load/throws,\n",
    "           color='r')\n",
    "ax.set_xlabel('Die value')\n",
    "ax.set_ylim(0., 3/7);"
   ]
  },
  {
   "cell_type": "markdown",
   "metadata": {},
   "source": [
    "There's already a pretty clear wedge between the chances of a six between the two dice. The `np.unique` function counts how many times the different unique values occur. It usually also returns *what* those unique values are--but we don't need this (we know what values a die has!), so we just use `_` to say we don't care abou the other variable that comes back from calling `np.unique`.\n",
    "\n",
    "Another way to visualise this is to look at the cumulative distribution function, or cdf."
   ]
  },
  {
   "cell_type": "code",
   "execution_count": 5,
   "metadata": {},
   "outputs": [
    {
     "data": {
      "image/png": "[encoded data removed]",
      "text/plain": [
       "<Figure size 720x396 with 1 Axes>"
      ]
     },
     "metadata": {
      "filenames": {
       "image/png": "/Users/aet/Documents/git_projects/coding-for-economists/_build/jupyter_execute/introduction-to-econometrics_9_0.png"
      },
      "needs_background": "light"
     },
     "output_type": "display_data"
    }
   ],
   "source": [
    "fig, ax = plt.subplots()\n",
    "ax.plot(die_vals,\n",
    "        np.cumsum(counts_fair/throws),\n",
    "        color='b',\n",
    "        label='Fair')\n",
    "ax.plot(die_vals,\n",
    "        np.cumsum(counts_load/throws),\n",
    "        color='r',\n",
    "        label='Loaded')\n",
    "ax.legend(frameon=False)\n",
    "ax.set_xlabel('Die value')\n",
    "ax.set_ylim(0., 1.);"
   ]
  },
  {
   "cell_type": "markdown",
   "metadata": {},
   "source": [
    "On the cumulative plot, we can see that the fair die is a straight line,which indicates that each die value contributes equally, while the loaded die has a kink in it because going from 5 to 6 contributes relative more to the cumulative probability (which sums to unity over all possible outcomes) than does going from any other successive pair."
   ]
  }
 ],
 "metadata": {
  "jupytext": {
   "cell_metadata_filter": "-all",
   "formats": "md:myst",
   "text_representation": {
    "extension": ".md",
    "format_name": "myst",
    "format_version": "0.8",
    "jupytext_version": "1.5.0"
   }
  },
  "kernelspec": {
   "display_name": "Python 3.8.6 64-bit ('codeforecon': conda)",
   "language": "python",
   "name": "codeforecon"
  },
  "language_info": {
   "codemirror_mode": {
    "name": "ipython",
    "version": 3
   },
   "file_extension": ".py",
   "mimetype": "text/x-python",
   "name": "python",
   "nbconvert_exporter": "python",
   "pygments_lexer": "ipython3",
   "version": "3.8.6"
  },
  "source_map": [
   14,
   18,
   44,
   102,
   104,
   112,
   115,
   119,
   140,
   146,
   159
  ]
 },
 "nbformat": 4,
 "nbformat_minor": 4
}
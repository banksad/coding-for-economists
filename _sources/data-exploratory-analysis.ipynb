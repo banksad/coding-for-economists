{
 "metadata": {
  "language_info": {
   "codemirror_mode": {
    "name": "ipython",
    "version": 3
   },
   "file_extension": ".py",
   "mimetype": "text/x-python",
   "name": "python",
   "nbconvert_exporter": "python",
   "pygments_lexer": "ipython3",
   "version": "3.8.6"
  },
  "orig_nbformat": 2,
  "kernelspec": {
   "name": "codeforecon",
   "display_name": "codeforecon",
   "language": "python"
  }
 },
 "nbformat": 4,
 "nbformat_minor": 2,
 "cells": [
  {
   "source": [
    "# Exploratory Data Analysis\n",
    "\n",
    "Exploratory data analysis (EDA) involves taking a first look at a dataset and summarising its salient characteristics using tables and graphics. It is (or should be) the stage before testing hypotheses and can be useful in informing hypotheses. In this chapter, we'll look at a few options for EDA using code.\n",
    "\n",
    "To show how to do EDA using code, we will need a dataset to explore. We'll use the Grinell housing dataset, which covers houses sold between 2005 and 2015 in Grinnell, Iowa. It was assembled by a local estate agent, Matt Karjalahti.\n",
    "\n",
    "First, let's import a couple of essential packages:"
   ],
   "cell_type": "markdown",
   "metadata": {}
  },
  {
   "cell_type": "code",
   "execution_count": null,
   "metadata": {},
   "outputs": [],
   "source": [
    "import pandas as pd\n",
    "import matplotlib.pyplot as plt\n",
    "import numpy as np\n",
    "from itertools import islice\n",
    "\n",
    "# Plot settings\n",
    "plt.style.use(\"https://github.com/aeturrell/coding-for-economists/raw/main/plot_style.txt\")"
   ]
  },
  {
   "source": [
    "## Preliminaries: extracting, typing, and initial cleaning\n",
    "\n",
    "Let's grab some data to do exploratory data analysis on."
   ],
   "cell_type": "markdown",
   "metadata": {}
  },
  {
   "cell_type": "code",
   "execution_count": null,
   "metadata": {},
   "outputs": [],
   "source": [
    "df = pd.read_csv(\"https://vincentarelbundock.github.io/Rdatasets/csv/Stat2Data/GrinnellHouses.csv\", index_col=0)\n",
    "df.head()"
   ]
  },
  {
   "source": [
    "There are some things we should do even before an exploratory data analysis; we should make sure we've cast the columns to the right types and converted any that need converting. Even a quick look at the data provided by `.head()` shows that the `Date` column is in a weird format, the number of `Baths` is a floating point number rather than an integer (is it possible to have half a bathroom? Maybe, but it doesn't sound very private), and there are some NaNs in there too. It's not clear what the fractional values of bathrooms mean (including from the documentation) so we'll just have to take care with that variable.\n",
    "\n",
    "Fortunately, there is guidance attached to the dataset as to what the Date column really means: it's just a counter of days that encodes the date of sale that begins with 1st Jan 2005=16436. The documents also tell us that the final year is 2015. We'd really like to have a more usable datetime column than this so let's sort this out first. Ideally, we'd like to *map* the `Date` column into a new `datetime` column that turns 16436 into 1st Jan 2005, 16437 into 2nd Jan 2005, and so on, until we have a mapping for every date between the first date in the dataset and the last. \n",
    "\n",
    "Our solution to create this mapping will involve a couple of steps. First, we'll use `pd.date_range` to get all of the dates from 1st Jan 2005 for a number of periods. We'll determine the number of periods from the maximum value of the `Date` column (which is the last date represented) minus the start counter, which we know is 16436. To create a mapping from the coded numbers to the dates, we'll use the `zip` function, which pairs two sets of numbers together, and the `dict` function so that we get key, value pairs that we can conveniently feed into a dataframe.\n",
    "\n",
    "Here's the first step, creating a dictionary mapping:"
   ],
   "cell_type": "markdown",
   "metadata": {}
  },
  {
   "cell_type": "code",
   "execution_count": null,
   "metadata": {},
   "outputs": [],
   "source": [
    "start_code = 16436\n",
    "end_code = df['Date'].max() + 1 # +1 because of how ranges are computed; we want to *include* the last date\n",
    "\n",
    "datetime_dict = dict(zip(range(start_code, end_code),\n",
    "                               pd.date_range(start='2005/01/01', periods=end_code-start_code)))\n",
    "\n",
    "# Look at first few dict entries:\n",
    "list(islice(datetime_dict.items(), 5))"
   ]
  },
  {
   "source": [
    "Alright, now we want to use this new datetime format. We use an `apply` at the row level:"
   ],
   "cell_type": "markdown",
   "metadata": {}
  },
  {
   "cell_type": "code",
   "execution_count": null,
   "metadata": {},
   "outputs": [],
   "source": [
    "df['datetime'] = df['Date'].apply(lambda x: datetime_dict[x])\n",
    "# Check the biggest rows by datetime\n",
    "df.nlargest(5, columns=['datetime'])"
   ]
  },
  {
   "source": [
    "An extra column containing datetime has been added and, looking at the max rows, we can see that it does indeed run all the way to 2015 as expected from the documentation of the dataset.\n",
    "\n",
    "Okay, now we want to sort out the data type isses we saw earlier. But let's just check they're as bad as we think using `df.info()`"
   ],
   "cell_type": "markdown",
   "metadata": {}
  },
  {
   "cell_type": "code",
   "execution_count": null,
   "metadata": {},
   "outputs": [],
   "source": [
    "df.info()"
   ]
  },
  {
   "source": [
    "**pandas** read most of them in sensibly, but not *all* of them, so let's adjust the ones we need to:"
   ],
   "cell_type": "markdown",
   "metadata": {}
  },
  {
   "cell_type": "code",
   "execution_count": null,
   "metadata": {},
   "outputs": [],
   "source": [
    "df = df.assign(Address = df['Address'].astype('string'),\n",
    "               Bedrooms = df['Bedrooms'].astype('category'),\n",
    "               OrigPrice=df['OrigPrice'].astype(float),\n",
    "               ListPrice=df['ListPrice'].astype(float),\n",
    "               SalePrice=df['SalePrice'].astype(float))\n",
    "df.info()"
   ]
  },
  {
   "source": [
    "Having to do some initial variable type cleaning is a *normal* and *unavoidable* part of data analysis, especially when reading in from a format like CSV (which does not preserve data type but has great interoperability across systems). It's important and what we've seen here is a typical pattern.\n",
    "\n",
    "There's just one more step before starting the EDA proper. If you haven't reached the Chapter on best practice, which talks about naming conventions, you won't know this yet but the usual naming convention for variables and columns in Python is so-called snake case (appropriately enough). An example of a word *not* in snake case would be 'ThisIsAColName'; actually that's in Camel Case. Rendered in snake case, it would be 'this_is_a_col_name', which is longer but slightly easier to read. So we should really change the column names to be in snake case. Fortunately, the [**dataprep**](https://docs.dataprep.ai/index.html) package has us covered here; it provides methods to translate between pretty much every naming convention that exists. Let's change our columns to snake case, which is the default setting of `clean_headers`.\n",
    "\n"
   ],
   "cell_type": "markdown",
   "metadata": {}
  },
  {
   "source": [
    "TODO: add this example when **dataprep** updated\n",
    "\n",
    "```python\n",
    "from dataprep.clean import clean_headers\n",
    "\n",
    "df = clean_headers(df)\n",
    "```"
   ],
   "cell_type": "markdown",
   "metadata": {}
  },
  {
   "source": [
    "Now we can start the exploratory data analysis!"
   ],
   "cell_type": "markdown",
   "metadata": {}
  },
  {
   "source": [
    "## EDA using **pandas** built-in methods\n",
    "\n",
    "**pandas** has some great options for built-in EDA; in fact we've already seen one of them, `df.info()` which, as well as reporting datatypes and memory usage, also tells us how many observations in each column are 'truthy' rather than 'falsy', ie how many have non-null values.\n",
    "\n",
    "### Exploratory tables and descriptive statistics\n",
    "\n",
    "A small step beyond `df.info` to get tables is to use `df.describe()` which, if you have mixed datatypes that include floats, will report some basic summary statistics:"
   ],
   "cell_type": "markdown",
   "metadata": {}
  },
  {
   "cell_type": "code",
   "execution_count": null,
   "metadata": {},
   "outputs": [],
   "source": [
    "df.describe()"
   ]
  },
  {
   "source": [
    "Although helpful, that sure is hard to read! We can improve this by using the `round()` method too:\n"
   ],
   "cell_type": "markdown",
   "metadata": {}
  },
  {
   "cell_type": "code",
   "execution_count": null,
   "metadata": {},
   "outputs": [],
   "source": [
    "sum_table = df.describe().round(1)\n",
    "sum_table"
   ]
  },
  {
   "source": [
    "Now, although this is very basic, let's say you wanted to include it as a table of summary statistics in a paper. This is just a dataframe so you can export it just like you can *any* pandas dataframe. This includes options like `.to_excel`. For inclusion in a paper or report, you're most likely to want to report it as text:"
   ],
   "cell_type": "markdown",
   "metadata": {}
  },
  {
   "cell_type": "code",
   "execution_count": null,
   "metadata": {},
   "outputs": [],
   "source": [
    "print(sum_table.to_string())"
   ]
  },
  {
   "source": [
    "as Markdown:\n"
   ],
   "cell_type": "markdown",
   "metadata": {}
  },
  {
   "cell_type": "code",
   "execution_count": null,
   "metadata": {},
   "outputs": [],
   "source": [
    "print(sum_table.to_markdown())"
   ]
  },
  {
   "source": [
    "as HTML:"
   ],
   "cell_type": "markdown",
   "metadata": {}
  },
  {
   "cell_type": "code",
   "execution_count": null,
   "metadata": {},
   "outputs": [],
   "source": [
    "print(sum_table.head(3).to_html())"
   ]
  },
  {
   "source": [
    "or as latex:"
   ],
   "cell_type": "markdown",
   "metadata": {}
  },
  {
   "cell_type": "code",
   "execution_count": null,
   "metadata": {},
   "outputs": [],
   "source": [
    "print(sum_table.to_latex(caption='Summary stats from EDA'))"
   ]
  },
  {
   "source": [
    "And remember, with all of these, you can write them to file using the following structure:\n",
    "\n",
    "```python\n",
    "\n",
    "open('sum_stats_table.tex', 'w').write(sum_table.to_latex(caption='Summary stats from EDA'))\n",
    "\n",
    "```\n",
    "\n",
    "Of course, the stats provided in this pre-built table are not very customised. So what do we do to get the table that we actually want? Well, the answer is to draw on the contents of the previous data chapters, particularly the introduction to data analysis. Groupbys, merges, aggregations: use all of them to produce the EDA table that you want.\n",
    "\n",
    "If you're exploring data, you might also want to be able to read everything clearly and see any deviations from what you'd expect quickly. **pandas** has some built-in functionality that styles dataframes to help you. These styles persist when you export the dataframe to, say, Excel, too.\n",
    "\n",
    "Here's an example that highlights some ways of styling dataframes, making use of several features such as: changing the units (`lambda` function), unstacking into a wider format (`unstack`), fill NaNs with unobtrusive strings (`.fillna('-')`), removing numbers after the decimal place (`.style.set_precision(0)`), and adding a caption (`.style.set_caption`)."
   ],
   "cell_type": "markdown",
   "metadata": {}
  },
  {
   "cell_type": "code",
   "execution_count": null,
   "metadata": {},
   "outputs": [],
   "source": [
    "(df.groupby(['YearSold', 'Bedrooms'])\n",
    "   .mean()['SalePrice']\n",
    "   .apply(lambda x: x/1e3)\n",
    "   .unstack()\n",
    "   .fillna('-')\n",
    "   .style\n",
    "   .set_precision(0)\n",
    "   .set_caption('Sale price (thousands)')\n",
    ")"
   ]
  },
  {
   "source": [
    "Although a neater one than we've seen, this is still a drab table of numbers. The eye is not immediately drawn to it!\n",
    "\n",
    "To remedy that, let's take a look at another styling technique: the use of colour. Let's say we wanted to make a table that showed a cross-tabulation between year and number of bathrooms. Naturally, we'll use `pd.crosstab` but we'll ask that the values that appear in the table (counts) be lit up with a heatmap:"
   ],
   "cell_type": "markdown",
   "metadata": {}
  },
  {
   "cell_type": "code",
   "execution_count": null,
   "metadata": {},
   "outputs": [],
   "source": [
    "pd.crosstab(df['Bedrooms'], df['YearSold']).style.background_gradient(cmap='plasma')"
   ]
  },
  {
   "source": [
    "Here are a couple of other styling tips for dataframes.\n",
    "\n",
    "First, use bars to show ordering:"
   ],
   "cell_type": "markdown",
   "metadata": {}
  },
  {
   "cell_type": "code",
   "execution_count": null,
   "metadata": {},
   "outputs": [],
   "source": [
    "(df\n",
    " .iloc[:10, -6:-1]\n",
    " .style\n",
    " .set_precision(0)\n",
    " .bar(subset=['CostPerSqFt', 'SalePrice'], color='#d65f5f')\n",
    ")"
   ]
  },
  {
   "source": [
    "Second, use format to add informative suffixes and round numbers appropriately:"
   ],
   "cell_type": "markdown",
   "metadata": {}
  },
  {
   "cell_type": "code",
   "execution_count": null,
   "metadata": {},
   "outputs": [],
   "source": [
    "df.groupby(['Bedrooms'])[['SPLPPct']].mean().style.format(\"{:.0f}%\")"
   ]
  },
  {
   "source": [
    "Third, use `.hightlight_max`, and similar commands, to show important entries:"
   ],
   "cell_type": "markdown",
   "metadata": {}
  },
  {
   "cell_type": "code",
   "execution_count": null,
   "metadata": {},
   "outputs": [],
   "source": [
    "df.iloc[:10, -6:-1].style.highlight_max().format(\"{:.0f}\")"
   ]
  },
  {
   "source": [
    "You can find a full set of styling commands [here](https://pandas.pydata.org/pandas-docs/stable/user_guide/style.html#Styling)."
   ],
   "cell_type": "markdown",
   "metadata": {}
  },
  {
   "source": [
    "### Exploratory plotting\n",
    "\n",
    "**pandas** has some built-in plotting options to help you look at data quickly. These can be accessed via `.plot.*` or `.plot()`, depending on the context. Let's make a quick `.plot()` of the mean quarterly nominal Sale Price over time (with extra options passed via keyword arguments):"
   ],
   "cell_type": "markdown",
   "metadata": {}
  },
  {
   "cell_type": "code",
   "execution_count": null,
   "metadata": {},
   "outputs": [],
   "source": [
    "(df\n",
    " .set_index('datetime')\n",
    " .groupby(pd.Grouper(freq='3M'))['SalePrice'].mean()\n",
    " .apply(lambda x: x/1e3)\n",
    " .plot(title='House sales in Grinnell, Iowa', xlabel='', ylabel='Mean nominal sale price (000s USD)')\n",
    ");"
   ]
  },
  {
   "source": [
    "Again, if you can get the data in the right shape, you can plot it. The same function works with multiple lines\n"
   ],
   "cell_type": "markdown",
   "metadata": {}
  },
  {
   "cell_type": "code",
   "execution_count": null,
   "metadata": {},
   "outputs": [],
   "source": [
    "(df\n",
    " .set_index('datetime')\n",
    " .groupby(pd.Grouper(freq='3M'))[['OrigPrice', 'ListPrice', 'SalePrice']].mean()\n",
    " .apply(lambda x: x/1e3)\n",
    " .plot(style=['-', ':', '-.'])\n",
    ");"
   ]
  },
  {
   "source": [
    "Now let's see some of the other quick `.plot.*` options.\n",
    "\n",
    "Here's a KDE plot. Just to show what's possible, we'll use the `df.columnname` syntax, an alternative to `df['columnname']`, and setting limits via keyword arguments."
   ],
   "cell_type": "markdown",
   "metadata": {}
  },
  {
   "cell_type": "code",
   "execution_count": null,
   "metadata": {},
   "outputs": [],
   "source": [
    "df.SquareFeet.plot.kde(ylim=(0, None), xlim=(0, None));"
   ]
  },
  {
   "source": [
    "A bar chart (use `barh` for horizontal orientation; `rot` sets rotation of labels):"
   ],
   "cell_type": "markdown",
   "metadata": {}
  },
  {
   "cell_type": "code",
   "execution_count": null,
   "metadata": {},
   "outputs": [],
   "source": [
    "df.value_counts('Bedrooms').sort_index().plot.bar(title='Counts', rot=0);"
   ]
  },
  {
   "source": [
    "This chart shows why EDA is so important: if we are modelling residential housing, and we find that there are observations that don't have *any* bedrooms, perhaps they should be excluded from the downstream analysis.\n",
    "\n",
    "\n",
    "This next one, using `.plot.hist`, provides another instructive example of how EDA can reveal interesting issues with datasets. First, there are many more houses built in 1900 than seem plausible and, checking the documentation for the dataset, it does say that when a construction date is not known, it is entered as 1900-which explains what's going on here. Second, some of the construction years are in the future! Is this plausible? It could be. Some houses are sold before the construction of an estate is completed; this could be the case here."
   ],
   "cell_type": "markdown",
   "metadata": {}
  },
  {
   "cell_type": "code",
   "execution_count": null,
   "metadata": {},
   "outputs": [],
   "source": [
    "df['YearBuilt'].plot.hist(bins=30, title='Year of construction');"
   ]
  },
  {
   "source": [
    "Boxplot:"
   ],
   "cell_type": "markdown",
   "metadata": {}
  },
  {
   "source": [
    "(df\n",
    " [['OrigPrice', 'ListPrice', 'SalePrice']]\n",
    " .plot\n",
    " .box()\n",
    ");"
   ],
   "cell_type": "code",
   "metadata": {},
   "execution_count": null,
   "outputs": []
  },
  {
   "cell_type": "code",
   "execution_count": null,
   "metadata": {},
   "outputs": [],
   "source": [
    "df['class_ln_price'] = pd.cut(np.log(df['OrigPrice']), bins=4, precision=0)\n",
    "\n",
    "(df\n",
    " .set_index('datetime')\n",
    " .groupby([pd.Grouper(freq='A'), 'class_ln_price'])['class_ln_price']\n",
    " .count()\n",
    " .unstack()\n",
    " .plot.area(ylabel='Count'));"
   ]
  },
  {
   "source": [
    "Scatter plot:"
   ],
   "cell_type": "markdown",
   "metadata": {}
  },
  {
   "cell_type": "code",
   "execution_count": null,
   "metadata": {},
   "outputs": [],
   "source": [
    "df.plot.scatter(x='SquareFeet', y='SalePrice', alpha=0.7, ylim=(0, None));"
   ]
  },
  {
   "source": [
    "Hexbin:"
   ],
   "cell_type": "markdown",
   "metadata": {}
  },
  {
   "cell_type": "code",
   "execution_count": null,
   "metadata": {},
   "outputs": [],
   "source": [
    "df.plot.hexbin(y='ListPrice', x='SPLPPct', gridsize=10,\n",
    "               cmap='inferno_r', C='CostPerSqFt', sharex=False);"
   ]
  },
  {
   "source": [
    "## The **pandas-profiling** package\n",
    "\n",
    "The EDA we did using the built-in **pandas** functions was a bit limited and user-input heavy. The [**pandas-profiling**](https://pandas-profiling.github.io/pandas-profiling/docs/master/rtd/) library aims to automate the legwork of EDA for you. It generates 'profile' reports from a pandas DataFrame. For each column, many statistics are computed and then relayed in an interactive HTML report.\n",
    "\n",
    "Let's generate a report on our dataset using the `minimal=True` setting (the default settings produce a lot of computationally expensive extras):"
   ],
   "cell_type": "markdown",
   "metadata": {}
  },
  {
   "cell_type": "code",
   "execution_count": null,
   "metadata": {},
   "outputs": [],
   "source": [
    "from pandas_profiling import ProfileReport\n",
    "\n",
    "\n",
    "profile = ProfileReport(df,\n",
    "                        minimal=True,\n",
    "                        title=\"Profiling Report: Grinnell House Sales\")\n",
    "profile.to_notebook_iframe()"
   ]
  },
  {
   "source": [
    "This is a full on report about everything in our dataset! We can see, for instance, that we have 17 numerical variables, 0 boolean, and 4 categorical (which includes string), and 1 datetime. The overview also tells us the number of observations, that we have 1.2% of values missing across all columns, and we have zero duplicates.\n",
    "\n",
    "The warnings page shows where **pandas-profiling** really shines. It flags *potential* issues with the data that should be taken into account in any subsequent analysis. For example, although not relevant here, the report will say if there are very unbalanced classes in a low cardinality categorical variable.\n",
    "\n",
    "Let's explore a couple of the warnings that have been raised. `Address` has high cardinality; but that's okay, we expect most addresses to be different because the turn-over of houses is not that frequent. We also see that there are a lot of missing values for `LotSize`.\n",
    "\n",
    "Now let's dig down into a specific variable, `SalePrice`. You can view more about it using the 'Toggle details' button. We get four extra pages of detail about this variable, in addition to the headline statistics: a comprehensive page of descriptive statistics, a page with a histogram of the variable, a page with a table of common values, and a page of extreme values."
   ],
   "cell_type": "markdown",
   "metadata": {}
  },
  {
   "source": [
    "## The **dataprep** package\n",
    "\n",
    "The [**dataprep**](https://dataprep.ai/) package offers very similar functionality to **pandas-profiling**; it produces an in-depth report on the input data. There isn't much difference between them in general apart from it seems like **dataprep** has slightly better support for string column types (check out the details of `Address` below) and is a little bit richer on visualisations (it has interactive plots that you can change the axes of-look at the interactions page below).\n",
    "\n",
    "Do note, however, that some column types can create an error-which is why we'll pass in all but the last column of our dataframe from the previous set of examples. In this case, having a bin-category column seems to be an issue."
   ],
   "cell_type": "markdown",
   "metadata": {}
  },
  {
   "cell_type": "code",
   "execution_count": null,
   "metadata": {},
   "outputs": [],
   "source": [
    "from dataprep.eda import create_report\n",
    "\n",
    "report = create_report(df.iloc[:, :-1])"
   ]
  },
  {
   "cell_type": "code",
   "execution_count": null,
   "metadata": {},
   "outputs": [],
   "source": [
    "from IPython.core.display import display\n",
    "\n",
    "\n",
    "display(report)"
   ]
  },
  {
   "source": [
    "## Review\n",
    "\n",
    "That's it for this very brief tour of exploratory data analysis with code. You should know now how to do simple analysis of **pandas** dataframes using techniques from other chapters to create summary statistics, using styling of tables of summary statistics, and using the quick visualisation options that are built-in to **pandas**. You should also know where to go for more in-depth, heavy duty exploratory data analysis reports, namely **pandas-profiling** and **dataprep**."
   ],
   "cell_type": "markdown",
   "metadata": {}
  }
 ]
}
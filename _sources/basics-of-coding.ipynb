{
 "cells": [
  {
   "cell_type": "markdown",
   "metadata": {},
   "source": [
    "# Basics of coding\n",
    "\n",
    "## Variables and types\n",
    "\n",
    "Creating a variable in Python is achieved via an assignment. It's simpler than it sounds:"
   ]
  },
  {
   "cell_type": "code",
   "execution_count": 1,
   "metadata": {},
   "outputs": [
    {
     "name": "stdout",
     "output_type": "stream",
     "text": [
      "10\n"
     ]
    }
   ],
   "source": [
    "a = 10\n",
    "print(a)"
   ]
  },
  {
   "cell_type": "markdown",
   "metadata": {},
   "source": [
    "This creates a variable `a`, assigns the value 10 to it, and prints it. Sometimes you will hear variables referred to as *objects*. Everything that is not a literal value, such as `10`, is an object. In the above example, `a` is an object that has been assigned the value `10`.\n",
    "\n",
    "How about this:"
   ]
  },
  {
   "cell_type": "code",
   "execution_count": 2,
   "metadata": {},
   "outputs": [
    {
     "name": "stdout",
     "output_type": "stream",
     "text": [
      "This is a string\n"
     ]
    }
   ],
   "source": [
    "b = 'This is a string'\n",
    "print(b)"
   ]
  },
  {
   "cell_type": "markdown",
   "metadata": {},
   "source": [
    "It's the same thing but with a different **type** of data, a string instead of an integer. Python is *dynamically typed*, which you means it will guess what type of variable you're creating as you create it. This has pros and cons, with the main pro being that it makes for more concise code.\n",
    "\n",
    "```{admonition} Important\n",
    "Everything is an object, and every object has a type.\n",
    "```\n",
    "\n",
    "The most basic built-in data types that you'll need to know about are: integers `10`, floats `1.23`, strings `like this`, booleans `True`, and nothing `None`. Python also has a built-in types called a list `[10, 15, 20]` that can contain anything, even *different* types. So"
   ]
  },
  {
   "cell_type": "code",
   "execution_count": 3,
   "metadata": {},
   "outputs": [
    {
     "name": "stdout",
     "output_type": "stream",
     "text": [
      "[10, 1.23, 'like this', True, None]\n"
     ]
    }
   ],
   "source": [
    "list_example = [10, 1.23, 'like this', True, None]\n",
    "print(list_example)"
   ]
  },
  {
   "cell_type": "markdown",
   "metadata": {},
   "source": [
    "is completely valid code. As well as the built-in types, packages can define their own custom types.\n",
    "\n",
    "If you ever want to check the type of a Python variable, you can call the `type` function on it like so:"
   ]
  },
  {
   "cell_type": "code",
   "execution_count": 4,
   "metadata": {},
   "outputs": [
    {
     "data": {
      "text/plain": [
       "list"
      ]
     },
     "execution_count": 4,
     "metadata": {},
     "output_type": "execute_result"
    }
   ],
   "source": [
    "type(list_example)"
   ]
  },
  {
   "cell_type": "markdown",
   "metadata": {},
   "source": [
    "## Lists and slicing\n",
    "\n",
    "Lists are a really useful way to work with lots of data at once. They're defined with square brackets, with entries separated by commas. You can also construct them by appending entries:"
   ]
  },
  {
   "cell_type": "code",
   "execution_count": 5,
   "metadata": {},
   "outputs": [
    {
     "name": "stdout",
     "output_type": "stream",
     "text": [
      "[10, 1.23, 'like this', True, None, 'one more entry']\n"
     ]
    }
   ],
   "source": [
    "list_example.append('one more entry')\n",
    "print(list_example)"
   ]
  },
  {
   "cell_type": "markdown",
   "metadata": {},
   "source": [
    "And you can access earlier entries using an index, which begins at 0 and ends at one less than the length of the list (this is the convention in many programming languages). For instance, to print specific entries at the start, using `0`, and end, using `-1`:"
   ]
  },
  {
   "cell_type": "code",
   "execution_count": 6,
   "metadata": {},
   "outputs": [
    {
     "name": "stdout",
     "output_type": "stream",
     "text": [
      "10\n",
      "one more entry\n"
     ]
    }
   ],
   "source": [
    "print(list_example[0])\n",
    "print(list_example[-1])"
   ]
  },
  {
   "cell_type": "markdown",
   "metadata": {},
   "source": [
    "As well as accessing positions in lists using indexing, you can use *slices* on lists. This uses the colon character, `:`, to stand in for 'from the beginning' or 'until the end' (when only appearing once). For instance, to print just the last two entries, we would use the index `-2:` to mean from the second-to-last onwards. If we just want the first and last three entries to be printed, we can use:"
   ]
  },
  {
   "cell_type": "code",
   "execution_count": 7,
   "metadata": {},
   "outputs": [
    {
     "name": "stdout",
     "output_type": "stream",
     "text": [
      "[10, 1.23, 'like this']\n",
      "[True, None, 'one more entry']\n"
     ]
    }
   ],
   "source": [
    "print(list_example[:3])\n",
    "print(list_example[-3:])"
   ]
  },
  {
   "cell_type": "markdown",
   "metadata": {},
   "source": [
    "Slicing can be even more elaborate than that because we can jump entries using a second colon. Here's a full example that begins at the second entry (remember the index starts at 0), runs up until the second-to-last entry (exclusive), and jumps every other entry inbetween (range just produces a list of numbers):"
   ]
  },
  {
   "cell_type": "code",
   "execution_count": 8,
   "metadata": {},
   "outputs": [
    {
     "name": "stdout",
     "output_type": "stream",
     "text": [
      "[2, 4, 6, 8]\n"
     ]
    }
   ],
   "source": [
    "list_of_numbers = list(range(1, 11))\n",
    "start = 1\n",
    "stop = -1\n",
    "step = 2\n",
    "print(list_of_numbers[start:stop:step])"
   ]
  },
  {
   "cell_type": "markdown",
   "metadata": {},
   "source": [
    "A handy trick is that you can reverse a list entirely using this:"
   ]
  },
  {
   "cell_type": "code",
   "execution_count": 9,
   "metadata": {},
   "outputs": [
    {
     "name": "stdout",
     "output_type": "stream",
     "text": [
      "[10, 9, 8, 7, 6, 5, 4, 3, 2, 1]\n"
     ]
    }
   ],
   "source": [
    "print(list_of_numbers[::-1])"
   ]
  },
  {
   "cell_type": "markdown",
   "metadata": {},
   "source": [
    "## Operators\n",
    "\n",
    "All of the basic operators you see in mathematics are available to use: `+` for addition, `-` for subtraction, `*` for multiplication, `**` for powers, `/` for division, and `%` for modulo. These work as you'd expect on numbers. But these operators are sometimes defined for other built-in data types too. For instance, we can 'sum' strings (which really concatenates them):"
   ]
  },
  {
   "cell_type": "code",
   "execution_count": 10,
   "metadata": {},
   "outputs": [
    {
     "name": "stdout",
     "output_type": "stream",
     "text": [
      "This is an example of string concatenation\n"
     ]
    }
   ],
   "source": [
    "string_one = 'This is an example '\n",
    "string_two = 'of string concatenation'\n",
    "string_full = string_one + string_two\n",
    "print(string_full)"
   ]
  },
  {
   "cell_type": "markdown",
   "metadata": {},
   "source": [
    "It works for lists too:"
   ]
  },
  {
   "cell_type": "code",
   "execution_count": 11,
   "metadata": {},
   "outputs": [
    {
     "name": "stdout",
     "output_type": "stream",
     "text": [
      "['apples', 'oranges', 'pears', 'satsumas']\n"
     ]
    }
   ],
   "source": [
    "list_one = ['apples', 'oranges']\n",
    "list_two = ['pears', 'satsumas']\n",
    "list_full = list_one + list_two\n",
    "print(list_full)"
   ]
  },
  {
   "cell_type": "markdown",
   "metadata": {},
   "source": [
    "Perhaps more surprisingly, you can multiply strings!"
   ]
  },
  {
   "cell_type": "code",
   "execution_count": 12,
   "metadata": {},
   "outputs": [
    {
     "name": "stdout",
     "output_type": "stream",
     "text": [
      "apples, apples, apples, \n"
     ]
    }
   ],
   "source": [
    "string = 'apples, '\n",
    "print(string*3)"
   ]
  },
  {
   "cell_type": "markdown",
   "metadata": {},
   "source": [
    "## Strings\n",
    "\n",
    "In some ways, strings are treated a bit like lists, meaning you can access the individual characters via slicing and indexing. For example:"
   ]
  },
  {
   "cell_type": "code",
   "execution_count": 13,
   "metadata": {},
   "outputs": [
    {
     "name": "stdout",
     "output_type": "stream",
     "text": [
      "cake\n"
     ]
    }
   ],
   "source": [
    "string = 'cheesecake'\n",
    "print(string[-4:])"
   ]
  },
  {
   "cell_type": "markdown",
   "metadata": {},
   "source": [
    "Both lists and strings will also allow you to use the `len` command to get their length:"
   ]
  },
  {
   "cell_type": "code",
   "execution_count": 14,
   "metadata": {},
   "outputs": [
    {
     "name": "stdout",
     "output_type": "stream",
     "text": [
      "String has length:\n",
      "10\n",
      "List of numbers has length:\n",
      "19\n"
     ]
    }
   ],
   "source": [
    "string = 'cheesecake'\n",
    "print('String has length:')\n",
    "print(len(string))\n",
    "list_of_numbers = range(1, 20)\n",
    "print('List of numbers has length:')\n",
    "print(len(list_of_numbers))"
   ]
  },
  {
   "cell_type": "markdown",
   "metadata": {},
   "source": [
    "There are various functions built into Python to help you work with strings that are particularly useful for cleaning messy data. For example, imagine you have a variable name like 'This Is /A Variable   '. (You may think this is implausibly bad; I only wish that were true). Let's see if we can clean this up:"
   ]
  },
  {
   "cell_type": "code",
   "execution_count": 15,
   "metadata": {},
   "outputs": [
    {
     "name": "stdout",
     "output_type": "stream",
     "text": [
      "this is a variable\n"
     ]
    }
   ],
   "source": [
    "string = 'This Is /A Variable   '\n",
    "string = string.replace('/', '').rstrip().lower()\n",
    "print(string)"
   ]
  },
  {
   "cell_type": "markdown",
   "metadata": {},
   "source": [
    "The steps above replace the character '/', strip out whitespace on the right hand-side of the string, and put everything in lower case. The brackets after the words signify that a function has been applied; we'll see more of functions later.\n",
    "\n",
    "You'll often want to output one type of data as another, and Python generally knows what you're trying to achieve if you, for example, `print` a boolean value. For numbers, there are more options and you can see a big list of advice on string formatting of all kinds of things [here](https://pyformat.info/). For now, let's just see a simple example of something called an f-string, a string that combines a number and a string (these begin with an `f` for formatting):"
   ]
  },
  {
   "cell_type": "code",
   "execution_count": 16,
   "metadata": {},
   "outputs": [
    {
     "name": "stdout",
     "output_type": "stream",
     "text": [
      "The square root of 20 is 4.47\n"
     ]
    }
   ],
   "source": [
    "value = 20\n",
    "sqrt_val = 20**0.5\n",
    "print(f'The square root of {value:d} is {sqrt_val:.2f}')"
   ]
  },
  {
   "cell_type": "markdown",
   "metadata": {},
   "source": [
    "The formatting command `:d` is an instruction to treat `value` like an integer, while `:.2f` is an instruction to print it like a float with 2 decimal places.\n",
    "\n",
    "```{note}\n",
    "f-strings are only available in Python 3.6+\n",
    "```\n",
    "\n",
    "## Booleans and conditions\n",
    "\n",
    "Some of the most important operations you will perform are with True and False values, also known as boolean data types. First, these behave as you'd expect: `True and False` evaluates to `False`, while `True or False` evaluates to `True`. There's also the `not` keyword. For example"
   ]
  },
  {
   "cell_type": "code",
   "execution_count": 17,
   "metadata": {},
   "outputs": [
    {
     "data": {
      "text/plain": [
       "False"
      ]
     },
     "execution_count": 17,
     "metadata": {},
     "output_type": "execute_result"
    }
   ],
   "source": [
    "not True"
   ]
  },
  {
   "cell_type": "markdown",
   "metadata": {},
   "source": [
    "as you might expect.\n",
    "\n",
    "Conditions are expressions that evaluate as booleans. A simple example is `10 == 20`. The `==` is yet another operator that compares the objects on either side and returns `True` if they have the same *values*--though be careful using it with different data types. The opposite of `==` is `!=`, which you can read as 'not equal to the value of'. Here's an example of `==`:"
   ]
  },
  {
   "cell_type": "code",
   "execution_count": 18,
   "metadata": {},
   "outputs": [
    {
     "name": "stdout",
     "output_type": "stream",
     "text": [
      "False\n"
     ]
    }
   ],
   "source": [
    "boolean_condition = (10 == 20)\n",
    "print(boolean_condition)"
   ]
  },
  {
   "cell_type": "markdown",
   "metadata": {},
   "source": [
    "The real power of conditions comes when we start to use them in more complex examples. Some of the keywords that evaluate conditions are `if`, `else`, `and`, `or`, `in`, `not`, and `is`. Here's"
   ]
  },
  {
   "cell_type": "code",
   "execution_count": 19,
   "metadata": {},
   "outputs": [
    {
     "name": "stdout",
     "output_type": "stream",
     "text": [
      "Ada, you achieved a high score.\n",
      "You could be called Smith or have a high score\n",
      "You are not called Smith and you have a high score\n"
     ]
    }
   ],
   "source": [
    "name = 'Ada'\n",
    "score = 99\n",
    "\n",
    "if name == 'Ada' and score > 90:\n",
    "    print('Ada, you achieved a high score.')\n",
    "\n",
    "if name == 'Smith' or score > 90:\n",
    "    print('You could be called Smith or have a high score')\n",
    "\n",
    "if name != 'Smith' and score > 90:\n",
    "    print('You are not called Smith and you have a high score')\n"
   ]
  },
  {
   "cell_type": "markdown",
   "metadata": {},
   "source": [
    "All three of these conditions evaluate as True, and so all three messages get printed. Given that `==` and `!=` test for equality and not equal, respectively, you may be wondering what the keywords `is` and `not` are for. Remember that everything in Python is an object, and that values can be assigned to objects. `==` and `!=` compare *values*, while `is` and `not` compare *objects`*. For example,"
   ]
  },
  {
   "cell_type": "code",
   "execution_count": 20,
   "metadata": {},
   "outputs": [
    {
     "name": "stdout",
     "output_type": "stream",
     "text": [
      "True\n",
      "False\n"
     ]
    }
   ],
   "source": [
    "name_list = ['Ada', 'Adam']\n",
    "name_list_two = ['Ada', 'Adam']\n",
    "\n",
    "# Compare values\n",
    "print(name_list == name_list_two)\n",
    "\n",
    "# Compare objects\n",
    "print(name_list is name_list_two)"
   ]
  },
  {
   "cell_type": "markdown",
   "metadata": {},
   "source": [
    "One of the most useful conditional keywords is `in`. I must use this one ten times a day to pick out a variable or make sure something is where it's supposed to be."
   ]
  },
  {
   "cell_type": "code",
   "execution_count": 21,
   "metadata": {},
   "outputs": [
    {
     "name": "stdout",
     "output_type": "stream",
     "text": [
      "True\n",
      "False\n"
     ]
    }
   ],
   "source": [
    "name_list = ['Lovelace', 'Smith', 'Pigou', 'Babbage']\n",
    "\n",
    "print('Lovelace' in name_list)\n",
    "\n",
    "print('Bob' in name_list)"
   ]
  },
  {
   "cell_type": "markdown",
   "metadata": {},
   "source": [
    "The opposite is `not in`.\n",
    "\n",
    "Finally, one conditional construct you're bound to use at *some* point, is the `if`...`else` structure:"
   ]
  },
  {
   "cell_type": "code",
   "execution_count": 22,
   "metadata": {},
   "outputs": [
    {
     "name": "stdout",
     "output_type": "stream",
     "text": [
      "High score!\n"
     ]
    }
   ],
   "source": [
    "score = 98\n",
    "\n",
    "if score == 100:\n",
    "    print('Top marks!')\n",
    "elif score>90 and score<100:\n",
    "    print('High score!')\n",
    "elif score>10 and score<=90:\n",
    "    pass\n",
    "else:\n",
    "    print('Better luck next time.')"
   ]
  },
  {
   "cell_type": "markdown",
   "metadata": {},
   "source": [
    "Note that this does nothing if the score is between 11 and 90, and prints a message otherwise.\n",
    "\n",
    "## Loops and list comprehensions\n",
    "\n",
    "A loop is a way of executing a similar piece of code over and over in a similar way. The most useful loops are `for` loops and list comprehensions.\n",
    "\n",
    "A `for` loop does something *for* the time that the condition is satisfied. For example,"
   ]
  },
  {
   "cell_type": "code",
   "execution_count": 23,
   "metadata": {},
   "outputs": [
    {
     "name": "stdout",
     "output_type": "stream",
     "text": [
      "Lovelace\n",
      "Smith\n",
      "Pigou\n",
      "Babbage\n"
     ]
    }
   ],
   "source": [
    "name_list = ['Lovelace', 'Smith', 'Pigou', 'Babbage']\n",
    "\n",
    "for name in name_list:\n",
    "    print(name)\n"
   ]
  },
  {
   "cell_type": "markdown",
   "metadata": {},
   "source": [
    "prints out a name until all names have been printed out. A useful trick with for loops is the `enumerate` keyword, which runs through an index that keeps track of the items in a list:"
   ]
  },
  {
   "cell_type": "code",
   "execution_count": 24,
   "metadata": {},
   "outputs": [
    {
     "name": "stdout",
     "output_type": "stream",
     "text": [
      "The name in position 0 is Lovelace\n",
      "The name in position 1 is Smith\n",
      "The name in position 2 is Hopper\n",
      "The name in position 3 is Babbage\n"
     ]
    }
   ],
   "source": [
    "name_list = ['Lovelace', 'Smith', 'Hopper', 'Babbage']\n",
    "\n",
    "for i, name in enumerate(name_list):\n",
    "    print(f'The name in position {i} is {name}')\n"
   ]
  },
  {
   "cell_type": "markdown",
   "metadata": {},
   "source": [
    "High-level languages like Python and R do not get *compiled* into highly performant machine code ahead of being run, unlike C++ and FORTRAN. What this means is that although they are much less unwieldy to use, some types of operation can be very slow--ans `for` loops are particularly cumbersome. (Although you may not notice this unless you're working on a bigger computation.)\n",
    "\n",
    "But there is a way around this, and it's with something called a *list comprehension*. These can combine what a `for` loop and a `condition` do in a single line of efficiently executable code. Say we had a list of numbers and wanted to filter it according to whether the numbers divided by 3 or not:"
   ]
  },
  {
   "cell_type": "code",
   "execution_count": 25,
   "metadata": {},
   "outputs": [
    {
     "name": "stdout",
     "output_type": "stream",
     "text": [
      "[3, 6, 9, 12, 15, 18, 21, 24, 27, 30, 33, 36, 39]\n"
     ]
    }
   ],
   "source": [
    "number_list = range(1, 40)\n",
    "divide_list = [x for x in number_list if x % 3 == 0]\n",
    "print(divide_list)"
   ]
  },
  {
   "cell_type": "markdown",
   "metadata": {},
   "source": [
    "Or if we only wanted to pick out names that end in 'Smith':"
   ]
  },
  {
   "cell_type": "code",
   "execution_count": 26,
   "metadata": {},
   "outputs": [
    {
     "name": "stdout",
     "output_type": "stream",
     "text": [
      "['Adam Smith', 'leonara smith']\n"
     ]
    }
   ],
   "source": [
    "names_list = ['Joe Bloggs', 'Adam Smith', 'Sandra Noone', 'leonara smith']\n",
    "smith_list = [x for x in names_list if 'smith' in x.lower()]\n",
    "print(smith_list)"
   ]
  },
  {
   "cell_type": "markdown",
   "metadata": {},
   "source": [
    "Note how we used 'smith' rather than 'Smith' and then used `lower()` to ensure we matched names regardless of the case they are written in. We can even do a whole `if` ... `else` construct *inside* a list comprehension:"
   ]
  },
  {
   "cell_type": "code",
   "execution_count": 27,
   "metadata": {},
   "outputs": [
    {
     "name": "stdout",
     "output_type": "stream",
     "text": [
      "['Not Smith!', 'Adam Smith', 'Not Smith!', 'leonara smith']\n"
     ]
    }
   ],
   "source": [
    "names_list = ['Joe Bloggs', 'Adam Smith', 'Sandra Noone', 'leonara smith']\n",
    "smith_list = [x if 'smith' in x.lower() else 'Not Smith!' for x in names_list]\n",
    "print(smith_list)"
   ]
  },
  {
   "cell_type": "markdown",
   "metadata": {},
   "source": [
    "Many of the constructs we've seen can be combined. For instance, there is no reason why we can't have a nested or repeated list comprehension, and, perhaps more surprisingly, sometimes these are useful!"
   ]
  },
  {
   "cell_type": "code",
   "execution_count": 28,
   "metadata": {},
   "outputs": [
    {
     "name": "stdout",
     "output_type": "stream",
     "text": [
      "['Ada Lovelace', 'Adam Smith', 'Grace Hopper', 'Charles Babbage']\n"
     ]
    }
   ],
   "source": [
    "first_names = ['Ada', 'Adam', 'Grace', 'Charles']\n",
    "last_names = ['Lovelace', 'Smith', 'Hopper', 'Babbage']\n",
    "names_list = [x + ' ' + y for x, y in zip(first_names, last_names)]\n",
    "print(names_list)"
   ]
  },
  {
   "cell_type": "markdown",
   "metadata": {},
   "source": [
    "The `zip` keyword is doing this magic; think of it like a zipper, bringing an element of each list together in turn.\n",
    "\n",
    "Finally, an even more extreme use of list comprehensions can deliver nested structures:"
   ]
  },
  {
   "cell_type": "code",
   "execution_count": 29,
   "metadata": {},
   "outputs": [
    {
     "name": "stdout",
     "output_type": "stream",
     "text": [
      "[['Ada Lovelace', 'Adam Lovelace'], ['Ada Smith', 'Adam Smith']]\n"
     ]
    }
   ],
   "source": [
    "first_names = ['Ada', 'Adam']\n",
    "last_names = ['Lovelace', 'Smith']\n",
    "names_list = [[x + ' ' + y for x in first_names] for y in last_names]\n",
    "print(names_list)"
   ]
  },
  {
   "cell_type": "markdown",
   "metadata": {},
   "source": [
    "This gives a nested structure that (in this case) iterates over `first_names` first, and then `last_names`.\n",
    "\n",
    "## Functions\n",
    "\n",
    "If you're an economist, I hardly need to tell you what a function is. In coding, it's much the same as in mathematics: a function has inputs, it performs its function, and it returns any outputs. Functions begin with a `def` keyword for 'define a function'. The body of the function is then indented relative to the left-most text. Function arguments are defined in brackets following the name, with different inputs separated by commas. Any outputs are given with the `return` keyword, again with different variables separated by commas. Let's see a very simple example:"
   ]
  },
  {
   "cell_type": "code",
   "execution_count": 30,
   "metadata": {},
   "outputs": [
    {
     "name": "stdout",
     "output_type": "stream",
     "text": [
      "Hello Ada, and welcome!\n"
     ]
    }
   ],
   "source": [
    "def welcome_message(name):\n",
    "    return f'Hello {name}, and welcome!'\n",
    "\n",
    "# Without indentation, this code is not part of function\n",
    "name = 'Ada'\n",
    "output_string = welcome_message(name)\n",
    "print(output_string)"
   ]
  },
  {
   "cell_type": "markdown",
   "metadata": {},
   "source": [
    "One powerful feature of functions is that we can define defaults for the input arguments. Let's see that in action by defining a default value for `name`, along with multiple outputs--a hello message and a score."
   ]
  },
  {
   "cell_type": "code",
   "execution_count": 31,
   "metadata": {},
   "outputs": [
    {
     "name": "stdout",
     "output_type": "stream",
     "text": [
      "('Hello student', 4.8)\n",
      "('Hello Ada', 4.8)\n"
     ]
    }
   ],
   "source": [
    "def score_message(score, name='student'):\n",
    "    \"\"\"This is a doc-string, a string describing a function.\n",
    "    Args:\n",
    "        score (float): Raw score\n",
    "        name (str): Name of student\n",
    "    Returns:\n",
    "        str: A hello message.\n",
    "        float: A normalised score.\n",
    "    \"\"\"\n",
    "    norm_score = (score-50)/10\n",
    "    return f'Hello {name}', norm_score\n",
    "\n",
    "# Without indentation, this code is not part of function\n",
    "name = 'Ada'\n",
    "score = 98\n",
    "# No name entered\n",
    "print(score_message(score))\n",
    "# Name entered\n",
    "print(score_message(score, name=name))"
   ]
  },
  {
   "cell_type": "markdown",
   "metadata": {},
   "source": [
    "In that last example, you'll notice that I added some text to the function. This is a doc-string. It's there to help users (and, most likely, future you) to understand what the function does. Let's see how this works in action by calling `help` on the `score_message` function:"
   ]
  },
  {
   "cell_type": "code",
   "execution_count": 32,
   "metadata": {},
   "outputs": [
    {
     "name": "stdout",
     "output_type": "stream",
     "text": [
      "Help on function score_message in module __main__:\n",
      "\n",
      "score_message(score, name='student')\n",
      "    This is a doc-string, a string describing a function.\n",
      "    Args:\n",
      "        score (float): Raw score\n",
      "        name (str): Name of student\n",
      "    Returns:\n",
      "        str: A hello message.\n",
      "        float: A normalised score.\n",
      "\n"
     ]
    }
   ],
   "source": [
    "help(score_message)"
   ]
  },
  {
   "cell_type": "markdown",
   "metadata": {},
   "source": [
    "## Dictionaries\n",
    "\n",
    "Another built-in Python type that is enormously useful is the *dictionary*. This provides a mapping one set of variables to another (either one-to-one or many-to-one). Let's see an example of defining a dictionary and using it:"
   ]
  },
  {
   "cell_type": "code",
   "execution_count": 33,
   "metadata": {},
   "outputs": [
    {
     "name": "stdout",
     "output_type": "stream",
     "text": [
      "['Apple', 'Apple', 'Satsuma', 'Apple']"
     ]
    },
    {
     "name": "stdout",
     "output_type": "stream",
     "text": [
      "\n"
     ]
    }
   ],
   "source": [
    "fruit_dict = {'Jazz': 'Apple', 'Owari': 'Satsuma', 'Seto': 'Satsuma',\n",
    "              'Pink Lady': 'Apple'}\n",
    "\n",
    "# Add an entry\n",
    "fruit_dict.update({'Cox': 'Apple'})\n",
    "\n",
    "variety_list = ['Jazz', 'Jazz', 'Seto', 'Cox']\n",
    "\n",
    "fruit_list = [fruit_dict[x] for x in variety_list]\n",
    "print(fruit_list)"
   ]
  },
  {
   "cell_type": "markdown",
   "metadata": {},
   "source": [
    "From an input list of varieties, we get an output list of their associated fruits. Another good trick to know with dictionaries is that you can iterate through their keys and values:"
   ]
  },
  {
   "cell_type": "code",
   "execution_count": 34,
   "metadata": {},
   "outputs": [
    {
     "name": "stdout",
     "output_type": "stream",
     "text": [
      "Jazz maps into Apple\n",
      "Owari maps into Satsuma\n",
      "Seto maps into Satsuma\n",
      "Pink Lady maps into Apple\n",
      "Cox maps into Apple\n"
     ]
    }
   ],
   "source": [
    "for key, value in fruit_dict.items():\n",
    "    print(key + ' maps into ' + value)\n"
   ]
  },
  {
   "cell_type": "markdown",
   "metadata": {},
   "source": [
    "## How packages and modules work\n",
    "\n",
    "We already saw how to install package work in the previous chapter.\n",
    "\n",
    "## Splat and splatty-splat\n",
    "\n",
    "You read those right, yes. These are also known as unpacking operators for, respectively, arguments and dictionaries. For instance, if I have a function that takes two arguments I can send variables to it in different ways:"
   ]
  },
  {
   "cell_type": "code",
   "execution_count": 35,
   "metadata": {},
   "outputs": [
    {
     "name": "stdout",
     "output_type": "stream",
     "text": [
      "15\n"
     ]
    },
    {
     "name": "stdout",
     "output_type": "stream",
     "text": [
      "17\n"
     ]
    }
   ],
   "source": [
    "def add(a, b):\n",
    "    return a + b\n",
    "\n",
    "print(add(5, 10))\n",
    "\n",
    "func_args = (6, 11)\n",
    "\n",
    "print(add(*func_args))"
   ]
  },
  {
   "cell_type": "markdown",
   "metadata": {},
   "source": [
    "The splat operator, `*`, unpacks the variable `func_args` into two different function arguments. Splatty-splat unpacks dictionaries into keyword arguments:"
   ]
  },
  {
   "cell_type": "code",
   "execution_count": 36,
   "metadata": {},
   "outputs": [
    {
     "name": "stdout",
     "output_type": "stream",
     "text": [
      "5"
     ]
    },
    {
     "name": "stdout",
     "output_type": "stream",
     "text": [
      "\n",
      "17\n"
     ]
    }
   ],
   "source": [
    "def function_with_kwargs(a, x=0, y=0, z=0):\n",
    "    return a + x + y + z\n",
    "\n",
    "print(function_with_kwargs(5))\n",
    "\n",
    "kwargs = {'x': 3, 'y': 4, 'z': 5}\n",
    "\n",
    "print(function_with_kwargs(5, **kwargs))"
   ]
  },
  {
   "cell_type": "markdown",
   "metadata": {},
   "source": [
    "Perhaps most surprisingly of all, we can use the splat operator *in the definition of a function*. For example:"
   ]
  },
  {
   "cell_type": "code",
   "execution_count": 37,
   "metadata": {},
   "outputs": [
    {
     "name": "stdout",
     "output_type": "stream",
     "text": [
      "6\n",
      "15\n"
     ]
    }
   ],
   "source": [
    "def sum_elements(*elements):\n",
    "    return sum(*elements)\n",
    "\n",
    "nums = (1, 2, 3)\n",
    "\n",
    "print(sum_elements(nums))\n",
    "\n",
    "more_nums = (1, 2, 3, 4, 5)\n",
    "\n",
    "print(sum_elements(more_nums))"
   ]
  },
  {
   "cell_type": "markdown",
   "metadata": {},
   "source": [
    "## Miscellaneous\n",
    "\n",
    "Here are some other bits of basic coding that might be useful. They really show why Python is such a delightful language.\n",
    "\n",
    "You can use unicode characters for variables"
   ]
  },
  {
   "cell_type": "code",
   "execution_count": 38,
   "metadata": {},
   "outputs": [
    {
     "name": "stdout",
     "output_type": "stream",
     "text": [
      "0.5\n"
     ]
    }
   ],
   "source": [
    "α = 15\n",
    "β = 30\n",
    "\n",
    "print(α/β)"
   ]
  },
  {
   "cell_type": "markdown",
   "metadata": {},
   "source": [
    "You can swap variables in a single assignment:"
   ]
  },
  {
   "cell_type": "code",
   "execution_count": 39,
   "metadata": {},
   "outputs": [
    {
     "name": "stdout",
     "output_type": "stream",
     "text": [
      "This is a string\n"
     ]
    }
   ],
   "source": [
    "a = 10\n",
    "b = 'This is a string'\n",
    "\n",
    "a, b = b, a\n",
    "\n",
    "print(a)"
   ]
  },
  {
   "cell_type": "markdown",
   "metadata": {},
   "source": [
    "You can sum elements in a list:"
   ]
  },
  {
   "cell_type": "code",
   "execution_count": 40,
   "metadata": {},
   "outputs": [
    {
     "data": {
      "text/plain": [
       "25"
      ]
     },
     "execution_count": 40,
     "metadata": {},
     "output_type": "execute_result"
    }
   ],
   "source": [
    "fruit_list = [2, 27, -4, 0]\n",
    "sum(fruit_list)"
   ]
  },
  {
   "cell_type": "markdown",
   "metadata": {},
   "source": [
    "**iterools** offers counting, repeating, cycling, chaining, and slicing. Here's a cycling example that uses the `next` keyword to get the next iteraction:"
   ]
  },
  {
   "cell_type": "code",
   "execution_count": 41,
   "metadata": {},
   "outputs": [
    {
     "name": "stdout",
     "output_type": "stream",
     "text": [
      "red lorry"
     ]
    },
    {
     "name": "stdout",
     "output_type": "stream",
     "text": [
      "\n",
      "yellow lorry\n",
      "red lorry\n",
      "yellow lorry\n"
     ]
    }
   ],
   "source": [
    "from itertools import cycle\n",
    "\n",
    "lorrys = ['red lorry', 'yellow lorry']\n",
    "lorry_iter = cycle(lorrys)\n",
    "\n",
    "print(next(lorry_iter))\n",
    "print(next(lorry_iter))\n",
    "print(next(lorry_iter))\n",
    "print(next(lorry_iter))"
   ]
  },
  {
   "cell_type": "markdown",
   "metadata": {},
   "source": [
    "**iterools** also offers products, combinations, combinations with replacement, and permutations. Here are the combinations of 'abc' of length 2:"
   ]
  },
  {
   "cell_type": "code",
   "execution_count": 42,
   "metadata": {},
   "outputs": [
    {
     "name": "stdout",
     "output_type": "stream",
     "text": [
      "<itertools.combinations object at 0x7f88e7f991d0>\n"
     ]
    }
   ],
   "source": [
    "from itertools import combinations\n",
    "print(combinations('abc', 2))"
   ]
  },
  {
   "cell_type": "markdown",
   "metadata": {},
   "source": [
    "Find out what the date is! (Can pass a timezone as an argument.)"
   ]
  },
  {
   "cell_type": "code",
   "execution_count": 43,
   "metadata": {},
   "outputs": [
    {
     "name": "stdout",
     "output_type": "stream",
     "text": [
      "2020-11-29\n"
     ]
    }
   ],
   "source": [
    "from datetime import date\n",
    "\n",
    "print(date.today())"
   ]
  }
 ],
 "metadata": {
  "jupytext": {
   "cell_metadata_filter": "-all",
   "formats": "md:myst",
   "text_representation": {
    "extension": ".md",
    "format_name": "myst",
    "format_version": "0.8",
    "jupytext_version": "1.5.0"
   }
  },
  "kernelspec": {
   "display_name": "Python 3.8.6 64-bit ('codeforecon': conda)",
   "language": "python",
   "name": "python3"
  },
  "language_info": {
   "codemirror_mode": {
    "name": "ipython",
    "version": 3
   },
   "file_extension": ".py",
   "mimetype": "text/x-python",
   "name": "python",
   "nbconvert_exporter": "python",
   "pygments_lexer": "ipython3",
   "version": "3.7.6"
  },
  "source_map": [
   14,
   22,
   25,
   31,
   34,
   44,
   47,
   53,
   55,
   61,
   64,
   68,
   71,
   75,
   78,
   82,
   88,
   92,
   94,
   100,
   105,
   109,
   114,
   118,
   121,
   127,
   130,
   134,
   141,
   145,
   149,
   155,
   159,
   171,
   173,
   179,
   182,
   186,
   199,
   203,
   212,
   216,
   222,
   228,
   239,
   249,
   255,
   259,
   265,
   271,
   275,
   279,
   283,
   287,
   291,
   295,
   300,
   306,
   311,
   319,
   328,
   332,
   353,
   357,
   359,
   365,
   376,
   380,
   385,
   395,
   405,
   409,
   419,
   423,
   435,
   443,
   449,
   453,
   460,
   464,
   467,
   471,
   481,
   485,
   488,
   492
  ]
 },
 "nbformat": 4,
 "nbformat_minor": 4
}
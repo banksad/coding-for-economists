{
 "cells": [
  {
   "cell_type": "markdown",
   "metadata": {},
   "source": [
    "# Data Analysis Quickstart\n"
   ]
  },
  {
   "cell_type": "markdown",
   "metadata": {},
   "source": [
    "## Introduction\n",
    "\n",
    "Here we'll do a whistlestop tour of what's possible when using code to execute data analysis on a single dataframe using the Star Wars' characters dataset as an example. For a more thorough introduction to data analysis, see the next chapter.\n",
    "\n",
    "This chapter will use the **pandas** package; if you don't already have it installed you may need to run\n",
    "\n",
    "```shell\n",
    "conda install pandas\n",
    "conda install pyarrow\n",
    "```\n",
    "\n",
    "on your computer's command line.\n",
    "\n",
    "## Loading data and checking datatypes\n",
    "\n",
    "Loading data into a dataframe is achieved with commands like `df = pd.read_csv(...)` or `df = pd.read_stata(...)`. Let's load the Star Wars data:"
   ]
  },
  {
   "cell_type": "code",
   "execution_count": null,
   "metadata": {},
   "outputs": [],
   "source": [
    "import pandas as pd\n",
    "import os\n",
    "import numpy as np\n",
    "\n",
    "# Set seed for reproducibility\n",
    "np.random.seed(10)\n",
    "# Set max rows displayed for readability\n",
    "pd.set_option('display.max_rows', 6)\n",
    "\n",
    "\n",
    "# Read in data\n",
    "df = pd.read_feather(os.path.join('data', 'starwars.feather'))\n",
    "# Check info about dataframe\n",
    "df.info()"
   ]
  },
  {
   "cell_type": "markdown",
   "metadata": {},
   "source": [
    "### Look at the first few rows with `head()`"
   ]
  },
  {
   "cell_type": "code",
   "execution_count": null,
   "metadata": {},
   "outputs": [],
   "source": [
    "df.head()"
   ]
  },
  {
   "cell_type": "markdown",
   "metadata": {},
   "source": [
    "## Filter rows and columns with conditions using `df.loc[condition(s), column(s)]`\n",
    "\n",
    "`.loc` stands for location. By passing conditions to `.loc`, you are able to select and work with a subset of rows in a dataframe. The second argument passes columns of interest (use `:` for all columns).\n"
   ]
  },
  {
   "cell_type": "code",
   "execution_count": null,
   "metadata": {},
   "outputs": [],
   "source": [
    "df.loc[(df['skin_color'] == 'light') & (df['eye_color'] == 'brown'), ['name', 'species']]"
   ]
  },
  {
   "cell_type": "markdown",
   "metadata": {},
   "source": [
    "## Sort rows or columns with `.sort_values()`\n",
    "\n",
    "Use `sort_values(columns, ascending=False)` for descending order."
   ]
  },
  {
   "cell_type": "code",
   "execution_count": null,
   "metadata": {},
   "outputs": [],
   "source": [
    "df.sort_values(['height', 'mass'])"
   ]
  },
  {
   "cell_type": "markdown",
   "metadata": {},
   "source": [
    "## Choose multiple rows or columns using slices\n",
    "\n",
    "Slices can be passed by name using `.loc[startrow:stoprow:step, startcolumn:stopcolumn:step]` or by position using `.iloc[start:stop:step, start:stop:step]`.\n",
    "\n",
    "Choosing every 10th row, and the columns between 'name' and 'birth_year':"
   ]
  },
  {
   "cell_type": "code",
   "execution_count": null,
   "metadata": {},
   "outputs": [],
   "source": [
    "df.loc[::10, 'name':'birth_year']"
   ]
  },
  {
   "cell_type": "markdown",
   "metadata": {},
   "source": [
    "Choosing the first 5 rows and the last 2 columns by position:"
   ]
  },
  {
   "cell_type": "code",
   "execution_count": null,
   "metadata": {},
   "outputs": [],
   "source": [
    "df.iloc[:5, -2:]"
   ]
  },
  {
   "cell_type": "markdown",
   "metadata": {},
   "source": [
    "## Randomly selecting a sample using `.sample`\n",
    "\n",
    "`.sample(n)` randomly selects `n` rows, `.sample(frac=0.4)` selects 40% of the data, `replace=True` samples with replacement, and passing `weights=` selects a number of fraction with the probabilities given by the passed weights.\n",
    "\n",
    "Taking a sample of 5 rows:"
   ]
  },
  {
   "cell_type": "code",
   "execution_count": null,
   "metadata": {},
   "outputs": [],
   "source": [
    "df.sample(5)"
   ]
  },
  {
   "cell_type": "markdown",
   "metadata": {},
   "source": [
    "## Rename with `.rename`\n",
    "\n",
    "You can rename all columns by passing a function, for instance `df.rename(columns=str.lower)` to put all columns in lower case. Alternatively, use a dictionary to say which columns should be mapped to what:"
   ]
  },
  {
   "cell_type": "code",
   "execution_count": null,
   "metadata": {},
   "outputs": [],
   "source": [
    "df.rename(columns={'homeworld': 'home_world'})"
   ]
  },
  {
   "cell_type": "markdown",
   "metadata": {},
   "source": [
    "## Add new columns with `.assign` or assignment\n",
    "\n",
    "Very often you will want to create new columns based on existing columns.\n",
    "\n",
    "![](https://pandas.pydata.org/docs/_images/05_newcolumn_1.svg)\n",
    "\n",
    "`.assign` is a function that applies to a dataframe and returns a copy of that dataframe:"
   ]
  },
  {
   "cell_type": "code",
   "execution_count": null,
   "metadata": {},
   "outputs": [],
   "source": [
    "df.assign(height_m = df['height']/100)"
   ]
  },
  {
   "cell_type": "markdown",
   "metadata": {},
   "source": [
    "This was added to the end; ideally, we'd like it next to the height column:"
   ]
  },
  {
   "cell_type": "code",
   "execution_count": null,
   "metadata": {},
   "outputs": [],
   "source": [
    "(df.assign(height_m = df['height']/100)\n",
    "   .sort_index(axis=1))"
   ]
  },
  {
   "cell_type": "markdown",
   "metadata": {},
   "source": [
    "To overwrite existing columns just use `height = df['height']/100` in the assign function. We can also assign using a series of statements instead of chaining them together using\n",
    "\n",
    "```python\n",
    "df['height_m'] = df['height']/100\n",
    "df = df.sort_index(axis=1)\n",
    "```"
   ]
  },
  {
   "cell_type": "markdown",
   "metadata": {},
   "source": [
    "## Summarise numerical values with `.describe()`\n",
    "\n"
   ]
  },
  {
   "cell_type": "code",
   "execution_count": null,
   "metadata": {},
   "outputs": [],
   "source": [
    "df.describe()"
   ]
  },
  {
   "cell_type": "markdown",
   "metadata": {},
   "source": [
    "## Group variables values with `.groupby()`\n",
    "\n"
   ]
  },
  {
   "cell_type": "code",
   "execution_count": null,
   "metadata": {},
   "outputs": [],
   "source": [
    "df.groupby('species')[['height', 'mass']].mean()"
   ]
  },
  {
   "cell_type": "markdown",
   "metadata": {},
   "source": [
    "## Add transformed columns using `.transform()`\n",
    "\n",
    "Quite often, it's useful to put a column into a dataframe that is the result of an intermediate groupby and aggregation. For example, subtracting the group mean or normalisation. Transform does this and returns the column with the same shape as the original dataframe.\n",
    "\n",
    "Below is an example of transform being used to demean a variable according to the mean by species. Note that we use `pd.notna` to filter out missing species values (otherwise this would result in an error, which is actually *helpful* behaviour) and we are using lambda functions. Lambda functions are a quick way of writing functions, e.g. `lambda x: x+1` defines a function that adds one to x."
   ]
  },
  {
   "cell_type": "code",
   "execution_count": null,
   "metadata": {},
   "outputs": [],
   "source": [
    "(df[pd.notna(df['species'])]\n",
    " .assign(height_demean_species = df[pd.notna(df['species'])]\n",
    "                                 .groupby('species')['mass']\n",
    "                                 .transform(lambda x: x-x.mean()))\n",
    ")"
   ]
  },
  {
   "cell_type": "markdown",
   "metadata": {},
   "source": [
    "## Make quick charts with `.plot.*`\n",
    "\n",
    "Including scatter, area, bar, box, density, hexbin, histogram, kde, and line."
   ]
  },
  {
   "cell_type": "code",
   "execution_count": null,
   "metadata": {},
   "outputs": [],
   "source": [
    "df.plot.scatter('mass', 'height', alpha=0.5);"
   ]
  },
  {
   "cell_type": "code",
   "execution_count": null,
   "metadata": {},
   "outputs": [],
   "source": [
    "df[['species', 'height']].plot.box();"
   ]
  },
  {
   "cell_type": "code",
   "execution_count": null,
   "metadata": {},
   "outputs": [],
   "source": [
    "df['height'].plot.kde();"
   ]
  },
  {
   "cell_type": "code",
   "execution_count": null,
   "metadata": {},
   "outputs": [],
   "source": []
  }
 ],
 "metadata": {
  "celltoolbar": "Tags",
  "kernelspec": {
   "display_name": "codeforecon",
   "language": "python",
   "name": "codeforecon"
  },
  "language_info": {
   "codemirror_mode": {
    "name": "ipython",
    "version": 3
   },
   "file_extension": ".py",
   "mimetype": "text/x-python",
   "name": "python",
   "nbconvert_exporter": "python",
   "pygments_lexer": "ipython3",
   "version": "3.8.6-final"
  },
  "widgets": {
   "application/vnd.jupyter.widget-state+json": {
    "state": {},
    "version_major": 2,
    "version_minor": 0
   }
  }
 },
 "nbformat": 4,
 "nbformat_minor": 4
}
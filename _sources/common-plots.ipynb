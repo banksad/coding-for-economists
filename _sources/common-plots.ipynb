{
 "cells": [
  {
   "cell_type": "markdown",
   "metadata": {},
   "source": [
    "# Common plots\n",
    "\n",
    "## Introduction\n",
    "\n",
    "In this chapter, we'll look at some of the most common plots that you might want to make--and how to create them using the most popular libraries. If you need an introduction to these libraries, see the previous chapter.\n",
    "\n",
    "Throughout, we'll assume that the data are in a tidy format (one row per observation, one variable per column). First, though, let's import the libraries we'll need."
   ]
  },
  {
   "cell_type": "code",
   "execution_count": null,
   "metadata": {},
   "outputs": [],
   "source": [
    "import numpy as np\n",
    "import pandas as pd\n",
    "import seaborn as sns\n",
    "import matplotlib.pyplot as plt\n",
    "from plotnine import *\n",
    "import altair as alt\n",
    "from vega_datasets import data\n",
    "\n",
    "# Set seed for reproducibility\n",
    "np.random.seed(10)\n",
    "# Set max rows displayed for readability\n",
    "pd.set_option('display.max_rows', 6)\n",
    "# Nicer matplotlib fonts\n",
    "plt.style.use({'mathtext.fontset': 'stix',\n",
    "               'font.family': 'STIXGeneral',\n",
    "               'figure.figsize': (8, 3)})"
   ]
  },
  {
   "cell_type": "markdown",
   "metadata": {},
   "source": [
    "## Scatter plot\n",
    "\n",
    "In this example, we see a simple scatter plot with categories using the cars data:"
   ]
  },
  {
   "cell_type": "code",
   "execution_count": null,
   "metadata": {},
   "outputs": [],
   "source": [
    "cars = data.cars()\n",
    "cars.head()"
   ]
  },
  {
   "source": [
    "### Matplotlib"
   ],
   "cell_type": "markdown",
   "metadata": {}
  },
  {
   "cell_type": "code",
   "execution_count": null,
   "metadata": {},
   "outputs": [],
   "source": [
    "colormap = plt.cm.Set1\n",
    "colorst = [colormap(i) for i in\n",
    "           np.linspace(0, 0.9, len(cars['Origin'].unique()))]\n",
    "fig, ax = plt.subplots()\n",
    "for i, origin in enumerate(cars['Origin'].unique()):\n",
    "    cars_sub = cars[cars['Origin'] == origin]\n",
    "    ax.scatter(cars_sub['Horsepower'],\n",
    "               cars_sub['Miles_per_Gallon'],\n",
    "               color=colorst[i],\n",
    "               label=origin,\n",
    "               edgecolor='grey')\n",
    "ax.set_ylabel('Miles per Gallon')\n",
    "ax.set_xlabel('Horsepower')\n",
    "ax.legend()\n",
    "plt.show()"
   ]
  },
  {
   "source": [
    "### Seaborn"
   ],
   "cell_type": "markdown",
   "metadata": {}
  },
  {
   "cell_type": "code",
   "execution_count": null,
   "metadata": {},
   "outputs": [],
   "source": [
    "fig, ax = plt.subplots()\n",
    "sns.scatterplot(data=cars,\n",
    "                x=\"Horsepower\",\n",
    "                y=\"Miles_per_Gallon\",\n",
    "                hue=\"Origin\",\n",
    "                ax=ax)\n",
    "ax.set_ylabel('Miles per Gallon')\n",
    "ax.set_xlabel('Horsepower')\n",
    "plt.show()"
   ]
  },
  {
   "source": [
    "### Plotnine"
   ],
   "cell_type": "markdown",
   "metadata": {}
  },
  {
   "cell_type": "code",
   "execution_count": null,
   "metadata": {},
   "outputs": [],
   "source": [
    "(\n",
    "    ggplot(cars, aes(x=\"Horsepower\",\n",
    "                     y=\"Miles_per_Gallon\",\n",
    "                     color='Origin'))\n",
    "    + geom_point()\n",
    "    + ylab('Miles per Gallon')\n",
    ")"
   ]
  },
  {
   "source": [
    "### Altair\n",
    "\n",
    "(with interactivity)"
   ],
   "cell_type": "markdown",
   "metadata": {}
  },
  {
   "cell_type": "code",
   "execution_count": null,
   "metadata": {},
   "outputs": [],
   "source": [
    "alt.Chart(cars).mark_circle(size=60).encode(\n",
    "    x='Horsepower',\n",
    "    y=alt.Y('Miles_per_Gallon', axis=alt.Axis(title='dollar amount'))\n",
    "    color='Origin',\n",
    "    tooltip=['Name', 'Origin', 'Horsepower', 'Miles_per_Gallon']\n",
    ").interactive()"
   ]
  },
  {
   "source": [
    "## Line plot\n",
    "\n",
    "First, let's get some data on GDP growth:"
   ],
   "cell_type": "markdown",
   "metadata": {}
  },
  {
   "cell_type": "code",
   "execution_count": null,
   "metadata": {},
   "outputs": [],
   "source": [
    "import pandas_datareader.data as web\n",
    "\n",
    "ts_start_date = pd.to_datetime('1999-01-01')\n",
    "\n",
    "df = pd.concat([web.DataReader('ticker=RGDP' + x, 'econdb', start=ts_start_date) for x in ['US', 'UK']], axis=1)\n",
    "df.columns = ['US', 'UK']\n",
    "df.index.name = 'Date'\n",
    "df = 100*df.pct_change(4)\n",
    "df = pd.melt(df.reset_index(),\n",
    "             id_vars=['Date'],\n",
    "             value_vars=df.columns,\n",
    "             value_name='Real GDP growth, %',\n",
    "             var_name='Country')\n",
    "df = df.set_index('Date')\n",
    "df.head()"
   ]
  },
  {
   "source": [
    "### Matplotlib\n",
    "\n",
    "Note that **Matplotlib** prefers data to be one variable per column, in which case we could have just run\n",
    "\n",
    "```python\n",
    "fig, ax = plt.subplots()\n",
    "df.plot(ax=ax)\n",
    "ax.set_title('Real GDP growth, %', loc='right')\n",
    "ax.yaxis.tick_right()\n",
    "```\n",
    "\n",
    "but we are working with tidy data here, so we'll do the plotting slightly differently."
   ],
   "cell_type": "markdown",
   "metadata": {}
  },
  {
   "cell_type": "code",
   "execution_count": null,
   "metadata": {},
   "outputs": [],
   "source": [
    "colormap = plt.cm.Set1\n",
    "colorst = [colormap(i) for i in\n",
    "           np.linspace(0, 0.9, len(df['Country'].unique()))]\n",
    "fig, ax = plt.subplots()\n",
    "for i, country in enumerate(df['Country'].unique()):\n",
    "    df_sub = df[df['Country'] == country]\n",
    "    ax.plot(df_sub.index,\n",
    "               df_sub['Real GDP growth, %'],\n",
    "               color=colorst[i],\n",
    "               label=country,\n",
    "               lw=2)\n",
    "ax.set_title('Real GDP growth, %', loc='right')\n",
    "ax.yaxis.tick_right()\n",
    "ax.legend()\n",
    "plt.show()"
   ]
  },
  {
   "source": [
    "### Seaborn\n",
    "\n",
    "Note that **seaborn** prefers not to work with an index value so we use `df.reset_index()` to make the 'date' index column into a regular column in the snippet below:"
   ],
   "cell_type": "markdown",
   "metadata": {}
  },
  {
   "cell_type": "code",
   "execution_count": null,
   "metadata": {},
   "outputs": [],
   "source": [
    "fig, ax = plt.subplots()\n",
    "sns.lineplot(x=\"Date\", y=\"Real GDP growth, %\",\n",
    "             hue=\"Country\",\n",
    "             data=df.reset_index(),\n",
    "             ax=ax)\n",
    "ax.yaxis.tick_right()\n",
    "plt.show()"
   ]
  },
  {
   "source": [
    "### Plotnine"
   ],
   "cell_type": "markdown",
   "metadata": {}
  },
  {
   "cell_type": "code",
   "execution_count": null,
   "metadata": {},
   "outputs": [],
   "source": [
    "(\n",
    "    ggplot(df.reset_index(), aes(x='Date',\n",
    "                                 y='Real GDP growth, %',\n",
    "                                 color='Country'))\n",
    "    + geom_line()\n",
    ")"
   ]
  },
  {
   "source": [
    "### Altair"
   ],
   "cell_type": "markdown",
   "metadata": {}
  },
  {
   "cell_type": "code",
   "execution_count": null,
   "metadata": {},
   "outputs": [],
   "source": [
    "alt.Chart(df.reset_index()).mark_line().encode(\n",
    "    x='Date:T',\n",
    "    y='Real GDP growth, %',\n",
    "    color='Country',\n",
    "    strokeDash='Country',\n",
    ")"
   ]
  },
  {
   "source": [
    "## Bar chart\n",
    "\n",
    "Let's see a bar chart, using the 'barley' dataset."
   ],
   "cell_type": "markdown",
   "metadata": {}
  },
  {
   "cell_type": "code",
   "execution_count": null,
   "metadata": {},
   "outputs": [],
   "source": [
    "barley = data.barley()\n",
    "barley = pd.DataFrame(barley.groupby(['site'])['yield'].sum())\n",
    "barley.head()"
   ]
  },
  {
   "source": [
    "### Matplotlib"
   ],
   "cell_type": "markdown",
   "metadata": {}
  },
  {
   "cell_type": "code",
   "execution_count": null,
   "metadata": {},
   "outputs": [],
   "source": [
    "fig, ax = plt.subplots()\n",
    "ax.bar(barley.index, barley['yield'], 0.35)\n",
    "ax.set_title('Yield', loc='left')\n",
    "plt.show()"
   ]
  },
  {
   "source": [
    "### Seaborn"
   ],
   "cell_type": "markdown",
   "metadata": {}
  },
  {
   "cell_type": "code",
   "execution_count": null,
   "metadata": {},
   "outputs": [],
   "source": [
    "sns.catplot(\n",
    "    data=barley.reset_index(),\n",
    "    kind=\"bar\",\n",
    "    x=\"site\", y=\"yield\"\n",
    ")"
   ]
  },
  {
   "source": [
    "### Plotnine"
   ],
   "cell_type": "markdown",
   "metadata": {}
  },
  {
   "cell_type": "code",
   "execution_count": null,
   "metadata": {},
   "outputs": [],
   "source": [
    "(\n",
    "    ggplot(barley.reset_index(), aes(x='site', y='yield'))\n",
    "    + geom_col()\n",
    ")"
   ]
  },
  {
   "source": [
    "### Altair"
   ],
   "cell_type": "markdown",
   "metadata": {}
  },
  {
   "cell_type": "code",
   "execution_count": null,
   "metadata": {},
   "outputs": [],
   "source": [
    "alt.Chart(barley.reset_index()).mark_bar().encode(\n",
    "    x='site',\n",
    "    y='yield',\n",
    ").properties(\n",
    "    width=alt.Step(40)  # controls width of bar.\n",
    ")"
   ]
  },
  {
   "source": [
    "## Kernel density estimate\n",
    "\n"
   ],
   "cell_type": "markdown",
   "metadata": {}
  },
  {
   "cell_type": "code",
   "execution_count": null,
   "metadata": {},
   "outputs": [],
   "source": [
    "diamonds = sns.load_dataset(\"diamonds\").sample(1000)\n",
    "diamonds.head()"
   ]
  },
  {
   "cell_type": "code",
   "execution_count": null,
   "metadata": {},
   "outputs": [],
   "source": [
    "alt.Chart(diamonds).transform_density(\n",
    "    density='carat',\n",
    "    as_=['carat', 'density'],\n",
    "    groupby=['cut']\n",
    ").mark_area(fillOpacity=0.5).encode(\n",
    "    x='carat:Q',\n",
    "    y='density:Q',\n",
    "    color='cut:N',\n",
    ")"
   ]
  },
  {
   "cell_type": "code",
   "execution_count": null,
   "metadata": {},
   "outputs": [],
   "source": []
  }
 ],
 "metadata": {
  "celltoolbar": "Tags",
  "kernelspec": {
   "display_name": "codeforecon",
   "language": "python",
   "name": "codeforecon"
  },
  "language_info": {
   "codemirror_mode": {
    "name": "ipython",
    "version": 3
   },
   "file_extension": ".py",
   "mimetype": "text/x-python",
   "name": "python",
   "nbconvert_exporter": "python",
   "pygments_lexer": "ipython3",
   "version": "3.8.6-final"
  },
  "widgets": {
   "application/vnd.jupyter.widget-state+json": {
    "state": {},
    "version_major": 2,
    "version_minor": 0
   }
  }
 },
 "nbformat": 4,
 "nbformat_minor": 4
}
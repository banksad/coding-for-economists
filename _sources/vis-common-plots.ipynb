{
 "cells": [
  {
   "cell_type": "markdown",
   "metadata": {},
   "source": [
    "# Common Plots\n",
    "\n",
    "## Introduction\n",
    "\n",
    "In this chapter, we'll look at some of the most common plots that you might want to make--and how to create them using the most popular data visualisations libraries, including [**matplotlib**](https://matplotlib.org/), [**plotnine**](https://plotnine.readthedocs.io/en/stable/), [**seaborn**](https://seaborn.pydata.org/), [**altair**](https://altair-viz.github.io/), and [**plotly**](https://plotly.com/python/). If you need an introduction to these libraries, see the previous chapter.\n",
    " \n",
    "This chapter has benefited from [**viztech**](https://github.com/cstorm125/viztech), a repository that aims to recreate the entire Financial Times Visual Vocabulary using **plotnine**, from the **plotnine** documentation, from the **matplotlib** documentation, from the **seaborn** documentation, from the **altair** documentation, from the **plotly** documentation, and from examples posted around the web on forums and in blog posts. It's also worth noting that I'm more of an expert in **matplotlib** than anything else--I would really welcome contributions in the form of plots with particular libraries that I have not been able to find or implement myself.\n",
    "\n",
    "Bear in mind that for many of the **matplotlib** examples, using the `df.plot.*` syntax can get the plot you want more quickly! To be more comprehensive, the solution for any kind of data is shown in the examples below.\n",
    "\n",
    "Throughout, we'll assume that the data are in a tidy format (one row per observation, one variable per column). Remember that all Altair plots can be made interactive by adding `.interactive()` at the end.\n",
    "\n",
    "First, though, let's import the libraries we'll need."
   ]
  },
  {
   "cell_type": "code",
   "execution_count": 2,
   "metadata": {},
   "outputs": [],
   "source": [
    "import numpy as np\n",
    "import pandas as pd\n",
    "import seaborn as sns\n",
    "import matplotlib.pyplot as plt\n",
    "from plotnine import *\n",
    "import altair as alt\n",
    "import plotly.express as px\n",
    "from vega_datasets import data\n",
    "import os\n",
    "from pathlib import Path\n",
    "\n",
    "# Set seed for reproducibility\n",
    "np.random.seed(10)\n",
    "# Set max rows displayed for readability\n",
    "pd.set_option(\"display.max_rows\", 6)\n",
    "# Plot settings\n",
    "plt.style.use(\n",
    "    \"https://github.com/aeturrell/coding-for-economists/raw/main/plot_style.txt\"\n",
    ")"
   ]
  },
  {
   "cell_type": "markdown",
   "metadata": {},
   "source": [
    "## Scatter plot\n",
    "\n",
    "In this example, we will see a simple scatter plot with several categories using the \"cars\" data:"
   ]
  },
  {
   "cell_type": "code",
   "execution_count": null,
   "metadata": {},
   "outputs": [],
   "source": [
    "cars = data.cars()\n",
    "cars.head()"
   ]
  },
  {
   "cell_type": "markdown",
   "metadata": {},
   "source": [
    "### Matplotlib"
   ]
  },
  {
   "cell_type": "code",
   "execution_count": null,
   "metadata": {},
   "outputs": [],
   "source": [
    "fig, ax = plt.subplots()\n",
    "for origin in cars[\"Origin\"].unique():\n",
    "    cars_sub = cars[cars[\"Origin\"] == origin]\n",
    "    ax.scatter(cars_sub[\"Horsepower\"], cars_sub[\"Miles_per_Gallon\"], label=origin)\n",
    "ax.set_ylabel(\"Miles per Gallon\")\n",
    "ax.set_xlabel(\"Horsepower\")\n",
    "ax.legend()\n",
    "plt.show()"
   ]
  },
  {
   "cell_type": "markdown",
   "metadata": {},
   "source": [
    "### Seaborn\n",
    "\n",
    "In this first example, I'll also show how to tweak the labels by using the underlying matplolib `Axes` object, here called `ax`."
   ]
  },
  {
   "cell_type": "code",
   "execution_count": null,
   "metadata": {},
   "outputs": [],
   "source": [
    "fig, ax = plt.subplots()\n",
    "sns.scatterplot(data=cars, x=\"Horsepower\", y=\"Miles_per_Gallon\", hue=\"Origin\", ax=ax)\n",
    "ax.set_ylabel(\"Miles per Gallon\")\n",
    "ax.set_xlabel(\"Horsepower\")\n",
    "plt.show()"
   ]
  },
  {
   "cell_type": "markdown",
   "metadata": {},
   "source": [
    "### Plotnine"
   ]
  },
  {
   "cell_type": "code",
   "execution_count": null,
   "metadata": {},
   "outputs": [],
   "source": [
    "(\n",
    "    ggplot(cars, aes(x=\"Horsepower\", y=\"Miles_per_Gallon\", color=\"Origin\"))\n",
    "    + geom_point()\n",
    "    + ylab(\"Miles per Gallon\")\n",
    ")"
   ]
  },
  {
   "cell_type": "markdown",
   "metadata": {},
   "source": [
    "### Altair\n",
    "\n",
    "For this first example, we'll also show how to make the altair plot interactive with movable axes and more info on mouse-hover."
   ]
  },
  {
   "cell_type": "code",
   "execution_count": null,
   "metadata": {},
   "outputs": [],
   "source": [
    "alt.Chart(cars).mark_circle(size=60).encode(\n",
    "    x=\"Horsepower\",\n",
    "    y=\"Miles_per_Gallon\",\n",
    "    color=\"Origin\",\n",
    "    tooltip=[\"Name\", \"Origin\", \"Horsepower\", \"Miles_per_Gallon\"],\n",
    ").interactive()"
   ]
  },
  {
   "cell_type": "markdown",
   "metadata": {},
   "source": [
    "### Plotly\n",
    "\n",
    "Plotly is another declarative plotting library, at least sometimes (!), but one that is interactive by default."
   ]
  },
  {
   "cell_type": "code",
   "execution_count": null,
   "metadata": {},
   "outputs": [],
   "source": [
    "fig = px.scatter(\n",
    "    cars,\n",
    "    x=\"Horsepower\",\n",
    "    y=\"Miles_per_Gallon\",\n",
    "    color=\"Origin\",\n",
    "    hover_data=[\"Name\", \"Origin\", \"Horsepower\", \"Miles_per_Gallon\"],\n",
    ")\n",
    "fig.show()"
   ]
  },
  {
   "cell_type": "markdown",
   "metadata": {},
   "source": [
    "## Facets\n",
    "\n",
    "This applies to all plots, so in some sense is common! Facets, aka panels or small multiples, are ways of showing the same chart multiple times. Let's see how to achieve them in a few of the most popular plotting libraries.\n",
    "\n",
    "We'll use the \"tips\" dataset for this."
   ]
  },
  {
   "cell_type": "code",
   "execution_count": null,
   "metadata": {},
   "outputs": [],
   "source": [
    "df = sns.load_dataset(\"tips\")\n",
    "df.head()"
   ]
  },
  {
   "cell_type": "markdown",
   "metadata": {},
   "source": [
    "### Matplotlib\n",
    "\n",
    "There are many ways to create facets using Matplotlib, and you can get facets in any shape or sizes you like. \n",
    "\n",
    "The easiest way, though, is to specify the number of rows and columns. This is achieved by specifying `nrows` and `ncols` when calling `plt.subplots`. It returns an array of shape `(nrows, ncols)` of `Axes` objects. For most purposes, you'll want to flatten these to a vector before iterating over them."
   ]
  },
  {
   "cell_type": "code",
   "execution_count": null,
   "metadata": {},
   "outputs": [],
   "source": [
    "fig, axes = plt.subplots(nrows=1, ncols=4, sharex=True, sharey=True)\n",
    "flat_axes = axes.flatten()  # Not needed with 1 row or 1 col, but good to be aware of\n",
    "\n",
    "facet_grp = list(df[\"day\"].unique())\n",
    "# This part just to get some colours from the default color cycle\n",
    "cycle = axes[0]._get_lines.prop_cycler\n",
    "for i, ax in enumerate(flat_axes):\n",
    "    sub_df = df.loc[df[\"day\"] == facet_grp[i]]\n",
    "    ax.scatter(\n",
    "        sub_df[\"tip\"],\n",
    "        sub_df[\"total_bill\"],\n",
    "        s=30,\n",
    "        edgecolor=\"k\",\n",
    "        color=next(cycle)[\"color\"],\n",
    "    )\n",
    "    ax.set_title(facet_grp[i])\n",
    "fig.text(0.5, 0.01, \"Tip\", ha=\"center\")\n",
    "fig.text(0.0, 0.5, \"Total bill\", va=\"center\", rotation=\"vertical\")\n",
    "plt.tight_layout()\n",
    "plt.show()"
   ]
  },
  {
   "cell_type": "markdown",
   "metadata": {},
   "source": [
    "Different facet sizes are possible in numerous ways. In practice, it's often better to have evenly sized facets laid out in a grid--especially each facet is of the same x and y axes. But, just to show it's possible, here's an example that gives more space to the weekend than to weekdays using the tips dataset: "
   ]
  },
  {
   "cell_type": "code",
   "execution_count": null,
   "metadata": {},
   "outputs": [],
   "source": [
    "# This part just to get some colours\n",
    "colormap = plt.cm.Dark2\n",
    "\n",
    "fig = plt.figure(constrained_layout=True)\n",
    "ax_dict = fig.subplot_mosaic([[\"Thur\", \"Fri\", \"Sat\", \"Sat\", \"Sun\", \"Sun\"]])\n",
    "facet_grp = list(ax_dict.keys())\n",
    "colorst = [colormap(i) for i in np.linspace(0, 0.9, len(facet_grp))]\n",
    "for i, grp in enumerate(facet_grp):\n",
    "    sub_df = df.loc[df[\"day\"] == facet_grp[i]]\n",
    "    ax_dict[grp].scatter(\n",
    "        sub_df[\"tip\"],\n",
    "        sub_df[\"total_bill\"],\n",
    "        s=30,\n",
    "        edgecolor=\"k\",\n",
    "        color=colorst[i],\n",
    "    )\n",
    "    ax_dict[grp].set_title(facet_grp[i])\n",
    "    if grp != \"Thurs\":\n",
    "        ax_dict[grp].set_yticklabels([])\n",
    "plt.tight_layout()\n",
    "fig.text(0.5, 0, \"Tip\", ha=\"center\")\n",
    "fig.text(0, 0.5, \"Total bill\", va=\"center\", rotation=\"vertical\")\n",
    "plt.show()"
   ]
  },
  {
   "cell_type": "markdown",
   "metadata": {},
   "source": [
    "As well as using lists, you can also specify the layout using an array or using text, eg"
   ]
  },
  {
   "cell_type": "code",
   "execution_count": null,
   "metadata": {},
   "outputs": [],
   "source": [
    "axd = plt.figure(constrained_layout=True).subplot_mosaic(\n",
    "    \"\"\"\n",
    "    ABD\n",
    "    CCD\n",
    "    CC.\n",
    "    \"\"\"\n",
    ")\n",
    "kw = dict(ha=\"center\", va=\"center\", fontsize=60, color=\"darkgrey\")\n",
    "for k, ax in axd.items():\n",
    "    ax.text(0.5, 0.5, k, transform=ax.transAxes, **kw)"
   ]
  },
  {
   "cell_type": "markdown",
   "metadata": {},
   "source": [
    "### Seaborn\n",
    "\n",
    "Seaborn makes it easy to quickly create facet plots. Note the use of `col_wrap`."
   ]
  },
  {
   "cell_type": "code",
   "execution_count": null,
   "metadata": {},
   "outputs": [],
   "source": [
    "sns.relplot(\n",
    "    data=df,\n",
    "    y=\"total_bill\",\n",
    "    x=\"tip\",\n",
    "    col=\"day\",\n",
    "    hue=\"day\",\n",
    "    col_wrap=2,\n",
    "    kind=\"scatter\",\n",
    "    height=3,\n",
    "    aspect=1.25,\n",
    ");"
   ]
  },
  {
   "cell_type": "markdown",
   "metadata": {},
   "source": [
    "A nice feature of seaborn that is much more fiddly in (base) matplotlib is the ability to specify rows and columns separately: (smoker)"
   ]
  },
  {
   "cell_type": "code",
   "execution_count": null,
   "metadata": {},
   "outputs": [],
   "source": [
    "sns.relplot(\n",
    "    data=df,\n",
    "    y=\"total_bill\",\n",
    "    x=\"tip\",\n",
    "    col=\"day\",\n",
    "    row=\"smoker\",\n",
    "    hue=\"smoker\",\n",
    "    kind=\"scatter\",\n",
    "    height=2.5,\n",
    "    aspect=1,\n",
    ");"
   ]
  },
  {
   "cell_type": "markdown",
   "metadata": {},
   "source": [
    "### Plotnine\n",
    "\n",
    "Plotnine has several ways to wrap facets but perhaps the most delightful is to specify a formula for the variations to be encoded in the facets."
   ]
  },
  {
   "cell_type": "code",
   "execution_count": null,
   "metadata": {},
   "outputs": [],
   "source": [
    "(\n",
    "    ggplot(df, aes(x=\"tip\", y=\"total_bill\", color=\"smoker\"))\n",
    "    + geom_point()\n",
    "    + facet_wrap(\n",
    "        \"~ smoker + day\", nrow=2\n",
    "    )  # use ~ + to add additional faceting variables\n",
    ")"
   ]
  },
  {
   "cell_type": "markdown",
   "metadata": {},
   "source": [
    "### Altair\n",
    "\n"
   ]
  },
  {
   "cell_type": "code",
   "execution_count": null,
   "metadata": {},
   "outputs": [],
   "source": [
    "alt.Chart(df).mark_point().encode(\n",
    "    x=\"tip:Q\",\n",
    "    y=\"total_bill:Q\",\n",
    "    color=\"smoker:N\",\n",
    "    facet=alt.Facet(\"day:N\", columns=2),\n",
    ").properties(\n",
    "    width=200,\n",
    "    height=100,\n",
    ")"
   ]
  },
  {
   "cell_type": "markdown",
   "metadata": {},
   "source": [
    "### Plotly"
   ]
  },
  {
   "cell_type": "code",
   "execution_count": null,
   "metadata": {},
   "outputs": [],
   "source": [
    "fig = px.scatter(\n",
    "    df, x=\"tip\", y=\"total_bill\", color=\"smoker\", facet_row=\"smoker\", facet_col=\"day\"\n",
    ")\n",
    "fig.show()"
   ]
  },
  {
   "cell_type": "markdown",
   "metadata": {},
   "source": [
    "## Connected scatter plot\n",
    "\n",
    "A simple variation on the scatter plot designed to show an ordering, usually of time. We'll trace out a Beveridge curve based on US data."
   ]
  },
  {
   "cell_type": "code",
   "execution_count": null,
   "metadata": {},
   "outputs": [],
   "source": [
    "import pandas_datareader.data as web\n",
    "import datetime\n",
    "\n",
    "start = datetime.datetime(2000, 1, 1)\n",
    "end = datetime.datetime(2021, 1, 1)\n",
    "code_dict = {\n",
    "    \"Vacancies\": \"LMJVTTUVUSA647N\",\n",
    "    \"Unemployment\": \"UNRATE\",\n",
    "    \"LabourForce\": \"CLF16OV\",\n",
    "}\n",
    "list_dfs = [\n",
    "    web.DataReader(value, \"fred\", start, end)\n",
    "    .rename(columns={value: key})\n",
    "    .groupby(pd.Grouper(freq=\"AS\"))\n",
    "    .mean()\n",
    "    for key, value in code_dict.items()\n",
    "]\n",
    "df = pd.concat(list_dfs, axis=1)\n",
    "df = df.assign(Vacancies=100 * df[\"Vacancies\"] / (df[\"LabourForce\"] * 1e3)).dropna()\n",
    "df[\"Year\"] = df.index.year\n",
    "df.head()"
   ]
  },
  {
   "cell_type": "markdown",
   "metadata": {},
   "source": [
    "### Matplotlib\n",
    "\n"
   ]
  },
  {
   "cell_type": "code",
   "execution_count": null,
   "metadata": {},
   "outputs": [],
   "source": [
    "plt.close(\"all\")\n",
    "fig, ax = plt.subplots()\n",
    "quivx = -df[\"Unemployment\"].diff(-1)\n",
    "quivy = -df[\"Vacancies\"].diff(-1)\n",
    "# This connects the points\n",
    "ax.quiver(\n",
    "    df[\"Unemployment\"],\n",
    "    df[\"Vacancies\"],\n",
    "    quivx,\n",
    "    quivy,\n",
    "    scale_units=\"xy\",\n",
    "    angles=\"xy\",\n",
    "    scale=1,\n",
    "    width=0.006,\n",
    "    alpha=0.3,\n",
    ")\n",
    "ax.scatter(\n",
    "    df[\"Unemployment\"],\n",
    "    df[\"Vacancies\"],\n",
    "    marker=\"o\",\n",
    "    s=35,\n",
    "    edgecolor=\"black\",\n",
    "    linewidth=0.2,\n",
    "    alpha=0.9,\n",
    ")\n",
    "for j in [0, -1]:\n",
    "    ax.annotate(\n",
    "        df[\"Year\"].iloc[j],\n",
    "        xy=(df[[\"Unemployment\", \"Vacancies\"]].iloc[j].tolist()),\n",
    "        xycoords=\"data\",\n",
    "        xytext=(-20, -40),\n",
    "        textcoords=\"offset points\",\n",
    "        arrowprops=dict(arrowstyle=\"->\", connectionstyle=\"angle3,angleA=0,angleB=-90\"),\n",
    "    )\n",
    "ax.set_xlabel(\"Unemployment rate, %\")\n",
    "ax.set_ylabel(\"Vacancy rate, %\")\n",
    "plt.tight_layout()\n",
    "plt.show()"
   ]
  },
  {
   "cell_type": "markdown",
   "metadata": {},
   "source": [
    "### Plotnine"
   ]
  },
  {
   "cell_type": "code",
   "execution_count": null,
   "metadata": {},
   "outputs": [],
   "source": [
    "g = (\n",
    "    ggplot(\n",
    "        df.reset_index()[[\"Vacancies\", \"Unemployment\", \"Year\"]],\n",
    "        aes(x=\"Unemployment\", y=\"Vacancies\"),\n",
    "    )\n",
    "    + geom_point(color=\"brown\")\n",
    "    + geom_path()\n",
    "    + geom_label(\n",
    "        aes(x=df.iloc[0, 1], y=df.iloc[0, 0]), label=df.iloc[0, -1], nudge_y=0.01\n",
    "    )\n",
    "    + geom_label(\n",
    "        aes(x=df.iloc[-1, 1], y=df.iloc[-1, 0]), label=df.iloc[-1, -1], nudge_y=0.01\n",
    "    )\n",
    ")\n",
    "g"
   ]
  },
  {
   "cell_type": "markdown",
   "metadata": {},
   "source": [
    "## Bubble plot\n",
    "\n",
    "This is a scatter plot where the size of the point carries an extra dimension of information."
   ]
  },
  {
   "cell_type": "markdown",
   "metadata": {},
   "source": [
    "### Matplotlib\n",
    "\n"
   ]
  },
  {
   "cell_type": "code",
   "execution_count": null,
   "metadata": {},
   "outputs": [],
   "source": [
    "fig, ax = plt.subplots()\n",
    "scat = ax.scatter(\n",
    "    cars[\"Horsepower\"], cars[\"Miles_per_Gallon\"], s=cars[\"Displacement\"], alpha=0.4\n",
    ")\n",
    "ax.set_ylabel(\"Miles per Gallon\")\n",
    "ax.set_xlabel(\"Horsepower\")\n",
    "ax.legend(\n",
    "    *scat.legend_elements(prop=\"sizes\", num=4),\n",
    "    loc=\"upper right\",\n",
    "    title=\"Displacement\",\n",
    "    frameon=False,\n",
    ")\n",
    "plt.show()"
   ]
  },
  {
   "cell_type": "markdown",
   "metadata": {},
   "source": [
    "### Seaborn\n",
    "\n"
   ]
  },
  {
   "cell_type": "code",
   "execution_count": null,
   "metadata": {},
   "outputs": [],
   "source": [
    "sns.scatterplot(data=cars, x=\"Horsepower\", y=\"Miles_per_Gallon\", size=\"Displacement\");"
   ]
  },
  {
   "cell_type": "markdown",
   "metadata": {},
   "source": [
    "### Plotnine"
   ]
  },
  {
   "cell_type": "code",
   "execution_count": null,
   "metadata": {},
   "outputs": [],
   "source": [
    "(\n",
    "    ggplot(cars, aes(x=\"Horsepower\", y=\"Miles_per_Gallon\", size=\"Displacement\"))\n",
    "    + geom_point()\n",
    ")"
   ]
  },
  {
   "cell_type": "markdown",
   "metadata": {},
   "source": [
    "### Altair\n"
   ]
  },
  {
   "cell_type": "code",
   "execution_count": null,
   "metadata": {},
   "outputs": [],
   "source": [
    "alt.Chart(cars).mark_circle().encode(\n",
    "    x=\"Horsepower\", y=\"Miles_per_Gallon\", size=\"Displacement\"\n",
    ")"
   ]
  },
  {
   "cell_type": "markdown",
   "metadata": {},
   "source": [
    "### Plotly"
   ]
  },
  {
   "cell_type": "code",
   "execution_count": null,
   "metadata": {},
   "outputs": [],
   "source": [
    "# Adding a new col is easiest way to get displacement into legend with plotly:\n",
    "cars[\"Displacement_Size\"] = pd.cut(cars[\"Displacement\"], bins=4)\n",
    "fig = px.scatter(\n",
    "    cars,\n",
    "    x=\"Horsepower\",\n",
    "    y=\"Miles_per_Gallon\",\n",
    "    size=\"Displacement\",\n",
    "    color=\"Displacement_Size\",\n",
    ")\n",
    "fig.show()"
   ]
  },
  {
   "cell_type": "markdown",
   "metadata": {},
   "source": [
    "## Line plot\n",
    "\n",
    "First, let's get some data on GDP growth:"
   ]
  },
  {
   "cell_type": "code",
   "execution_count": null,
   "metadata": {},
   "outputs": [],
   "source": [
    "import pandas_datareader.data as web\n",
    "\n",
    "ts_start_date = pd.to_datetime(\"1999-01-01\")\n",
    "\n",
    "df = pd.concat(\n",
    "    [\n",
    "        web.DataReader(\"ticker=RGDP\" + x, \"econdb\", start=ts_start_date)\n",
    "        for x in [\"US\", \"UK\"]\n",
    "    ],\n",
    "    axis=1,\n",
    ")\n",
    "df.columns = [\"US\", \"UK\"]\n",
    "df.index.name = \"Date\"\n",
    "df = 100 * df.pct_change(4)\n",
    "df = pd.melt(\n",
    "    df.reset_index(),\n",
    "    id_vars=[\"Date\"],\n",
    "    value_vars=df.columns,\n",
    "    value_name=\"Real GDP growth, %\",\n",
    "    var_name=\"Country\",\n",
    ")\n",
    "df = df.set_index(\"Date\")\n",
    "df.head()"
   ]
  },
  {
   "cell_type": "markdown",
   "metadata": {},
   "source": [
    "### Matplotlib\n",
    "\n",
    "Note that **Matplotlib** prefers data to be one variable per column, in which case we could have just run\n",
    "\n",
    "```python\n",
    "fig, ax = plt.subplots()\n",
    "df.plot(ax=ax)\n",
    "ax.set_title('Real GDP growth, %', loc='right')\n",
    "ax.yaxis.tick_right()\n",
    "```\n",
    "\n",
    "but we are working with tidy data here, so we'll do the plotting slightly differently."
   ]
  },
  {
   "cell_type": "code",
   "execution_count": null,
   "metadata": {},
   "outputs": [],
   "source": [
    "fig, ax = plt.subplots()\n",
    "for i, country in enumerate(df[\"Country\"].unique()):\n",
    "    df_sub = df[df[\"Country\"] == country]\n",
    "    ax.plot(df_sub.index, df_sub[\"Real GDP growth, %\"], label=country, lw=2)\n",
    "ax.set_title(\"Real GDP growth, %\", loc=\"right\")\n",
    "ax.yaxis.tick_right()\n",
    "ax.spines[\"right\"].set_visible(True)\n",
    "ax.spines[\"left\"].set_visible(False)\n",
    "ax.legend(loc=\"lower left\")\n",
    "plt.show()"
   ]
  },
  {
   "cell_type": "markdown",
   "metadata": {},
   "source": [
    "### Seaborn\n",
    "\n",
    "Note that **seaborn** prefers not to work with an index value so we use `df.reset_index()` to make the 'date' index column into a regular column in the snippet below:"
   ]
  },
  {
   "cell_type": "code",
   "execution_count": null,
   "metadata": {},
   "outputs": [],
   "source": [
    "fig, ax = plt.subplots()\n",
    "y_var = \"Real GDP growth, %\"\n",
    "sns.lineplot(x=\"Date\", y=y_var, hue=\"Country\", data=df.reset_index(), ax=ax)\n",
    "ax.yaxis.tick_right()\n",
    "ax.spines[\"right\"].set_visible(True)\n",
    "ax.spines[\"left\"].set_visible(False)\n",
    "ax.set_ylabel(\"\")\n",
    "ax.set_title(y_var)\n",
    "plt.show()"
   ]
  },
  {
   "cell_type": "markdown",
   "metadata": {},
   "source": [
    "### Plotnine"
   ]
  },
  {
   "cell_type": "code",
   "execution_count": null,
   "metadata": {},
   "outputs": [],
   "source": [
    "(\n",
    "    ggplot(df.reset_index(), aes(x=\"Date\", y=\"Real GDP growth, %\", color=\"Country\"))\n",
    "    + geom_line()\n",
    ")"
   ]
  },
  {
   "cell_type": "markdown",
   "metadata": {},
   "source": [
    "### Altair"
   ]
  },
  {
   "cell_type": "code",
   "execution_count": null,
   "metadata": {},
   "outputs": [],
   "source": [
    "alt.Chart(df.reset_index()).mark_line().encode(\n",
    "    x=\"Date:T\",\n",
    "    y=\"Real GDP growth, %\",\n",
    "    color=\"Country\",\n",
    "    strokeDash=\"Country\",\n",
    ")"
   ]
  },
  {
   "cell_type": "markdown",
   "metadata": {},
   "source": [
    "### Plotly"
   ]
  },
  {
   "cell_type": "code",
   "execution_count": null,
   "metadata": {},
   "outputs": [],
   "source": [
    "fig = px.line(\n",
    "    df.reset_index(),\n",
    "    x=\"Date\",\n",
    "    y=\"Real GDP growth, %\",\n",
    "    color=\"Country\",\n",
    "    line_dash=\"Country\",\n",
    ")\n",
    "fig.show()"
   ]
  },
  {
   "cell_type": "markdown",
   "metadata": {},
   "source": [
    "## Bar chart\n",
    "\n",
    "Let's see a bar chart, using the 'barley' dataset."
   ]
  },
  {
   "cell_type": "code",
   "execution_count": null,
   "metadata": {},
   "outputs": [],
   "source": [
    "barley = data.barley()\n",
    "barley = pd.DataFrame(barley.groupby([\"site\"])[\"yield\"].sum())\n",
    "barley.head()"
   ]
  },
  {
   "cell_type": "markdown",
   "metadata": {},
   "source": [
    "### Matplotlib\n",
    "\n",
    "Just remove the 'h' in `ax.barh` to get a vertical plot."
   ]
  },
  {
   "cell_type": "code",
   "execution_count": null,
   "metadata": {},
   "outputs": [],
   "source": [
    "fig, ax = plt.subplots()\n",
    "ax.barh(barley[\"yield\"].index, barley[\"yield\"], 0.35)\n",
    "ax.set_xlabel(\"Yield\")\n",
    "plt.show()"
   ]
  },
  {
   "cell_type": "markdown",
   "metadata": {},
   "source": [
    "### Seaborn\n",
    "\n",
    "Just switch x and y variables to get a vertical plot."
   ]
  },
  {
   "cell_type": "code",
   "execution_count": null,
   "metadata": {},
   "outputs": [],
   "source": [
    "sns.catplot(\n",
    "    data=barley.reset_index(),\n",
    "    kind=\"bar\",\n",
    "    y=\"site\",\n",
    "    x=\"yield\",\n",
    ")"
   ]
  },
  {
   "cell_type": "markdown",
   "metadata": {},
   "source": [
    "### Plotnine\n",
    "\n",
    "Just omit `coord_flip()` to get a vertical plot."
   ]
  },
  {
   "cell_type": "code",
   "execution_count": null,
   "metadata": {},
   "outputs": [],
   "source": [
    "(ggplot(barley.reset_index(), aes(x=\"site\", y=\"yield\")) + geom_col() + coord_flip())"
   ]
  },
  {
   "cell_type": "markdown",
   "metadata": {},
   "source": [
    "### Altair\n",
    "\n",
    "Just switch x and y to get a vertical plot."
   ]
  },
  {
   "cell_type": "code",
   "execution_count": null,
   "metadata": {},
   "outputs": [],
   "source": [
    "alt.Chart(barley.reset_index()).mark_bar().encode(y=\"site\", x=\"yield\",).properties(\n",
    "    width=alt.Step(40)  # controls width of bar.\n",
    ")"
   ]
  },
  {
   "cell_type": "markdown",
   "metadata": {},
   "source": [
    "### Plotly"
   ]
  },
  {
   "cell_type": "code",
   "execution_count": null,
   "metadata": {},
   "outputs": [],
   "source": [
    "fig = px.bar(barley.reset_index(), y=\"site\", x=\"yield\")\n",
    "fig.show()"
   ]
  },
  {
   "cell_type": "markdown",
   "metadata": {},
   "source": [
    "## Grouped bar chart\n",
    "\n"
   ]
  },
  {
   "cell_type": "code",
   "execution_count": null,
   "metadata": {},
   "outputs": [],
   "source": [
    "barley = data.barley()\n",
    "barley = pd.DataFrame(barley.groupby([\"site\", \"year\"])[\"yield\"].sum()).reset_index()\n",
    "barley.head()"
   ]
  },
  {
   "cell_type": "markdown",
   "metadata": {},
   "source": [
    "### Matplotlib"
   ]
  },
  {
   "cell_type": "code",
   "execution_count": null,
   "metadata": {},
   "outputs": [],
   "source": [
    "labels = barley[\"site\"].unique()\n",
    "y = np.arange(len(labels))  # the label locations\n",
    "width = 0.35  # the width of the bars\n",
    "\n",
    "fig, ax = plt.subplots()\n",
    "ax.barh(y - width / 2, barley.loc[barley[\"year\"] == 1931, \"yield\"], width, label=\"1931\")\n",
    "ax.barh(y + width / 2, barley.loc[barley[\"year\"] == 1932, \"yield\"], width, label=\"1932\")\n",
    "\n",
    "# Add some text for labels, title and custom x-axis tick labels, etc.\n",
    "ax.set_xlabel(\"Yield\")\n",
    "ax.set_yticks(y)\n",
    "ax.set_yticklabels(labels)\n",
    "ax.legend(frameon=False)\n",
    "plt.show()"
   ]
  },
  {
   "cell_type": "markdown",
   "metadata": {},
   "source": [
    "### Seaborn"
   ]
  },
  {
   "cell_type": "code",
   "execution_count": null,
   "metadata": {},
   "outputs": [],
   "source": [
    "sns.catplot(data=barley, kind=\"bar\", y=\"site\", x=\"yield\", hue=\"year\")"
   ]
  },
  {
   "cell_type": "markdown",
   "metadata": {},
   "source": [
    "### Plotnine"
   ]
  },
  {
   "cell_type": "code",
   "execution_count": null,
   "metadata": {},
   "outputs": [],
   "source": [
    "(\n",
    "    ggplot(barley, aes(x=\"site\", y=\"yield\", fill=\"factor(year)\"))\n",
    "    + geom_col(position=\"dodge\")\n",
    "    + coord_flip()\n",
    ")"
   ]
  },
  {
   "cell_type": "markdown",
   "metadata": {},
   "source": [
    "### Altair\n"
   ]
  },
  {
   "cell_type": "code",
   "execution_count": null,
   "metadata": {},
   "outputs": [],
   "source": [
    "alt.Chart(barley.reset_index()).mark_bar().encode(\n",
    "    y=\"year:O\", x=\"yield\", color=\"year:N\", row=\"site:N\"\n",
    ").properties(\n",
    "    width=alt.Step(40)  # controls width of bar.\n",
    ")"
   ]
  },
  {
   "cell_type": "markdown",
   "metadata": {},
   "source": [
    "### Plotly"
   ]
  },
  {
   "cell_type": "code",
   "execution_count": null,
   "metadata": {},
   "outputs": [],
   "source": [
    "px_barley = barley.reset_index()\n",
    "# This prevents plotly from using a continuous scale for year\n",
    "px_barley[\"year\"] = px_barley[\"year\"].astype(\"category\")\n",
    "fig = px.bar(px_barley, y=\"site\", x=\"yield\", barmode=\"group\", color=\"year\")\n",
    "fig.show()"
   ]
  },
  {
   "cell_type": "markdown",
   "metadata": {},
   "source": [
    "## Stacked bar chart\n",
    "\n"
   ]
  },
  {
   "cell_type": "markdown",
   "metadata": {},
   "source": [
    "### Matplotlib "
   ]
  },
  {
   "cell_type": "code",
   "execution_count": null,
   "metadata": {},
   "outputs": [],
   "source": [
    "labels = barley[\"site\"].unique()\n",
    "y = np.arange(len(labels))  # the label locations\n",
    "width = 0.35  # the width (or height) of the bars\n",
    "\n",
    "fig, ax = plt.subplots()\n",
    "ax.barh(y, barley.loc[barley[\"year\"] == 1931, \"yield\"], width, label=\"1931\")\n",
    "ax.barh(\n",
    "    y,\n",
    "    barley.loc[barley[\"year\"] == 1932, \"yield\"],\n",
    "    width,\n",
    "    label=\"1932\",\n",
    "    left=barley.loc[barley[\"year\"] == 1931, \"yield\"],\n",
    ")\n",
    "\n",
    "# Add some text for labels, title and custom x-axis tick labels, etc.\n",
    "ax.set_xlabel(\"Yield\")\n",
    "ax.set_yticks(y)\n",
    "ax.set_yticklabels(labels)\n",
    "ax.legend(frameon=False)\n",
    "plt.show()"
   ]
  },
  {
   "cell_type": "markdown",
   "metadata": {},
   "source": [
    "### Seaborn\n",
    "\n",
    "As far as I know, there's no easy way of doing this."
   ]
  },
  {
   "cell_type": "markdown",
   "metadata": {},
   "source": [
    "### Plotnine\n",
    "\n"
   ]
  },
  {
   "cell_type": "code",
   "execution_count": null,
   "metadata": {},
   "outputs": [],
   "source": [
    "(\n",
    "    ggplot(barley, aes(x=\"site\", y=\"yield\", fill=\"factor(year)\"))\n",
    "    + geom_col()\n",
    "    + coord_flip()\n",
    ")"
   ]
  },
  {
   "cell_type": "markdown",
   "metadata": {},
   "source": [
    "### Altair"
   ]
  },
  {
   "cell_type": "code",
   "execution_count": null,
   "metadata": {},
   "outputs": [],
   "source": [
    "alt.Chart(barley.reset_index()).mark_bar().encode(\n",
    "    y=\"site\",\n",
    "    x=\"yield\",\n",
    "    color=\"year:N\",\n",
    ").properties(\n",
    "    width=alt.Step(40)  # controls width of bar.\n",
    ")"
   ]
  },
  {
   "cell_type": "markdown",
   "metadata": {},
   "source": [
    "### Plotly"
   ]
  },
  {
   "cell_type": "code",
   "execution_count": null,
   "metadata": {},
   "outputs": [],
   "source": [
    "fig = px.bar(px_barley, y=\"site\", x=\"yield\", barmode=\"relative\", color=\"year\")\n",
    "fig.show()"
   ]
  },
  {
   "cell_type": "markdown",
   "metadata": {},
   "source": [
    "## Kernel density estimate\n",
    "\n",
    "We'll use the diamonds dataset to demonstrate this."
   ]
  },
  {
   "cell_type": "code",
   "execution_count": null,
   "metadata": {},
   "outputs": [],
   "source": [
    "diamonds = sns.load_dataset(\"diamonds\").sample(1000)\n",
    "diamonds.head()"
   ]
  },
  {
   "cell_type": "markdown",
   "metadata": {},
   "source": [
    "### Matplotlib\n",
    "\n",
    "Technically, there is a way to do this but it's pretty inelegant if you want a quick plot. That's because **matplotlib** doesn't do the density estimation itself. [Jake Vanderplas](https://jakevdp.github.io/PythonDataScienceHandbook/05.13-kernel-density-estimation.html) has a nice example but as it relies on a few extra libraries, I won't reproduce it here."
   ]
  },
  {
   "cell_type": "markdown",
   "metadata": {},
   "source": [
    "### Seaborn\n",
    "\n"
   ]
  },
  {
   "cell_type": "code",
   "execution_count": null,
   "metadata": {},
   "outputs": [],
   "source": [
    "sns.displot(diamonds, x=\"carat\", kind=\"kde\", hue=\"cut\", fill=True);"
   ]
  },
  {
   "cell_type": "markdown",
   "metadata": {},
   "source": [
    "### Plotnine\n",
    "\n"
   ]
  },
  {
   "cell_type": "code",
   "execution_count": null,
   "metadata": {},
   "outputs": [],
   "source": [
    "(ggplot(diamonds, aes(x=\"carat\", fill=\"cut\", colour=\"cut\")) + geom_density(alpha=0.5))"
   ]
  },
  {
   "cell_type": "markdown",
   "metadata": {},
   "source": [
    "### Altair"
   ]
  },
  {
   "cell_type": "code",
   "execution_count": null,
   "metadata": {},
   "outputs": [],
   "source": [
    "alt.Chart(diamonds).transform_density(\n",
    "    density=\"carat\", as_=[\"carat\", \"density\"], groupby=[\"cut\"]\n",
    ").mark_area(fillOpacity=0.5).encode(\n",
    "    x=\"carat:Q\",\n",
    "    y=\"density:Q\",\n",
    "    color=\"cut:N\",\n",
    ")"
   ]
  },
  {
   "cell_type": "markdown",
   "metadata": {},
   "source": [
    "### Plotly"
   ]
  },
  {
   "cell_type": "code",
   "execution_count": null,
   "metadata": {},
   "outputs": [],
   "source": [
    "import plotly.figure_factory as ff\n",
    "\n",
    "px_di = diamonds.pivot(columns=\"cut\", values=\"carat\")\n",
    "ff.create_distplot(\n",
    "    [px_di[c].dropna() for c in px_di.columns],\n",
    "    group_labels=px_di.columns,\n",
    "    show_rug=False,\n",
    "    show_hist=False,\n",
    ")"
   ]
  },
  {
   "cell_type": "markdown",
   "metadata": {},
   "source": [
    "## Histogram or probability density function\n",
    "\n",
    "For this, let's go back to the penguins dataset."
   ]
  },
  {
   "cell_type": "code",
   "execution_count": null,
   "metadata": {},
   "outputs": [],
   "source": [
    "penguins = sns.load_dataset(\"penguins\")\n",
    "penguins.head()"
   ]
  },
  {
   "cell_type": "markdown",
   "metadata": {},
   "source": [
    "### Matplotlib\n",
    "\n",
    "The `density=` keyword parameter decides whether to create counts or a probability density function."
   ]
  },
  {
   "cell_type": "code",
   "execution_count": null,
   "metadata": {},
   "outputs": [],
   "source": [
    "fig, ax = plt.subplots()\n",
    "ax.hist(penguins[\"flipper_length_mm\"], bins=30, density=True, edgecolor=\"k\")\n",
    "ax.set_xlabel(\"Flipper length (mm)\")\n",
    "ax.set_ylabel(\"Probability density\")\n",
    "fig.tight_layout()\n",
    "plt.show()"
   ]
  },
  {
   "cell_type": "markdown",
   "metadata": {},
   "source": [
    "### Seaborn"
   ]
  },
  {
   "cell_type": "code",
   "execution_count": null,
   "metadata": {},
   "outputs": [],
   "source": [
    "sns.histplot(data=penguins, x=\"flipper_length_mm\", bins=30, stat=\"density\");"
   ]
  },
  {
   "cell_type": "markdown",
   "metadata": {},
   "source": [
    "### Plotnine\n",
    "\n"
   ]
  },
  {
   "cell_type": "code",
   "execution_count": null,
   "metadata": {},
   "outputs": [],
   "source": [
    "(\n",
    "    ggplot(penguins, aes(x=\"flipper_length_mm\", y=\"stat(density)\"))\n",
    "    + geom_histogram(bins=30)  # specify the binwidth\n",
    ")"
   ]
  },
  {
   "cell_type": "markdown",
   "metadata": {},
   "source": [
    "### Altair\n",
    "\n"
   ]
  },
  {
   "cell_type": "code",
   "execution_count": null,
   "metadata": {},
   "outputs": [],
   "source": [
    "alt.Chart(penguins).mark_bar().encode(\n",
    "    alt.X(\"flipper_length_mm:Q\", bin=True),\n",
    "    y=\"count()\",\n",
    ")"
   ]
  },
  {
   "cell_type": "markdown",
   "metadata": {},
   "source": [
    "### Plotly\n",
    "\n"
   ]
  },
  {
   "cell_type": "code",
   "execution_count": null,
   "metadata": {},
   "outputs": [],
   "source": [
    "fig = px.histogram(penguins, x=\"flipper_length_mm\", nbins=30)\n",
    "fig.show()"
   ]
  },
  {
   "cell_type": "markdown",
   "metadata": {},
   "source": [
    "## Marginal histograms\n",
    "\n"
   ]
  },
  {
   "cell_type": "markdown",
   "metadata": {},
   "source": [
    "### Maplotlib\n",
    "\n",
    "[Jaker Vanderplas's excellent notes](https://jakevdp.github.io/PythonDataScienceHandbook/04.08-multiple-subplots.html) have a great example of this, but now there's an easier way to do it with Matplotlib's new `constrained_layout` options."
   ]
  },
  {
   "cell_type": "code",
   "execution_count": null,
   "metadata": {},
   "outputs": [],
   "source": [
    "fig = plt.figure(constrained_layout=True)\n",
    "# Create a layout with 3 panels in the given ratios\n",
    "axes_dict = fig.subplot_mosaic(\n",
    "    [[\".\", \"histx\"], [\"histy\", \"scat\"]],\n",
    "    gridspec_kw={\"width_ratios\": [1, 7], \"height_ratios\": [2, 7]},\n",
    ")\n",
    "# Glue all the relevant axes together\n",
    "axes_dict[\"histy\"].invert_xaxis()\n",
    "axes_dict[\"histx\"].sharex(axes_dict[\"scat\"])\n",
    "axes_dict[\"histy\"].sharey(axes_dict[\"scat\"])\n",
    "# Plot the data\n",
    "axes_dict[\"scat\"].scatter(penguins[\"bill_length_mm\"], penguins[\"bill_depth_mm\"])\n",
    "axes_dict[\"histx\"].hist(penguins[\"bill_length_mm\"])\n",
    "axes_dict[\"histy\"].hist(penguins[\"bill_depth_mm\"], orientation=\"horizontal\");"
   ]
  },
  {
   "cell_type": "markdown",
   "metadata": {},
   "source": [
    "### Seaborn"
   ]
  },
  {
   "cell_type": "code",
   "execution_count": null,
   "metadata": {},
   "outputs": [],
   "source": [
    "sns.jointplot(data=penguins, x=\"bill_length_mm\", y=\"bill_depth_mm\");"
   ]
  },
  {
   "cell_type": "markdown",
   "metadata": {},
   "source": [
    "### Plotnine\n",
    "\n",
    "I couldn't find an easy way to do this in plotnine but you can make rug plots, which have some similarities in terms of information conveyed."
   ]
  },
  {
   "cell_type": "code",
   "execution_count": null,
   "metadata": {},
   "outputs": [],
   "source": [
    "(\n",
    "    ggplot(penguins, aes(x=\"bill_length_mm\", y=\"bill_depth_mm\"))\n",
    "    + geom_point()\n",
    "    + geom_rug()\n",
    ")"
   ]
  },
  {
   "cell_type": "markdown",
   "metadata": {},
   "source": [
    "### Altair\n",
    "\n",
    "This is a bit fiddly."
   ]
  },
  {
   "cell_type": "code",
   "execution_count": null,
   "metadata": {},
   "outputs": [],
   "source": [
    "base = alt.Chart(penguins)\n",
    "\n",
    "xscale = alt.Scale(domain=(20, 60))\n",
    "yscale = alt.Scale(domain=(10, 30))\n",
    "\n",
    "area_args = {\"opacity\": 0.5, \"interpolate\": \"step\"}\n",
    "\n",
    "points = base.mark_circle().encode(\n",
    "    alt.X(\"bill_length_mm\", scale=xscale), alt.Y(\"bill_depth_mm\", scale=yscale)\n",
    ")\n",
    "\n",
    "top_hist = (\n",
    "    base.mark_area(**area_args)\n",
    "    .encode(\n",
    "        alt.X(\n",
    "            \"bill_length_mm:Q\",\n",
    "            # when using bins, the axis scale is set through\n",
    "            # the bin extent, so we do not specify the scale here\n",
    "            # (which would be ignored anyway)\n",
    "            bin=alt.Bin(maxbins=30, extent=xscale.domain),\n",
    "            stack=None,\n",
    "            title=\"\",\n",
    "        ),\n",
    "        alt.Y(\"count()\", stack=None, title=\"\"),\n",
    "    )\n",
    "    .properties(height=60)\n",
    ")\n",
    "\n",
    "right_hist = (\n",
    "    base.mark_area(**area_args)\n",
    "    .encode(\n",
    "        alt.Y(\n",
    "            \"bill_depth_mm:Q\",\n",
    "            bin=alt.Bin(maxbins=30, extent=yscale.domain),\n",
    "            stack=None,\n",
    "            title=\"\",\n",
    "        ),\n",
    "        alt.X(\"count()\", stack=None, title=\"\"),\n",
    "    )\n",
    "    .properties(width=60)\n",
    ")\n",
    "\n",
    "top_hist & (points | right_hist)"
   ]
  },
  {
   "cell_type": "markdown",
   "metadata": {},
   "source": [
    "### Plotly\n",
    "\n"
   ]
  },
  {
   "cell_type": "code",
   "execution_count": null,
   "metadata": {},
   "outputs": [],
   "source": [
    "fig = px.scatter(\n",
    "    penguins,\n",
    "    x=\"bill_length_mm\",\n",
    "    y=\"bill_depth_mm\",\n",
    "    marginal_x=\"histogram\",\n",
    "    marginal_y=\"histogram\",\n",
    ")\n",
    "fig.show()"
   ]
  },
  {
   "cell_type": "markdown",
   "metadata": {},
   "source": [
    "## Heatmap\n",
    "\n",
    "Heatmaps, or sometimes known as correlation maps, represent data in 3 dimensions by having two axes that forms a grid showing colour that corresponds to (usually) continuous values.\n",
    "\n",
    "We'll use the flights data to show the number of passengers by month-year:"
   ]
  },
  {
   "cell_type": "code",
   "execution_count": 3,
   "metadata": {},
   "outputs": [
    {
     "output_type": "execute_result",
     "data": {
      "text/plain": [
       "month  Jan  Feb  Mar  Apr  May  Jun  Jul  Aug  Sep  Oct  Nov  Dec\n",
       "year                                                             \n",
       "1949   112  118  132  129  121  135  148  148  136  119  104  118\n",
       "1950   115  126  141  135  125  149  170  170  158  133  114  140\n",
       "1951   145  150  178  163  172  178  199  199  184  162  146  166\n",
       "1952   171  180  193  181  183  218  230  242  209  191  172  194\n",
       "1953   196  196  236  235  229  243  264  272  237  211  180  201"
      ],
      "text/html": "<div>\n<style scoped>\n    .dataframe tbody tr th:only-of-type {\n        vertical-align: middle;\n    }\n\n    .dataframe tbody tr th {\n        vertical-align: top;\n    }\n\n    .dataframe thead th {\n        text-align: right;\n    }\n</style>\n<table border=\"1\" class=\"dataframe\">\n  <thead>\n    <tr style=\"text-align: right;\">\n      <th>month</th>\n      <th>Jan</th>\n      <th>Feb</th>\n      <th>Mar</th>\n      <th>Apr</th>\n      <th>May</th>\n      <th>Jun</th>\n      <th>Jul</th>\n      <th>Aug</th>\n      <th>Sep</th>\n      <th>Oct</th>\n      <th>Nov</th>\n      <th>Dec</th>\n    </tr>\n    <tr>\n      <th>year</th>\n      <th></th>\n      <th></th>\n      <th></th>\n      <th></th>\n      <th></th>\n      <th></th>\n      <th></th>\n      <th></th>\n      <th></th>\n      <th></th>\n      <th></th>\n      <th></th>\n    </tr>\n  </thead>\n  <tbody>\n    <tr>\n      <th>1949</th>\n      <td>112</td>\n      <td>118</td>\n      <td>132</td>\n      <td>129</td>\n      <td>121</td>\n      <td>135</td>\n      <td>148</td>\n      <td>148</td>\n      <td>136</td>\n      <td>119</td>\n      <td>104</td>\n      <td>118</td>\n    </tr>\n    <tr>\n      <th>1950</th>\n      <td>115</td>\n      <td>126</td>\n      <td>141</td>\n      <td>135</td>\n      <td>125</td>\n      <td>149</td>\n      <td>170</td>\n      <td>170</td>\n      <td>158</td>\n      <td>133</td>\n      <td>114</td>\n      <td>140</td>\n    </tr>\n    <tr>\n      <th>1951</th>\n      <td>145</td>\n      <td>150</td>\n      <td>178</td>\n      <td>163</td>\n      <td>172</td>\n      <td>178</td>\n      <td>199</td>\n      <td>199</td>\n      <td>184</td>\n      <td>162</td>\n      <td>146</td>\n      <td>166</td>\n    </tr>\n    <tr>\n      <th>1952</th>\n      <td>171</td>\n      <td>180</td>\n      <td>193</td>\n      <td>181</td>\n      <td>183</td>\n      <td>218</td>\n      <td>230</td>\n      <td>242</td>\n      <td>209</td>\n      <td>191</td>\n      <td>172</td>\n      <td>194</td>\n    </tr>\n    <tr>\n      <th>1953</th>\n      <td>196</td>\n      <td>196</td>\n      <td>236</td>\n      <td>235</td>\n      <td>229</td>\n      <td>243</td>\n      <td>264</td>\n      <td>272</td>\n      <td>237</td>\n      <td>211</td>\n      <td>180</td>\n      <td>201</td>\n    </tr>\n  </tbody>\n</table>\n</div>"
     },
     "metadata": {},
     "execution_count": 3
    }
   ],
   "source": [
    "flights = sns.load_dataset(\"flights\")\n",
    "flights = flights.pivot(\"month\", \"year\", \"passengers\").T\n",
    "flights.head()"
   ]
  },
  {
   "cell_type": "markdown",
   "metadata": {},
   "source": [
    "### Matplotlib\n",
    "\n"
   ]
  },
  {
   "cell_type": "code",
   "execution_count": null,
   "metadata": {},
   "outputs": [],
   "source": [
    "fig, ax = plt.subplots()\n",
    "im = ax.imshow(flights.values, cmap=\"inferno\")\n",
    "cbar = ax.figure.colorbar(im, ax=ax)\n",
    "ax.set_xticks(np.arange(len(flights.columns)))\n",
    "ax.set_yticks(np.arange(len(flights.index)))\n",
    "# Labels\n",
    "ax.set_xticklabels(flights.columns, rotation=90)\n",
    "ax.set_yticklabels(flights.index)\n",
    "plt.show()"
   ]
  },
  {
   "cell_type": "markdown",
   "metadata": {},
   "source": [
    "### Seaborn"
   ]
  },
  {
   "cell_type": "code",
   "execution_count": 4,
   "metadata": {},
   "outputs": [
    {
     "output_type": "display_data",
     "data": {
      "text/plain": "<Figure size 900x600 with 2 Axes>",
      "image/svg+xml": "<?xml version=\"1.0\" encoding=\"utf-8\" standalone=\"no\"?>\n<!DOCTYPE svg PUBLIC \"-//W3C//DTD SVG 1.1//EN\"\n  \"http://www.w3.org/Graphics/SVG/1.1/DTD/svg11.dtd\">\n<!-- Created with matplotlib (https://matplotlib.org/) -->\n<svg height=\"263.44pt\" version=\"1.1\" viewBox=\"0 0 379.652 263.44\" width=\"379.652pt\" xmlns=\"http://www.w3.org/2000/svg\" xmlns:xlink=\"http://www.w3.org/1999/xlink\">\n <metadata>\n  <rdf:RDF xmlns:cc=\"http://creativecommons.org/ns#\" xmlns:dc=\"http://purl.org/dc/elements/1.1/\" xmlns:rdf=\"http://www.w3.org/1999/02/22-rdf-syntax-ns#\">\n   <cc:Work>\n    <dc:type rdf:resource=\"http://purl.org/dc/dcmitype/StillImage\"/>\n    <dc:date>2021-07-07T16:07:01.839537</dc:date>\n    <dc:format>image/svg+xml</dc:format>\n    <dc:creator>\n     <cc:Agent>\n      <dc:title>Matplotlib v3.3.4, https://matplotlib.org/</dc:title>\n     </cc:Agent>\n    </dc:creator>\n   </cc:Work>\n  </rdf:RDF>\n </metadata>\n <defs>\n  <style type=\"text/css\">*{stroke-linecap:butt;stroke-linejoin:round;}</style>\n </defs>\n <g id=\"figure_1\">\n  <g id=\"patch_1\">\n   <path d=\"M 0 263.44 \nL 379.652 263.44 \nL 379.652 0 \nL 0 0 \nz\n\" style=\"fill:none;\"/>\n  </g>\n  <g id=\"axes_1\">\n   <g id=\"patch_2\">\n    <path d=\"M 52 224.64 \nL 319.84 224.64 \nL 319.84 7.2 \nL 52 7.2 \nz\n\" style=\"fill:#ffffff;\"/>\n   </g>\n   <g id=\"QuadMesh_1\">\n    <path clip-path=\"url(#p8d1c1f01bd)\" d=\"M 52 7.2 \nL 74.32 7.2 \nL 74.32 25.32 \nL 52 25.32 \nL 52 7.2 \n\" style=\"fill:#06071c;\"/>\n    <path clip-path=\"url(#p8d1c1f01bd)\" d=\"M 74.32 7.2 \nL 96.64 7.2 \nL 96.64 25.32 \nL 74.32 25.32 \nL 74.32 7.2 \n\" style=\"fill:#0a091f;\"/>\n    <path clip-path=\"url(#p8d1c1f01bd)\" d=\"M 96.64 7.2 \nL 118.96 7.2 \nL 118.96 25.32 \nL 96.64 25.32 \nL 96.64 7.2 \n\" style=\"fill:#140e26;\"/>\n    <path clip-path=\"url(#p8d1c1f01bd)\" d=\"M 118.96 7.2 \nL 141.28 7.2 \nL 141.28 25.32 \nL 118.96 25.32 \nL 118.96 7.2 \n\" style=\"fill:#130d25;\"/>\n    <path clip-path=\"url(#p8d1c1f01bd)\" d=\"M 141.28 7.2 \nL 163.6 7.2 \nL 163.6 25.32 \nL 141.28 25.32 \nL 141.28 7.2 \n\" style=\"fill:#0d0a21;\"/>\n    <path clip-path=\"url(#p8d1c1f01bd)\" d=\"M 163.6 7.2 \nL 185.92 7.2 \nL 185.92 25.32 \nL 163.6 25.32 \nL 163.6 7.2 \n\" style=\"fill:#170f28;\"/>\n    <path clip-path=\"url(#p8d1c1f01bd)\" d=\"M 185.92 7.2 \nL 208.24 7.2 \nL 208.24 25.32 \nL 185.92 25.32 \nL 185.92 7.2 \n\" style=\"fill:#20122e;\"/>\n    <path clip-path=\"url(#p8d1c1f01bd)\" d=\"M 208.24 7.2 \nL 230.56 7.2 \nL 230.56 25.32 \nL 208.24 25.32 \nL 208.24 7.2 \n\" style=\"fill:#20122e;\"/>\n    <path clip-path=\"url(#p8d1c1f01bd)\" d=\"M 230.56 7.2 \nL 252.88 7.2 \nL 252.88 25.32 \nL 230.56 25.32 \nL 230.56 7.2 \n\" style=\"fill:#170f28;\"/>\n    <path clip-path=\"url(#p8d1c1f01bd)\" d=\"M 252.88 7.2 \nL 275.2 7.2 \nL 275.2 25.32 \nL 252.88 25.32 \nL 252.88 7.2 \n\" style=\"fill:#0b0920;\"/>\n    <path clip-path=\"url(#p8d1c1f01bd)\" d=\"M 275.2 7.2 \nL 297.52 7.2 \nL 297.52 25.32 \nL 275.2 25.32 \nL 275.2 7.2 \n\" style=\"fill:#03051a;\"/>\n    <path clip-path=\"url(#p8d1c1f01bd)\" d=\"M 297.52 7.2 \nL 319.84 7.2 \nL 319.84 25.32 \nL 297.52 25.32 \nL 297.52 7.2 \n\" style=\"fill:#0a091f;\"/>\n    <path clip-path=\"url(#p8d1c1f01bd)\" d=\"M 52 25.32 \nL 74.32 25.32 \nL 74.32 43.44 \nL 52 43.44 \nL 52 25.32 \n\" style=\"fill:#08081e;\"/>\n    <path clip-path=\"url(#p8d1c1f01bd)\" d=\"M 74.32 25.32 \nL 96.64 25.32 \nL 96.64 43.44 \nL 74.32 43.44 \nL 74.32 25.32 \n\" style=\"fill:#100b23;\"/>\n    <path clip-path=\"url(#p8d1c1f01bd)\" d=\"M 96.64 25.32 \nL 118.96 25.32 \nL 118.96 43.44 \nL 96.64 43.44 \nL 96.64 25.32 \n\" style=\"fill:#1b112b;\"/>\n    <path clip-path=\"url(#p8d1c1f01bd)\" d=\"M 118.96 25.32 \nL 141.28 25.32 \nL 141.28 43.44 \nL 118.96 43.44 \nL 118.96 25.32 \n\" style=\"fill:#170f28;\"/>\n    <path clip-path=\"url(#p8d1c1f01bd)\" d=\"M 141.28 25.32 \nL 163.6 25.32 \nL 163.6 43.44 \nL 141.28 43.44 \nL 141.28 25.32 \n\" style=\"fill:#100b23;\"/>\n    <path clip-path=\"url(#p8d1c1f01bd)\" d=\"M 163.6 25.32 \nL 185.92 25.32 \nL 185.92 43.44 \nL 163.6 43.44 \nL 163.6 25.32 \n\" style=\"fill:#211330;\"/>\n    <path clip-path=\"url(#p8d1c1f01bd)\" d=\"M 185.92 25.32 \nL 208.24 25.32 \nL 208.24 43.44 \nL 185.92 43.44 \nL 185.92 25.32 \n\" style=\"fill:#30173a;\"/>\n    <path clip-path=\"url(#p8d1c1f01bd)\" d=\"M 208.24 25.32 \nL 230.56 25.32 \nL 230.56 43.44 \nL 208.24 43.44 \nL 208.24 25.32 \n\" style=\"fill:#30173a;\"/>\n    <path clip-path=\"url(#p8d1c1f01bd)\" d=\"M 230.56 25.32 \nL 252.88 25.32 \nL 252.88 43.44 \nL 230.56 43.44 \nL 230.56 25.32 \n\" style=\"fill:#271534;\"/>\n    <path clip-path=\"url(#p8d1c1f01bd)\" d=\"M 252.88 25.32 \nL 275.2 25.32 \nL 275.2 43.44 \nL 252.88 43.44 \nL 252.88 25.32 \n\" style=\"fill:#160e27;\"/>\n    <path clip-path=\"url(#p8d1c1f01bd)\" d=\"M 275.2 25.32 \nL 297.52 25.32 \nL 297.52 43.44 \nL 275.2 43.44 \nL 275.2 25.32 \n\" style=\"fill:#07071d;\"/>\n    <path clip-path=\"url(#p8d1c1f01bd)\" d=\"M 297.52 25.32 \nL 319.84 25.32 \nL 319.84 43.44 \nL 297.52 43.44 \nL 297.52 25.32 \n\" style=\"fill:#1a102a;\"/>\n    <path clip-path=\"url(#p8d1c1f01bd)\" d=\"M 52 43.44 \nL 74.32 43.44 \nL 74.32 61.56 \nL 52 61.56 \nL 52 43.44 \n\" style=\"fill:#1e122d;\"/>\n    <path clip-path=\"url(#p8d1c1f01bd)\" d=\"M 74.32 43.44 \nL 96.64 43.44 \nL 96.64 61.56 \nL 74.32 61.56 \nL 74.32 43.44 \n\" style=\"fill:#211330;\"/>\n    <path clip-path=\"url(#p8d1c1f01bd)\" d=\"M 96.64 43.44 \nL 118.96 43.44 \nL 118.96 61.56 \nL 96.64 61.56 \nL 96.64 43.44 \n\" style=\"fill:#35193e;\"/>\n    <path clip-path=\"url(#p8d1c1f01bd)\" d=\"M 118.96 43.44 \nL 141.28 43.44 \nL 141.28 61.56 \nL 118.96 61.56 \nL 118.96 43.44 \n\" style=\"fill:#2b1637;\"/>\n    <path clip-path=\"url(#p8d1c1f01bd)\" d=\"M 141.28 43.44 \nL 163.6 43.44 \nL 163.6 61.56 \nL 141.28 61.56 \nL 141.28 43.44 \n\" style=\"fill:#31183b;\"/>\n    <path clip-path=\"url(#p8d1c1f01bd)\" d=\"M 163.6 43.44 \nL 185.92 43.44 \nL 185.92 61.56 \nL 163.6 61.56 \nL 163.6 43.44 \n\" style=\"fill:#35193e;\"/>\n    <path clip-path=\"url(#p8d1c1f01bd)\" d=\"M 185.92 43.44 \nL 208.24 43.44 \nL 208.24 61.56 \nL 185.92 61.56 \nL 185.92 43.44 \n\" style=\"fill:#451c47;\"/>\n    <path clip-path=\"url(#p8d1c1f01bd)\" d=\"M 208.24 43.44 \nL 230.56 43.44 \nL 230.56 61.56 \nL 208.24 61.56 \nL 208.24 43.44 \n\" style=\"fill:#451c47;\"/>\n    <path clip-path=\"url(#p8d1c1f01bd)\" d=\"M 230.56 43.44 \nL 252.88 43.44 \nL 252.88 61.56 \nL 230.56 61.56 \nL 230.56 43.44 \n\" style=\"fill:#3a1a41;\"/>\n    <path clip-path=\"url(#p8d1c1f01bd)\" d=\"M 252.88 43.44 \nL 275.2 43.44 \nL 275.2 61.56 \nL 252.88 61.56 \nL 252.88 43.44 \n\" style=\"fill:#2a1636;\"/>\n    <path clip-path=\"url(#p8d1c1f01bd)\" d=\"M 275.2 43.44 \nL 297.52 43.44 \nL 297.52 61.56 \nL 275.2 61.56 \nL 275.2 43.44 \n\" style=\"fill:#1e122d;\"/>\n    <path clip-path=\"url(#p8d1c1f01bd)\" d=\"M 297.52 43.44 \nL 319.84 43.44 \nL 319.84 61.56 \nL 297.52 61.56 \nL 297.52 43.44 \n\" style=\"fill:#2d1738;\"/>\n    <path clip-path=\"url(#p8d1c1f01bd)\" d=\"M 52 61.56 \nL 74.32 61.56 \nL 74.32 79.68 \nL 52 79.68 \nL 52 61.56 \n\" style=\"fill:#31183b;\"/>\n    <path clip-path=\"url(#p8d1c1f01bd)\" d=\"M 74.32 61.56 \nL 96.64 61.56 \nL 96.64 79.68 \nL 74.32 79.68 \nL 74.32 61.56 \n\" style=\"fill:#37193f;\"/>\n    <path clip-path=\"url(#p8d1c1f01bd)\" d=\"M 96.64 61.56 \nL 118.96 61.56 \nL 118.96 79.68 \nL 96.64 79.68 \nL 96.64 61.56 \n\" style=\"fill:#401b44;\"/>\n    <path clip-path=\"url(#p8d1c1f01bd)\" d=\"M 118.96 61.56 \nL 141.28 61.56 \nL 141.28 79.68 \nL 118.96 79.68 \nL 118.96 61.56 \n\" style=\"fill:#381a40;\"/>\n    <path clip-path=\"url(#p8d1c1f01bd)\" d=\"M 141.28 61.56 \nL 163.6 61.56 \nL 163.6 79.68 \nL 141.28 79.68 \nL 141.28 61.56 \n\" style=\"fill:#3a1a41;\"/>\n    <path clip-path=\"url(#p8d1c1f01bd)\" d=\"M 163.6 61.56 \nL 185.92 61.56 \nL 185.92 79.68 \nL 163.6 79.68 \nL 163.6 61.56 \n\" style=\"fill:#541e4e;\"/>\n    <path clip-path=\"url(#p8d1c1f01bd)\" d=\"M 185.92 61.56 \nL 208.24 61.56 \nL 208.24 79.68 \nL 185.92 79.68 \nL 185.92 61.56 \n\" style=\"fill:#5e1f52;\"/>\n    <path clip-path=\"url(#p8d1c1f01bd)\" d=\"M 208.24 61.56 \nL 230.56 61.56 \nL 230.56 79.68 \nL 208.24 79.68 \nL 208.24 61.56 \n\" style=\"fill:#681f55;\"/>\n    <path clip-path=\"url(#p8d1c1f01bd)\" d=\"M 230.56 61.56 \nL 252.88 61.56 \nL 252.88 79.68 \nL 230.56 79.68 \nL 230.56 61.56 \n\" style=\"fill:#4c1d4b;\"/>\n    <path clip-path=\"url(#p8d1c1f01bd)\" d=\"M 252.88 61.56 \nL 275.2 61.56 \nL 275.2 79.68 \nL 252.88 79.68 \nL 252.88 61.56 \n\" style=\"fill:#3f1b43;\"/>\n    <path clip-path=\"url(#p8d1c1f01bd)\" d=\"M 275.2 61.56 \nL 297.52 61.56 \nL 297.52 79.68 \nL 275.2 79.68 \nL 275.2 61.56 \n\" style=\"fill:#31183b;\"/>\n    <path clip-path=\"url(#p8d1c1f01bd)\" d=\"M 297.52 61.56 \nL 319.84 61.56 \nL 319.84 79.68 \nL 297.52 79.68 \nL 297.52 61.56 \n\" style=\"fill:#421b45;\"/>\n    <path clip-path=\"url(#p8d1c1f01bd)\" d=\"M 52 79.68 \nL 74.32 79.68 \nL 74.32 97.8 \nL 52 97.8 \nL 52 79.68 \n\" style=\"fill:#431c46;\"/>\n    <path clip-path=\"url(#p8d1c1f01bd)\" d=\"M 74.32 79.68 \nL 96.64 79.68 \nL 96.64 97.8 \nL 74.32 97.8 \nL 74.32 79.68 \n\" style=\"fill:#431c46;\"/>\n    <path clip-path=\"url(#p8d1c1f01bd)\" d=\"M 96.64 79.68 \nL 118.96 79.68 \nL 118.96 97.8 \nL 96.64 97.8 \nL 96.64 79.68 \n\" style=\"fill:#631f53;\"/>\n    <path clip-path=\"url(#p8d1c1f01bd)\" d=\"M 118.96 79.68 \nL 141.28 79.68 \nL 141.28 97.8 \nL 118.96 97.8 \nL 118.96 79.68 \n\" style=\"fill:#611f53;\"/>\n    <path clip-path=\"url(#p8d1c1f01bd)\" d=\"M 141.28 79.68 \nL 163.6 79.68 \nL 163.6 97.8 \nL 141.28 97.8 \nL 141.28 79.68 \n\" style=\"fill:#5c1e51;\"/>\n    <path clip-path=\"url(#p8d1c1f01bd)\" d=\"M 163.6 79.68 \nL 185.92 79.68 \nL 185.92 97.8 \nL 163.6 97.8 \nL 163.6 79.68 \n\" style=\"fill:#681f55;\"/>\n    <path clip-path=\"url(#p8d1c1f01bd)\" d=\"M 185.92 79.68 \nL 208.24 79.68 \nL 208.24 97.8 \nL 185.92 97.8 \nL 185.92 79.68 \n\" style=\"fill:#7a1f59;\"/>\n    <path clip-path=\"url(#p8d1c1f01bd)\" d=\"M 208.24 79.68 \nL 230.56 79.68 \nL 230.56 97.8 \nL 208.24 97.8 \nL 208.24 79.68 \n\" style=\"fill:#811e5a;\"/>\n    <path clip-path=\"url(#p8d1c1f01bd)\" d=\"M 230.56 79.68 \nL 252.88 79.68 \nL 252.88 97.8 \nL 230.56 97.8 \nL 230.56 79.68 \n\" style=\"fill:#631f53;\"/>\n    <path clip-path=\"url(#p8d1c1f01bd)\" d=\"M 252.88 79.68 \nL 275.2 79.68 \nL 275.2 97.8 \nL 252.88 97.8 \nL 252.88 79.68 \n\" style=\"fill:#4e1d4b;\"/>\n    <path clip-path=\"url(#p8d1c1f01bd)\" d=\"M 275.2 79.68 \nL 297.52 79.68 \nL 297.52 97.8 \nL 275.2 97.8 \nL 275.2 79.68 \n\" style=\"fill:#37193f;\"/>\n    <path clip-path=\"url(#p8d1c1f01bd)\" d=\"M 297.52 79.68 \nL 319.84 79.68 \nL 319.84 97.8 \nL 297.52 97.8 \nL 297.52 79.68 \n\" style=\"fill:#461c48;\"/>\n    <path clip-path=\"url(#p8d1c1f01bd)\" d=\"M 52 97.8 \nL 74.32 97.8 \nL 74.32 115.92 \nL 52 115.92 \nL 52 97.8 \n\" style=\"fill:#491d49;\"/>\n    <path clip-path=\"url(#p8d1c1f01bd)\" d=\"M 74.32 97.8 \nL 96.64 97.8 \nL 96.64 115.92 \nL 74.32 115.92 \nL 74.32 97.8 \n\" style=\"fill:#3d1a42;\"/>\n    <path clip-path=\"url(#p8d1c1f01bd)\" d=\"M 96.64 97.8 \nL 118.96 97.8 \nL 118.96 115.92 \nL 96.64 115.92 \nL 96.64 97.8 \n\" style=\"fill:#611f53;\"/>\n    <path clip-path=\"url(#p8d1c1f01bd)\" d=\"M 118.96 97.8 \nL 141.28 97.8 \nL 141.28 115.92 \nL 118.96 115.92 \nL 118.96 97.8 \n\" style=\"fill:#5b1e51;\"/>\n    <path clip-path=\"url(#p8d1c1f01bd)\" d=\"M 141.28 97.8 \nL 163.6 97.8 \nL 163.6 115.92 \nL 141.28 115.92 \nL 141.28 97.8 \n\" style=\"fill:#611f53;\"/>\n    <path clip-path=\"url(#p8d1c1f01bd)\" d=\"M 163.6 97.8 \nL 185.92 97.8 \nL 185.92 115.92 \nL 163.6 115.92 \nL 163.6 97.8 \n\" style=\"fill:#7a1f59;\"/>\n    <path clip-path=\"url(#p8d1c1f01bd)\" d=\"M 185.92 97.8 \nL 208.24 97.8 \nL 208.24 115.92 \nL 185.92 115.92 \nL 185.92 97.8 \n\" style=\"fill:#981b5b;\"/>\n    <path clip-path=\"url(#p8d1c1f01bd)\" d=\"M 208.24 97.8 \nL 230.56 97.8 \nL 230.56 115.92 \nL 208.24 115.92 \nL 208.24 97.8 \n\" style=\"fill:#921c5b;\"/>\n    <path clip-path=\"url(#p8d1c1f01bd)\" d=\"M 230.56 97.8 \nL 252.88 97.8 \nL 252.88 115.92 \nL 230.56 115.92 \nL 230.56 97.8 \n\" style=\"fill:#751f58;\"/>\n    <path clip-path=\"url(#p8d1c1f01bd)\" d=\"M 252.88 97.8 \nL 275.2 97.8 \nL 275.2 115.92 \nL 252.88 115.92 \nL 252.88 97.8 \n\" style=\"fill:#5c1e51;\"/>\n    <path clip-path=\"url(#p8d1c1f01bd)\" d=\"M 275.2 97.8 \nL 297.52 97.8 \nL 297.52 115.92 \nL 275.2 115.92 \nL 275.2 97.8 \n\" style=\"fill:#481c48;\"/>\n    <path clip-path=\"url(#p8d1c1f01bd)\" d=\"M 297.52 97.8 \nL 319.84 97.8 \nL 319.84 115.92 \nL 297.52 115.92 \nL 297.52 97.8 \n\" style=\"fill:#5c1e51;\"/>\n    <path clip-path=\"url(#p8d1c1f01bd)\" d=\"M 52 115.92 \nL 74.32 115.92 \nL 74.32 134.04 \nL 52 134.04 \nL 52 115.92 \n\" style=\"fill:#681f55;\"/>\n    <path clip-path=\"url(#p8d1c1f01bd)\" d=\"M 74.32 115.92 \nL 96.64 115.92 \nL 96.64 134.04 \nL 74.32 134.04 \nL 74.32 115.92 \n\" style=\"fill:#601f52;\"/>\n    <path clip-path=\"url(#p8d1c1f01bd)\" d=\"M 96.64 115.92 \nL 118.96 115.92 \nL 118.96 134.04 \nL 96.64 134.04 \nL 96.64 115.92 \n\" style=\"fill:#7b1f59;\"/>\n    <path clip-path=\"url(#p8d1c1f01bd)\" d=\"M 118.96 115.92 \nL 141.28 115.92 \nL 141.28 134.04 \nL 118.96 134.04 \nL 118.96 115.92 \n\" style=\"fill:#7d1f5a;\"/>\n    <path clip-path=\"url(#p8d1c1f01bd)\" d=\"M 141.28 115.92 \nL 163.6 115.92 \nL 163.6 134.04 \nL 141.28 134.04 \nL 141.28 115.92 \n\" style=\"fill:#7f1e5a;\"/>\n    <path clip-path=\"url(#p8d1c1f01bd)\" d=\"M 163.6 115.92 \nL 185.92 115.92 \nL 185.92 134.04 \nL 163.6 134.04 \nL 163.6 115.92 \n\" style=\"fill:#a4195b;\"/>\n    <path clip-path=\"url(#p8d1c1f01bd)\" d=\"M 185.92 115.92 \nL 208.24 115.92 \nL 208.24 134.04 \nL 185.92 134.04 \nL 185.92 115.92 \n\" style=\"fill:#cb1b4f;\"/>\n    <path clip-path=\"url(#p8d1c1f01bd)\" d=\"M 208.24 115.92 \nL 230.56 115.92 \nL 230.56 134.04 \nL 208.24 134.04 \nL 208.24 115.92 \n\" style=\"fill:#bf1654;\"/>\n    <path clip-path=\"url(#p8d1c1f01bd)\" d=\"M 230.56 115.92 \nL 252.88 115.92 \nL 252.88 134.04 \nL 230.56 134.04 \nL 230.56 115.92 \n\" style=\"fill:#a11a5b;\"/>\n    <path clip-path=\"url(#p8d1c1f01bd)\" d=\"M 252.88 115.92 \nL 275.2 115.92 \nL 275.2 134.04 \nL 252.88 134.04 \nL 252.88 115.92 \n\" style=\"fill:#821e5a;\"/>\n    <path clip-path=\"url(#p8d1c1f01bd)\" d=\"M 275.2 115.92 \nL 297.52 115.92 \nL 297.52 134.04 \nL 275.2 134.04 \nL 275.2 115.92 \n\" style=\"fill:#631f53;\"/>\n    <path clip-path=\"url(#p8d1c1f01bd)\" d=\"M 297.52 115.92 \nL 319.84 115.92 \nL 319.84 134.04 \nL 297.52 134.04 \nL 297.52 115.92 \n\" style=\"fill:#841e5a;\"/>\n    <path clip-path=\"url(#p8d1c1f01bd)\" d=\"M 52 134.04 \nL 74.32 134.04 \nL 74.32 152.16 \nL 52 152.16 \nL 52 134.04 \n\" style=\"fill:#891e5b;\"/>\n    <path clip-path=\"url(#p8d1c1f01bd)\" d=\"M 74.32 134.04 \nL 96.64 134.04 \nL 96.64 152.16 \nL 74.32 152.16 \nL 74.32 134.04 \n\" style=\"fill:#841e5a;\"/>\n    <path clip-path=\"url(#p8d1c1f01bd)\" d=\"M 96.64 134.04 \nL 118.96 134.04 \nL 118.96 152.16 \nL 96.64 152.16 \nL 96.64 134.04 \n\" style=\"fill:#a6195a;\"/>\n    <path clip-path=\"url(#p8d1c1f01bd)\" d=\"M 118.96 134.04 \nL 141.28 134.04 \nL 141.28 152.16 \nL 118.96 152.16 \nL 118.96 134.04 \n\" style=\"fill:#a3195b;\"/>\n    <path clip-path=\"url(#p8d1c1f01bd)\" d=\"M 141.28 134.04 \nL 163.6 134.04 \nL 163.6 152.16 \nL 141.28 152.16 \nL 141.28 134.04 \n\" style=\"fill:#a6195a;\"/>\n    <path clip-path=\"url(#p8d1c1f01bd)\" d=\"M 163.6 134.04 \nL 185.92 134.04 \nL 185.92 152.16 \nL 163.6 152.16 \nL 163.6 134.04 \n\" style=\"fill:#d2204c;\"/>\n    <path clip-path=\"url(#p8d1c1f01bd)\" d=\"M 185.92 134.04 \nL 208.24 134.04 \nL 208.24 152.16 \nL 185.92 152.16 \nL 185.92 134.04 \n\" style=\"fill:#e73d3f;\"/>\n    <path clip-path=\"url(#p8d1c1f01bd)\" d=\"M 208.24 134.04 \nL 230.56 134.04 \nL 230.56 152.16 \nL 208.24 152.16 \nL 208.24 134.04 \n\" style=\"fill:#e33641;\"/>\n    <path clip-path=\"url(#p8d1c1f01bd)\" d=\"M 230.56 134.04 \nL 252.88 134.04 \nL 252.88 152.16 \nL 230.56 152.16 \nL 230.56 134.04 \n\" style=\"fill:#c51852;\"/>\n    <path clip-path=\"url(#p8d1c1f01bd)\" d=\"M 252.88 134.04 \nL 275.2 134.04 \nL 275.2 152.16 \nL 252.88 152.16 \nL 252.88 134.04 \n\" style=\"fill:#9c1b5b;\"/>\n    <path clip-path=\"url(#p8d1c1f01bd)\" d=\"M 275.2 134.04 \nL 297.52 134.04 \nL 297.52 152.16 \nL 275.2 152.16 \nL 275.2 134.04 \n\" style=\"fill:#7f1e5a;\"/>\n    <path clip-path=\"url(#p8d1c1f01bd)\" d=\"M 297.52 134.04 \nL 319.84 134.04 \nL 319.84 152.16 \nL 297.52 152.16 \nL 297.52 134.04 \n\" style=\"fill:#9c1b5b;\"/>\n    <path clip-path=\"url(#p8d1c1f01bd)\" d=\"M 52 152.16 \nL 74.32 152.16 \nL 74.32 170.28 \nL 52 170.28 \nL 52 152.16 \n\" style=\"fill:#a4195b;\"/>\n    <path clip-path=\"url(#p8d1c1f01bd)\" d=\"M 74.32 152.16 \nL 96.64 152.16 \nL 96.64 170.28 \nL 74.32 170.28 \nL 74.32 152.16 \n\" style=\"fill:#981b5b;\"/>\n    <path clip-path=\"url(#p8d1c1f01bd)\" d=\"M 96.64 152.16 \nL 118.96 152.16 \nL 118.96 170.28 \nL 96.64 170.28 \nL 96.64 152.16 \n\" style=\"fill:#c51852;\"/>\n    <path clip-path=\"url(#p8d1c1f01bd)\" d=\"M 118.96 152.16 \nL 141.28 152.16 \nL 141.28 170.28 \nL 118.96 170.28 \nL 118.96 152.16 \n\" style=\"fill:#bf1654;\"/>\n    <path clip-path=\"url(#p8d1c1f01bd)\" d=\"M 141.28 152.16 \nL 163.6 152.16 \nL 163.6 170.28 \nL 141.28 170.28 \nL 141.28 152.16 \n\" style=\"fill:#c51852;\"/>\n    <path clip-path=\"url(#p8d1c1f01bd)\" d=\"M 163.6 152.16 \nL 185.92 152.16 \nL 185.92 170.28 \nL 163.6 170.28 \nL 163.6 152.16 \n\" style=\"fill:#eb463e;\"/>\n    <path clip-path=\"url(#p8d1c1f01bd)\" d=\"M 185.92 152.16 \nL 208.24 152.16 \nL 208.24 170.28 \nL 185.92 170.28 \nL 185.92 152.16 \n\" style=\"fill:#f26f4c;\"/>\n    <path clip-path=\"url(#p8d1c1f01bd)\" d=\"M 208.24 152.16 \nL 230.56 152.16 \nL 230.56 170.28 \nL 208.24 170.28 \nL 208.24 152.16 \n\" style=\"fill:#f3714d;\"/>\n    <path clip-path=\"url(#p8d1c1f01bd)\" d=\"M 230.56 152.16 \nL 252.88 152.16 \nL 252.88 170.28 \nL 230.56 170.28 \nL 230.56 152.16 \n\" style=\"fill:#e33641;\"/>\n    <path clip-path=\"url(#p8d1c1f01bd)\" d=\"M 252.88 152.16 \nL 275.2 152.16 \nL 275.2 170.28 \nL 252.88 170.28 \nL 252.88 152.16 \n\" style=\"fill:#bf1654;\"/>\n    <path clip-path=\"url(#p8d1c1f01bd)\" d=\"M 275.2 152.16 \nL 297.52 152.16 \nL 297.52 170.28 \nL 275.2 170.28 \nL 275.2 152.16 \n\" style=\"fill:#9c1b5b;\"/>\n    <path clip-path=\"url(#p8d1c1f01bd)\" d=\"M 297.52 152.16 \nL 319.84 152.16 \nL 319.84 170.28 \nL 297.52 170.28 \nL 297.52 152.16 \n\" style=\"fill:#b51657;\"/>\n    <path clip-path=\"url(#p8d1c1f01bd)\" d=\"M 52 170.28 \nL 74.32 170.28 \nL 74.32 188.4 \nL 52 188.4 \nL 52 170.28 \n\" style=\"fill:#b91657;\"/>\n    <path clip-path=\"url(#p8d1c1f01bd)\" d=\"M 74.32 170.28 \nL 96.64 170.28 \nL 96.64 188.4 \nL 74.32 188.4 \nL 74.32 170.28 \n\" style=\"fill:#a6195a;\"/>\n    <path clip-path=\"url(#p8d1c1f01bd)\" d=\"M 96.64 170.28 \nL 118.96 170.28 \nL 118.96 188.4 \nL 96.64 188.4 \nL 96.64 170.28 \n\" style=\"fill:#ca1a50;\"/>\n    <path clip-path=\"url(#p8d1c1f01bd)\" d=\"M 118.96 170.28 \nL 141.28 170.28 \nL 141.28 188.4 \nL 118.96 188.4 \nL 118.96 170.28 \n\" style=\"fill:#bf1654;\"/>\n    <path clip-path=\"url(#p8d1c1f01bd)\" d=\"M 141.28 170.28 \nL 163.6 170.28 \nL 163.6 188.4 \nL 141.28 188.4 \nL 141.28 170.28 \n\" style=\"fill:#cb1b4f;\"/>\n    <path clip-path=\"url(#p8d1c1f01bd)\" d=\"M 163.6 170.28 \nL 185.92 170.28 \nL 185.92 188.4 \nL 163.6 188.4 \nL 163.6 170.28 \n\" style=\"fill:#ee523f;\"/>\n    <path clip-path=\"url(#p8d1c1f01bd)\" d=\"M 185.92 170.28 \nL 208.24 170.28 \nL 208.24 188.4 \nL 185.92 188.4 \nL 185.92 170.28 \n\" style=\"fill:#f4865e;\"/>\n    <path clip-path=\"url(#p8d1c1f01bd)\" d=\"M 208.24 170.28 \nL 230.56 170.28 \nL 230.56 188.4 \nL 208.24 188.4 \nL 208.24 170.28 \n\" style=\"fill:#f59269;\"/>\n    <path clip-path=\"url(#p8d1c1f01bd)\" d=\"M 230.56 170.28 \nL 252.88 170.28 \nL 252.88 188.4 \nL 230.56 188.4 \nL 230.56 170.28 \n\" style=\"fill:#e33641;\"/>\n    <path clip-path=\"url(#p8d1c1f01bd)\" d=\"M 252.88 170.28 \nL 275.2 170.28 \nL 275.2 188.4 \nL 252.88 188.4 \nL 252.88 170.28 \n\" style=\"fill:#c81951;\"/>\n    <path clip-path=\"url(#p8d1c1f01bd)\" d=\"M 275.2 170.28 \nL 297.52 170.28 \nL 297.52 188.4 \nL 275.2 188.4 \nL 275.2 170.28 \n\" style=\"fill:#9f1a5b;\"/>\n    <path clip-path=\"url(#p8d1c1f01bd)\" d=\"M 297.52 170.28 \nL 319.84 170.28 \nL 319.84 188.4 \nL 297.52 188.4 \nL 297.52 170.28 \n\" style=\"fill:#b71657;\"/>\n    <path clip-path=\"url(#p8d1c1f01bd)\" d=\"M 52 188.4 \nL 74.32 188.4 \nL 74.32 206.52 \nL 52 206.52 \nL 52 188.4 \n\" style=\"fill:#c81951;\"/>\n    <path clip-path=\"url(#p8d1c1f01bd)\" d=\"M 74.32 188.4 \nL 96.64 188.4 \nL 96.64 206.52 \nL 74.32 206.52 \nL 74.32 188.4 \n\" style=\"fill:#ba1656;\"/>\n    <path clip-path=\"url(#p8d1c1f01bd)\" d=\"M 96.64 188.4 \nL 118.96 188.4 \nL 118.96 206.52 \nL 96.64 206.52 \nL 96.64 188.4 \n\" style=\"fill:#e43841;\"/>\n    <path clip-path=\"url(#p8d1c1f01bd)\" d=\"M 118.96 188.4 \nL 141.28 188.4 \nL 141.28 206.52 \nL 118.96 206.52 \nL 118.96 188.4 \n\" style=\"fill:#df2f44;\"/>\n    <path clip-path=\"url(#p8d1c1f01bd)\" d=\"M 141.28 188.4 \nL 163.6 188.4 \nL 163.6 206.52 \nL 141.28 206.52 \nL 141.28 188.4 \n\" style=\"fill:#ea443e;\"/>\n    <path clip-path=\"url(#p8d1c1f01bd)\" d=\"M 163.6 188.4 \nL 185.92 188.4 \nL 185.92 206.52 \nL 163.6 206.52 \nL 163.6 188.4 \n\" style=\"fill:#f37450;\"/>\n    <path clip-path=\"url(#p8d1c1f01bd)\" d=\"M 185.92 188.4 \nL 208.24 188.4 \nL 208.24 206.52 \nL 185.92 206.52 \nL 185.92 188.4 \n\" style=\"fill:#f6b48f;\"/>\n    <path clip-path=\"url(#p8d1c1f01bd)\" d=\"M 208.24 188.4 \nL 230.56 188.4 \nL 230.56 206.52 \nL 208.24 206.52 \nL 208.24 188.4 \n\" style=\"fill:#f6bc99;\"/>\n    <path clip-path=\"url(#p8d1c1f01bd)\" d=\"M 230.56 188.4 \nL 252.88 188.4 \nL 252.88 206.52 \nL 230.56 206.52 \nL 230.56 188.4 \n\" style=\"fill:#f26d4b;\"/>\n    <path clip-path=\"url(#p8d1c1f01bd)\" d=\"M 252.88 188.4 \nL 275.2 188.4 \nL 275.2 206.52 \nL 252.88 206.52 \nL 252.88 188.4 \n\" style=\"fill:#e43841;\"/>\n    <path clip-path=\"url(#p8d1c1f01bd)\" d=\"M 275.2 188.4 \nL 297.52 188.4 \nL 297.52 206.52 \nL 275.2 206.52 \nL 275.2 188.4 \n\" style=\"fill:#ca1a50;\"/>\n    <path clip-path=\"url(#p8d1c1f01bd)\" d=\"M 297.52 188.4 \nL 319.84 188.4 \nL 319.84 206.52 \nL 297.52 206.52 \nL 297.52 188.4 \n\" style=\"fill:#e33641;\"/>\n    <path clip-path=\"url(#p8d1c1f01bd)\" d=\"M 52 206.52 \nL 74.32 206.52 \nL 74.32 224.64 \nL 52 224.64 \nL 52 206.52 \n\" style=\"fill:#e8403e;\"/>\n    <path clip-path=\"url(#p8d1c1f01bd)\" d=\"M 74.32 206.52 \nL 96.64 206.52 \nL 96.64 224.64 \nL 74.32 224.64 \nL 74.32 206.52 \n\" style=\"fill:#dc2b46;\"/>\n    <path clip-path=\"url(#p8d1c1f01bd)\" d=\"M 96.64 206.52 \nL 118.96 206.52 \nL 118.96 224.64 \nL 96.64 224.64 \nL 96.64 206.52 \n\" style=\"fill:#e9423e;\"/>\n    <path clip-path=\"url(#p8d1c1f01bd)\" d=\"M 118.96 206.52 \nL 141.28 206.52 \nL 141.28 224.64 \nL 118.96 224.64 \nL 118.96 206.52 \n\" style=\"fill:#f26b49;\"/>\n    <path clip-path=\"url(#p8d1c1f01bd)\" d=\"M 141.28 206.52 \nL 163.6 206.52 \nL 163.6 224.64 \nL 141.28 224.64 \nL 141.28 206.52 \n\" style=\"fill:#f37450;\"/>\n    <path clip-path=\"url(#p8d1c1f01bd)\" d=\"M 163.6 206.52 \nL 185.92 206.52 \nL 185.92 224.64 \nL 163.6 224.64 \nL 163.6 206.52 \n\" style=\"fill:#f6ab83;\"/>\n    <path clip-path=\"url(#p8d1c1f01bd)\" d=\"M 185.92 206.52 \nL 208.24 206.52 \nL 208.24 224.64 \nL 185.92 224.64 \nL 185.92 206.52 \n\" style=\"fill:#faebdd;\"/>\n    <path clip-path=\"url(#p8d1c1f01bd)\" d=\"M 208.24 206.52 \nL 230.56 206.52 \nL 230.56 224.64 \nL 208.24 224.64 \nL 208.24 206.52 \n\" style=\"fill:#f9e0cd;\"/>\n    <path clip-path=\"url(#p8d1c1f01bd)\" d=\"M 230.56 206.52 \nL 252.88 206.52 \nL 252.88 224.64 \nL 230.56 224.64 \nL 230.56 206.52 \n\" style=\"fill:#f5946b;\"/>\n    <path clip-path=\"url(#p8d1c1f01bd)\" d=\"M 252.88 206.52 \nL 275.2 206.52 \nL 275.2 224.64 \nL 252.88 224.64 \nL 252.88 206.52 \n\" style=\"fill:#f26b49;\"/>\n    <path clip-path=\"url(#p8d1c1f01bd)\" d=\"M 275.2 206.52 \nL 297.52 206.52 \nL 297.52 224.64 \nL 275.2 224.64 \nL 275.2 206.52 \n\" style=\"fill:#dc2b46;\"/>\n    <path clip-path=\"url(#p8d1c1f01bd)\" d=\"M 297.52 206.52 \nL 319.84 206.52 \nL 319.84 224.64 \nL 297.52 224.64 \nL 297.52 206.52 \n\" style=\"fill:#ed503e;\"/>\n   </g>\n   <g id=\"matplotlib.axis_1\">\n    <g id=\"xtick_1\">\n     <g id=\"line2d_1\">\n      <defs>\n       <path d=\"M 0 0 \nL 0 3.5 \n\" id=\"me565503459\" style=\"stroke:#323034;stroke-width:0.8;\"/>\n      </defs>\n      <g>\n       <use style=\"fill:#323034;stroke:#323034;stroke-width:0.8;\" x=\"63.16\" xlink:href=\"#me565503459\" y=\"224.64\"/>\n      </g>\n     </g>\n     <g id=\"text_1\">\n      <!-- Jan -->\n      <g style=\"fill:#323034;\" transform=\"translate(55.257812 239.835625)scale(0.12 -0.12)\">\n       <defs>\n        <path d=\"M 35.40625 66.203125 \nL 35.40625 64.296875 \nQ 29.296875 63.796875 27.75 62.25 \nQ 26.203125 60.703125 26.203125 54.90625 \nL 26.203125 18.5 \nQ 26.203125 -1.40625 9.5 -1.40625 \nQ 4.90625 -1.40625 2.15625 0.5 \nQ -0.59375 2.40625 -0.59375 5.796875 \nQ -0.59375 7.796875 0.84375 9.390625 \nQ 2.296875 11 4.296875 11 \nQ 7.59375 11 9.203125 6.796875 \nQ 9.40625 6.296875 9.703125 5.4375 \nQ 10 4.59375 10.140625 4.140625 \nQ 10.296875 3.703125 10.59375 3.25 \nQ 10.90625 2.796875 11.296875 2.59375 \nQ 11.703125 2.40625 12.296875 2.40625 \nQ 14.5 2.40625 15.25 3.953125 \nQ 16 5.5 16 9.40625 \nL 16 55 \nQ 16 60.90625 14.5 62.34375 \nQ 13 63.796875 6.703125 64.296875 \nL 6.703125 66.203125 \nz\n\" id=\"STIXGeneral-Regular-74\"/>\n        <path d=\"M 44.203125 6.59375 \nL 44.203125 3.796875 \nQ 40.40625 -1 35.203125 -1 \nQ 29.5 -1 28.796875 6.296875 \nL 28.703125 6.296875 \nQ 22.296875 -1 14.203125 -1 \nQ 9.5 -1 6.59375 1.75 \nQ 3.703125 4.5 3.703125 9.40625 \nQ 3.703125 16.40625 10.703125 21.09375 \nQ 15.5 24.296875 28.703125 29.203125 \nL 28.703125 34.59375 \nQ 28.703125 39.09375 26.546875 41.34375 \nQ 24.40625 43.59375 20.90625 43.59375 \nQ 17.90625 43.59375 15.90625 42.140625 \nQ 13.90625 40.703125 13.90625 38.703125 \nQ 13.90625 37.796875 14.203125 36.6875 \nQ 14.5 35.59375 14.5 34.5 \nQ 14.5 33 13.140625 31.703125 \nQ 11.796875 30.40625 9.90625 30.40625 \nQ 8.203125 30.40625 6.890625 31.703125 \nQ 5.59375 33 5.59375 35 \nQ 5.59375 39.796875 10.703125 43 \nQ 15.40625 46 22.203125 46 \nQ 30.296875 46 34 41.5 \nQ 35.796875 39.40625 36.296875 37.25 \nQ 36.796875 35.09375 36.796875 30.40625 \nL 36.796875 11.296875 \nQ 36.796875 4.703125 39.90625 4.703125 \nQ 41.90625 4.703125 44.203125 6.59375 \nz\nM 28.703125 12.703125 \nL 28.703125 26.796875 \nQ 19.5 23.59375 15.90625 20.203125 \nQ 12.5 17.09375 12.5 12.5 \nQ 12.5 8.703125 14.390625 6.75 \nQ 16.296875 4.796875 19.40625 4.796875 \nQ 22.703125 4.796875 25.203125 6.40625 \nQ 27.296875 7.90625 28 9.203125 \nQ 28.703125 10.5 28.703125 12.703125 \nz\n\" id=\"STIXGeneral-Regular-97\"/>\n        <path d=\"M 48.5 0 \nL 27.703125 0 \nL 27.796875 1.5 \nQ 31.5 1.796875 32.75 3.640625 \nQ 34 5.5 34 10.5 \nL 34 30.40625 \nQ 34 40.5 26.703125 40.5 \nQ 24.203125 40.5 22 39.296875 \nQ 19.796875 38.09375 16.40625 34.796875 \nL 16.40625 7.203125 \nQ 16.40625 4.203125 17.75 3 \nQ 19.09375 1.796875 22.90625 1.5 \nL 22.90625 0 \nL 1.796875 0 \nL 1.796875 1.5 \nQ 5.59375 1.796875 6.796875 3.34375 \nQ 8 4.90625 8 9.40625 \nL 8 33.703125 \nQ 8 37.40625 7.296875 38.796875 \nQ 6.59375 40.203125 4.5 40.203125 \nQ 2.5 40.203125 1.59375 39.796875 \nL 1.59375 41.5 \nQ 8.59375 43.5 15.296875 46 \nL 16.09375 45.703125 \nL 16.09375 37.90625 \nL 16.203125 37.90625 \nQ 23.296875 46 30.59375 46 \nQ 36.296875 46 39.34375 42 \nQ 42.40625 38 42.40625 30.59375 \nL 42.40625 8.5 \nQ 42.40625 4.5 43.59375 3.203125 \nQ 44.796875 1.90625 48.5 1.5 \nz\n\" id=\"STIXGeneral-Regular-110\"/>\n       </defs>\n       <use xlink:href=\"#STIXGeneral-Regular-74\"/>\n       <use x=\"37.299988\" xlink:href=\"#STIXGeneral-Regular-97\"/>\n       <use x=\"81.699982\" xlink:href=\"#STIXGeneral-Regular-110\"/>\n      </g>\n     </g>\n    </g>\n    <g id=\"xtick_2\">\n     <g id=\"line2d_2\">\n      <g>\n       <use style=\"fill:#323034;stroke:#323034;stroke-width:0.8;\" x=\"85.48\" xlink:href=\"#me565503459\" y=\"224.64\"/>\n      </g>\n     </g>\n     <g id=\"text_2\">\n      <!-- Feb -->\n      <g style=\"fill:#323034;\" transform=\"translate(76.48 239.835625)scale(0.12 -0.12)\">\n       <defs>\n        <path d=\"M 54.59375 51.90625 \nL 52.09375 51.90625 \nQ 51 58.703125 48.34375 60.546875 \nQ 45.703125 62.40625 36.703125 62.40625 \nL 23.5 62.40625 \nQ 21.40625 62.40625 20.75 61.65625 \nQ 20.09375 60.90625 20.09375 58.5 \nL 20.09375 36.796875 \nL 34.296875 36.796875 \nQ 40.59375 36.796875 42.75 38.59375 \nQ 44.90625 40.40625 45.59375 46.296875 \nL 47.90625 46.296875 \nL 47.90625 23 \nL 45.59375 23 \nQ 45 29.09375 42.890625 30.890625 \nQ 40.796875 32.703125 34.296875 32.703125 \nL 20.09375 32.703125 \nL 20.09375 11.203125 \nQ 20.09375 5.5 21.75 3.84375 \nQ 23.40625 2.203125 29.203125 1.90625 \nL 29.203125 0 \nL 1.09375 0 \nL 1.09375 1.90625 \nQ 6.796875 2.296875 8.34375 4.046875 \nQ 9.90625 5.796875 9.90625 12.296875 \nL 9.90625 55.09375 \nQ 9.90625 60.59375 8.40625 62.25 \nQ 6.90625 63.90625 1.203125 64.296875 \nL 1.203125 66.203125 \nL 54.09375 66.203125 \nz\n\" id=\"STIXGeneral-Regular-70\"/>\n        <path d=\"M 40.796875 16.40625 \nL 42.40625 15.703125 \nQ 36.40625 -1 21.5 -1 \nQ 12.703125 -1 7.59375 5.140625 \nQ 2.5 11.296875 2.5 21.703125 \nQ 2.5 32.40625 8.203125 39.203125 \nQ 13.90625 46 23.203125 46 \nQ 32.203125 46 37.09375 39.09375 \nQ 40 35.09375 40.5 27.703125 \nL 9.703125 27.703125 \nQ 10.09375 21.40625 10.9375 18.09375 \nQ 11.796875 14.796875 14.296875 11.40625 \nQ 18.5 5.90625 25.40625 5.90625 \nQ 30.296875 5.90625 33.640625 8.296875 \nQ 37 10.703125 40.796875 16.40625 \nz\nM 9.90625 30.90625 \nL 30.296875 30.90625 \nQ 29.40625 37.203125 27.34375 39.796875 \nQ 25.296875 42.40625 20.5 42.40625 \nQ 16.296875 42.40625 13.5 39.453125 \nQ 10.703125 36.5 9.90625 30.90625 \nz\n\" id=\"STIXGeneral-Regular-101\"/>\n        <path d=\"M 15.296875 68.09375 \nL 15.296875 37.59375 \nQ 16.90625 41.40625 20.546875 43.703125 \nQ 24.203125 46 28.796875 46 \nQ 36.703125 46 41.75 39.703125 \nQ 46.796875 33.40625 46.796875 24 \nQ 46.796875 13 40.09375 6 \nQ 33.40625 -1 23.40625 -1 \nQ 17.296875 -1 12.09375 1.046875 \nQ 6.90625 3.09375 6.90625 5.59375 \nL 6.90625 56.59375 \nQ 6.90625 60.296875 6 61.34375 \nQ 5.09375 62.40625 2 62.40625 \nQ 1.296875 62.40625 0.296875 62.203125 \nL 0.296875 63.90625 \nL 3.296875 64.796875 \nQ 13.5 67.90625 14.796875 68.296875 \nz\nM 15.296875 31.796875 \nL 15.296875 7.40625 \nQ 15.296875 5.09375 18.140625 3.640625 \nQ 21 2.203125 25 2.203125 \nQ 30.90625 2.203125 34.296875 6.5 \nQ 38 11.09375 38 19.703125 \nQ 38 29.5 34.09375 35 \nQ 30.796875 39.703125 25.203125 39.703125 \nQ 21.203125 39.703125 18.25 37.34375 \nQ 15.296875 35 15.296875 31.796875 \nz\n\" id=\"STIXGeneral-Regular-98\"/>\n       </defs>\n       <use xlink:href=\"#STIXGeneral-Regular-70\"/>\n       <use x=\"55.599991\" xlink:href=\"#STIXGeneral-Regular-101\"/>\n       <use x=\"99.999985\" xlink:href=\"#STIXGeneral-Regular-98\"/>\n      </g>\n     </g>\n    </g>\n    <g id=\"xtick_3\">\n     <g id=\"line2d_3\">\n      <g>\n       <use style=\"fill:#323034;stroke:#323034;stroke-width:0.8;\" x=\"107.8\" xlink:href=\"#me565503459\" y=\"224.64\"/>\n      </g>\n     </g>\n     <g id=\"text_3\">\n      <!-- Mar -->\n      <g style=\"fill:#323034;\" transform=\"translate(97.803438 239.835625)scale(0.12 -0.12)\">\n       <defs>\n        <path d=\"M 86.40625 0 \nL 58.40625 0 \nL 58.40625 1.90625 \nQ 64.296875 2.296875 65.84375 4.140625 \nQ 67.40625 6 67.40625 12.296875 \nL 67.40625 57.203125 \nL 41.90625 0 \nL 40.5 0 \nL 15.296875 54.90625 \nL 15.296875 15.09375 \nQ 15.296875 7 17 4.59375 \nQ 18.703125 2.203125 24.59375 1.90625 \nL 24.59375 0 \nL 1.203125 0 \nL 1.203125 1.90625 \nQ 5.59375 2.203125 7.5 3.203125 \nQ 9.40625 4.203125 10.15625 6.75 \nQ 10.90625 9.296875 10.90625 15.09375 \nL 10.90625 54.90625 \nQ 10.90625 60.59375 9.203125 62.25 \nQ 7.5 63.90625 1.40625 64.296875 \nL 1.40625 66.203125 \nL 21.203125 66.203125 \nL 44.296875 16 \nL 66.40625 66.203125 \nL 86.296875 66.203125 \nL 86.296875 64.296875 \nQ 80.90625 64.203125 79.25 62.390625 \nQ 77.59375 60.59375 77.59375 55 \nL 77.59375 11.203125 \nQ 77.59375 5.90625 79.25 4.09375 \nQ 80.90625 2.296875 86.40625 1.90625 \nz\n\" id=\"STIXGeneral-Regular-77\"/>\n        <path d=\"M 16 45.796875 \nL 16 36.59375 \nQ 19.796875 42 22.34375 44 \nQ 24.90625 46 28 46 \nQ 30.59375 46 32.046875 44.59375 \nQ 33.5 43.203125 33.5 40.703125 \nQ 33.5 38.59375 32.453125 37.390625 \nQ 31.40625 36.203125 29.59375 36.203125 \nQ 27.703125 36.203125 25.59375 38.203125 \nQ 24 39.703125 23 39.703125 \nQ 20.90625 39.703125 18.453125 36.796875 \nQ 16 33.90625 16 31.5 \nL 16 9 \nQ 16 4.703125 17.703125 3.203125 \nQ 19.40625 1.703125 24.5 1.5 \nL 24.5 0 \nL 0.5 0 \nL 0.5 1.5 \nQ 5.296875 2.40625 6.4375 3.5 \nQ 7.59375 4.59375 7.59375 8.40625 \nL 7.59375 33.40625 \nQ 7.59375 36.703125 6.84375 38.046875 \nQ 6.09375 39.40625 4.203125 39.40625 \nQ 2.59375 39.40625 0.703125 39 \nL 0.703125 40.59375 \nQ 7 42.59375 15.5 46 \nz\n\" id=\"STIXGeneral-Regular-114\"/>\n       </defs>\n       <use xlink:href=\"#STIXGeneral-Regular-77\"/>\n       <use x=\"88.899994\" xlink:href=\"#STIXGeneral-Regular-97\"/>\n       <use x=\"133.299988\" xlink:href=\"#STIXGeneral-Regular-114\"/>\n      </g>\n     </g>\n    </g>\n    <g id=\"xtick_4\">\n     <g id=\"line2d_4\">\n      <g>\n       <use style=\"fill:#323034;stroke:#323034;stroke-width:0.8;\" x=\"130.12\" xlink:href=\"#me565503459\" y=\"224.64\"/>\n      </g>\n     </g>\n     <g id=\"text_4\">\n      <!-- Apr -->\n      <g style=\"fill:#323034;\" transform=\"translate(120.79 239.835625)scale(0.12 -0.12)\">\n       <defs>\n        <path d=\"M 70.703125 0 \nL 45.203125 0 \nL 45.203125 1.90625 \nQ 49.203125 1.90625 50.703125 2.796875 \nQ 52.09375 3.5 52.09375 5.203125 \nQ 52.09375 7.796875 50.203125 12.203125 \nL 46.09375 21.59375 \nL 19.90625 21.59375 \nL 15.296875 10.203125 \nQ 14.40625 7.90625 14.40625 6 \nQ 14.40625 3.703125 16.046875 2.796875 \nQ 17.703125 1.90625 21.40625 1.90625 \nL 21.40625 0 \nL 1.5 0 \nL 1.5 1.90625 \nQ 5.703125 2.296875 7.59375 4.9375 \nQ 9.5 7.59375 14.09375 18.59375 \nL 34.703125 67.40625 \nL 36.703125 67.40625 \nL 61.296875 11.09375 \nQ 63.5 5.90625 65.25 4.09375 \nQ 67 2.296875 70.703125 1.90625 \nz\nM 44.703125 25.703125 \nL 33.09375 53.203125 \nL 21.59375 25.703125 \nz\n\" id=\"STIXGeneral-Regular-65\"/>\n        <path d=\"M 15.90625 45.796875 \nL 15.90625 38.09375 \nQ 22.203125 46 30.296875 46 \nQ 37.59375 46 42.296875 40 \nQ 47 34 47 24.703125 \nQ 47 13.796875 40.953125 6.390625 \nQ 34.90625 -1 26 -1 \nQ 22.90625 -1 20.75 -0.09375 \nQ 18.59375 0.796875 15.90625 3.296875 \nL 15.90625 -12.40625 \nQ 15.90625 -17.09375 17.5 -18.4375 \nQ 19.09375 -19.796875 24.703125 -19.90625 \nL 24.703125 -21.703125 \nL 0.5 -21.703125 \nL 0.5 -20 \nQ 4.90625 -19.59375 6.203125 -18.296875 \nQ 7.5 -17 7.5 -13.09375 \nL 7.5 33.703125 \nQ 7.5 37.203125 6.703125 38.296875 \nQ 5.90625 39.40625 3.40625 39.40625 \nQ 1.796875 39.40625 0.90625 39.296875 \nL 0.90625 40.90625 \nQ 7.90625 43 15.296875 46 \nz\nM 15.90625 33.40625 \nL 15.90625 8.796875 \nQ 15.90625 6.59375 19.34375 4.390625 \nQ 22.796875 2.203125 26.296875 2.203125 \nQ 31.703125 2.203125 35.046875 7.296875 \nQ 38.40625 12.40625 38.40625 20.703125 \nQ 38.40625 29.5 35.046875 34.75 \nQ 31.703125 40 26.09375 40 \nQ 22.59375 40 19.25 37.796875 \nQ 15.90625 35.59375 15.90625 33.40625 \nz\n\" id=\"STIXGeneral-Regular-112\"/>\n       </defs>\n       <use xlink:href=\"#STIXGeneral-Regular-65\"/>\n       <use x=\"72.199982\" xlink:href=\"#STIXGeneral-Regular-112\"/>\n       <use x=\"122.199966\" xlink:href=\"#STIXGeneral-Regular-114\"/>\n      </g>\n     </g>\n    </g>\n    <g id=\"xtick_5\">\n     <g id=\"line2d_5\">\n      <g>\n       <use style=\"fill:#323034;stroke:#323034;stroke-width:0.8;\" x=\"152.44\" xlink:href=\"#me565503459\" y=\"224.64\"/>\n      </g>\n     </g>\n     <g id=\"text_5\">\n      <!-- May -->\n      <g style=\"fill:#323034;\" transform=\"translate(141.44125 239.824375)scale(0.12 -0.12)\">\n       <defs>\n        <path d=\"M 47.5 45 \nL 47.5 43.5 \nQ 45.703125 43.296875 44.59375 42.1875 \nQ 43.5 41.09375 42.5 38.40625 \nL 27.5 -2.5 \nQ 23.59375 -13.09375 19.640625 -17.4375 \nQ 15.703125 -21.796875 10 -21.796875 \nQ 6.796875 -21.796875 4.890625 -20.140625 \nQ 3 -18.5 3 -16 \nQ 3 -14.09375 4.25 -12.75 \nQ 5.5 -11.40625 7.296875 -11.40625 \nQ 10.203125 -11.40625 12.5 -12.703125 \nQ 13.796875 -13.40625 15.09375 -13.40625 \nQ 17.203125 -13.40625 20.09375 -9 \nQ 21.5 -7 22.796875 -3.296875 \nQ 24.09375 0.40625 24.09375 1.796875 \nQ 24.09375 3.09375 19.90625 11.90625 \nL 6.703125 40.09375 \nQ 5.40625 43 1.40625 43.59375 \nL 1.40625 45 \nL 21.90625 45 \nL 21.90625 43.5 \nQ 18.703125 43.40625 17.453125 42.796875 \nQ 16.203125 42.203125 16.203125 40.796875 \nQ 16.203125 39.703125 17.5 36.703125 \nL 28.703125 11.703125 \nL 38.40625 39.296875 \nQ 38.796875 40.203125 38.796875 41.09375 \nQ 38.796875 43.5 34.203125 43.5 \nL 34.203125 45 \nz\n\" id=\"STIXGeneral-Regular-121\"/>\n       </defs>\n       <use xlink:href=\"#STIXGeneral-Regular-77\"/>\n       <use x=\"88.899994\" xlink:href=\"#STIXGeneral-Regular-97\"/>\n       <use x=\"133.299988\" xlink:href=\"#STIXGeneral-Regular-121\"/>\n      </g>\n     </g>\n    </g>\n    <g id=\"xtick_6\">\n     <g id=\"line2d_6\">\n      <g>\n       <use style=\"fill:#323034;stroke:#323034;stroke-width:0.8;\" x=\"174.76\" xlink:href=\"#me565503459\" y=\"224.64\"/>\n      </g>\n     </g>\n     <g id=\"text_6\">\n      <!-- Jun -->\n      <g style=\"fill:#323034;\" transform=\"translate(166.522188 239.835625)scale(0.12 -0.12)\">\n       <defs>\n        <path d=\"M 48 5 \nL 48 3.59375 \nQ 40.203125 1.5 34.296875 -0.90625 \nL 33.796875 -0.59375 \nL 33.796875 7.59375 \nL 33.59375 7.59375 \nQ 27.296875 -1 19.296875 -1 \nQ 13.59375 -1 10.34375 2.5 \nQ 7.09375 6 7.09375 11.796875 \nL 7.09375 36.90625 \nQ 7.09375 40.59375 5.796875 42 \nQ 4.5 43.40625 0.90625 43.59375 \nL 0.90625 45 \nL 15.5 45 \nL 15.5 12.703125 \nQ 15.5 9.296875 17.546875 7.046875 \nQ 19.59375 4.796875 22.59375 4.796875 \nQ 27.5 4.796875 31 7.90625 \nQ 32.296875 9.09375 32.796875 10.140625 \nQ 33.296875 11.203125 33.296875 13.703125 \nL 33.296875 36.796875 \nQ 33.296875 40.703125 31.890625 41.84375 \nQ 30.5 43 25.90625 43.296875 \nL 25.90625 45 \nL 41.703125 45 \nL 41.703125 10.703125 \nQ 41.703125 7.203125 42.84375 6.09375 \nQ 44 5 47.40625 5 \nz\n\" id=\"STIXGeneral-Regular-117\"/>\n       </defs>\n       <use xlink:href=\"#STIXGeneral-Regular-74\"/>\n       <use x=\"37.299988\" xlink:href=\"#STIXGeneral-Regular-117\"/>\n       <use x=\"87.299973\" xlink:href=\"#STIXGeneral-Regular-110\"/>\n      </g>\n     </g>\n    </g>\n    <g id=\"xtick_7\">\n     <g id=\"line2d_7\">\n      <g>\n       <use style=\"fill:#323034;stroke:#323034;stroke-width:0.8;\" x=\"197.08\" xlink:href=\"#me565503459\" y=\"224.64\"/>\n      </g>\n     </g>\n     <g id=\"text_7\">\n      <!-- Jul -->\n      <g style=\"fill:#323034;\" transform=\"translate(190.174375 239.835625)scale(0.12 -0.12)\">\n       <defs>\n        <path d=\"M 25.703125 0 \nL 2.09375 0 \nL 2.09375 1.5 \nQ 6.796875 1.90625 8.296875 3.453125 \nQ 9.796875 5 9.796875 9.203125 \nL 9.796875 56.09375 \nQ 9.796875 59.703125 8.890625 61.09375 \nQ 8 62.5 5.59375 62.5 \nQ 3.5 62.5 1.90625 62.296875 \nL 1.90625 63.90625 \nQ 11.40625 66.203125 17.703125 68.296875 \nL 18.203125 67.90625 \nL 18.203125 8.703125 \nQ 18.203125 4.5 19.59375 3.140625 \nQ 21 1.796875 25.703125 1.5 \nz\n\" id=\"STIXGeneral-Regular-108\"/>\n       </defs>\n       <use xlink:href=\"#STIXGeneral-Regular-74\"/>\n       <use x=\"37.299988\" xlink:href=\"#STIXGeneral-Regular-117\"/>\n       <use x=\"87.299973\" xlink:href=\"#STIXGeneral-Regular-108\"/>\n      </g>\n     </g>\n    </g>\n    <g id=\"xtick_8\">\n     <g id=\"line2d_8\">\n      <g>\n       <use style=\"fill:#323034;stroke:#323034;stroke-width:0.8;\" x=\"219.4\" xlink:href=\"#me565503459\" y=\"224.64\"/>\n      </g>\n     </g>\n     <g id=\"text_8\">\n      <!-- Aug -->\n      <g style=\"fill:#323034;\" transform=\"translate(209.067813 239.824375)scale(0.12 -0.12)\">\n       <defs>\n        <path d=\"M 47 38.796875 \nL 38.703125 38.796875 \nQ 40.59375 34.5 40.59375 30.40625 \nQ 40.59375 22.703125 35.390625 18.796875 \nQ 30.203125 14.90625 25 14.90625 \nQ 23.90625 14.90625 21.203125 15.203125 \nL 19.296875 15.40625 \nQ 17.296875 14.796875 15.296875 12.6875 \nQ 13.296875 10.59375 13.296875 9.09375 \nQ 13.296875 6.796875 21.09375 6.40625 \nL 34 5.796875 \nQ 39.5 5.59375 42.796875 2.6875 \nQ 46.09375 -0.203125 46.09375 -4.90625 \nQ 46.09375 -10.703125 40.09375 -15.40625 \nQ 31.796875 -21.796875 20.09375 -21.796875 \nQ 12.90625 -21.796875 7.84375 -18.9375 \nQ 2.796875 -16.09375 2.796875 -12.09375 \nQ 2.796875 -9.296875 5 -6.546875 \nQ 7.203125 -3.796875 12.59375 0.09375 \nQ 9.40625 1.59375 8.34375 2.6875 \nQ 7.296875 3.796875 7.296875 5.40625 \nQ 7.296875 8.296875 11.90625 12.296875 \nQ 14.203125 14.296875 16.203125 16.296875 \nQ 11.203125 18.796875 9.046875 21.890625 \nQ 6.90625 25 6.90625 29.703125 \nQ 6.90625 36.5 11.75 41.25 \nQ 16.59375 46 23.59375 46 \nQ 27.59375 46 31.59375 44.5 \nL 33.796875 43.703125 \nQ 36.703125 42.703125 39.296875 42.703125 \nL 47 42.703125 \nz\nM 15.203125 33.796875 \nL 15.203125 33.5 \nQ 15.203125 26.296875 18.046875 21.84375 \nQ 20.90625 17.40625 25.5 17.40625 \nQ 28.90625 17.40625 30.90625 19.84375 \nQ 32.90625 22.296875 32.90625 26.40625 \nQ 32.90625 33 29.90625 38.5 \nQ 27.40625 43.203125 22.59375 43.203125 \nQ 19.09375 43.203125 17.140625 40.703125 \nQ 15.203125 38.203125 15.203125 33.796875 \nz\nM 43.296875 -6.40625 \nQ 43.296875 -3.59375 40.546875 -2.546875 \nQ 37.796875 -1.5 30.90625 -1.5 \nQ 21 -1.5 14.703125 -0.203125 \nQ 11.703125 -3.796875 10.75 -5.4375 \nQ 9.796875 -7.09375 9.796875 -8.796875 \nQ 9.796875 -12.09375 13.75 -14.09375 \nQ 17.703125 -16.09375 24.296875 -16.09375 \nQ 32.796875 -16.09375 38.046875 -13.4375 \nQ 43.296875 -10.796875 43.296875 -6.40625 \nz\n\" id=\"STIXGeneral-Regular-103\"/>\n       </defs>\n       <use xlink:href=\"#STIXGeneral-Regular-65\"/>\n       <use x=\"72.199982\" xlink:href=\"#STIXGeneral-Regular-117\"/>\n       <use x=\"122.199966\" xlink:href=\"#STIXGeneral-Regular-103\"/>\n      </g>\n     </g>\n    </g>\n    <g id=\"xtick_9\">\n     <g id=\"line2d_9\">\n      <g>\n       <use style=\"fill:#323034;stroke:#323034;stroke-width:0.8;\" x=\"241.72\" xlink:href=\"#me565503459\" y=\"224.64\"/>\n      </g>\n     </g>\n     <g id=\"text_9\">\n      <!-- Sep -->\n      <g style=\"fill:#323034;\" transform=\"translate(232.72 239.835625)scale(0.12 -0.12)\">\n       <defs>\n        <path d=\"M 46.90625 46.296875 \nL 44.40625 46.296875 \nQ 42.703125 52.5 40.296875 55.703125 \nQ 34.203125 63.5 25.796875 63.5 \nQ 21.203125 63.5 18.453125 60.84375 \nQ 15.703125 58.203125 15.703125 54 \nQ 15.703125 52 16.703125 50.09375 \nQ 17.703125 48.203125 18.84375 46.84375 \nQ 20 45.5 22.890625 43.5 \nQ 25.796875 41.5 27.59375 40.453125 \nQ 29.40625 39.40625 33.59375 36.90625 \nQ 41.703125 32.203125 45.390625 27.546875 \nQ 49.09375 22.90625 49.09375 17.296875 \nQ 49.09375 9 43.296875 3.796875 \nQ 37.5 -1.40625 28.703125 -1.40625 \nQ 22.203125 -1.40625 16.90625 0.90625 \nQ 14.296875 2 12.203125 2 \nQ 11 2 10.203125 1.09375 \nQ 9.40625 0.203125 9.40625 -1.296875 \nL 7.203125 -1.296875 \nL 4.296875 19.90625 \nL 6.5 19.90625 \nQ 13.203125 2.203125 27.09375 2.203125 \nQ 32.40625 2.203125 35.703125 5.34375 \nQ 39 8.5 39 13.40625 \nQ 39 18.09375 36.09375 21.296875 \nQ 31.296875 26.5 19.296875 32.90625 \nQ 7.09375 39.40625 7.09375 50.09375 \nQ 7.09375 58.09375 12 62.84375 \nQ 16.90625 67.59375 24.5 67.59375 \nQ 29.796875 67.59375 35 65.40625 \nQ 37.703125 64.203125 39.40625 64.203125 \nQ 42 64.203125 42.59375 67.59375 \nL 44.703125 67.59375 \nz\n\" id=\"STIXGeneral-Regular-83\"/>\n       </defs>\n       <use xlink:href=\"#STIXGeneral-Regular-83\"/>\n       <use x=\"55.599991\" xlink:href=\"#STIXGeneral-Regular-101\"/>\n       <use x=\"99.999985\" xlink:href=\"#STIXGeneral-Regular-112\"/>\n      </g>\n     </g>\n    </g>\n    <g id=\"xtick_10\">\n     <g id=\"line2d_10\">\n      <g>\n       <use style=\"fill:#323034;stroke:#323034;stroke-width:0.8;\" x=\"264.04\" xlink:href=\"#me565503459\" y=\"224.64\"/>\n      </g>\n     </g>\n     <g id=\"text_10\">\n      <!-- Oct -->\n      <g style=\"fill:#323034;\" transform=\"translate(255.375625 239.835625)scale(0.12 -0.12)\">\n       <defs>\n        <path d=\"M 68.796875 33.09375 \nQ 68.796875 17.703125 59.6875 8.140625 \nQ 50.59375 -1.40625 36.09375 -1.40625 \nQ 21.5 -1.40625 12.453125 8.1875 \nQ 3.40625 17.796875 3.40625 33.40625 \nQ 3.40625 48.59375 12.453125 58.09375 \nQ 21.5 67.59375 36.09375 67.59375 \nQ 50.703125 67.59375 59.75 57.84375 \nQ 68.796875 48.09375 68.796875 33.09375 \nz\nM 57.40625 33.703125 \nQ 57.40625 42.203125 55 48.953125 \nQ 52.59375 55.703125 48.296875 59.296875 \nQ 42.703125 64 36 64 \nQ 27.5 64 21.703125 57.296875 \nQ 18.5 53.703125 16.640625 47.046875 \nQ 14.796875 40.40625 14.796875 33.203125 \nQ 14.796875 15 23.796875 6.703125 \nQ 28.703125 2.203125 36.203125 2.203125 \nQ 44 2.203125 49.09375 7 \nQ 57.40625 15 57.40625 33.703125 \nz\n\" id=\"STIXGeneral-Regular-79\"/>\n        <path d=\"M 39.796875 15.59375 \nL 41.203125 14.703125 \nQ 36.90625 6.296875 33 3.203125 \nQ 27.90625 -1 21.5 -1 \nQ 13.203125 -1 7.84375 5.25 \nQ 2.5 11.5 2.5 21.203125 \nQ 2.5 33.90625 10.90625 40.90625 \nQ 17.09375 46 24.40625 46 \nQ 30.703125 46 35.25 42.953125 \nQ 39.796875 39.90625 39.796875 35.703125 \nQ 39.796875 34 38.390625 32.75 \nQ 37 31.5 35.09375 31.5 \nQ 31.59375 31.5 30.296875 36.09375 \nL 29.703125 38.296875 \nQ 28.90625 41.09375 27.703125 42.09375 \nQ 26.5 43.09375 23.796875 43.09375 \nQ 17.703125 43.09375 13.953125 38.296875 \nQ 10.203125 33.5 10.203125 25.703125 \nQ 10.203125 17.09375 14.5 11.640625 \nQ 18.796875 6.203125 25.703125 6.203125 \nQ 30 6.203125 33.09375 8.25 \nQ 36.203125 10.296875 39.796875 15.59375 \nz\n\" id=\"STIXGeneral-Regular-99\"/>\n        <path d=\"M 26.59375 7.703125 \nL 27.90625 6.59375 \nQ 23.09375 -1 15.796875 -1 \nQ 7 -1 7 11.703125 \nL 7 41.796875 \nL 1.703125 41.796875 \nQ 1.296875 42.09375 1.296875 42.5 \nQ 1.296875 43.296875 3 44.40625 \nQ 6.796875 46.59375 12.703125 55.09375 \nQ 12.90625 55.40625 13.65625 56.34375 \nQ 14.40625 57.296875 14.703125 57.90625 \nQ 15.40625 57.90625 15.40625 56.59375 \nL 15.40625 45 \nL 25.5 45 \nL 25.5 41.796875 \nL 15.40625 41.796875 \nL 15.40625 13.203125 \nQ 15.40625 8.40625 16.59375 6.296875 \nQ 17.796875 4.203125 20.59375 4.203125 \nQ 23.59375 4.203125 26.59375 7.703125 \nz\n\" id=\"STIXGeneral-Regular-116\"/>\n       </defs>\n       <use xlink:href=\"#STIXGeneral-Regular-79\"/>\n       <use x=\"72.199982\" xlink:href=\"#STIXGeneral-Regular-99\"/>\n       <use x=\"116.599976\" xlink:href=\"#STIXGeneral-Regular-116\"/>\n      </g>\n     </g>\n    </g>\n    <g id=\"xtick_11\">\n     <g id=\"line2d_11\">\n      <g>\n       <use style=\"fill:#323034;stroke:#323034;stroke-width:0.8;\" x=\"286.36\" xlink:href=\"#me565503459\" y=\"224.64\"/>\n      </g>\n     </g>\n     <g id=\"text_11\">\n      <!-- Nov -->\n      <g style=\"fill:#323034;\" transform=\"translate(276.027813 239.835625)scale(0.12 -0.12)\">\n       <defs>\n        <path d=\"M 70.703125 66.203125 \nL 70.703125 64.296875 \nQ 65.59375 63.796875 64.09375 62.5 \nQ 62.5 61.09375 61.84375 58.6875 \nQ 61.203125 56.296875 61.203125 50.703125 \nL 61.203125 -1.09375 \nL 59.40625 -1.09375 \nL 15.296875 53.796875 \nL 15.296875 15 \nQ 15.296875 7.40625 17 5.046875 \nQ 18.703125 2.703125 24.59375 1.90625 \nL 24.59375 0 \nL 1.203125 0 \nL 1.203125 1.90625 \nQ 7.40625 2.59375 9.15625 4.84375 \nQ 10.90625 7.09375 10.90625 15 \nL 10.90625 59 \nQ 8.296875 62.203125 6.5 63.25 \nQ 4.703125 64.296875 1.203125 64.296875 \nL 1.203125 66.203125 \nL 18.203125 66.203125 \nL 56.796875 17.90625 \nL 56.796875 51.90625 \nQ 56.796875 59.5 54.90625 61.703125 \nQ 53.703125 63 52.25 63.453125 \nQ 50.796875 63.90625 47 64.296875 \nL 47 66.203125 \nz\n\" id=\"STIXGeneral-Regular-78\"/>\n        <path d=\"M 47 23.09375 \nQ 47 12.59375 40.75 5.796875 \nQ 34.5 -1 24.5 -1 \nQ 15.296875 -1 9.09375 5.75 \nQ 2.90625 12.5 2.90625 22.796875 \nQ 2.90625 33.203125 9.09375 39.59375 \nQ 15.296875 46 25.40625 46 \nQ 34.703125 46 40.84375 39.640625 \nQ 47 33.296875 47 23.09375 \nz\nM 38 20.40625 \nQ 38 31.796875 33 38.203125 \nQ 29 43.203125 23.5 43.203125 \nQ 18.296875 43.203125 15.09375 38.953125 \nQ 11.90625 34.703125 11.90625 27.296875 \nQ 11.90625 14.5 17.203125 6.796875 \nQ 20.59375 1.796875 26.203125 1.796875 \nQ 31.703125 1.796875 34.84375 6.75 \nQ 38 11.703125 38 20.40625 \nz\n\" id=\"STIXGeneral-Regular-111\"/>\n        <path d=\"M 47.703125 45 \nL 47.703125 43.5 \nQ 45.40625 43.296875 44.296875 42 \nQ 43.203125 40.703125 41.203125 35.703125 \nL 28.40625 3.59375 \nQ 26.40625 -1.40625 25.59375 -1.40625 \nQ 24.796875 -1.40625 23.796875 1.203125 \nQ 23.59375 1.5 23.390625 2.203125 \nQ 23.203125 2.90625 23 3.296875 \nL 11 32 \nQ 7.796875 39.59375 6.296875 41.4375 \nQ 4.796875 43.296875 1.90625 43.5 \nL 1.90625 45 \nL 21.5 45 \nL 21.5 43.5 \nQ 18.90625 43.296875 17.90625 42.6875 \nQ 16.90625 42.09375 16.90625 40.796875 \nQ 16.90625 39.203125 17.796875 37 \nL 28 11.40625 \nL 37.90625 37.296875 \nQ 38.5 38.796875 38.5 40.296875 \nQ 38.5 43.09375 33.796875 43.5 \nL 33.796875 45 \nz\n\" id=\"STIXGeneral-Regular-118\"/>\n       </defs>\n       <use xlink:href=\"#STIXGeneral-Regular-78\"/>\n       <use x=\"72.199982\" xlink:href=\"#STIXGeneral-Regular-111\"/>\n       <use x=\"122.199966\" xlink:href=\"#STIXGeneral-Regular-118\"/>\n      </g>\n     </g>\n    </g>\n    <g id=\"xtick_12\">\n     <g id=\"line2d_12\">\n      <g>\n       <use style=\"fill:#323034;stroke:#323034;stroke-width:0.8;\" x=\"308.68\" xlink:href=\"#me565503459\" y=\"224.64\"/>\n      </g>\n     </g>\n     <g id=\"text_12\">\n      <!-- Dec -->\n      <g style=\"fill:#323034;\" transform=\"translate(299.019063 239.835625)scale(0.12 -0.12)\">\n       <defs>\n        <path d=\"M 1.59375 66.203125 \nL 28.59375 66.203125 \nQ 48.09375 66.203125 58.59375 57.09375 \nQ 68.5 48.59375 68.5 33.40625 \nQ 68.5 15.09375 54.90625 6.40625 \nQ 45 0 29.703125 0 \nL 1.59375 0 \nL 1.59375 1.90625 \nQ 7.40625 2.296875 8.90625 3.9375 \nQ 10.40625 5.59375 10.40625 11.5 \nL 10.40625 55 \nQ 10.40625 60.796875 8.90625 62.34375 \nQ 7.40625 63.90625 1.59375 64.296875 \nz\nM 20.59375 58.296875 \nL 20.59375 8.40625 \nQ 20.59375 5.703125 21.546875 4.703125 \nQ 22.5 3.703125 25.40625 3.703125 \nQ 33.203125 3.703125 38 4.796875 \nQ 42.796875 5.90625 47.203125 8.90625 \nQ 57.59375 15.90625 57.59375 32.796875 \nQ 57.59375 47.296875 48.09375 55.59375 \nQ 43.796875 59.40625 38.6875 60.953125 \nQ 33.59375 62.5 25.90625 62.5 \nQ 23 62.5 21.796875 61.59375 \nQ 20.59375 60.703125 20.59375 58.296875 \nz\n\" id=\"STIXGeneral-Regular-68\"/>\n       </defs>\n       <use xlink:href=\"#STIXGeneral-Regular-68\"/>\n       <use x=\"72.199982\" xlink:href=\"#STIXGeneral-Regular-101\"/>\n       <use x=\"116.599976\" xlink:href=\"#STIXGeneral-Regular-99\"/>\n      </g>\n     </g>\n    </g>\n    <g id=\"text_13\">\n     <!-- month -->\n     <g transform=\"translate(170.584375 253.635625)scale(0.12 -0.12)\">\n      <defs>\n       <path d=\"M 77.5 0 \nL 55.703125 0 \nL 55.703125 1.5 \nQ 59.90625 1.90625 61.046875 3.25 \nQ 62.203125 4.59375 62.203125 9 \nL 62.203125 29.59375 \nQ 62.203125 35.59375 60.453125 38.1875 \nQ 58.703125 40.796875 54.5 40.796875 \nQ 51 40.796875 48.546875 39.390625 \nQ 46.09375 38 43.796875 34.703125 \nL 43.796875 9.5 \nQ 43.796875 4.703125 45.25 3.140625 \nQ 46.703125 1.59375 51 1.5 \nL 51 0 \nL 28.59375 0 \nL 28.59375 1.5 \nQ 33 1.796875 34.203125 2.9375 \nQ 35.40625 4.09375 35.40625 8.59375 \nL 35.40625 29.703125 \nQ 35.40625 40.796875 28.90625 40.796875 \nQ 26.09375 40.796875 22.9375 39.546875 \nQ 19.796875 38.296875 18.296875 36.5 \nQ 17 35 17 34.796875 \nL 17 7 \nQ 17 3.796875 18.390625 2.75 \nQ 19.796875 1.703125 23.796875 1.5 \nL 23.796875 0 \nL 1.59375 0 \nL 1.59375 1.5 \nQ 5.796875 1.59375 7.1875 3.046875 \nQ 8.59375 4.5 8.59375 8.796875 \nL 8.59375 33.59375 \nQ 8.59375 37.296875 7.796875 38.75 \nQ 7 40.203125 5.09375 40.203125 \nQ 3.59375 40.203125 1.90625 39.796875 \nL 1.90625 41.5 \nQ 8.703125 43.40625 15.796875 46 \nL 16.59375 45.703125 \nL 16.59375 38.296875 \nL 16.796875 38.296875 \nQ 21.296875 43 24.75 44.5 \nQ 28.203125 46 32.09375 46 \nQ 40 46 42.703125 37.59375 \nQ 50.5 46 59 46 \nQ 70.59375 46 70.59375 28 \nL 70.59375 7.703125 \nQ 70.59375 4.40625 71.59375 3.15625 \nQ 72.59375 1.90625 74.90625 1.703125 \nL 77.5 1.5 \nz\n\" id=\"STIXGeneral-Regular-109\"/>\n       <path d=\"M 48.703125 0 \nL 27.5 0 \nL 27.5 1.5 \nQ 31.90625 2 33.09375 3.5 \nQ 34.296875 5 34.296875 10.203125 \nL 34.296875 30 \nQ 34.296875 40.59375 26.90625 40.59375 \nQ 23.90625 40.59375 21.40625 39.1875 \nQ 18.90625 37.796875 15.703125 34.296875 \nL 15.703125 10.203125 \nQ 15.703125 5 16.890625 3.5 \nQ 18.09375 2 22.5 1.5 \nL 22.5 0 \nL 0.90625 0 \nL 0.90625 1.5 \nQ 5.203125 2.09375 6.25 3.5 \nQ 7.296875 4.90625 7.296875 10.203125 \nL 7.296875 57.296875 \nQ 7.296875 60.5 6.34375 61.453125 \nQ 5.40625 62.40625 2.203125 62.40625 \nQ 1.296875 62.40625 1 62.296875 \nL 1 63.90625 \nL 3.703125 64.703125 \nQ 11.40625 67 15.203125 68.296875 \nL 15.703125 68 \nL 15.703125 37.59375 \nQ 19.203125 42.09375 22.59375 44.046875 \nQ 26 46 30.40625 46 \nQ 42.703125 46 42.703125 30.09375 \nL 42.703125 10.203125 \nQ 42.703125 5 43.640625 3.640625 \nQ 44.59375 2.296875 48.703125 1.5 \nz\n\" id=\"STIXGeneral-Regular-104\"/>\n      </defs>\n      <use xlink:href=\"#STIXGeneral-Regular-109\"/>\n      <use x=\"77.799988\" xlink:href=\"#STIXGeneral-Regular-111\"/>\n      <use x=\"127.799973\" xlink:href=\"#STIXGeneral-Regular-110\"/>\n      <use x=\"177.799957\" xlink:href=\"#STIXGeneral-Regular-116\"/>\n      <use x=\"205.599945\" xlink:href=\"#STIXGeneral-Regular-104\"/>\n     </g>\n    </g>\n   </g>\n   <g id=\"matplotlib.axis_2\">\n    <g id=\"ytick_1\">\n     <g id=\"line2d_13\">\n      <defs>\n       <path d=\"M 0 0 \nL -3.5 0 \n\" id=\"m90122b8648\" style=\"stroke:#323034;stroke-width:0.8;\"/>\n      </defs>\n      <g>\n       <use style=\"fill:#323034;stroke:#323034;stroke-width:0.8;\" x=\"52\" xlink:href=\"#m90122b8648\" y=\"16.26\"/>\n      </g>\n     </g>\n     <g id=\"text_14\">\n      <!-- 1949 -->\n      <g style=\"fill:#323034;\" transform=\"translate(21 20.357812)scale(0.12 -0.12)\">\n       <defs>\n        <path d=\"M 39.40625 0 \nL 11.796875 0 \nL 11.796875 1.5 \nQ 17.296875 1.796875 19.296875 3.546875 \nQ 21.296875 5.296875 21.296875 9.5 \nL 21.296875 54.40625 \nQ 21.296875 59.296875 18.296875 59.296875 \nQ 16.90625 59.296875 13.796875 58.09375 \nL 11.09375 57.09375 \nL 11.09375 58.5 \nL 29 67.59375 \nL 29.90625 67.296875 \nL 29.90625 7.59375 \nQ 29.90625 4.296875 31.90625 2.890625 \nQ 33.90625 1.5 39.40625 1.5 \nz\n\" id=\"STIXGeneral-Regular-49\"/>\n        <path d=\"M 5.90625 -2.203125 \nL 5.59375 -0.203125 \nQ 17.09375 1.796875 25.046875 9.5 \nQ 33 17.203125 36 29.40625 \nQ 30.203125 23.703125 21 23.703125 \nQ 12.90625 23.703125 7.953125 29.296875 \nQ 3 34.90625 3 44 \nQ 3 54.09375 8.953125 60.84375 \nQ 14.90625 67.59375 23.796875 67.59375 \nQ 33.296875 67.59375 39.5 60 \nQ 45.90625 52 45.90625 39.40625 \nQ 45.90625 30.59375 42.84375 22.84375 \nQ 39.796875 15.09375 33.90625 9.703125 \nQ 27.703125 4.09375 21.796875 1.640625 \nQ 15.90625 -0.796875 5.90625 -2.203125 \nz\nM 36.203125 35.5 \nL 36.203125 39.40625 \nQ 36.203125 64.796875 23 64.796875 \nQ 18.296875 64.796875 15.703125 61.40625 \nQ 14.203125 59.40625 13.203125 55.40625 \nQ 12.203125 51.40625 12.203125 47.40625 \nQ 12.203125 38.5 15.546875 33.25 \nQ 18.90625 28 24.5 28 \nQ 28.5 28 32.34375 29.953125 \nQ 36.203125 31.90625 36.203125 35.5 \nz\n\" id=\"STIXGeneral-Regular-57\"/>\n        <path d=\"M 47.296875 16.703125 \nL 37 16.703125 \nL 37 0 \nL 29.203125 0 \nL 29.203125 16.703125 \nL 1.203125 16.703125 \nL 1.203125 23.09375 \nL 32.59375 67.59375 \nL 37 67.59375 \nL 37 23.09375 \nL 47.296875 23.09375 \nz\nM 29.203125 23.09375 \nL 29.203125 57.40625 \nL 5.203125 23.09375 \nz\n\" id=\"STIXGeneral-Regular-52\"/>\n       </defs>\n       <use xlink:href=\"#STIXGeneral-Regular-49\"/>\n       <use x=\"49.999985\" xlink:href=\"#STIXGeneral-Regular-57\"/>\n       <use x=\"99.999969\" xlink:href=\"#STIXGeneral-Regular-52\"/>\n       <use x=\"149.999954\" xlink:href=\"#STIXGeneral-Regular-57\"/>\n      </g>\n     </g>\n    </g>\n    <g id=\"ytick_2\">\n     <g id=\"line2d_14\">\n      <g>\n       <use style=\"fill:#323034;stroke:#323034;stroke-width:0.8;\" x=\"52\" xlink:href=\"#m90122b8648\" y=\"34.38\"/>\n      </g>\n     </g>\n     <g id=\"text_15\">\n      <!-- 1950 -->\n      <g style=\"fill:#323034;\" transform=\"translate(21 38.477812)scale(0.12 -0.12)\">\n       <defs>\n        <path d=\"M 43.796875 68.09375 \nL 40.203125 59.59375 \nQ 39.59375 58.296875 37.5 58.296875 \nL 18.09375 58.296875 \nL 14.09375 49.796875 \nQ 25.09375 47.703125 30 45.25 \nQ 34.90625 42.796875 39.09375 37 \nQ 42.59375 32.203125 42.59375 24.296875 \nQ 42.59375 17.09375 40.25 12.1875 \nQ 37.90625 7.296875 32.796875 3.5 \nQ 26 -1.40625 15.796875 -1.40625 \nQ 10.09375 -1.40625 6.59375 0.296875 \nQ 3.09375 2 3.09375 4.796875 \nQ 3.09375 8.59375 7.59375 8.59375 \nQ 11.203125 8.59375 15 5.5 \nQ 18.90625 2.296875 22.09375 2.296875 \nQ 27.296875 2.296875 31.4375 7.5 \nQ 35.59375 12.703125 35.59375 19.203125 \nQ 35.59375 28.796875 28.90625 34.203125 \nQ 20.203125 41.203125 7.59375 41.203125 \nQ 6.40625 41.203125 6.40625 42 \nL 6.5 42.5 \nL 17.40625 66.203125 \nL 38.09375 66.203125 \nQ 39.796875 66.203125 40.75 66.703125 \nQ 41.703125 67.203125 42.90625 68.796875 \nz\n\" id=\"STIXGeneral-Regular-53\"/>\n        <path d=\"M 47.59375 33 \nQ 47.59375 26.296875 46.296875 20.34375 \nQ 45 14.40625 42.453125 9.40625 \nQ 39.90625 4.40625 35.40625 1.5 \nQ 30.90625 -1.40625 25 -1.40625 \nQ 18.90625 -1.40625 14.296875 1.6875 \nQ 9.703125 4.796875 7.203125 10 \nQ 4.703125 15.203125 3.546875 21.09375 \nQ 2.40625 27 2.40625 33.59375 \nQ 2.40625 42.90625 4.703125 50.34375 \nQ 7 57.796875 12.34375 62.6875 \nQ 17.703125 67.59375 25.40625 67.59375 \nQ 35.203125 67.59375 41.390625 58 \nQ 47.59375 48.40625 47.59375 33 \nz\nM 38 32.5 \nQ 38 48.296875 34.640625 56.640625 \nQ 31.296875 65 24.796875 65 \nQ 18.59375 65 15.296875 56.59375 \nQ 12 48.203125 12 32.90625 \nQ 12 17.5 15.296875 9.34375 \nQ 18.59375 1.203125 25 1.203125 \nQ 31.296875 1.203125 34.640625 9.34375 \nQ 38 17.5 38 32.5 \nz\n\" id=\"STIXGeneral-Regular-48\"/>\n       </defs>\n       <use xlink:href=\"#STIXGeneral-Regular-49\"/>\n       <use x=\"49.999985\" xlink:href=\"#STIXGeneral-Regular-57\"/>\n       <use x=\"99.999969\" xlink:href=\"#STIXGeneral-Regular-53\"/>\n       <use x=\"149.999954\" xlink:href=\"#STIXGeneral-Regular-48\"/>\n      </g>\n     </g>\n    </g>\n    <g id=\"ytick_3\">\n     <g id=\"line2d_15\">\n      <g>\n       <use style=\"fill:#323034;stroke:#323034;stroke-width:0.8;\" x=\"52\" xlink:href=\"#m90122b8648\" y=\"52.5\"/>\n      </g>\n     </g>\n     <g id=\"text_16\">\n      <!-- 1951 -->\n      <g style=\"fill:#323034;\" transform=\"translate(21 56.597813)scale(0.12 -0.12)\">\n       <use xlink:href=\"#STIXGeneral-Regular-49\"/>\n       <use x=\"49.999985\" xlink:href=\"#STIXGeneral-Regular-57\"/>\n       <use x=\"99.999969\" xlink:href=\"#STIXGeneral-Regular-53\"/>\n       <use x=\"149.999954\" xlink:href=\"#STIXGeneral-Regular-49\"/>\n      </g>\n     </g>\n    </g>\n    <g id=\"ytick_4\">\n     <g id=\"line2d_16\">\n      <g>\n       <use style=\"fill:#323034;stroke:#323034;stroke-width:0.8;\" x=\"52\" xlink:href=\"#m90122b8648\" y=\"70.62\"/>\n      </g>\n     </g>\n     <g id=\"text_17\">\n      <!-- 1952 -->\n      <g style=\"fill:#323034;\" transform=\"translate(21 74.717812)scale(0.12 -0.12)\">\n       <defs>\n        <path d=\"M 47.40625 13.703125 \nL 42 0 \nL 2.90625 0 \nL 2.90625 1.203125 \nL 20.703125 20.09375 \nQ 27.703125 27.40625 30.703125 33.5 \nQ 33.703125 39.59375 33.703125 46.09375 \nQ 33.703125 52.796875 30 56.5 \nQ 26.296875 60.203125 19.796875 60.203125 \nQ 14.40625 60.203125 11.25 57.390625 \nQ 8.09375 54.59375 5.09375 47.203125 \nL 3 47.703125 \nQ 4.703125 57 9.84375 62.296875 \nQ 15 67.59375 23.796875 67.59375 \nQ 32.09375 67.59375 37.1875 62.59375 \nQ 42.296875 57.59375 42.296875 50 \nQ 42.296875 38.703125 29.5 25.203125 \nL 13 7.59375 \nL 36.40625 7.59375 \nQ 39.703125 7.59375 41.640625 8.890625 \nQ 43.59375 10.203125 46 14.296875 \nz\n\" id=\"STIXGeneral-Regular-50\"/>\n       </defs>\n       <use xlink:href=\"#STIXGeneral-Regular-49\"/>\n       <use x=\"49.999985\" xlink:href=\"#STIXGeneral-Regular-57\"/>\n       <use x=\"99.999969\" xlink:href=\"#STIXGeneral-Regular-53\"/>\n       <use x=\"149.999954\" xlink:href=\"#STIXGeneral-Regular-50\"/>\n      </g>\n     </g>\n    </g>\n    <g id=\"ytick_5\">\n     <g id=\"line2d_17\">\n      <g>\n       <use style=\"fill:#323034;stroke:#323034;stroke-width:0.8;\" x=\"52\" xlink:href=\"#m90122b8648\" y=\"88.74\"/>\n      </g>\n     </g>\n     <g id=\"text_18\">\n      <!-- 1953 -->\n      <g style=\"fill:#323034;\" transform=\"translate(21 92.837812)scale(0.12 -0.12)\">\n       <defs>\n        <path d=\"M 6.09375 51 \nL 4.5 51.40625 \nQ 6.796875 58.90625 11.6875 63.25 \nQ 16.59375 67.59375 24.09375 67.59375 \nQ 31.09375 67.59375 35.390625 63.796875 \nQ 39.703125 60 39.703125 53.90625 \nQ 39.703125 45.703125 30.40625 40.09375 \nQ 35.90625 37.703125 38.703125 34.796875 \nQ 43.09375 29.90625 43.09375 21.90625 \nQ 43.09375 13.90625 38.5 7.90625 \nQ 35.09375 3.296875 28.75 0.9375 \nQ 22.40625 -1.40625 15.296875 -1.40625 \nQ 4.09375 -1.40625 4.09375 4.296875 \nQ 4.09375 5.90625 5.296875 6.90625 \nQ 6.5 7.90625 8.203125 7.90625 \nQ 10.703125 7.90625 14.296875 5.296875 \nQ 18.703125 2.203125 22.90625 2.203125 \nQ 28.40625 2.203125 32.15625 6.640625 \nQ 35.90625 11.09375 35.90625 17.5 \nQ 35.90625 29 25.5 32 \nQ 22.40625 33 15.296875 33 \nL 15.296875 34.40625 \nQ 20.90625 36.296875 23.703125 38 \nQ 31.796875 42.59375 31.796875 51.40625 \nQ 31.796875 56.40625 28.9375 59 \nQ 26.09375 61.59375 21 61.59375 \nQ 12 61.59375 6.09375 51 \nz\n\" id=\"STIXGeneral-Regular-51\"/>\n       </defs>\n       <use xlink:href=\"#STIXGeneral-Regular-49\"/>\n       <use x=\"49.999985\" xlink:href=\"#STIXGeneral-Regular-57\"/>\n       <use x=\"99.999969\" xlink:href=\"#STIXGeneral-Regular-53\"/>\n       <use x=\"149.999954\" xlink:href=\"#STIXGeneral-Regular-51\"/>\n      </g>\n     </g>\n    </g>\n    <g id=\"ytick_6\">\n     <g id=\"line2d_18\">\n      <g>\n       <use style=\"fill:#323034;stroke:#323034;stroke-width:0.8;\" x=\"52\" xlink:href=\"#m90122b8648\" y=\"106.86\"/>\n      </g>\n     </g>\n     <g id=\"text_19\">\n      <!-- 1954 -->\n      <g style=\"fill:#323034;\" transform=\"translate(21 110.957812)scale(0.12 -0.12)\">\n       <use xlink:href=\"#STIXGeneral-Regular-49\"/>\n       <use x=\"49.999985\" xlink:href=\"#STIXGeneral-Regular-57\"/>\n       <use x=\"99.999969\" xlink:href=\"#STIXGeneral-Regular-53\"/>\n       <use x=\"149.999954\" xlink:href=\"#STIXGeneral-Regular-52\"/>\n      </g>\n     </g>\n    </g>\n    <g id=\"ytick_7\">\n     <g id=\"line2d_19\">\n      <g>\n       <use style=\"fill:#323034;stroke:#323034;stroke-width:0.8;\" x=\"52\" xlink:href=\"#m90122b8648\" y=\"124.98\"/>\n      </g>\n     </g>\n     <g id=\"text_20\">\n      <!-- 1955 -->\n      <g style=\"fill:#323034;\" transform=\"translate(21 129.077812)scale(0.12 -0.12)\">\n       <use xlink:href=\"#STIXGeneral-Regular-49\"/>\n       <use x=\"49.999985\" xlink:href=\"#STIXGeneral-Regular-57\"/>\n       <use x=\"99.999969\" xlink:href=\"#STIXGeneral-Regular-53\"/>\n       <use x=\"149.999954\" xlink:href=\"#STIXGeneral-Regular-53\"/>\n      </g>\n     </g>\n    </g>\n    <g id=\"ytick_8\">\n     <g id=\"line2d_20\">\n      <g>\n       <use style=\"fill:#323034;stroke:#323034;stroke-width:0.8;\" x=\"52\" xlink:href=\"#m90122b8648\" y=\"143.1\"/>\n      </g>\n     </g>\n     <g id=\"text_21\">\n      <!-- 1956 -->\n      <g style=\"fill:#323034;\" transform=\"translate(21 147.197812)scale(0.12 -0.12)\">\n       <defs>\n        <path d=\"M 44.59375 68.40625 \nL 44.796875 66.796875 \nQ 33 64.90625 25.09375 57.25 \nQ 17.203125 49.59375 15.203125 38.296875 \nQ 21 42.796875 27.90625 42.796875 \nQ 36.703125 42.796875 41.75 37.1875 \nQ 46.796875 31.59375 46.796875 21.90625 \nQ 46.796875 12.09375 41.703125 5.90625 \nQ 35.796875 -1.40625 25.796875 -1.40625 \nQ 13.59375 -1.40625 8.09375 8.703125 \nQ 3.40625 17.296875 3.40625 27.90625 \nQ 3.40625 44.296875 14.296875 55.5 \nQ 20.5 61.90625 27.046875 64.546875 \nQ 33.59375 67.203125 44.59375 68.40625 \nz\nM 37.796875 18.796875 \nQ 37.796875 38.203125 24.296875 38.203125 \nQ 19.296875 38.203125 16 35.546875 \nQ 12.703125 32.90625 12.703125 26.59375 \nQ 12.703125 14.90625 16.34375 8.15625 \nQ 20 1.40625 26.90625 1.40625 \nQ 32.203125 1.40625 35 6.15625 \nQ 37.796875 10.90625 37.796875 18.796875 \nz\n\" id=\"STIXGeneral-Regular-54\"/>\n       </defs>\n       <use xlink:href=\"#STIXGeneral-Regular-49\"/>\n       <use x=\"49.999985\" xlink:href=\"#STIXGeneral-Regular-57\"/>\n       <use x=\"99.999969\" xlink:href=\"#STIXGeneral-Regular-53\"/>\n       <use x=\"149.999954\" xlink:href=\"#STIXGeneral-Regular-54\"/>\n      </g>\n     </g>\n    </g>\n    <g id=\"ytick_9\">\n     <g id=\"line2d_21\">\n      <g>\n       <use style=\"fill:#323034;stroke:#323034;stroke-width:0.8;\" x=\"52\" xlink:href=\"#m90122b8648\" y=\"161.22\"/>\n      </g>\n     </g>\n     <g id=\"text_22\">\n      <!-- 1957 -->\n      <g style=\"fill:#323034;\" transform=\"translate(21 165.317812)scale(0.12 -0.12)\">\n       <defs>\n        <path d=\"M 44.90625 64.59375 \nL 23.703125 -0.796875 \nL 17.203125 -0.796875 \nL 37 58.796875 \nL 15.5 58.796875 \nQ 11.203125 58.796875 9.09375 57.296875 \nQ 7 55.796875 3.796875 50.59375 \nL 2 51.5 \nL 8 66.203125 \nL 44.90625 66.203125 \nz\n\" id=\"STIXGeneral-Regular-55\"/>\n       </defs>\n       <use xlink:href=\"#STIXGeneral-Regular-49\"/>\n       <use x=\"49.999985\" xlink:href=\"#STIXGeneral-Regular-57\"/>\n       <use x=\"99.999969\" xlink:href=\"#STIXGeneral-Regular-53\"/>\n       <use x=\"149.999954\" xlink:href=\"#STIXGeneral-Regular-55\"/>\n      </g>\n     </g>\n    </g>\n    <g id=\"ytick_10\">\n     <g id=\"line2d_22\">\n      <g>\n       <use style=\"fill:#323034;stroke:#323034;stroke-width:0.8;\" x=\"52\" xlink:href=\"#m90122b8648\" y=\"179.34\"/>\n      </g>\n     </g>\n     <g id=\"text_23\">\n      <!-- 1958 -->\n      <g style=\"fill:#323034;\" transform=\"translate(21 183.437812)scale(0.12 -0.12)\">\n       <defs>\n        <path d=\"M 44.5 15.5 \nQ 44.5 7.796875 39.140625 3.1875 \nQ 33.796875 -1.40625 24.796875 -1.40625 \nQ 16.40625 -1.40625 11 3.1875 \nQ 5.59375 7.796875 5.59375 14.90625 \nQ 5.59375 20.203125 8.1875 23.953125 \nQ 10.796875 27.703125 18.59375 33.203125 \nQ 11.09375 39.40625 8.640625 43.203125 \nQ 6.203125 47 6.203125 52 \nQ 6.203125 59.09375 11.640625 63.34375 \nQ 17.09375 67.59375 25.59375 67.59375 \nQ 32.90625 67.59375 37.65625 63.4375 \nQ 42.40625 59.296875 42.40625 53.296875 \nQ 42.40625 47.796875 39.546875 44.5 \nQ 36.703125 41.203125 29 37.09375 \nQ 38 31.09375 41.25 26.390625 \nQ 44.5 21.703125 44.5 15.5 \nz\nM 35.5 53.296875 \nQ 35.5 58.5 32.59375 61.640625 \nQ 29.703125 64.796875 24.59375 64.796875 \nQ 19.5 64.796875 16.546875 62.140625 \nQ 13.59375 59.5 13.59375 54.890625 \nQ 13.59375 50.296875 16.546875 46.546875 \nQ 19.5 42.796875 26.09375 38.90625 \nQ 31.203125 41.90625 33.34375 45.25 \nQ 35.5 48.59375 35.5 53.296875 \nz\nM 27.09375 27.203125 \nL 21.203125 31.203125 \nQ 16.796875 27.59375 15 24.140625 \nQ 13.203125 20.703125 13.203125 15.796875 \nQ 13.203125 9 16.640625 5.203125 \nQ 20.09375 1.40625 25.90625 1.40625 \nQ 30.796875 1.40625 33.84375 4.453125 \nQ 36.90625 7.5 36.90625 12.40625 \nQ 36.90625 16.90625 34.59375 20.296875 \nQ 32.296875 23.703125 27.09375 27.203125 \nz\n\" id=\"STIXGeneral-Regular-56\"/>\n       </defs>\n       <use xlink:href=\"#STIXGeneral-Regular-49\"/>\n       <use x=\"49.999985\" xlink:href=\"#STIXGeneral-Regular-57\"/>\n       <use x=\"99.999969\" xlink:href=\"#STIXGeneral-Regular-53\"/>\n       <use x=\"149.999954\" xlink:href=\"#STIXGeneral-Regular-56\"/>\n      </g>\n     </g>\n    </g>\n    <g id=\"ytick_11\">\n     <g id=\"line2d_23\">\n      <g>\n       <use style=\"fill:#323034;stroke:#323034;stroke-width:0.8;\" x=\"52\" xlink:href=\"#m90122b8648\" y=\"197.46\"/>\n      </g>\n     </g>\n     <g id=\"text_24\">\n      <!-- 1959 -->\n      <g style=\"fill:#323034;\" transform=\"translate(21 201.557812)scale(0.12 -0.12)\">\n       <use xlink:href=\"#STIXGeneral-Regular-49\"/>\n       <use x=\"49.999985\" xlink:href=\"#STIXGeneral-Regular-57\"/>\n       <use x=\"99.999969\" xlink:href=\"#STIXGeneral-Regular-53\"/>\n       <use x=\"149.999954\" xlink:href=\"#STIXGeneral-Regular-57\"/>\n      </g>\n     </g>\n    </g>\n    <g id=\"ytick_12\">\n     <g id=\"line2d_24\">\n      <g>\n       <use style=\"fill:#323034;stroke:#323034;stroke-width:0.8;\" x=\"52\" xlink:href=\"#m90122b8648\" y=\"215.58\"/>\n      </g>\n     </g>\n     <g id=\"text_25\">\n      <!-- 1960 -->\n      <g style=\"fill:#323034;\" transform=\"translate(21 219.677812)scale(0.12 -0.12)\">\n       <use xlink:href=\"#STIXGeneral-Regular-49\"/>\n       <use x=\"49.999985\" xlink:href=\"#STIXGeneral-Regular-57\"/>\n       <use x=\"99.999969\" xlink:href=\"#STIXGeneral-Regular-54\"/>\n       <use x=\"149.999954\" xlink:href=\"#STIXGeneral-Regular-48\"/>\n      </g>\n     </g>\n    </g>\n    <g id=\"text_26\">\n     <!-- year -->\n     <g transform=\"translate(15.384375 126.246562)rotate(-90)scale(0.12 -0.12)\">\n      <use xlink:href=\"#STIXGeneral-Regular-121\"/>\n      <use x=\"49.999985\" xlink:href=\"#STIXGeneral-Regular-101\"/>\n      <use x=\"94.399979\" xlink:href=\"#STIXGeneral-Regular-97\"/>\n      <use x=\"138.799973\" xlink:href=\"#STIXGeneral-Regular-114\"/>\n     </g>\n    </g>\n   </g>\n  </g>\n  <g id=\"axes_2\">\n   <g id=\"patch_3\">\n    <path clip-path=\"url(#p8392708325)\" d=\"M 336.58 224.64 \nL 336.58 223.790625 \nL 336.58 8.049375 \nL 336.58 7.2 \nL 347.452 7.2 \nL 347.452 8.049375 \nL 347.452 223.790625 \nL 347.452 224.64 \nz\n\" style=\"fill:#ffffff;stroke:#ffffff;stroke-linejoin:miter;stroke-width:0.01;\"/>\n   </g>\n   <image height=\"217.44\" id=\"imageb574130396\" transform=\"scale(1 -1)translate(0 -217.44)\" width=\"11.04\" x=\"336.48\" xlink:href=\"data:image/png;base64,\niVBORw0KGgoAAAANSUhEUgAAABcAAAHFCAYAAAAZq2IwAAACTUlEQVR4nO2c243kMAwEJa8vics/z70ApuazDyigKgCC6G5Ssudxf/78/T0j3ruqfM55hrXPe++ud2/n7z3J8sm280fb+TItZlm0nT+NP+Adf7MsRRFonyMZijREXNwsy66+d7d4D2iv5smCFEWkKCLmKGo772pBiG+5DRHhTYtYFm/n3o9yti/QtIaKo6g9icSaT+/ns9JF8QtFkYt7oyg2VDxEw+JdLQivod6t6E1Ljy1IQ4R0tUDUu2VHWxHxylIUkcafizdEhNdQ7/vzDEW8hnrH/31mvyYqil9QR3GHeIgylBh3rl1c46vFjqKIFEUuLjZ0WHxsqDaKXs2nby3aLYTXUO9JpDZ0p4vXUO8QmaP4q43isHgnETJdXOLdcr37fFjc23mGIg0RMt6Kw9MiQxHzEA1fuKy/rzgcIvGNS2toUcTiw6/lZiijHqJpcassYkOHT7neKHo1b4iQtaG74t4ztN2CeHeLt/MMRdqKiPgMXWpeFJFt56co/u/iXlnGUdR2Po1ishBFEXnv8PMzr+bJgqw7t2q+TEuGIl5DvZqbDdX+249Xc3Pnu/piWdqKxPp9S1H8RNz5He4Wr+bTnHtl8R5zaY60z5G2IlIUkbYi8h7xQ+40ilpDvUMkvs5ZO9++hc5QoM6R6UmklkXbuVfz6dWiGxdQ50jj/6V4sgBFEelREclQxKt5siBFEXnv/ZkV92ouNrQhIryav+fRTmhRBLyad1ggXkPTHGmfI0URWd/Pu+V+oo5i40/FtVFcTmhbEWn8kWnn/wCT4y9JvOhhkwAAAABJRU5ErkJggg==\" y=\"-6.72\"/>\n   <g id=\"matplotlib.axis_3\"/>\n   <g id=\"matplotlib.axis_4\">\n    <g id=\"ytick_13\">\n     <g id=\"line2d_25\">\n      <defs>\n       <path d=\"M 0 0 \nL 3.5 0 \n\" id=\"m18a7b19618\" style=\"stroke:#323034;stroke-width:0.8;\"/>\n      </defs>\n      <g>\n       <use style=\"fill:#323034;stroke:#323034;stroke-width:0.8;\" x=\"347.452\" xlink:href=\"#m18a7b19618\" y=\"184.342239\"/>\n      </g>\n     </g>\n     <g id=\"text_27\">\n      <!-- $\\mathdefault{200}$ -->\n      <g style=\"fill:#323034;\" transform=\"translate(354.452 188.440052)scale(0.12 -0.12)\">\n       <use transform=\"translate(0 0.40625)\" xlink:href=\"#STIXGeneral-Regular-50\"/>\n       <use transform=\"translate(49.999985 0.40625)\" xlink:href=\"#STIXGeneral-Regular-48\"/>\n       <use transform=\"translate(99.999969 0.40625)\" xlink:href=\"#STIXGeneral-Regular-48\"/>\n      </g>\n     </g>\n    </g>\n    <g id=\"ytick_14\">\n     <g id=\"line2d_26\">\n      <g>\n       <use style=\"fill:#323034;stroke:#323034;stroke-width:0.8;\" x=\"347.452\" xlink:href=\"#m18a7b19618\" y=\"142.365405\"/>\n      </g>\n     </g>\n     <g id=\"text_28\">\n      <!-- $\\mathdefault{300}$ -->\n      <g style=\"fill:#323034;\" transform=\"translate(354.452 146.463218)scale(0.12 -0.12)\">\n       <use transform=\"translate(0 0.40625)\" xlink:href=\"#STIXGeneral-Regular-51\"/>\n       <use transform=\"translate(49.999985 0.40625)\" xlink:href=\"#STIXGeneral-Regular-48\"/>\n       <use transform=\"translate(99.999969 0.40625)\" xlink:href=\"#STIXGeneral-Regular-48\"/>\n      </g>\n     </g>\n    </g>\n    <g id=\"ytick_15\">\n     <g id=\"line2d_27\">\n      <g>\n       <use style=\"fill:#323034;stroke:#323034;stroke-width:0.8;\" x=\"347.452\" xlink:href=\"#m18a7b19618\" y=\"100.388571\"/>\n      </g>\n     </g>\n     <g id=\"text_29\">\n      <!-- $\\mathdefault{400}$ -->\n      <g style=\"fill:#323034;\" transform=\"translate(354.452 104.486384)scale(0.12 -0.12)\">\n       <use transform=\"translate(0 0.40625)\" xlink:href=\"#STIXGeneral-Regular-52\"/>\n       <use transform=\"translate(49.999985 0.40625)\" xlink:href=\"#STIXGeneral-Regular-48\"/>\n       <use transform=\"translate(99.999969 0.40625)\" xlink:href=\"#STIXGeneral-Regular-48\"/>\n      </g>\n     </g>\n    </g>\n    <g id=\"ytick_16\">\n     <g id=\"line2d_28\">\n      <g>\n       <use style=\"fill:#323034;stroke:#323034;stroke-width:0.8;\" x=\"347.452\" xlink:href=\"#m18a7b19618\" y=\"58.411737\"/>\n      </g>\n     </g>\n     <g id=\"text_30\">\n      <!-- $\\mathdefault{500}$ -->\n      <g style=\"fill:#323034;\" transform=\"translate(354.452 62.50955)scale(0.12 -0.12)\">\n       <use transform=\"translate(0 0.203125)\" xlink:href=\"#STIXGeneral-Regular-53\"/>\n       <use transform=\"translate(49.999985 0.203125)\" xlink:href=\"#STIXGeneral-Regular-48\"/>\n       <use transform=\"translate(99.999969 0.203125)\" xlink:href=\"#STIXGeneral-Regular-48\"/>\n      </g>\n     </g>\n    </g>\n    <g id=\"ytick_17\">\n     <g id=\"line2d_29\">\n      <g>\n       <use style=\"fill:#323034;stroke:#323034;stroke-width:0.8;\" x=\"347.452\" xlink:href=\"#m18a7b19618\" y=\"16.434903\"/>\n      </g>\n     </g>\n     <g id=\"text_31\">\n      <!-- $\\mathdefault{600}$ -->\n      <g style=\"fill:#323034;\" transform=\"translate(354.452 20.532716)scale(0.12 -0.12)\">\n       <use transform=\"translate(0 0.59375)\" xlink:href=\"#STIXGeneral-Regular-54\"/>\n       <use transform=\"translate(49.999985 0.59375)\" xlink:href=\"#STIXGeneral-Regular-48\"/>\n       <use transform=\"translate(99.999969 0.59375)\" xlink:href=\"#STIXGeneral-Regular-48\"/>\n      </g>\n     </g>\n    </g>\n   </g>\n   <g id=\"patch_4\">\n    <path d=\"M 336.58 224.64 \nL 336.58 223.790625 \nL 336.58 8.049375 \nL 336.58 7.2 \nL 347.452 7.2 \nL 347.452 8.049375 \nL 347.452 223.790625 \nL 347.452 224.64 \nz\n\" style=\"fill:none;\"/>\n   </g>\n  </g>\n </g>\n <defs>\n  <clipPath id=\"p8d1c1f01bd\">\n   <rect height=\"217.44\" width=\"267.84\" x=\"52\" y=\"7.2\"/>\n  </clipPath>\n  <clipPath id=\"p8392708325\">\n   <rect height=\"217.44\" width=\"10.872\" x=\"336.58\" y=\"7.2\"/>\n  </clipPath>\n </defs>\n</svg>\n",
      "image/png": "[encoded data removed]"
     },
     "metadata": {
      "needs_background": "light"
     }
    }
   ],
   "source": [
    "sns.heatmap(flights);"
   ]
  },
  {
   "cell_type": "markdown",
   "metadata": {},
   "source": [
    "### Plotnine\n",
    "\n",
    "Plotnine uses tidy data, rather than the wide data preferred by **matplotlib**, so we need to first get the original format of the flights data back:"
   ]
  },
  {
   "cell_type": "code",
   "execution_count": null,
   "metadata": {},
   "outputs": [],
   "source": [
    "flights = sns.load_dataset(\"flights\")\n",
    "(\n",
    "    ggplot(flights, aes(\"month\", \"factor(year)\", fill=\"passengers\"))\n",
    "    + geom_tile()\n",
    "    + scale_y_reverse()\n",
    ")"
   ]
  },
  {
   "cell_type": "markdown",
   "metadata": {},
   "source": [
    "### Altair"
   ]
  },
  {
   "cell_type": "code",
   "execution_count": null,
   "metadata": {},
   "outputs": [],
   "source": [
    "alt.Chart(flights).mark_rect().encode(\n",
    "    x=alt.X(\"month\", type=\"nominal\", sort=None), y=\"year:O\", color=\"passengers:Q\"\n",
    ")"
   ]
  },
  {
   "cell_type": "markdown",
   "metadata": {},
   "source": [
    "### Plotly\n",
    "\n"
   ]
  },
  {
   "cell_type": "code",
   "execution_count": 5,
   "metadata": {},
   "outputs": [
    {
     "output_type": "display_data",
     "data": {
      "application/vnd.plotly.v1+json": {
       "config": {
        "plotlyServerURL": "https://plot.ly"
       },
       "data": [
        {
         "coloraxis": "coloraxis",
         "hovertemplate": "Month: %{x}<br>Year: %{y}<br>Number: %{z}<extra></extra>",
         "name": "0",
         "type": "heatmap",
         "x": [
          "Jan",
          "Feb",
          "Mar",
          "Apr",
          "May",
          "Jun",
          "Jul",
          "Aug",
          "Sep",
          "Oct",
          "Nov",
          "Dec"
         ],
         "xaxis": "x",
         "y": [
          1949,
          1950,
          1951,
          1952,
          1953,
          1954,
          1955,
          1956,
          1957,
          1958,
          1959,
          1960
         ],
         "yaxis": "y",
         "z": [
          [
           112,
           118,
           132,
           129,
           121,
           135,
           148,
           148,
           136,
           119,
           104,
           118
          ],
          [
           115,
           126,
           141,
           135,
           125,
           149,
           170,
           170,
           158,
           133,
           114,
           140
          ],
          [
           145,
           150,
           178,
           163,
           172,
           178,
           199,
           199,
           184,
           162,
           146,
           166
          ],
          [
           171,
           180,
           193,
           181,
           183,
           218,
           230,
           242,
           209,
           191,
           172,
           194
          ],
          [
           196,
           196,
           236,
           235,
           229,
           243,
           264,
           272,
           237,
           211,
           180,
           201
          ],
          [
           204,
           188,
           235,
           227,
           234,
           264,
           302,
           293,
           259,
           229,
           203,
           229
          ],
          [
           242,
           233,
           267,
           269,
           270,
           315,
           364,
           347,
           312,
           274,
           237,
           278
          ],
          [
           284,
           277,
           317,
           313,
           318,
           374,
           413,
           405,
           355,
           306,
           271,
           306
          ],
          [
           315,
           301,
           356,
           348,
           355,
           422,
           465,
           467,
           404,
           347,
           305,
           336
          ],
          [
           340,
           318,
           362,
           348,
           363,
           435,
           491,
           505,
           404,
           359,
           310,
           337
          ],
          [
           360,
           342,
           406,
           396,
           420,
           472,
           548,
           559,
           463,
           407,
           362,
           405
          ],
          [
           417,
           391,
           419,
           461,
           472,
           535,
           622,
           606,
           508,
           461,
           390,
           432
          ]
         ]
        }
       ],
       "layout": {
        "coloraxis": {
         "colorbar": {
          "title": {
           "text": "Number"
          }
         },
         "colorscale": [
          [
           0,
           "#0d0887"
          ],
          [
           0.1111111111111111,
           "#46039f"
          ],
          [
           0.2222222222222222,
           "#7201a8"
          ],
          [
           0.3333333333333333,
           "#9c179e"
          ],
          [
           0.4444444444444444,
           "#bd3786"
          ],
          [
           0.5555555555555556,
           "#d8576b"
          ],
          [
           0.6666666666666666,
           "#ed7953"
          ],
          [
           0.7777777777777778,
           "#fb9f3a"
          ],
          [
           0.8888888888888888,
           "#fdca26"
          ],
          [
           1,
           "#f0f921"
          ]
         ]
        },
        "margin": {
         "t": 60
        },
        "template": {
         "data": {
          "bar": [
           {
            "error_x": {
             "color": "#2a3f5f"
            },
            "error_y": {
             "color": "#2a3f5f"
            },
            "marker": {
             "line": {
              "color": "#E5ECF6",
              "width": 0.5
             },
             "pattern": {
              "fillmode": "overlay",
              "size": 10,
              "solidity": 0.2
             }
            },
            "type": "bar"
           }
          ],
          "barpolar": [
           {
            "marker": {
             "line": {
              "color": "#E5ECF6",
              "width": 0.5
             },
             "pattern": {
              "fillmode": "overlay",
              "size": 10,
              "solidity": 0.2
             }
            },
            "type": "barpolar"
           }
          ],
          "carpet": [
           {
            "aaxis": {
             "endlinecolor": "#2a3f5f",
             "gridcolor": "white",
             "linecolor": "white",
             "minorgridcolor": "white",
             "startlinecolor": "#2a3f5f"
            },
            "baxis": {
             "endlinecolor": "#2a3f5f",
             "gridcolor": "white",
             "linecolor": "white",
             "minorgridcolor": "white",
             "startlinecolor": "#2a3f5f"
            },
            "type": "carpet"
           }
          ],
          "choropleth": [
           {
            "colorbar": {
             "outlinewidth": 0,
             "ticks": ""
            },
            "type": "choropleth"
           }
          ],
          "contour": [
           {
            "colorbar": {
             "outlinewidth": 0,
             "ticks": ""
            },
            "colorscale": [
             [
              0,
              "#0d0887"
             ],
             [
              0.1111111111111111,
              "#46039f"
             ],
             [
              0.2222222222222222,
              "#7201a8"
             ],
             [
              0.3333333333333333,
              "#9c179e"
             ],
             [
              0.4444444444444444,
              "#bd3786"
             ],
             [
              0.5555555555555556,
              "#d8576b"
             ],
             [
              0.6666666666666666,
              "#ed7953"
             ],
             [
              0.7777777777777778,
              "#fb9f3a"
             ],
             [
              0.8888888888888888,
              "#fdca26"
             ],
             [
              1,
              "#f0f921"
             ]
            ],
            "type": "contour"
           }
          ],
          "contourcarpet": [
           {
            "colorbar": {
             "outlinewidth": 0,
             "ticks": ""
            },
            "type": "contourcarpet"
           }
          ],
          "heatmap": [
           {
            "colorbar": {
             "outlinewidth": 0,
             "ticks": ""
            },
            "colorscale": [
             [
              0,
              "#0d0887"
             ],
             [
              0.1111111111111111,
              "#46039f"
             ],
             [
              0.2222222222222222,
              "#7201a8"
             ],
             [
              0.3333333333333333,
              "#9c179e"
             ],
             [
              0.4444444444444444,
              "#bd3786"
             ],
             [
              0.5555555555555556,
              "#d8576b"
             ],
             [
              0.6666666666666666,
              "#ed7953"
             ],
             [
              0.7777777777777778,
              "#fb9f3a"
             ],
             [
              0.8888888888888888,
              "#fdca26"
             ],
             [
              1,
              "#f0f921"
             ]
            ],
            "type": "heatmap"
           }
          ],
          "heatmapgl": [
           {
            "colorbar": {
             "outlinewidth": 0,
             "ticks": ""
            },
            "colorscale": [
             [
              0,
              "#0d0887"
             ],
             [
              0.1111111111111111,
              "#46039f"
             ],
             [
              0.2222222222222222,
              "#7201a8"
             ],
             [
              0.3333333333333333,
              "#9c179e"
             ],
             [
              0.4444444444444444,
              "#bd3786"
             ],
             [
              0.5555555555555556,
              "#d8576b"
             ],
             [
              0.6666666666666666,
              "#ed7953"
             ],
             [
              0.7777777777777778,
              "#fb9f3a"
             ],
             [
              0.8888888888888888,
              "#fdca26"
             ],
             [
              1,
              "#f0f921"
             ]
            ],
            "type": "heatmapgl"
           }
          ],
          "histogram": [
           {
            "marker": {
             "pattern": {
              "fillmode": "overlay",
              "size": 10,
              "solidity": 0.2
             }
            },
            "type": "histogram"
           }
          ],
          "histogram2d": [
           {
            "colorbar": {
             "outlinewidth": 0,
             "ticks": ""
            },
            "colorscale": [
             [
              0,
              "#0d0887"
             ],
             [
              0.1111111111111111,
              "#46039f"
             ],
             [
              0.2222222222222222,
              "#7201a8"
             ],
             [
              0.3333333333333333,
              "#9c179e"
             ],
             [
              0.4444444444444444,
              "#bd3786"
             ],
             [
              0.5555555555555556,
              "#d8576b"
             ],
             [
              0.6666666666666666,
              "#ed7953"
             ],
             [
              0.7777777777777778,
              "#fb9f3a"
             ],
             [
              0.8888888888888888,
              "#fdca26"
             ],
             [
              1,
              "#f0f921"
             ]
            ],
            "type": "histogram2d"
           }
          ],
          "histogram2dcontour": [
           {
            "colorbar": {
             "outlinewidth": 0,
             "ticks": ""
            },
            "colorscale": [
             [
              0,
              "#0d0887"
             ],
             [
              0.1111111111111111,
              "#46039f"
             ],
             [
              0.2222222222222222,
              "#7201a8"
             ],
             [
              0.3333333333333333,
              "#9c179e"
             ],
             [
              0.4444444444444444,
              "#bd3786"
             ],
             [
              0.5555555555555556,
              "#d8576b"
             ],
             [
              0.6666666666666666,
              "#ed7953"
             ],
             [
              0.7777777777777778,
              "#fb9f3a"
             ],
             [
              0.8888888888888888,
              "#fdca26"
             ],
             [
              1,
              "#f0f921"
             ]
            ],
            "type": "histogram2dcontour"
           }
          ],
          "mesh3d": [
           {
            "colorbar": {
             "outlinewidth": 0,
             "ticks": ""
            },
            "type": "mesh3d"
           }
          ],
          "parcoords": [
           {
            "line": {
             "colorbar": {
              "outlinewidth": 0,
              "ticks": ""
             }
            },
            "type": "parcoords"
           }
          ],
          "pie": [
           {
            "automargin": true,
            "type": "pie"
           }
          ],
          "scatter": [
           {
            "marker": {
             "colorbar": {
              "outlinewidth": 0,
              "ticks": ""
             }
            },
            "type": "scatter"
           }
          ],
          "scatter3d": [
           {
            "line": {
             "colorbar": {
              "outlinewidth": 0,
              "ticks": ""
             }
            },
            "marker": {
             "colorbar": {
              "outlinewidth": 0,
              "ticks": ""
             }
            },
            "type": "scatter3d"
           }
          ],
          "scattercarpet": [
           {
            "marker": {
             "colorbar": {
              "outlinewidth": 0,
              "ticks": ""
             }
            },
            "type": "scattercarpet"
           }
          ],
          "scattergeo": [
           {
            "marker": {
             "colorbar": {
              "outlinewidth": 0,
              "ticks": ""
             }
            },
            "type": "scattergeo"
           }
          ],
          "scattergl": [
           {
            "marker": {
             "colorbar": {
              "outlinewidth": 0,
              "ticks": ""
             }
            },
            "type": "scattergl"
           }
          ],
          "scattermapbox": [
           {
            "marker": {
             "colorbar": {
              "outlinewidth": 0,
              "ticks": ""
             }
            },
            "type": "scattermapbox"
           }
          ],
          "scatterpolar": [
           {
            "marker": {
             "colorbar": {
              "outlinewidth": 0,
              "ticks": ""
             }
            },
            "type": "scatterpolar"
           }
          ],
          "scatterpolargl": [
           {
            "marker": {
             "colorbar": {
              "outlinewidth": 0,
              "ticks": ""
             }
            },
            "type": "scatterpolargl"
           }
          ],
          "scatterternary": [
           {
            "marker": {
             "colorbar": {
              "outlinewidth": 0,
              "ticks": ""
             }
            },
            "type": "scatterternary"
           }
          ],
          "surface": [
           {
            "colorbar": {
             "outlinewidth": 0,
             "ticks": ""
            },
            "colorscale": [
             [
              0,
              "#0d0887"
             ],
             [
              0.1111111111111111,
              "#46039f"
             ],
             [
              0.2222222222222222,
              "#7201a8"
             ],
             [
              0.3333333333333333,
              "#9c179e"
             ],
             [
              0.4444444444444444,
              "#bd3786"
             ],
             [
              0.5555555555555556,
              "#d8576b"
             ],
             [
              0.6666666666666666,
              "#ed7953"
             ],
             [
              0.7777777777777778,
              "#fb9f3a"
             ],
             [
              0.8888888888888888,
              "#fdca26"
             ],
             [
              1,
              "#f0f921"
             ]
            ],
            "type": "surface"
           }
          ],
          "table": [
           {
            "cells": {
             "fill": {
              "color": "#EBF0F8"
             },
             "line": {
              "color": "white"
             }
            },
            "header": {
             "fill": {
              "color": "#C8D4E3"
             },
             "line": {
              "color": "white"
             }
            },
            "type": "table"
           }
          ]
         },
         "layout": {
          "annotationdefaults": {
           "arrowcolor": "#2a3f5f",
           "arrowhead": 0,
           "arrowwidth": 1
          },
          "autotypenumbers": "strict",
          "coloraxis": {
           "colorbar": {
            "outlinewidth": 0,
            "ticks": ""
           }
          },
          "colorscale": {
           "diverging": [
            [
             0,
             "#8e0152"
            ],
            [
             0.1,
             "#c51b7d"
            ],
            [
             0.2,
             "#de77ae"
            ],
            [
             0.3,
             "#f1b6da"
            ],
            [
             0.4,
             "#fde0ef"
            ],
            [
             0.5,
             "#f7f7f7"
            ],
            [
             0.6,
             "#e6f5d0"
            ],
            [
             0.7,
             "#b8e186"
            ],
            [
             0.8,
             "#7fbc41"
            ],
            [
             0.9,
             "#4d9221"
            ],
            [
             1,
             "#276419"
            ]
           ],
           "sequential": [
            [
             0,
             "#0d0887"
            ],
            [
             0.1111111111111111,
             "#46039f"
            ],
            [
             0.2222222222222222,
             "#7201a8"
            ],
            [
             0.3333333333333333,
             "#9c179e"
            ],
            [
             0.4444444444444444,
             "#bd3786"
            ],
            [
             0.5555555555555556,
             "#d8576b"
            ],
            [
             0.6666666666666666,
             "#ed7953"
            ],
            [
             0.7777777777777778,
             "#fb9f3a"
            ],
            [
             0.8888888888888888,
             "#fdca26"
            ],
            [
             1,
             "#f0f921"
            ]
           ],
           "sequentialminus": [
            [
             0,
             "#0d0887"
            ],
            [
             0.1111111111111111,
             "#46039f"
            ],
            [
             0.2222222222222222,
             "#7201a8"
            ],
            [
             0.3333333333333333,
             "#9c179e"
            ],
            [
             0.4444444444444444,
             "#bd3786"
            ],
            [
             0.5555555555555556,
             "#d8576b"
            ],
            [
             0.6666666666666666,
             "#ed7953"
            ],
            [
             0.7777777777777778,
             "#fb9f3a"
            ],
            [
             0.8888888888888888,
             "#fdca26"
            ],
            [
             1,
             "#f0f921"
            ]
           ]
          },
          "colorway": [
           "#636efa",
           "#EF553B",
           "#00cc96",
           "#ab63fa",
           "#FFA15A",
           "#19d3f3",
           "#FF6692",
           "#B6E880",
           "#FF97FF",
           "#FECB52"
          ],
          "font": {
           "color": "#2a3f5f"
          },
          "geo": {
           "bgcolor": "white",
           "lakecolor": "white",
           "landcolor": "#E5ECF6",
           "showlakes": true,
           "showland": true,
           "subunitcolor": "white"
          },
          "hoverlabel": {
           "align": "left"
          },
          "hovermode": "closest",
          "mapbox": {
           "style": "light"
          },
          "paper_bgcolor": "white",
          "plot_bgcolor": "#E5ECF6",
          "polar": {
           "angularaxis": {
            "gridcolor": "white",
            "linecolor": "white",
            "ticks": ""
           },
           "bgcolor": "#E5ECF6",
           "radialaxis": {
            "gridcolor": "white",
            "linecolor": "white",
            "ticks": ""
           }
          },
          "scene": {
           "xaxis": {
            "backgroundcolor": "#E5ECF6",
            "gridcolor": "white",
            "gridwidth": 2,
            "linecolor": "white",
            "showbackground": true,
            "ticks": "",
            "zerolinecolor": "white"
           },
           "yaxis": {
            "backgroundcolor": "#E5ECF6",
            "gridcolor": "white",
            "gridwidth": 2,
            "linecolor": "white",
            "showbackground": true,
            "ticks": "",
            "zerolinecolor": "white"
           },
           "zaxis": {
            "backgroundcolor": "#E5ECF6",
            "gridcolor": "white",
            "gridwidth": 2,
            "linecolor": "white",
            "showbackground": true,
            "ticks": "",
            "zerolinecolor": "white"
           }
          },
          "shapedefaults": {
           "line": {
            "color": "#2a3f5f"
           }
          },
          "ternary": {
           "aaxis": {
            "gridcolor": "white",
            "linecolor": "white",
            "ticks": ""
           },
           "baxis": {
            "gridcolor": "white",
            "linecolor": "white",
            "ticks": ""
           },
           "bgcolor": "#E5ECF6",
           "caxis": {
            "gridcolor": "white",
            "linecolor": "white",
            "ticks": ""
           }
          },
          "title": {
           "x": 0.05
          },
          "xaxis": {
           "automargin": true,
           "gridcolor": "white",
           "linecolor": "white",
           "ticks": "",
           "title": {
            "standoff": 15
           },
           "zerolinecolor": "white",
           "zerolinewidth": 2
          },
          "yaxis": {
           "automargin": true,
           "gridcolor": "white",
           "linecolor": "white",
           "ticks": "",
           "title": {
            "standoff": 15
           },
           "zerolinecolor": "white",
           "zerolinewidth": 2
          }
         }
        },
        "xaxis": {
         "anchor": "y",
         "constrain": "domain",
         "domain": [
          0,
          1
         ],
         "scaleanchor": "y",
         "title": {
          "text": "Month"
         }
        },
        "yaxis": {
         "anchor": "x",
         "autorange": "reversed",
         "constrain": "domain",
         "domain": [
          0,
          1
         ],
         "title": {
          "text": "Year"
         }
        }
       }
      }
     },
     "metadata": {}
    }
   ],
   "source": [
    "fig = px.imshow(flights.values, labels=dict(x=\"Month\", y=\"Year\", color=\"Number\"),\n",
    "                x=flights.columns,\n",
    "                y=flights.index)\n",
    "fig.show()"
   ]
  },
  {
   "cell_type": "markdown",
   "metadata": {},
   "source": [
    "## Boxplot\n",
    "\n",
    "Let's use the tips dataset:"
   ]
  },
  {
   "cell_type": "code",
   "execution_count": null,
   "metadata": {},
   "outputs": [],
   "source": [
    "tips = sns.load_dataset(\"tips\")\n",
    "tips.head()"
   ]
  },
  {
   "cell_type": "markdown",
   "metadata": {},
   "source": [
    "### Matplotlib\n",
    "\n",
    "There isn't a very direct way to create multiple box plots of different data in matplotlib in the case where the groups are unbalanced, so we create several different boxplot objects.\n"
   ]
  },
  {
   "cell_type": "code",
   "execution_count": null,
   "metadata": {},
   "outputs": [],
   "source": [
    "colormap = plt.cm.Set1\n",
    "colorst = [colormap(i) for i in np.linspace(0, 0.9, len(tips[\"time\"].unique()))]\n",
    "\n",
    "fig, ax = plt.subplots()\n",
    "for i, grp in enumerate(tips[\"time\"].unique()):\n",
    "    bplot = ax.boxplot(\n",
    "        tips.loc[tips[\"time\"] == grp, \"tip\"],\n",
    "        positions=[i],\n",
    "        vert=True,  # vertical box alignment\n",
    "        patch_artist=True,  # fill with color\n",
    "        labels=[grp],\n",
    "    )  # X label\n",
    "    for patch in bplot[\"boxes\"]:\n",
    "        patch.set_facecolor(colorst[i])\n",
    "\n",
    "ax.set_ylabel(\"Tip\")\n",
    "plt.show()"
   ]
  },
  {
   "cell_type": "markdown",
   "metadata": {},
   "source": [
    "### Seaborn\n"
   ]
  },
  {
   "cell_type": "code",
   "execution_count": null,
   "metadata": {},
   "outputs": [],
   "source": [
    "sns.boxplot(y=tips[\"tip\"], x=tips[\"time\"]);"
   ]
  },
  {
   "cell_type": "markdown",
   "metadata": {},
   "source": [
    "### Plotnine\n",
    "\n"
   ]
  },
  {
   "cell_type": "code",
   "execution_count": null,
   "metadata": {},
   "outputs": [],
   "source": [
    "(ggplot(tips) + geom_boxplot(aes(y=\"tip\", x=\"time\", fill=\"time\")))"
   ]
  },
  {
   "cell_type": "markdown",
   "metadata": {},
   "source": [
    "### Altair"
   ]
  },
  {
   "cell_type": "code",
   "execution_count": null,
   "metadata": {},
   "outputs": [],
   "source": [
    "alt.Chart(tips).mark_boxplot(size=50).encode(\n",
    "    x=\"time:N\", y=\"tip:Q\", color=\"time:N\"\n",
    ").properties(width=300)"
   ]
  },
  {
   "cell_type": "markdown",
   "metadata": {},
   "source": [
    "### Plotly\n",
    "\n"
   ]
  },
  {
   "cell_type": "code",
   "execution_count": null,
   "metadata": {},
   "outputs": [],
   "source": [
    "fig = px.box(tips, x=\"time\", y=\"tip\", color=\"time\")\n",
    "fig.show()"
   ]
  },
  {
   "cell_type": "markdown",
   "metadata": {},
   "source": [
    "## Violin plot\n",
    "\n",
    "We'll use the same data as before, the tips dataset."
   ]
  },
  {
   "cell_type": "markdown",
   "metadata": {},
   "source": [
    "### Matplotlib"
   ]
  },
  {
   "cell_type": "code",
   "execution_count": null,
   "metadata": {},
   "outputs": [],
   "source": [
    "colormap = plt.cm.Set1\n",
    "colorst = [colormap(i) for i in np.linspace(0, 0.9, len(tips[\"time\"].unique()))]\n",
    "\n",
    "fig, ax = plt.subplots()\n",
    "for i, grp in enumerate(tips[\"time\"].unique()):\n",
    "    vplot = ax.violinplot(\n",
    "        tips.loc[tips[\"time\"] == grp, \"tip\"], positions=[i], vert=True\n",
    "    )\n",
    "labels = list(tips[\"time\"].unique())\n",
    "ax.set_xticks(np.arange(len(labels)))\n",
    "ax.set_xticklabels(labels)\n",
    "ax.set_ylabel(\"Tip\")\n",
    "plt.show()"
   ]
  },
  {
   "cell_type": "markdown",
   "metadata": {},
   "source": [
    "### Seaborn"
   ]
  },
  {
   "cell_type": "code",
   "execution_count": null,
   "metadata": {},
   "outputs": [],
   "source": [
    "sns.violinplot(y=tips[\"tip\"], x=tips[\"time\"]);"
   ]
  },
  {
   "cell_type": "markdown",
   "metadata": {},
   "source": [
    "### Plotnine"
   ]
  },
  {
   "cell_type": "code",
   "execution_count": null,
   "metadata": {},
   "outputs": [],
   "source": [
    "(ggplot(tips, aes(x=\"time\", y=\"tip\", fill=\"time\")) + geom_violin())"
   ]
  },
  {
   "cell_type": "markdown",
   "metadata": {},
   "source": [
    "### Altair"
   ]
  },
  {
   "cell_type": "code",
   "execution_count": null,
   "metadata": {},
   "outputs": [],
   "source": [
    "alt.Chart(tips).transform_density(\n",
    "    \"tip\", as_=[\"tip\", \"density\"], groupby=[\"time\"]\n",
    ").mark_area(orient=\"horizontal\").encode(\n",
    "    y=\"tip:Q\",\n",
    "    color=\"time:N\",\n",
    "    x=alt.X(\n",
    "        \"density:Q\",\n",
    "        stack=\"center\",\n",
    "        impute=None,\n",
    "        title=None,\n",
    "        axis=alt.Axis(labels=False, values=[0], grid=False, ticks=True),\n",
    "    ),\n",
    "    column=alt.Column(\n",
    "        \"time:N\",\n",
    "        header=alt.Header(\n",
    "            titleOrient=\"bottom\",\n",
    "            labelOrient=\"bottom\",\n",
    "            labelPadding=0,\n",
    "        ),\n",
    "    ),\n",
    ").properties(\n",
    "    width=100\n",
    ").configure_facet(\n",
    "    spacing=0\n",
    ").configure_view(\n",
    "    stroke=None\n",
    ")"
   ]
  },
  {
   "cell_type": "markdown",
   "metadata": {},
   "source": [
    "### Plotly"
   ]
  },
  {
   "cell_type": "code",
   "execution_count": null,
   "metadata": {},
   "outputs": [],
   "source": [
    "fig = px.violin(\n",
    "    tips,\n",
    "    y=\"tip\",\n",
    "    x=\"time\",\n",
    "    color=\"time\",\n",
    "    box=True,\n",
    "    points=\"all\",\n",
    "    hover_data=tips.columns,\n",
    ")\n",
    "fig.show()"
   ]
  },
  {
   "cell_type": "markdown",
   "metadata": {},
   "source": [
    "## Lollipop"
   ]
  },
  {
   "cell_type": "code",
   "execution_count": null,
   "metadata": {},
   "outputs": [],
   "source": [
    "df = sns.load_dataset(\"planets\").groupby(\"year\")[\"number\"].count()\n",
    "df.head()"
   ]
  },
  {
   "cell_type": "markdown",
   "metadata": {},
   "source": [
    "### Matplotlib\n"
   ]
  },
  {
   "cell_type": "code",
   "execution_count": null,
   "metadata": {},
   "outputs": [],
   "source": [
    "fig, ax = plt.subplots()\n",
    "ax.stem(df.index, df)\n",
    "ax.yaxis.tick_right()\n",
    "ax.spines[\"left\"].set_visible(False)\n",
    "ax.set_ylim(0, 200)\n",
    "ax.set_title(\"Number of exoplanets discovered per year\")\n",
    "plt.show()"
   ]
  },
  {
   "cell_type": "markdown",
   "metadata": {},
   "source": [
    "### Plotnine"
   ]
  },
  {
   "cell_type": "code",
   "execution_count": null,
   "metadata": {},
   "outputs": [],
   "source": [
    "(\n",
    "    ggplot(df.reset_index(), aes(x=\"year\", y=\"number\"))\n",
    "    + geom_point()\n",
    "    + geom_segment(aes(x=\"year\", xend=\"year\", y=0, yend=\"number\"))\n",
    "    + ggtitle(\"Number of exoplanets discovered per year\")\n",
    ")"
   ]
  },
  {
   "cell_type": "markdown",
   "metadata": {},
   "source": [
    "### Plotly"
   ]
  },
  {
   "cell_type": "code",
   "execution_count": null,
   "metadata": {},
   "outputs": [],
   "source": [
    "import plotly.graph_objects as go\n",
    "\n",
    "px_df = df.reset_index()\n",
    "\n",
    "fig1 = go.Figure()\n",
    "# Draw points\n",
    "fig1.add_trace(\n",
    "    go.Scatter(\n",
    "        x=px_df[\"year\"],\n",
    "        y=px_df[\"number\"],\n",
    "        mode=\"markers\",\n",
    "        marker_color=\"darkblue\",\n",
    "        marker_size=10,\n",
    "    )\n",
    ")\n",
    "# Draw lines\n",
    "for index, row in px_df.iterrows():\n",
    "    fig1.add_shape(type=\"line\", x0=row[\"year\"], y0=0, x1=row[\"year\"], y1=row[\"number\"])\n",
    "fig1.show()"
   ]
  },
  {
   "cell_type": "markdown",
   "metadata": {},
   "source": [
    "## Overlapping Area plot\n",
    "\n",
    "For this, let's look at the dominance of the three most used methods for detecting exoplanets."
   ]
  },
  {
   "cell_type": "code",
   "execution_count": null,
   "metadata": {},
   "outputs": [],
   "source": [
    "df = sns.load_dataset(\"planets\")\n",
    "most_pop_methods = (\n",
    "    df.groupby([\"method\"])[\"number\"].sum().sort_values(ascending=False).index[:3].values\n",
    ")\n",
    "df = df[df[\"method\"].isin(most_pop_methods)]\n",
    "df.head()"
   ]
  },
  {
   "cell_type": "markdown",
   "metadata": {},
   "source": [
    "### Matplotlib\n",
    "\n",
    "The easiest way to do this in matplotlib is to adjust the data a bit first and then use the built-in **pandas** plot function. (This is true in other cases too, but in this case it's much more complex otherwise)."
   ]
  },
  {
   "cell_type": "code",
   "execution_count": null,
   "metadata": {},
   "outputs": [],
   "source": [
    "(\n",
    "    df.groupby([\"year\", \"method\"])[\"number\"]\n",
    "    .sum()\n",
    "    .unstack()\n",
    "    .plot.area(alpha=0.6, ylim=(0, None))\n",
    "    .set_title(\"Planets dicovered by top 3 methods\", loc=\"left\")\n",
    ");"
   ]
  },
  {
   "cell_type": "markdown",
   "metadata": {},
   "source": [
    "### Seaborn\n",
    "\n",
    "I couldn't find an option for this."
   ]
  },
  {
   "cell_type": "markdown",
   "metadata": {},
   "source": [
    "### Plotnine\n",
    "\n"
   ]
  },
  {
   "cell_type": "code",
   "execution_count": null,
   "metadata": {},
   "outputs": [],
   "source": [
    "(\n",
    "    ggplot(\n",
    "        df.groupby([\"year\", \"method\"])[\"number\"].sum().reset_index(),\n",
    "        aes(x=\"year\", y=\"number\", fill=\"method\", order=\"method\"),\n",
    "    )\n",
    "    + geom_area(alpha=0.5)\n",
    ")"
   ]
  },
  {
   "cell_type": "markdown",
   "metadata": {},
   "source": [
    "### Altair\n"
   ]
  },
  {
   "cell_type": "code",
   "execution_count": null,
   "metadata": {},
   "outputs": [],
   "source": [
    "alt.Chart(\n",
    "    df.groupby([\"year\", \"method\"])[\"number\"]\n",
    "    .sum()\n",
    "    .reset_index()\n",
    "    .assign(\n",
    "        year=lambda x: pd.to_datetime(x[\"year\"], format=\"%Y\")\n",
    "        + pd.tseries.offsets.YearEnd()\n",
    "    )\n",
    ").mark_area().encode(x=\"year:T\", y=\"number:Q\", color=\"method:N\")"
   ]
  },
  {
   "cell_type": "markdown",
   "metadata": {},
   "source": [
    "## Slope chart\n",
    "\n",
    "A slope chart has two points connected by a line and is good for indicating how relationships between variables have changed over time."
   ]
  },
  {
   "cell_type": "code",
   "execution_count": 8,
   "metadata": {},
   "outputs": [
    {
     "output_type": "execute_result",
     "data": {
      "text/plain": [
       "  Continent  Year  GDP per capita\n",
       "0    Africa  1952     1252.572466\n",
       "1  Americas  1952     4079.062552\n",
       "2      Asia  1952     5195.484004\n",
       "3    Europe  1952     5661.057435\n",
       "4   Oceania  1952    10298.085650"
      ],
      "text/html": "<div>\n<style scoped>\n    .dataframe tbody tr th:only-of-type {\n        vertical-align: middle;\n    }\n\n    .dataframe tbody tr th {\n        vertical-align: top;\n    }\n\n    .dataframe thead th {\n        text-align: right;\n    }\n</style>\n<table border=\"1\" class=\"dataframe\">\n  <thead>\n    <tr style=\"text-align: right;\">\n      <th></th>\n      <th>Continent</th>\n      <th>Year</th>\n      <th>GDP per capita</th>\n    </tr>\n  </thead>\n  <tbody>\n    <tr>\n      <th>0</th>\n      <td>Africa</td>\n      <td>1952</td>\n      <td>1252.572466</td>\n    </tr>\n    <tr>\n      <th>1</th>\n      <td>Americas</td>\n      <td>1952</td>\n      <td>4079.062552</td>\n    </tr>\n    <tr>\n      <th>2</th>\n      <td>Asia</td>\n      <td>1952</td>\n      <td>5195.484004</td>\n    </tr>\n    <tr>\n      <th>3</th>\n      <td>Europe</td>\n      <td>1952</td>\n      <td>5661.057435</td>\n    </tr>\n    <tr>\n      <th>4</th>\n      <td>Oceania</td>\n      <td>1952</td>\n      <td>10298.085650</td>\n    </tr>\n  </tbody>\n</table>\n</div>"
     },
     "metadata": {},
     "execution_count": 8
    }
   ],
   "source": [
    "df = pd.read_csv(\n",
    "    \"https://raw.githubusercontent.com/selva86/datasets/master/gdppercap.csv\"\n",
    ")\n",
    "df = pd.melt(\n",
    "    df,\n",
    "    id_vars=[\"continent\"],\n",
    "    value_vars=df.columns[1:],\n",
    "    value_name=\"GDP per capita\",\n",
    "    var_name=\"Year\",\n",
    ").rename(columns={\"continent\": \"Continent\"})\n",
    "df.head()"
   ]
  },
  {
   "cell_type": "markdown",
   "metadata": {},
   "source": [
    "### Matplotlib\n",
    "\n",
    "There isn't an off-the-shelf way to do this in matplotlib but the example below shows that, with matplotlib, where there's a will there's a way! It's where the 'build-what-you-want' comes into its own. Note that the functino that's defined returns an `Axes` object so that you can do further processing and tweaking as you like."
   ]
  },
  {
   "cell_type": "code",
   "execution_count": null,
   "metadata": {},
   "outputs": [],
   "source": [
    "from matplotlib import lines as mlines\n",
    "\n",
    "\n",
    "def slope_plot(data, x, y, group, before_txt=\"Before\", after_txt=\"After\"):\n",
    "    if len(data[x].unique()) != 2:\n",
    "        raise ValueError(\"Slope plot must have two unique periods.\")\n",
    "    wide_data = data[[x, y, group]].pivot(index=group, columns=x, values=y)\n",
    "    x_names = list(wide_data.columns)\n",
    "    klass = [\n",
    "        \"red\" if (y1 - y2) < 0 else \"green\"\n",
    "        for y1, y2 in zip(wide_data[x_names[0]], wide_data[x_names[1]])\n",
    "    ]\n",
    "    fig, ax = plt.subplots()\n",
    "\n",
    "    def newline(p1, p2, color=\"black\"):\n",
    "        ax = plt.gca()\n",
    "        l = mlines.Line2D(\n",
    "            [p1[0], p2[0]],\n",
    "            [p1[1], p2[1]],\n",
    "            color=\"red\" if p1[1] - p2[1] > 0 else \"green\",\n",
    "            marker=\"o\",\n",
    "            markersize=6,\n",
    "        )\n",
    "        ax.add_line(l)\n",
    "        return l\n",
    "\n",
    "    # Vertical Lines\n",
    "    y_min = data[y].min()\n",
    "    y_max = data[y].max()\n",
    "    ax.vlines(\n",
    "        x=1,\n",
    "        ymin=y_min,\n",
    "        ymax=y_max,\n",
    "        color=\"black\",\n",
    "        alpha=0.7,\n",
    "        linewidth=1,\n",
    "        linestyles=\"dotted\",\n",
    "    )\n",
    "    ax.vlines(\n",
    "        x=3,\n",
    "        ymin=y_min,\n",
    "        ymax=y_max,\n",
    "        color=\"black\",\n",
    "        alpha=0.7,\n",
    "        linewidth=1,\n",
    "        linestyles=\"dotted\",\n",
    "    )\n",
    "    # Points\n",
    "    ax.scatter(\n",
    "        y=wide_data[x_names[0]],\n",
    "        x=np.repeat(1, wide_data.shape[0]),\n",
    "        s=15,\n",
    "        color=\"black\",\n",
    "        alpha=0.7,\n",
    "    )\n",
    "    ax.scatter(\n",
    "        y=wide_data[x_names[1]],\n",
    "        x=np.repeat(3, wide_data.shape[0]),\n",
    "        s=15,\n",
    "        color=\"black\",\n",
    "        alpha=0.7,\n",
    "    )\n",
    "    # Line Segmentsand Annotation\n",
    "    for p1, p2, c in zip(wide_data[x_names[0]], wide_data[x_names[1]], wide_data.index):\n",
    "        newline([1, p1], [3, p2])\n",
    "        ax.text(\n",
    "            1 - 0.05,\n",
    "            p1,\n",
    "            c,\n",
    "            horizontalalignment=\"right\",\n",
    "            verticalalignment=\"center\",\n",
    "            fontdict={\"size\": 14},\n",
    "        )\n",
    "        ax.text(\n",
    "            3 + 0.05,\n",
    "            p2,\n",
    "            c,\n",
    "            horizontalalignment=\"left\",\n",
    "            verticalalignment=\"center\",\n",
    "            fontdict={\"size\": 14},\n",
    "        )\n",
    "    # 'Before' and 'After' Annotations\n",
    "    ax.text(\n",
    "        1 - 0.05,\n",
    "        y_max + abs(y_max) * 0.1,\n",
    "        before_txt,\n",
    "        horizontalalignment=\"right\",\n",
    "        verticalalignment=\"center\",\n",
    "        fontdict={\"size\": 16, \"weight\": 700},\n",
    "    )\n",
    "    ax.text(\n",
    "        3 + 0.05,\n",
    "        y_max + abs(y_max) * 0.1,\n",
    "        after_txt,\n",
    "        horizontalalignment=\"left\",\n",
    "        verticalalignment=\"center\",\n",
    "        fontdict={\"size\": 16, \"weight\": 700},\n",
    "    )\n",
    "    # Decoration\n",
    "    ax.set(\n",
    "        xlim=(0, 4), ylabel=y, ylim=(y_min - 0.1 * abs(y_min), y_max + abs(y_max) * 0.1)\n",
    "    )\n",
    "    ax.set_xticks([1, 3])\n",
    "    ax.set_xticklabels(x_names)\n",
    "    # Lighten borders\n",
    "    for ax_pos in [\"top\", \"bottom\", \"right\", \"left\"]:\n",
    "        ax.spines[ax_pos].set_visible(False)\n",
    "    return ax\n",
    "\n",
    "\n",
    "slope_plot(df, x=\"Year\", y=\"GDP per capita\", group=\"Continent\");"
   ]
  },
  {
   "cell_type": "markdown",
   "metadata": {},
   "source": [
    "### Seaborn"
   ]
  },
  {
   "cell_type": "code",
   "execution_count": null,
   "metadata": {},
   "outputs": [],
   "source": [
    "sns.pointplot(x=\"Year\", y=\"GDP per capita\", hue=\"Continent\", data=df)\n",
    "plt.legend(bbox_to_anchor=(1.05, 1), loc=2, borderaxespad=0.0);"
   ]
  },
  {
   "cell_type": "markdown",
   "metadata": {},
   "source": [
    "### Plotnine"
   ]
  },
  {
   "cell_type": "code",
   "execution_count": null,
   "metadata": {},
   "outputs": [],
   "source": [
    "(\n",
    "    ggplot(df, aes(x=\"Year\", y=\"GDP per capita\", group=\"Continent\"))\n",
    "    + geom_line(aes(color=\"Continent\", alpha=1), size=2)\n",
    "    + geom_point(aes(color=\"Continent\", alpha=1), size=4)\n",
    ")"
   ]
  },
  {
   "cell_type": "markdown",
   "metadata": {},
   "source": [
    "### Altair"
   ]
  },
  {
   "cell_type": "code",
   "execution_count": null,
   "metadata": {},
   "outputs": [],
   "source": [
    "alt.Chart(df).mark_line().encode(x=\"Year:O\", y=\"GDP per capita\", color=\"Continent\")"
   ]
  },
  {
   "cell_type": "markdown",
   "metadata": {},
   "source": [
    "### Plotly"
   ]
  },
  {
   "cell_type": "code",
   "execution_count": 13,
   "metadata": {},
   "outputs": [
    {
     "output_type": "display_data",
     "data": {
      "application/vnd.plotly.v1+json": {
       "config": {
        "plotlyServerURL": "https://plot.ly"
       },
       "data": [
        {
         "mode": "text",
         "text": "Africa",
         "type": "scatter",
         "x": [
          1952
         ],
         "y": [
          1252.57246582115
         ]
        },
        {
         "mode": "text",
         "text": "Americas",
         "type": "scatter",
         "x": [
          1952
         ],
         "y": [
          4079.0625522
         ]
        },
        {
         "mode": "text",
         "text": "Asia",
         "type": "scatter",
         "x": [
          1952
         ],
         "y": [
          5195.48400403939
         ]
        },
        {
         "mode": "text",
         "text": "Europe",
         "type": "scatter",
         "x": [
          1952
         ],
         "y": [
          5661.05743476
         ]
        },
        {
         "mode": "text",
         "text": "Oceania",
         "type": "scatter",
         "x": [
          1952
         ],
         "y": [
          10298.08565
         ]
        }
       ],
       "layout": {
        "shapes": [
         {
          "line": {
           "color": "#636EFA"
          },
          "name": "Africa",
          "type": "line",
          "x0": 1952,
          "x1": 1957,
          "y0": 1252.57246582115,
          "y1": 1385.23606225577
         },
         {
          "line": {
           "color": "#EF553B"
          },
          "name": "Americas",
          "type": "line",
          "x0": 1952,
          "x1": 1957,
          "y0": 4079.0625522,
          "y1": 4616.04373316
         },
         {
          "line": {
           "color": "#00CC96"
          },
          "name": "Asia",
          "type": "line",
          "x0": 1952,
          "x1": 1957,
          "y0": 5195.48400403939,
          "y1": 4003.13293994242
         },
         {
          "line": {
           "color": "#AB63FA"
          },
          "name": "Europe",
          "type": "line",
          "x0": 1952,
          "x1": 1957,
          "y0": 5661.05743476,
          "y1": 6963.01281593333
         },
         {
          "line": {
           "color": "#FFA15A"
          },
          "name": "Oceania",
          "type": "line",
          "x0": 1952,
          "x1": 1957,
          "y0": 10298.08565,
          "y1": 11598.522455
         }
        ],
        "showlegend": false,
        "template": {
         "data": {
          "bar": [
           {
            "error_x": {
             "color": "#2a3f5f"
            },
            "error_y": {
             "color": "#2a3f5f"
            },
            "marker": {
             "line": {
              "color": "#E5ECF6",
              "width": 0.5
             },
             "pattern": {
              "fillmode": "overlay",
              "size": 10,
              "solidity": 0.2
             }
            },
            "type": "bar"
           }
          ],
          "barpolar": [
           {
            "marker": {
             "line": {
              "color": "#E5ECF6",
              "width": 0.5
             },
             "pattern": {
              "fillmode": "overlay",
              "size": 10,
              "solidity": 0.2
             }
            },
            "type": "barpolar"
           }
          ],
          "carpet": [
           {
            "aaxis": {
             "endlinecolor": "#2a3f5f",
             "gridcolor": "white",
             "linecolor": "white",
             "minorgridcolor": "white",
             "startlinecolor": "#2a3f5f"
            },
            "baxis": {
             "endlinecolor": "#2a3f5f",
             "gridcolor": "white",
             "linecolor": "white",
             "minorgridcolor": "white",
             "startlinecolor": "#2a3f5f"
            },
            "type": "carpet"
           }
          ],
          "choropleth": [
           {
            "colorbar": {
             "outlinewidth": 0,
             "ticks": ""
            },
            "type": "choropleth"
           }
          ],
          "contour": [
           {
            "colorbar": {
             "outlinewidth": 0,
             "ticks": ""
            },
            "colorscale": [
             [
              0,
              "#0d0887"
             ],
             [
              0.1111111111111111,
              "#46039f"
             ],
             [
              0.2222222222222222,
              "#7201a8"
             ],
             [
              0.3333333333333333,
              "#9c179e"
             ],
             [
              0.4444444444444444,
              "#bd3786"
             ],
             [
              0.5555555555555556,
              "#d8576b"
             ],
             [
              0.6666666666666666,
              "#ed7953"
             ],
             [
              0.7777777777777778,
              "#fb9f3a"
             ],
             [
              0.8888888888888888,
              "#fdca26"
             ],
             [
              1,
              "#f0f921"
             ]
            ],
            "type": "contour"
           }
          ],
          "contourcarpet": [
           {
            "colorbar": {
             "outlinewidth": 0,
             "ticks": ""
            },
            "type": "contourcarpet"
           }
          ],
          "heatmap": [
           {
            "colorbar": {
             "outlinewidth": 0,
             "ticks": ""
            },
            "colorscale": [
             [
              0,
              "#0d0887"
             ],
             [
              0.1111111111111111,
              "#46039f"
             ],
             [
              0.2222222222222222,
              "#7201a8"
             ],
             [
              0.3333333333333333,
              "#9c179e"
             ],
             [
              0.4444444444444444,
              "#bd3786"
             ],
             [
              0.5555555555555556,
              "#d8576b"
             ],
             [
              0.6666666666666666,
              "#ed7953"
             ],
             [
              0.7777777777777778,
              "#fb9f3a"
             ],
             [
              0.8888888888888888,
              "#fdca26"
             ],
             [
              1,
              "#f0f921"
             ]
            ],
            "type": "heatmap"
           }
          ],
          "heatmapgl": [
           {
            "colorbar": {
             "outlinewidth": 0,
             "ticks": ""
            },
            "colorscale": [
             [
              0,
              "#0d0887"
             ],
             [
              0.1111111111111111,
              "#46039f"
             ],
             [
              0.2222222222222222,
              "#7201a8"
             ],
             [
              0.3333333333333333,
              "#9c179e"
             ],
             [
              0.4444444444444444,
              "#bd3786"
             ],
             [
              0.5555555555555556,
              "#d8576b"
             ],
             [
              0.6666666666666666,
              "#ed7953"
             ],
             [
              0.7777777777777778,
              "#fb9f3a"
             ],
             [
              0.8888888888888888,
              "#fdca26"
             ],
             [
              1,
              "#f0f921"
             ]
            ],
            "type": "heatmapgl"
           }
          ],
          "histogram": [
           {
            "marker": {
             "pattern": {
              "fillmode": "overlay",
              "size": 10,
              "solidity": 0.2
             }
            },
            "type": "histogram"
           }
          ],
          "histogram2d": [
           {
            "colorbar": {
             "outlinewidth": 0,
             "ticks": ""
            },
            "colorscale": [
             [
              0,
              "#0d0887"
             ],
             [
              0.1111111111111111,
              "#46039f"
             ],
             [
              0.2222222222222222,
              "#7201a8"
             ],
             [
              0.3333333333333333,
              "#9c179e"
             ],
             [
              0.4444444444444444,
              "#bd3786"
             ],
             [
              0.5555555555555556,
              "#d8576b"
             ],
             [
              0.6666666666666666,
              "#ed7953"
             ],
             [
              0.7777777777777778,
              "#fb9f3a"
             ],
             [
              0.8888888888888888,
              "#fdca26"
             ],
             [
              1,
              "#f0f921"
             ]
            ],
            "type": "histogram2d"
           }
          ],
          "histogram2dcontour": [
           {
            "colorbar": {
             "outlinewidth": 0,
             "ticks": ""
            },
            "colorscale": [
             [
              0,
              "#0d0887"
             ],
             [
              0.1111111111111111,
              "#46039f"
             ],
             [
              0.2222222222222222,
              "#7201a8"
             ],
             [
              0.3333333333333333,
              "#9c179e"
             ],
             [
              0.4444444444444444,
              "#bd3786"
             ],
             [
              0.5555555555555556,
              "#d8576b"
             ],
             [
              0.6666666666666666,
              "#ed7953"
             ],
             [
              0.7777777777777778,
              "#fb9f3a"
             ],
             [
              0.8888888888888888,
              "#fdca26"
             ],
             [
              1,
              "#f0f921"
             ]
            ],
            "type": "histogram2dcontour"
           }
          ],
          "mesh3d": [
           {
            "colorbar": {
             "outlinewidth": 0,
             "ticks": ""
            },
            "type": "mesh3d"
           }
          ],
          "parcoords": [
           {
            "line": {
             "colorbar": {
              "outlinewidth": 0,
              "ticks": ""
             }
            },
            "type": "parcoords"
           }
          ],
          "pie": [
           {
            "automargin": true,
            "type": "pie"
           }
          ],
          "scatter": [
           {
            "marker": {
             "colorbar": {
              "outlinewidth": 0,
              "ticks": ""
             }
            },
            "type": "scatter"
           }
          ],
          "scatter3d": [
           {
            "line": {
             "colorbar": {
              "outlinewidth": 0,
              "ticks": ""
             }
            },
            "marker": {
             "colorbar": {
              "outlinewidth": 0,
              "ticks": ""
             }
            },
            "type": "scatter3d"
           }
          ],
          "scattercarpet": [
           {
            "marker": {
             "colorbar": {
              "outlinewidth": 0,
              "ticks": ""
             }
            },
            "type": "scattercarpet"
           }
          ],
          "scattergeo": [
           {
            "marker": {
             "colorbar": {
              "outlinewidth": 0,
              "ticks": ""
             }
            },
            "type": "scattergeo"
           }
          ],
          "scattergl": [
           {
            "marker": {
             "colorbar": {
              "outlinewidth": 0,
              "ticks": ""
             }
            },
            "type": "scattergl"
           }
          ],
          "scattermapbox": [
           {
            "marker": {
             "colorbar": {
              "outlinewidth": 0,
              "ticks": ""
             }
            },
            "type": "scattermapbox"
           }
          ],
          "scatterpolar": [
           {
            "marker": {
             "colorbar": {
              "outlinewidth": 0,
              "ticks": ""
             }
            },
            "type": "scatterpolar"
           }
          ],
          "scatterpolargl": [
           {
            "marker": {
             "colorbar": {
              "outlinewidth": 0,
              "ticks": ""
             }
            },
            "type": "scatterpolargl"
           }
          ],
          "scatterternary": [
           {
            "marker": {
             "colorbar": {
              "outlinewidth": 0,
              "ticks": ""
             }
            },
            "type": "scatterternary"
           }
          ],
          "surface": [
           {
            "colorbar": {
             "outlinewidth": 0,
             "ticks": ""
            },
            "colorscale": [
             [
              0,
              "#0d0887"
             ],
             [
              0.1111111111111111,
              "#46039f"
             ],
             [
              0.2222222222222222,
              "#7201a8"
             ],
             [
              0.3333333333333333,
              "#9c179e"
             ],
             [
              0.4444444444444444,
              "#bd3786"
             ],
             [
              0.5555555555555556,
              "#d8576b"
             ],
             [
              0.6666666666666666,
              "#ed7953"
             ],
             [
              0.7777777777777778,
              "#fb9f3a"
             ],
             [
              0.8888888888888888,
              "#fdca26"
             ],
             [
              1,
              "#f0f921"
             ]
            ],
            "type": "surface"
           }
          ],
          "table": [
           {
            "cells": {
             "fill": {
              "color": "#EBF0F8"
             },
             "line": {
              "color": "white"
             }
            },
            "header": {
             "fill": {
              "color": "#C8D4E3"
             },
             "line": {
              "color": "white"
             }
            },
            "type": "table"
           }
          ]
         },
         "layout": {
          "annotationdefaults": {
           "arrowcolor": "#2a3f5f",
           "arrowhead": 0,
           "arrowwidth": 1
          },
          "autotypenumbers": "strict",
          "coloraxis": {
           "colorbar": {
            "outlinewidth": 0,
            "ticks": ""
           }
          },
          "colorscale": {
           "diverging": [
            [
             0,
             "#8e0152"
            ],
            [
             0.1,
             "#c51b7d"
            ],
            [
             0.2,
             "#de77ae"
            ],
            [
             0.3,
             "#f1b6da"
            ],
            [
             0.4,
             "#fde0ef"
            ],
            [
             0.5,
             "#f7f7f7"
            ],
            [
             0.6,
             "#e6f5d0"
            ],
            [
             0.7,
             "#b8e186"
            ],
            [
             0.8,
             "#7fbc41"
            ],
            [
             0.9,
             "#4d9221"
            ],
            [
             1,
             "#276419"
            ]
           ],
           "sequential": [
            [
             0,
             "#0d0887"
            ],
            [
             0.1111111111111111,
             "#46039f"
            ],
            [
             0.2222222222222222,
             "#7201a8"
            ],
            [
             0.3333333333333333,
             "#9c179e"
            ],
            [
             0.4444444444444444,
             "#bd3786"
            ],
            [
             0.5555555555555556,
             "#d8576b"
            ],
            [
             0.6666666666666666,
             "#ed7953"
            ],
            [
             0.7777777777777778,
             "#fb9f3a"
            ],
            [
             0.8888888888888888,
             "#fdca26"
            ],
            [
             1,
             "#f0f921"
            ]
           ],
           "sequentialminus": [
            [
             0,
             "#0d0887"
            ],
            [
             0.1111111111111111,
             "#46039f"
            ],
            [
             0.2222222222222222,
             "#7201a8"
            ],
            [
             0.3333333333333333,
             "#9c179e"
            ],
            [
             0.4444444444444444,
             "#bd3786"
            ],
            [
             0.5555555555555556,
             "#d8576b"
            ],
            [
             0.6666666666666666,
             "#ed7953"
            ],
            [
             0.7777777777777778,
             "#fb9f3a"
            ],
            [
             0.8888888888888888,
             "#fdca26"
            ],
            [
             1,
             "#f0f921"
            ]
           ]
          },
          "colorway": [
           "#636efa",
           "#EF553B",
           "#00cc96",
           "#ab63fa",
           "#FFA15A",
           "#19d3f3",
           "#FF6692",
           "#B6E880",
           "#FF97FF",
           "#FECB52"
          ],
          "font": {
           "color": "#2a3f5f"
          },
          "geo": {
           "bgcolor": "white",
           "lakecolor": "white",
           "landcolor": "#E5ECF6",
           "showlakes": true,
           "showland": true,
           "subunitcolor": "white"
          },
          "hoverlabel": {
           "align": "left"
          },
          "hovermode": "closest",
          "mapbox": {
           "style": "light"
          },
          "paper_bgcolor": "white",
          "plot_bgcolor": "#E5ECF6",
          "polar": {
           "angularaxis": {
            "gridcolor": "white",
            "linecolor": "white",
            "ticks": ""
           },
           "bgcolor": "#E5ECF6",
           "radialaxis": {
            "gridcolor": "white",
            "linecolor": "white",
            "ticks": ""
           }
          },
          "scene": {
           "xaxis": {
            "backgroundcolor": "#E5ECF6",
            "gridcolor": "white",
            "gridwidth": 2,
            "linecolor": "white",
            "showbackground": true,
            "ticks": "",
            "zerolinecolor": "white"
           },
           "yaxis": {
            "backgroundcolor": "#E5ECF6",
            "gridcolor": "white",
            "gridwidth": 2,
            "linecolor": "white",
            "showbackground": true,
            "ticks": "",
            "zerolinecolor": "white"
           },
           "zaxis": {
            "backgroundcolor": "#E5ECF6",
            "gridcolor": "white",
            "gridwidth": 2,
            "linecolor": "white",
            "showbackground": true,
            "ticks": "",
            "zerolinecolor": "white"
           }
          },
          "shapedefaults": {
           "line": {
            "color": "#2a3f5f"
           }
          },
          "ternary": {
           "aaxis": {
            "gridcolor": "white",
            "linecolor": "white",
            "ticks": ""
           },
           "baxis": {
            "gridcolor": "white",
            "linecolor": "white",
            "ticks": ""
           },
           "bgcolor": "#E5ECF6",
           "caxis": {
            "gridcolor": "white",
            "linecolor": "white",
            "ticks": ""
           }
          },
          "title": {
           "x": 0.05
          },
          "xaxis": {
           "automargin": true,
           "gridcolor": "white",
           "linecolor": "white",
           "ticks": "",
           "title": {
            "standoff": 15
           },
           "zerolinecolor": "white",
           "zerolinewidth": 2
          },
          "yaxis": {
           "automargin": true,
           "gridcolor": "white",
           "linecolor": "white",
           "ticks": "",
           "title": {
            "standoff": 15
           },
           "zerolinecolor": "white",
           "zerolinewidth": 2
          }
         }
        },
        "xaxis": {
         "range": [
          1947,
          1962
         ]
        },
        "yaxis": {
         "range": [
          1002.05797265692,
          13918.226946
         ]
        }
       }
      }
     },
     "metadata": {}
    }
   ],
   "source": [
    "import plotly.graph_objects as go\n",
    "\n",
    "yr_names = [int(x) for x in df[\"Year\"].unique()]\n",
    "px_df = (\n",
    "    df.pivot(index=\"Continent\", columns=\"Year\", values=\"GDP per capita\")\n",
    "    .reset_index()\n",
    "    .rename(columns=dict(zip(df[\"Year\"].unique(), range(len(df[\"Year\"].unique())))))\n",
    ")\n",
    "\n",
    "x_offset = 5\n",
    "\n",
    "fig1 = go.Figure()\n",
    "# Draw lines\n",
    "for index, row in px_df.iterrows():\n",
    "    fig1.add_shape(\n",
    "        type=\"line\",\n",
    "        x0=yr_names[0],\n",
    "        y0=row[0],\n",
    "        x1=yr_names[1],\n",
    "        y1=row[1],\n",
    "        name=row[\"Continent\"],\n",
    "        line=dict(color=px.colors.qualitative.Plotly[index]),\n",
    "    )\n",
    "    fig1.add_trace(\n",
    "        go.Scatter(\n",
    "            x=[yr_names[0]],\n",
    "            y=[row[0]],\n",
    "            text=row[\"Continent\"],\n",
    "            mode=\"text\",\n",
    "            name=None,\n",
    "        )\n",
    "    )\n",
    "\n",
    "\n",
    "fig1.update_xaxes(range=[yr_names[0] - x_offset, yr_names[1] + x_offset])\n",
    "fig1.update_yaxes(\n",
    "    range=[px_df[[0, 1]].min().min() * 0.8, px_df[[0, 1]].max().max() * 1.2]\n",
    ")\n",
    "fig1.update_layout(showlegend=False)\n",
    "fig1.show()"
   ]
  },
  {
   "cell_type": "markdown",
   "metadata": {},
   "source": [
    "## Dumbbell Plot\n",
    "\n",
    "These are excellent for showing a change in time with a large number of categories, as we will do here with continents and mean GDP per capita."
   ]
  },
  {
   "cell_type": "code",
   "execution_count": null,
   "metadata": {},
   "outputs": [],
   "source": [
    "df = pd.read_csv(\n",
    "    \"https://raw.githubusercontent.com/selva86/datasets/master/gdppercap.csv\"\n",
    ")\n",
    "df = pd.melt(\n",
    "    df,\n",
    "    id_vars=[\"continent\"],\n",
    "    value_vars=df.columns[1:],\n",
    "    value_name=\"GDP per capita\",\n",
    "    var_name=\"Year\",\n",
    ").rename(columns={\"continent\": \"Continent\"})\n",
    "df.head()"
   ]
  },
  {
   "cell_type": "markdown",
   "metadata": {},
   "source": [
    "### Matplotlib\n",
    "\n",
    "Again, no off-the-shelf method--but that's no problem when you can build it yourself."
   ]
  },
  {
   "cell_type": "code",
   "execution_count": null,
   "metadata": {},
   "outputs": [],
   "source": [
    "from matplotlib import lines as mlines\n",
    "\n",
    "\n",
    "def dumbbell_plot(data, x, y, change):\n",
    "    if len(data[x].unique()) != 2:\n",
    "        raise ValueError(\"Dumbbell plot must have two unique periods.\")\n",
    "    if type(data[y].iloc[0]) != str:\n",
    "        raise ValueError(\"Dumbbell plot y variable only works with category values.\")\n",
    "    wide_data = data[[x, y, change]].pivot(index=y, columns=x, values=change)\n",
    "    x_names = list(wide_data.columns)\n",
    "    y_names = list(wide_data.index)\n",
    "\n",
    "    def newline(p1, p2, color=\"black\"):\n",
    "        ax = plt.gca()\n",
    "        l = mlines.Line2D([p1[0], p2[0]], [p1[1], p2[1]], color=\"skyblue\", zorder=0)\n",
    "        ax.add_line(l)\n",
    "        return l\n",
    "\n",
    "    fig, ax = plt.subplots()\n",
    "    # Points\n",
    "    ax.scatter(\n",
    "        y=range(len(y_names)),\n",
    "        x=wide_data[x_names[1]],\n",
    "        s=50,\n",
    "        color=\"#0e668b\",\n",
    "        alpha=0.9,\n",
    "        zorder=2,\n",
    "        label=x_names[1],\n",
    "    )\n",
    "    ax.scatter(\n",
    "        y=range(len(y_names)),\n",
    "        x=wide_data[x_names[0]],\n",
    "        s=50,\n",
    "        color=\"#a3c4dc\",\n",
    "        alpha=0.9,\n",
    "        zorder=1,\n",
    "        label=x_names[0],\n",
    "    )\n",
    "    # Line segments\n",
    "    for i, p1, p2 in zip(\n",
    "        range(len(y_names)), wide_data[x_names[0]], wide_data[x_names[1]]\n",
    "    ):\n",
    "        newline([p1, i], [p2, i])\n",
    "    ax.set_yticks(range(len(y_names)))\n",
    "    ax.set_yticklabels(y_names)\n",
    "    # Decoration\n",
    "    # Lighten borders\n",
    "    for ax_pos in [\"top\", \"right\", \"left\"]:\n",
    "        ax.spines[ax_pos].set_visible(False)\n",
    "    ax.set_xlabel(change)\n",
    "    ax.legend(frameon=False, loc=\"lower right\")\n",
    "    plt.show()\n",
    "\n",
    "\n",
    "dumbbell_plot(df, x=\"Year\", y=\"Continent\", change=\"GDP per capita\")"
   ]
  },
  {
   "cell_type": "markdown",
   "metadata": {},
   "source": [
    "### Plotly"
   ]
  },
  {
   "cell_type": "code",
   "execution_count": null,
   "metadata": {},
   "outputs": [],
   "source": [
    "import plotly.graph_objects as go\n",
    "\n",
    "fig1 = go.Figure()\n",
    "\n",
    "yr_names = df[\"Year\"].unique()\n",
    "\n",
    "\n",
    "# Draw lines\n",
    "for i, cont in enumerate(df[\"Continent\"].unique()):\n",
    "    cdf = df[df[\"Continent\"] == cont]\n",
    "    fig1.add_shape(\n",
    "        type=\"line\",\n",
    "        x0=cdf.loc[cdf[\"Year\"] == yr_names[0], \"GDP per capita\"].values[0],\n",
    "        y0=cont,\n",
    "        x1=cdf.loc[cdf[\"Year\"] == yr_names[1], \"GDP per capita\"].values[0],\n",
    "        y1=cont,\n",
    "        line=dict(color=px.colors.qualitative.Plotly[0], width=2),\n",
    "    )\n",
    "# Draw points\n",
    "for i, year in enumerate(yr_names):\n",
    "    yrdf = df[df[\"Year\"] == year]\n",
    "    fig1.add_trace(\n",
    "        go.Scatter(\n",
    "            y=yrdf[\"Continent\"],\n",
    "            x=yrdf[\"GDP per capita\"],\n",
    "            mode=\"markers\",\n",
    "            name=year,\n",
    "            marker_color=px.colors.qualitative.Plotly[i],\n",
    "            marker_size=10,\n",
    "        ),\n",
    "    )\n",
    "\n",
    "fig1.show()"
   ]
  },
  {
   "cell_type": "markdown",
   "metadata": {},
   "source": [
    "## Polar\n",
    "\n",
    "I'm not sure I've ever seen a polar plots in economics, but you never know.\n",
    "\n",
    "Let's generate some polar data first:\n"
   ]
  },
  {
   "cell_type": "code",
   "execution_count": null,
   "metadata": {},
   "outputs": [],
   "source": [
    "r = np.arange(0, 2, 0.01)\n",
    "theta = 2 * np.pi * r\n",
    "polar_data = pd.DataFrame({\"r\": r, \"theta\": theta})\n",
    "polar_data.head()"
   ]
  },
  {
   "cell_type": "markdown",
   "metadata": {},
   "source": [
    "### Matplotlib\n"
   ]
  },
  {
   "cell_type": "code",
   "execution_count": null,
   "metadata": {},
   "outputs": [],
   "source": [
    "ax = plt.subplot(111, projection=\"polar\")\n",
    "ax.plot(polar_data[\"theta\"], polar_data[\"r\"])\n",
    "ax.set_rmax(2)\n",
    "ax.set_rticks([0.5, 1, 1.5, 2])  # Fewer radial ticks\n",
    "ax.set_rlabel_position(-22.5)  # Move radial labels away from plotted line\n",
    "ax.grid(True)\n",
    "plt.show()"
   ]
  },
  {
   "cell_type": "markdown",
   "metadata": {},
   "source": [
    "### Seaborn\n",
    "\n"
   ]
  },
  {
   "cell_type": "code",
   "execution_count": null,
   "metadata": {},
   "outputs": [],
   "source": [
    "ax = plt.subplot(111, projection=\"polar\")\n",
    "sns.lineplot(polar_data[\"theta\"], polar_data[\"r\"], ax=ax);"
   ]
  },
  {
   "cell_type": "code",
   "execution_count": null,
   "metadata": {},
   "outputs": [],
   "source": [
    "polar_data"
   ]
  },
  {
   "cell_type": "markdown",
   "metadata": {},
   "source": [
    "### Plotly"
   ]
  },
  {
   "cell_type": "code",
   "execution_count": null,
   "metadata": {},
   "outputs": [],
   "source": [
    "fig = go.Figure(\n",
    "    data=go.Scatterpolar(\n",
    "        r=polar_data[\"r\"].values,\n",
    "        theta=polar_data[\"theta\"].values * 180 / (np.pi),\n",
    "        mode=\"lines\",\n",
    "    )\n",
    ")\n",
    "\n",
    "fig.update_layout(showlegend=False)\n",
    "fig.show()"
   ]
  },
  {
   "cell_type": "markdown",
   "metadata": {},
   "source": [
    "## Radar (or spider) chart\n",
    "\n",
    "Let's generate some synthetic data for this one. Assumes that result to be shown is the sum of observations."
   ]
  },
  {
   "cell_type": "code",
   "execution_count": null,
   "metadata": {},
   "outputs": [],
   "source": [
    "df = pd.DataFrame(\n",
    "    dict(\n",
    "        zip(\n",
    "            [\"var\" + str(i) for i in range(1, 6)],\n",
    "            [np.random.randint(30, size=(4)) for i in range(1, 6)],\n",
    "        )\n",
    "    )\n",
    ")\n",
    "df.head()"
   ]
  },
  {
   "cell_type": "code",
   "execution_count": null,
   "metadata": {},
   "outputs": [],
   "source": [
    "from math import pi\n",
    "\n",
    "\n",
    "def radar_plot(data, variables):\n",
    "    n_vars = len(variables)\n",
    "    # Plot the first line of the data frame.\n",
    "    # Repeat the first value to close the circular graph:\n",
    "    values = data.loc[data.index[0], variables].values.flatten().tolist()\n",
    "    values += values[:1]\n",
    "    # What will be the angle of each axis in the plot? (we divide / number of variable)\n",
    "    angles = [n / float(n_vars) * 2 * pi for n in range(n_vars)]\n",
    "    angles += angles[:1]\n",
    "    # Initialise the spider plot\n",
    "    ax = plt.subplot(111, polar=True)\n",
    "    # Draw one axe per variable + add labels\n",
    "    plt.xticks(angles[:-1], variables)\n",
    "    # Draw ylabels\n",
    "    ax.set_rlabel_position(0)\n",
    "    # Plot data\n",
    "    ax.plot(angles, values, linewidth=1, linestyle=\"solid\")\n",
    "    # Fill area\n",
    "    ax.fill(angles, values, \"b\", alpha=0.1)\n",
    "    return ax\n",
    "\n",
    "\n",
    "radar_plot(df, df.columns);"
   ]
  },
  {
   "cell_type": "markdown",
   "metadata": {},
   "source": [
    "### Plotly"
   ]
  },
  {
   "cell_type": "code",
   "execution_count": null,
   "metadata": {},
   "outputs": [],
   "source": [
    "df = px.data.wind()\n",
    "print(df.head())\n",
    "fig = px.line_polar(\n",
    "    df,\n",
    "    r=\"frequency\",\n",
    "    theta=\"direction\",\n",
    "    color=\"strength\",\n",
    "    line_close=True,\n",
    "    color_discrete_sequence=px.colors.sequential.Plasma_r,\n",
    "    template=\"plotly_dark\",\n",
    ")\n",
    "fig.show()"
   ]
  },
  {
   "cell_type": "markdown",
   "metadata": {},
   "source": [
    "## Wordcloud\n",
    "\n",
    "These should be used sparingly. Let's grab part of a famous text from Project Gutenberg:"
   ]
  },
  {
   "cell_type": "code",
   "execution_count": null,
   "metadata": {
    "tags": []
   },
   "outputs": [],
   "source": [
    "# To run this example, download smith_won.txt from\n",
    "# https://github.com/aeturrell/coding-for-economists/blob/main/data/smith_won.txt\n",
    "# and put it in a sub-folder called 'data\n",
    "\n",
    "book_text = open(Path(\"data\", \"smith_won.txt\"), \"r\").read()\n",
    "# Print some lines\n",
    "print(\"\\n\".join(book_text.split(os.linesep)[107:117]))"
   ]
  },
  {
   "cell_type": "code",
   "execution_count": null,
   "metadata": {},
   "outputs": [],
   "source": [
    "from wordcloud import WordCloud\n",
    "\n",
    "wordcloud = WordCloud(width=700, height=400).generate(book_text)\n",
    "fig, ax = plt.subplots(facecolor=\"k\")\n",
    "ax.imshow(wordcloud, interpolation=\"bilinear\")\n",
    "plt.axis(\"off\")\n",
    "plt.tight_layout();"
   ]
  },
  {
   "cell_type": "markdown",
   "metadata": {},
   "source": [
    "We can also create a 'mask' for the wordcloud to shape it how we like, here in the shape of a book."
   ]
  },
  {
   "cell_type": "code",
   "execution_count": null,
   "metadata": {},
   "outputs": [],
   "source": [
    "# To run this example, download book_mask.png from\n",
    "# https://github.com/aeturrell/coding-for-economists/raw/main/data/book_mask.png\n",
    "# and put it in a sub-folder called 'data\n",
    "from PIL import Image\n",
    "\n",
    "mask = np.array(Image.open(Path(\"data\", \"book_mask.png\")))\n",
    "wc = WordCloud(width=700, height=400, mask=mask, background_color=\"white\")\n",
    "wordcloud = wc.generate(book_text)\n",
    "fig, ax = plt.subplots(facecolor=\"white\")\n",
    "ax.imshow(wordcloud, interpolation=\"bilinear\")\n",
    "plt.axis(\"off\")\n",
    "plt.tight_layout();"
   ]
  },
  {
   "cell_type": "markdown",
   "metadata": {},
   "source": [
    "## Network diagrams\n",
    "\n",
    "### networkx\n",
    "\n",
    "The most well-established network visualisation package is [**networkx**](https://networkx.org/documentation/stable/index.html), which does a *lot* more than just visualisation. It has many different positioning options for rendering any given network, for instance in circular, spectral, spring, Fruchterman-Reingold, or other styles. In the below example, we use a **pandas** dataframe to specify the edges in two columns but there are various other ways to specify the network too, including ones that do not rely on **pandas**.\n",
    "\n",
    "The underlying plot is rendered with **matplotlib**, meaning that you can customise it further should you need to. You can pass an `Axes` object `ax` to `nx.draw` using `nx.draw(..., ax=ax)`."
   ]
  },
  {
   "cell_type": "code",
   "execution_count": null,
   "metadata": {},
   "outputs": [],
   "source": [
    "import networkx as nx\n",
    "\n",
    "df = pd.DataFrame(\n",
    "    {\n",
    "        \"source\": [\"A\", \"B\", \"C\", \"A\", \"E\", \"F\", \"E\", \"G\", \"G\", \"D\", \"F\"],\n",
    "        \"target\": [\"D\", \"A\", \"E\", \"C\", \"A\", \"F\", \"G\", \"D\", \"B\", \"G\", \"C\"],\n",
    "    }\n",
    ")\n",
    "G = nx.from_pandas_edgelist(df)\n",
    "nx.draw(G, with_labels=True, node_size=500, node_color=\"skyblue\")"
   ]
  },
  {
   "cell_type": "markdown",
   "metadata": {},
   "source": [
    "### Altair\n",
    "\n",
    "Thanks to [Juan Mateos Garcia](https://juan-mateos.github.io/), we have a way of doing this in **altair** too. (I highly recommend you [follow Juan](https://twitter.com/JMateosGarcia) on twitter for all things data science and innovation.)\n",
    "\n",
    "Now bear with me, because the code is going to be quite long as there's a bit of setting up to do. But once we have set up the functions they can be used again for arbitrary networks, ie the code is not specific to the network we're going to look at. Everything was written by Juan, and his original code can be found [here](https://gist.github.com/Juan-Mateos/e1e274652c6247bf2114a463b73bd2d7)."
   ]
  },
  {
   "cell_type": "code",
   "execution_count": null,
   "metadata": {},
   "outputs": [],
   "source": [
    "def node_layer(\n",
    "    node_df,\n",
    "    graph,\n",
    "    node_label_lookup,\n",
    "    node_label,\n",
    "    node_size,\n",
    "    node_color,\n",
    "    show_neighbours,\n",
    "):\n",
    "    \"\"\"Creates node_layer in the plot\"\"\"\n",
    "    node_chart = (\n",
    "        alt.Chart(node_df)\n",
    "        .mark_point(filled=True, stroke=\"black\", strokeWidth=0.5)\n",
    "        .encode(\n",
    "            x=alt.X(\"x\", axis=None), y=alt.Y(\"y\", axis=None), fillOpacity=alt.value(1)\n",
    "        )\n",
    "    )\n",
    "\n",
    "    if node_size in node_df.columns:\n",
    "        node_chart = node_chart.encode(\n",
    "            size=alt.Size(node_size, legend=alt.Legend(orient=\"bottom\"))\n",
    "        )\n",
    "\n",
    "    if node_color in node_df.columns:\n",
    "        node_chart = node_chart.encode(\n",
    "            color=alt.Color(\n",
    "                node_color,\n",
    "                legend=alt.Legend(columns=2),\n",
    "                scale=alt.Scale(scheme=\"Spectral\"),\n",
    "            )\n",
    "        )\n",
    "    if show_neighbours is True:\n",
    "        neighbors = {\n",
    "            node: \", \".join(\n",
    "                [str(node_label_lookup[n]) for n in nx.neighbors(graph, node)]\n",
    "            )\n",
    "            for node in graph.nodes()\n",
    "        }\n",
    "        node_df[\"neighbors\"] = node_df[\"node\"].map(neighbors)\n",
    "\n",
    "        node_chart = node_chart.encode(tooltip=[node_label, \"neighbors\"])\n",
    "    else:\n",
    "        node_chart = node_chart.encode(tooltip=[node_label])\n",
    "\n",
    "    return node_chart\n",
    "\n",
    "\n",
    "def calculate_edge_positions(graph, node_pos_lookup, edge_scale):\n",
    "    \"\"\"Calculates the positions of the edges\"\"\"\n",
    "    if len(nx.get_edge_attributes(graph, \"weight\")) > 0:\n",
    "        weighted = True\n",
    "        edges_df = pd.DataFrame(\n",
    "            [\n",
    "                {\"e1\": e[0], \"e2\": e[1], \"weight\": e[2][\"weight\"]}\n",
    "                for e in list(graph.edges(data=True))\n",
    "            ]\n",
    "        )\n",
    "    else:\n",
    "        weighted = False\n",
    "        edges_df = pd.DataFrame(\n",
    "            [\n",
    "                {\"e1\": e[0], \"e2\": e[1], \"weight\": 1}\n",
    "                for e in list(graph.edges(data=True))\n",
    "            ]\n",
    "        )\n",
    "\n",
    "    edge_pos_cont = []\n",
    "\n",
    "    for _id, r in edges_df.iterrows():\n",
    "        x1, y1 = [node_pos_lookup[r[\"e1\"]][n] for n in [0, 1]]\n",
    "        x2, y2 = [node_pos_lookup[r[\"e2\"]][n] for n in [0, 1]]\n",
    "        w = int(r[\"weight\"]) / edge_scale\n",
    "        edge_pos_cont.append(\n",
    "            pd.Series([x1, y1, x2, y2, w], index=[\"x1\", \"y1\", \"x2\", \"y2\", \"weight\"])\n",
    "        )\n",
    "\n",
    "    edges_pos_df = pd.DataFrame(edge_pos_cont)\n",
    "    return edges_pos_df, weighted\n",
    "\n",
    "\n",
    "def edge_layer(edges_pos_df, weighted, edge_opacity):\n",
    "    \"\"\"Creates edge layer in the plot\"\"\"\n",
    "    edge_chart = (\n",
    "        alt.Chart(edges_pos_df)\n",
    "        .mark_line()\n",
    "        .encode(x=\"x1\", x2=\"x2\", y=\"y1\", y2=\"y2\", strokeOpacity=alt.value(edge_opacity))\n",
    "    )\n",
    "    if weighted is True:\n",
    "        edge_chart = edge_chart.encode(\n",
    "            strokeWidth=alt.StrokeWidth(\"weight\", legend=alt.Legend(orient=\"bottom\"))\n",
    "        )\n",
    "    return edge_chart\n",
    "\n",
    "\n",
    "def plot_altair_network(\n",
    "    node_df,\n",
    "    graph,\n",
    "    node_label=None,\n",
    "    node_size=None,\n",
    "    node_color=None,\n",
    "    show_neighbours=True,\n",
    "    edge_scale=1,\n",
    "    edge_opacity=0.1,\n",
    "):\n",
    "    \"\"\"Plot a network graph with altair\n",
    "    Args:\n",
    "        node_df (df): dataframe where the rows are nodes and the\n",
    "        node_label (str): node label variable in node_df\n",
    "        node_size (str): node size variable in node_df\n",
    "        node_color (str): node color variable (this is a categorical variable)\n",
    "        columns are relevant variables including node position, node_label, node_size,node_color\n",
    "        graph (networkx graph): graph object generated with networkx that we use to extract edges & edgeWidths\n",
    "        show_neighbours (bool): if we want neighbours to be extracted and showed in a tooltip\n",
    "        edge_scale (float): scale for weight value\n",
    "        edge_opacity (float): weight opacity\n",
    "    \"\"\"\n",
    "\n",
    "    # Node chart\n",
    "    node_df_ = node_df.copy()\n",
    "\n",
    "    # Make node name - label lookup\n",
    "    node_label_lookup = node_df_.set_index(\"node\")[\"node_name\"].to_dict()\n",
    "    node_pos_lookup = {r[\"node\"]: (r[\"x\"], r[\"y\"]) for _id, r in node_df_.iterrows()}\n",
    "\n",
    "    # Plot nodes\n",
    "    node_plot = node_layer(\n",
    "        node_df_,\n",
    "        graph,\n",
    "        node_label_lookup,\n",
    "        node_label,\n",
    "        node_size,\n",
    "        node_color,\n",
    "        show_neighbours,\n",
    "    )\n",
    "    # Plot edges (after calculating their positions)\n",
    "    edge_positions, weighted = calculate_edge_positions(\n",
    "        graph, node_pos_lookup, edge_scale\n",
    "    )\n",
    "\n",
    "    edge_plot = edge_layer(edge_positions, weighted, edge_opacity)\n",
    "\n",
    "    # Combine plots\n",
    "\n",
    "    net_plot = (\n",
    "        (node_plot + edge_plot).configure_axis(grid=False).configure_view(strokeWidth=0)\n",
    "    )\n",
    "    return net_plot\n",
    "\n",
    "\n",
    "##########\n",
    "# Example\n",
    "##########\n",
    "\n",
    "# Read network\n",
    "m = nx.les_miserables_graph()\n",
    "\n",
    "# Extract node positions\n",
    "m_pos = nx.kamada_kawai_layout(m)\n",
    "\n",
    "# Create node df (inelegantly)\n",
    "node_df = (\n",
    "    pd.DataFrame(m_pos)\n",
    "    .T.rename(columns={0: \"x\", 1: \"y\"})\n",
    "    .reset_index(drop=False)\n",
    "    .rename(columns={\"index\": \"node\"})\n",
    "    .assign(node_name=lambda x: x[\"node\"])\n",
    ")\n",
    "\n",
    "# Plot\n",
    "plot_altair_network(\n",
    "    node_df,\n",
    "    node_label=\"node_name\",\n",
    "    node_size=None,\n",
    "    node_color=None,\n",
    "    graph=m,\n",
    "    show_neighbours=True,\n",
    ")"
   ]
  },
  {
   "cell_type": "markdown",
   "metadata": {},
   "source": [
    "## Ridge, or 'joy', plots\n",
    "\n",
    "These are famous from the front cover of “Unkown Pleasures” by Joy Division. Although **seaborn** can be coaxed into plotting ridge plots, by far the easiest way is via the [**joypy**](https://github.com/sbebo/joypy) package. These plots sometimes seem to prioritise form over function. In this case, let's look at an example where I think they do add value: showing the global increase in temperature.\n",
    "\n",
    "We'll use a summary of the daily land-surface average temperature anomaly produced by the Berkeley Earth averaging method. Temperatures are in Celsius and reported as anomalies relative to the Jan 1951-Dec 1980 average (the estimated Jan 1951-Dec 1980 land-average temperature is 8.63 +/- 0.06 C)."
   ]
  },
  {
   "cell_type": "code",
   "execution_count": null,
   "metadata": {},
   "outputs": [],
   "source": [
    "# To run this example, download the pickle file from\n",
    "# https://github.com/aeturrell/coding-for-economists/blob/main/data/berkeley_data.pkl\n",
    "# and put it in a sub-folder called 'data'\n",
    "df = pd.read_pickle(Path(\"data/berkeley_data.pkl\"))\n",
    "df.head()"
   ]
  },
  {
   "cell_type": "code",
   "execution_count": null,
   "metadata": {},
   "outputs": [],
   "source": [
    "import joypy\n",
    "from matplotlib import cm\n",
    "\n",
    "final_year = df[\"Year\"].max()\n",
    "first_year = df[\"Year\"].min()\n",
    "\n",
    "labels = [y if y % 10 == 0 else None for y in list(df.Year.unique())]\n",
    "fig, axes = joypy.joyplot(\n",
    "    df,\n",
    "    by=\"Year\",\n",
    "    column=\"Anomaly\",\n",
    "    labels=labels,\n",
    "    range_style=\"own\",\n",
    "    grid=\"y\",\n",
    "    linewidth=1,\n",
    "    legend=False,\n",
    "    title=f\"Global daily temperature anomaly {first_year}-{final_year} \\n(°C above 1951-80 average)\",\n",
    "    colormap=cm.inferno,\n",
    ")"
   ]
  },
  {
   "cell_type": "markdown",
   "metadata": {},
   "source": [
    "## Waterfall chart\n",
    "\n",
    "Waterfall charts are good for showing how different contributions combine to net out at a certain value. There's a package dedicated to them called [**waterfallcharts**](https://github.com/chrispaulca/waterfall). It builds on **matplotlib**. First, let's create some data:"
   ]
  },
  {
   "cell_type": "code",
   "execution_count": null,
   "metadata": {},
   "outputs": [],
   "source": [
    "a = [\"sales\", \"returns\", \"credit fees\", \"rebates\", \"late charges\", \"shipping\"]\n",
    "b = [10, -30, -7.5, -25, 95, -7]"
   ]
  },
  {
   "cell_type": "markdown",
   "metadata": {},
   "source": [
    "Now let's plot this data. Because the defaults of **waterfallcharts** don't play that nicely with the plot style used for this book, we'll temporarily switch back to the **matplotlib** default plot style using a *context* and `with` statement:"
   ]
  },
  {
   "cell_type": "code",
   "execution_count": null,
   "metadata": {},
   "outputs": [],
   "source": [
    "import waterfall_chart\n",
    "\n",
    "with plt.style.context(\"default\"):\n",
    "    plot = waterfall_chart.plot(a, b, sorted_value=True, rotation_value=0)"
   ]
  },
  {
   "cell_type": "markdown",
   "metadata": {},
   "source": [
    "### Plotly\n",
    "\n"
   ]
  },
  {
   "cell_type": "code",
   "execution_count": null,
   "metadata": {},
   "outputs": [],
   "source": [
    "import plotly.graph_objects as go\n",
    "\n",
    "px_b = b + [sum(b)]\n",
    "\n",
    "fig = go.Figure(\n",
    "    go.Waterfall(\n",
    "        name=\"20\",\n",
    "        orientation=\"v\",\n",
    "        measure=[\"relative\"] * len(a) + [\"total\"],\n",
    "        x=a + [\"net\"],\n",
    "        textposition=\"outside\",\n",
    "        text=[str(x) for x in b] + [\"net\"],\n",
    "        y=px_b,\n",
    "        connector={\"line\": {\"color\": \"rgb(63, 63, 63)\"}},\n",
    "    )\n",
    ")\n",
    "\n",
    "fig.show()"
   ]
  },
  {
   "cell_type": "markdown",
   "metadata": {},
   "source": [
    "## Venn\n",
    "\n",
    "Venn diagrams show the overlap between groups. As with some of these other, more unsual chart types, there's a special package that produces these and which builds on **matplotlib**."
   ]
  },
  {
   "cell_type": "code",
   "execution_count": null,
   "metadata": {},
   "outputs": [],
   "source": [
    "from matplotlib_venn import venn2\n",
    "\n",
    "venn2(subsets=(10, 5, 2), set_labels=(\"Group A\", \"Group B\"), alpha=0.5)\n",
    "plt.show()"
   ]
  },
  {
   "cell_type": "markdown",
   "metadata": {},
   "source": [
    "## Priestly Timeline\n",
    "\n",
    "This displays a timeline of start and end events in time, and their overlap."
   ]
  },
  {
   "cell_type": "code",
   "execution_count": null,
   "metadata": {},
   "outputs": [],
   "source": [
    "df = (\n",
    "    pd.read_csv(\n",
    "        \"https://github.com/aeturrell/coding-for-economists/raw/main/data/priestley-timeline.csv\"\n",
    "    )\n",
    "    .melt(id_vars=\"Name\", value_name=\"Date\")\n",
    "    .assign(Date=lambda x: pd.to_datetime(x[\"Date\"]))\n",
    ")\n",
    "df"
   ]
  },
  {
   "cell_type": "markdown",
   "metadata": {},
   "source": [
    "### Plotnine\n",
    "\n",
    "This example is from [**viztech**](https://github.com/cstorm125/viztech). It relies on an extra package for axes scaling and formatting called [**mizani**](https://mizani.readthedocs.io/en/stable/index.html).\n",
    "\n"
   ]
  },
  {
   "cell_type": "code",
   "execution_count": null,
   "metadata": {},
   "outputs": [],
   "source": [
    "from mizani.breaks import date_breaks\n",
    "from mizani.formatters import date_format\n",
    "\n",
    "g = (\n",
    "    ggplot(df, aes(x=\"Name\", y=\"Date\", group=\"Name\"))\n",
    "    + geom_line(size=10, color=\"green\")\n",
    "    + coord_flip()\n",
    "    + geom_text(\n",
    "        aes(x=\"Name\", y=\"Date\", label=\"Name\"),\n",
    "        data=df[df.variable == \"Born\"],\n",
    "        nudge_y=6500,\n",
    "        color=\"white\",\n",
    "    )\n",
    "    + scale_y_date(breaks=date_breaks(\"20 years\"), labels=date_format(\"%Y\"))\n",
    "    + theme(axis_text_y=element_blank())\n",
    ")\n",
    "g"
   ]
  },
  {
   "cell_type": "markdown",
   "metadata": {},
   "source": [
    "## Waffle, isotype, or pictogram charts\n",
    "\n",
    "These are great for showing easily-understandable magnitudes."
   ]
  },
  {
   "cell_type": "markdown",
   "metadata": {},
   "source": [
    "### Matplotlib\n",
    "\n",
    "There is a package called [**pywaffle**](https://github.com/gyli/PyWaffle) that provides a convenient way of doing this. It expects a dictionary of values. Note that the icon can be changed and, because it builds on **matplotlib**, you can tweak to your heart's content."
   ]
  },
  {
   "cell_type": "code",
   "execution_count": null,
   "metadata": {},
   "outputs": [],
   "source": [
    "from pywaffle import Waffle\n",
    "\n",
    "data = {\"Democratic\": 48, \"Republican\": 46, \"Libertarian\": 3}\n",
    "fig = plt.figure(\n",
    "    FigureClass=Waffle,\n",
    "    rows=5,\n",
    "    values=data,\n",
    "    colors=[\"#232066\", \"#983D3D\", \"#DCB732\"],\n",
    "    legend={\"loc\": \"upper left\", \"bbox_to_anchor\": (1, 1)},\n",
    "    icons=\"child\",\n",
    "    font_size=12,\n",
    "    icon_legend=True,\n",
    ")\n",
    "plt.show()"
   ]
  },
  {
   "cell_type": "markdown",
   "metadata": {},
   "source": [
    "### Plotnine\n",
    "\n",
    "As ever, plotnine prefers tidy format data. The **plotnine** example comes from **viztech**. We'll create a mini dataset just to demonstrate its use:"
   ]
  },
  {
   "cell_type": "code",
   "execution_count": null,
   "metadata": {},
   "outputs": [],
   "source": [
    "import itertools\n",
    "\n",
    "df = pd.DataFrame(list(itertools.product(range(10), range(10))), columns=[\"x\", \"y\"])\n",
    "df[\"filled\"] = 0\n",
    "df.iloc[:32, 2] = 1\n",
    "df.head()"
   ]
  },
  {
   "cell_type": "code",
   "execution_count": null,
   "metadata": {},
   "outputs": [],
   "source": [
    "g = (\n",
    "    ggplot(df, aes(x=\"x\", y=\"y\", fill=\"factor(filled)\"))\n",
    "    + geom_tile(alpha=0.5, color=\"black\")\n",
    "    + guides(fill=False)\n",
    "    + scale_fill_manual([\"grey\", \"blue\"])\n",
    "    + theme_void()\n",
    "    + coord_flip()\n",
    "    + geom_text(x=5, y=5, label=f\"{int(100*df.filled.mean())}%\", size=30, color=\"white\")\n",
    "    + theme(axis_text=element_blank())\n",
    "    + xlab(\"\")\n",
    "    + ylab(\"\")\n",
    ")\n",
    "g"
   ]
  },
  {
   "cell_type": "markdown",
   "metadata": {},
   "source": [
    "## Pyramid\n",
    "\n"
   ]
  },
  {
   "cell_type": "code",
   "execution_count": null,
   "metadata": {},
   "outputs": [],
   "source": [
    "df = pd.read_csv(\n",
    "    \"https://raw.githubusercontent.com/selva86/datasets/master/email_campaign_funnel.csv\"\n",
    ")\n",
    "df.head()"
   ]
  },
  {
   "cell_type": "markdown",
   "metadata": {},
   "source": [
    "### Matplotlib/Seaborn"
   ]
  },
  {
   "cell_type": "code",
   "execution_count": null,
   "metadata": {},
   "outputs": [],
   "source": [
    "fig, ax = plt.subplots()\n",
    "group_col = \"Gender\"\n",
    "order_of_bars = df.Stage.unique()[::-1]\n",
    "colors = [\n",
    "    plt.cm.Spectral(i / float(len(df[group_col].unique()) - 1))\n",
    "    for i in range(len(df[group_col].unique()))\n",
    "]\n",
    "\n",
    "for c, group in zip(colors, df[group_col].unique()):\n",
    "    sns.barplot(\n",
    "        x=\"Users\",\n",
    "        y=\"Stage\",\n",
    "        data=df.loc[df[group_col] == group, :],\n",
    "        order=order_of_bars,\n",
    "        color=c,\n",
    "        label=group,\n",
    "        ax=ax,\n",
    "        lw=0,\n",
    "    )\n",
    "\n",
    "divisor = 1e6\n",
    "ax.set_xticklabels([str(abs(x) / divisor) for x in ax.get_xticks()])\n",
    "plt.xlabel(\"Users (millions)\")\n",
    "plt.ylabel(\"Stage of Purchase\")\n",
    "plt.yticks(fontsize=12)\n",
    "plt.title(\"Population Pyramid of the Marketing Funnel\", fontsize=22)\n",
    "plt.legend(frameon=False)\n",
    "plt.show()"
   ]
  },
  {
   "cell_type": "markdown",
   "metadata": {},
   "source": [
    "### Plotnine"
   ]
  },
  {
   "cell_type": "code",
   "execution_count": null,
   "metadata": {},
   "outputs": [],
   "source": [
    "g = (\n",
    "    ggplot(df, aes(x=\"Stage\", y=\"Users\", fill=\"Gender\"))\n",
    "    + geom_col(width=0.8)  # baseplot\n",
    "    + coord_flip()  # type of plot\n",
    "    + theme_minimal()  # flip coordinates\n",
    "    + scale_y_continuous(  # theme\n",
    "        labels=lambda x: [i / 1e6 if i >= 0 else -i / 1e6 for i in x]\n",
    "    )\n",
    "    + ylab(\"Users (millions)\")\n",
    ")\n",
    "g"
   ]
  },
  {
   "cell_type": "markdown",
   "metadata": {},
   "source": [
    "### Plotly"
   ]
  },
  {
   "cell_type": "code",
   "execution_count": null,
   "metadata": {},
   "outputs": [],
   "source": [
    "fig = px.funnel(df, y=\"Stage\", x=\"Users\")\n",
    "fig.show()"
   ]
  },
  {
   "cell_type": "markdown",
   "metadata": {},
   "source": [
    "## Sankey diagram\n",
    "\n",
    "Sankey diagrams show how a flow breaks into pieces. We'll use data on the career paths of UK PhD students as described in a 2010 Royal Society policy report entitled “The Scientific Century: securing our future prosperity”. This example is from the [**HoloViews**](https://holoviews.org/) documentation."
   ]
  },
  {
   "cell_type": "markdown",
   "metadata": {},
   "source": [
    "### HoloViews"
   ]
  },
  {
   "cell_type": "code",
   "execution_count": null,
   "metadata": {},
   "outputs": [],
   "source": [
    "import holoviews as hv\n",
    "from holoviews import dim, opts\n",
    "\n",
    "hv.extension(\"matplotlib\")\n",
    "nodes = [\n",
    "    \"PhD\",\n",
    "    \"Career Outside Science\",\n",
    "    \"Early Career Researcher\",\n",
    "    \"Research Staff\",\n",
    "    \"Permanent Research Staff\",\n",
    "    \"Professor\",\n",
    "    \"Non-Academic Research\",\n",
    "]\n",
    "nodes = hv.Dataset(enumerate(nodes), \"index\", \"label\")\n",
    "edges = [\n",
    "    (0, 1, 53),\n",
    "    (0, 2, 47),\n",
    "    (2, 6, 17),\n",
    "    (2, 3, 30),\n",
    "    (3, 1, 22.5),\n",
    "    (3, 4, 3.5),\n",
    "    (3, 6, 4.0),\n",
    "    (4, 5, 0.45),\n",
    "]\n",
    "\n",
    "value_dim = hv.Dimension(\"Percentage\", unit=\"%\")\n",
    "hv.Sankey((edges, nodes), [\"From\", \"To\"], vdims=value_dim).opts(\n",
    "    opts.Sankey(\n",
    "        cmap=\"Set1\",\n",
    "        labels=\"label\",\n",
    "        label_position=\"right\",\n",
    "        edge_color=dim(\"To\").str(),\n",
    "        node_color=dim(\"index\").str(),\n",
    "    )\n",
    ")"
   ]
  },
  {
   "cell_type": "markdown",
   "metadata": {},
   "source": [
    "### Plotly"
   ]
  },
  {
   "cell_type": "code",
   "execution_count": null,
   "metadata": {},
   "outputs": [],
   "source": [
    "import plotly.graph_objects as go\n",
    "\n",
    "labels = [\"A1\", \"A2\", \"B1\", \"B2\", \"C1\", \"C2\"]\n",
    "\n",
    "fig = go.Figure(\n",
    "    data=[\n",
    "        go.Sankey(\n",
    "            node=dict(\n",
    "                pad=15,\n",
    "                thickness=20,\n",
    "                line=dict(color=\"black\", width=0.5),\n",
    "                label=labels,\n",
    "                color=px.colors.qualitative.Plotly[: len(labels)],\n",
    "            ),\n",
    "            # indices correspond to labels, eg A1, A2, A1, B1, ...\n",
    "            link=dict(\n",
    "                source=[0, 1, 0, 2, 3, 3, 2],  \n",
    "                target=[2, 3, 3, 4, 4, 5, 5],\n",
    "                value=[7, 3, 2, 6, 4, 2, 1],\n",
    "            ),\n",
    "        )\n",
    "    ]\n",
    ")\n",
    "\n",
    "fig.update_layout(title_text=\"Basic Sankey Diagram\", font_size=10)\n",
    "fig.show()"
   ]
  },
  {
   "cell_type": "markdown",
   "metadata": {},
   "source": [
    "## Chord plot\n",
    "\n",
    "There aren't many good off-the-shelf ways to do this. There's a script (not even a package!) called [**matplotlib-chord-diagram**](https://github.com/fengwangPhysics/matplotlib-chord-diagram) and **HoloViews**. Let's first create some data and see this in HoloViews."
   ]
  },
  {
   "cell_type": "code",
   "execution_count": null,
   "metadata": {},
   "outputs": [],
   "source": [
    "n_connects = 60\n",
    "flux = np.array(\n",
    "    [\n",
    "        np.random.choice(range(10), n_connects),\n",
    "        np.random.choice(range(10), n_connects),\n",
    "        np.random.choice(range(10), n_connects),\n",
    "    ]\n",
    ")\n",
    "links = pd.DataFrame(flux.T, columns=[\"source\", \"target\", \"value\"])\n",
    "# if source and target the same, drop rows\n",
    "links = links[links[\"source\"] != links[\"target\"]]\n",
    "nodes = pd.DataFrame.from_dict(\n",
    "    {\n",
    "        \"source\": range(10),\n",
    "        \"city\": [\n",
    "            \"London\",\n",
    "            \"Manchester\",\n",
    "            \"Birmingham\",\n",
    "            \"Leeds\",\n",
    "            \"Sheffield\",\n",
    "            \"Bradford\",\n",
    "            \"Liverpool\",\n",
    "            \"Bristol\",\n",
    "            \"Newcastle\",\n",
    "            \"Sunderland\",\n",
    "        ],\n",
    "        \"index\": range(10),\n",
    "    }\n",
    ")\n",
    "nodes = hv.Dataset(nodes, \"index\")\n",
    "links"
   ]
  },
  {
   "cell_type": "markdown",
   "metadata": {},
   "source": [
    "### HoloViews"
   ]
  },
  {
   "cell_type": "code",
   "execution_count": null,
   "metadata": {},
   "outputs": [],
   "source": [
    "hv.Chord((links, nodes)).select(value=(5, None)).opts(\n",
    "    opts.Chord(\n",
    "        cmap=\"Category10\",\n",
    "        edge_color=dim(\"source\").astype(str),\n",
    "        labels=\"city\",\n",
    "        node_color=dim(\"index\").astype(str),\n",
    "    )\n",
    ")"
   ]
  },
  {
   "cell_type": "markdown",
   "metadata": {},
   "source": [
    "## Dendrogram or hierarchical clustering\n",
    "\n"
   ]
  },
  {
   "cell_type": "markdown",
   "metadata": {},
   "source": [
    "### Seaborn\n",
    "\n"
   ]
  },
  {
   "cell_type": "code",
   "execution_count": null,
   "metadata": {},
   "outputs": [],
   "source": [
    "# Data\n",
    "df = (\n",
    "    pd.read_csv(\n",
    "        \"https://vincentarelbundock.github.io/Rdatasets/csv/datasets/mtcars.csv\"\n",
    "    )\n",
    "    .rename(columns={\"Unnamed: 0\": \"Model\"})\n",
    "    .set_index(\"Model\")\n",
    ")\n",
    "# Plot\n",
    "sns.clustermap(df, metric=\"correlation\", method=\"single\", standard_scale=1, cmap=\"vlag\");"
   ]
  },
  {
   "cell_type": "markdown",
   "metadata": {},
   "source": [
    "## Treemap\n"
   ]
  },
  {
   "cell_type": "markdown",
   "metadata": {},
   "source": [
    "### Plotly\n"
   ]
  },
  {
   "cell_type": "code",
   "execution_count": null,
   "metadata": {},
   "outputs": [],
   "source": [
    "import plotly.express as px\n",
    "import numpy as np\n",
    "\n",
    "df = px.data.gapminder().query(\"year == 2007\")\n",
    "fig = px.treemap(\n",
    "    df,\n",
    "    path=[px.Constant(\"world\"), \"continent\", \"country\"],\n",
    "    values=\"pop\",\n",
    "    color=\"lifeExp\",\n",
    "    hover_data=[\"iso_alpha\"],\n",
    "    color_continuous_scale=\"RdBu\",\n",
    "    color_continuous_midpoint=np.average(df[\"lifeExp\"], weights=df[\"pop\"]),\n",
    ")\n",
    "fig.update_layout(margin=dict(t=50, l=25, r=25, b=25))\n",
    "fig.show()"
   ]
  },
  {
   "cell_type": "markdown",
   "metadata": {},
   "source": [
    "## Bank of England style fan charts\n",
    "\n",
    "(This example will also show how to grey out an area, as in the charts of NBER recession indicators.) The Bank of England introduced the 'fan chart' to show uncertainty around a central forecast. Here, we adapt code from [quantgirluk's fanchart code](https://github.com/quantgirluk/fanchart) to show an example. We'll use historical CPI data from Fred combined with publicly shared Bank of England forecast data in the November 2020 Monetary Policy Report. This report specifies the fan chart for CPI (consumer price inflation) as a 2-piece normal distribution:\n",
    "\n",
    "$$\n",
    "s(x) := s\\left(x; \\mu,\\sigma,\\gamma\\right) =\n",
    "\\begin{cases}\n",
    "\\dfrac{A}{\\sqrt{2\\pi}\\sigma} \\exp \\left\\{ -\\dfrac{1-\\gamma}{2\\sigma^2} \\left[(x-\\mu)^2\\right] \\right\\}, \\qquad \\mbox{if } x < \\mu, \\\\\n",
    "\\dfrac{A}{\\sqrt{2\\pi}\\sigma} \\exp \\left\\{ -\\dfrac{1+\\gamma}{2\\sigma^2} \\left[(x-\\mu)^2\\right] \\right\\}, \\qquad \\mbox{if } x \\geq \\mu, \\\\\n",
    "\\end{cases}\n",
    "$$\n",
    "\n",
    "where\n",
    "\n",
    "$$\n",
    "A = \\dfrac{2}{\\frac{1}{\\sqrt{1-\\gamma}}+\\frac{1}{\\sqrt{1+\\gamma}}}\n",
    "$$\n",
    "\n",
    "with $\\mu$ the central tendency, $\\sigma$ the uncertainty, and $\\gamma$ the skewness. [quantgirluk](https://quantgirl.blog/fan-charts/) has a nice write-up about this; you can find more details there.\n",
    "\n",
    "Let's read all of the data in, create the fan using a desired number of quantiles using the two-piece normal distribution (available as a [package](https://github.com/quantgirluk/twopiece)), and then plot the results.\n",
    "\n",
    "Reading in historical CPI data:"
   ]
  },
  {
   "cell_type": "code",
   "execution_count": null,
   "metadata": {},
   "outputs": [],
   "source": [
    "import datetime\n",
    "import pandas_datareader.data as web\n",
    "\n",
    "start = datetime.datetime(2016, 1, 1)\n",
    "end = datetime.datetime(2020, 8, 1)\n",
    "hist_cpi = (\n",
    "    web.DataReader(\"CPALTT01GBQ659N\", \"fred\", start, end)\n",
    "    .reset_index()\n",
    "    .rename(columns={\"CPALTT01GBQ659N\": \"CPI\", \"DATE\": \"Date\"})\n",
    "    .assign(Date=lambda x: pd.to_datetime(x[\"Date\"]))\n",
    ")\n",
    "hist_cpi.tail()"
   ]
  },
  {
   "cell_type": "markdown",
   "metadata": {},
   "source": [
    "Reading in the forecast:"
   ]
  },
  {
   "cell_type": "code",
   "execution_count": null,
   "metadata": {},
   "outputs": [],
   "source": [
    "cpi_future = pd.read_csv(\n",
    "    \"https://github.com/aeturrell/coding-for-economists/raw/main/data/Nov2020_MPR_CPI_fan.csv\"\n",
    ").assign(Date=lambda x: pd.to_datetime(x[\"Date\"]))\n",
    "cpi_future.head()"
   ]
  },
  {
   "cell_type": "markdown",
   "metadata": {},
   "source": [
    "Creating the fan quantiles and interpolating to the last known historical data point:"
   ]
  },
  {
   "cell_type": "code",
   "execution_count": null,
   "metadata": {},
   "outputs": [],
   "source": [
    "from twopiece.scale import tpnorm\n",
    "\n",
    "\n",
    "def fan(data, p):\n",
    "    \"\"\"Given mode, median, mean, uncertainty, and skewness by date,\n",
    "    and a set of quantiles, returns the values of a two-piece normal\n",
    "    distribution at each quantile.\n",
    "    \"\"\"\n",
    "    results = np.zeros((data.shape[0], len(p)))\n",
    "    for index, _ in enumerate(results):\n",
    "        mode = data[\"Mode\"][index]\n",
    "        sigma = data[\"Uncertainty\"][index]\n",
    "        gamma = data[\"Skewness\"][index]\n",
    "        dist = tpnorm(loc=mode, sigma=sigma, gamma=gamma, kind=\"boe\")\n",
    "        results[index] = dist.ppf(p)\n",
    "    results = pd.DataFrame(results, columns=p, index=data[\"Date\"])\n",
    "    results = results.sort_index()\n",
    "    return results\n",
    "\n",
    "\n",
    "p = [0.05, 0.20, 0.35, 0.65, 0.80, 0.95]\n",
    "fcast = fan(cpi_future, p=p)\n",
    "# Now we extend the dataframe by one entry--the known values of the last outturn.\n",
    "fcast = fcast.append(\n",
    "    pd.DataFrame(\n",
    "        [[hist_cpi[\"CPI\"].iloc[-1]] * len(p)],\n",
    "        index=[hist_cpi[\"Date\"].iloc[-1]],\n",
    "        columns=p,\n",
    "    )\n",
    ").sort_index()\n",
    "fcast"
   ]
  },
  {
   "cell_type": "markdown",
   "metadata": {},
   "source": [
    "Now the data are ready to plot with the chosen quantiles of the distribution. However, we'll add a bunch of decorations to make the charts closer to those seen in the Inflation Report/Monetary Policy Report."
   ]
  },
  {
   "cell_type": "code",
   "execution_count": null,
   "metadata": {},
   "outputs": [],
   "source": [
    "import matplotlib.ticker as ticker\n",
    "import matplotlib.dates as mdates\n",
    "\n",
    "# This is the fan part, using 'fill_between'\n",
    "fig, ax = plt.subplots(figsize=(9, 5))\n",
    "n_bands = int(np.floor(len(fcast.columns) / 2))\n",
    "for i in range(n_bands):\n",
    "    # Choose alpha in a range of values\n",
    "    alpha = 0.5 * (i + 1) / n_bands\n",
    "    # Fill in colour between bands (ie between each 'fan')\n",
    "    ax.fill_between(\n",
    "        fcast.index,\n",
    "        fcast[fcast.columns[i]],\n",
    "        fcast[fcast.columns[-i - 1]],\n",
    "        color=\"xkcd:tomato red\",\n",
    "        alpha=alpha,\n",
    "        zorder=1,\n",
    "    )\n",
    "\n",
    "# Plot historical data\n",
    "ax.plot(hist_cpi[\"Date\"], hist_cpi[\"CPI\"], color=\"red\", lw=1.5, zorder=3)\n",
    "# Show inflation target\n",
    "ax.axhline(y=2.0, color=\"k\", lw=2, zorder=2)\n",
    "# Grey background for forecast area\n",
    "ax.axvspan(fcast.index[0], fcast.index[-1], facecolor=\"grey\", alpha=0.2, zorder=0)\n",
    "\n",
    "\n",
    "# The rest is just dressing: ie other decorations in\n",
    "# Inflation Report/Monetary Policy Report style\n",
    "ax.grid(False, which=\"both\")\n",
    "for spine_loc in [\"bottom\", \"left\", \"right\", \"top\"]:\n",
    "    ax.spines[spine_loc].set_color(\"k\")\n",
    "    ax.spines[spine_loc].set_linewidth(3)\n",
    "ax.yaxis.set_label_position(\"right\")\n",
    "ax.xaxis.set_minor_locator(mdates.MonthLocator((1, 4, 7, 10)))\n",
    "ax.yaxis.set_major_locator(ticker.MultipleLocator(1.0))\n",
    "ax.tick_params(\n",
    "    labelbottom=True,\n",
    "    labeltop=False,\n",
    "    labelleft=True,\n",
    "    labelright=True,\n",
    "    bottom=True,\n",
    "    top=False,\n",
    "    left=True,\n",
    "    right=True,\n",
    "    direction=\"in\",\n",
    "    which=\"both\",\n",
    ")\n",
    "ax.tick_params(which=\"major\", width=3, length=10, color=\"k\")\n",
    "ax.tick_params(which=\"minor\", width=3, length=5, color=\"k\")\n",
    "ax.set_title(\n",
    "    \"Percentage increase in prices on a year earlier\", loc=\"right\", fontsize=18\n",
    ")\n",
    "ax.set_ylim(-3, 7)\n",
    "plt.show()"
   ]
  },
  {
   "cell_type": "markdown",
   "metadata": {},
   "source": [
    "## Geo-spatial plots\n",
    "\n",
    "See the separate chapter."
   ]
  }
 ],
 "metadata": {
  "celltoolbar": "Tags",
  "kernelspec": {
   "display_name": "codeforecon",
   "language": "python",
   "name": "codeforecon"
  },
  "language_info": {
   "codemirror_mode": {
    "name": "ipython",
    "version": 3
   },
   "file_extension": ".py",
   "mimetype": "text/x-python",
   "name": "python",
   "nbconvert_exporter": "python",
   "pygments_lexer": "ipython3",
   "version": "3.8.6"
  }
 },
 "nbformat": 4,
 "nbformat_minor": 4
}